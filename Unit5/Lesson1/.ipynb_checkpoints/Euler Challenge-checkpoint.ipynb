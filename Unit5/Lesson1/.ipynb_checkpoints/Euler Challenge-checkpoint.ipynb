{
 "cells": [
  {
   "cell_type": "code",
   "execution_count": null,
   "metadata": {},
   "outputs": [],
   "source": []
  },
  {
   "cell_type": "code",
   "execution_count": null,
   "metadata": {},
   "outputs": [],
   "source": []
  },
  {
   "cell_type": "markdown",
   "metadata": {},
   "source": [
    "# Problem 1"
   ]
  },
  {
   "cell_type": "code",
   "execution_count": 26,
   "metadata": {},
   "outputs": [
    {
     "name": "stdout",
     "output_type": "stream",
     "text": [
      "233168\n"
     ]
    }
   ],
   "source": [
    "# no % !!!\n",
    "sums = 0\n",
    "for i in range(1, 1000):\n",
    "    i3float = i/3\n",
    "    i5float = i/5\n",
    "    notMultOf3 = i3float - int(i3float)\n",
    "    notMultOf5 = i5float - int(i5float)\n",
    "    if (not notMultOf3) or (not notMultOf5):\n",
    "        sums = sums + i\n",
    "print (sums)      "
   ]
  },
  {
   "cell_type": "markdown",
   "metadata": {},
   "source": [
    "# Problem 2"
   ]
  },
  {
   "cell_type": "code",
   "execution_count": 42,
   "metadata": {},
   "outputs": [
    {
     "name": "stdout",
     "output_type": "stream",
     "text": [
      "4613732\n"
     ]
    }
   ],
   "source": [
    "evenFibSum = 0\n",
    "lastFib = 0\n",
    "thisFib = 1\n",
    "while (thisFib < 4000000):\n",
    "    if not (thisFib % 2):\n",
    "        evenFibSum = thisFib + evenFibSum \n",
    "    nextFib = thisFib + lastFib\n",
    "    lastFib = thisFib\n",
    "    thisFib = nextFib\n",
    "print (evenFibSum)       "
   ]
  },
  {
   "cell_type": "markdown",
   "metadata": {},
   "source": [
    "# Problem 3"
   ]
  },
  {
   "cell_type": "code",
   "execution_count": 61,
   "metadata": {},
   "outputs": [
    {
     "name": "stdout",
     "output_type": "stream",
     "text": [
      "6857.0\n"
     ]
    }
   ],
   "source": [
    "def isPrime(x):\n",
    "    isPrime = True\n",
    "    for y in range(2,int(x**0.5)+1):\n",
    "        if x%y == 0:\n",
    "            isPrime=False\n",
    "            break\n",
    "    return isPrime\n",
    "\n",
    "x = 600851475143\n",
    "bigPrime = 0\n",
    "for i in range(1, x + 1):\n",
    "    # if is a factor\n",
    "    if (x % i == 0):\n",
    "        bigSide = x/i\n",
    "        if isPrime(bigSide):\n",
    "            bigPrime = bigSide\n",
    "            break\n",
    "print (bigPrime)"
   ]
  },
  {
   "cell_type": "markdown",
   "metadata": {},
   "source": [
    "# Problem 4"
   ]
  },
  {
   "cell_type": "code",
   "execution_count": 79,
   "metadata": {},
   "outputs": [
    {
     "name": "stdout",
     "output_type": "stream",
     "text": [
      "906609\n"
     ]
    }
   ],
   "source": [
    "def isPalindrome(x):\n",
    "    isPal = False\n",
    "    strx = str(x)\n",
    "    if(strx==strx[::-1]):\n",
    "        isPal = True\n",
    "    return isPal\n",
    "\n",
    "bigPal = 0\n",
    "maxIter = 1000\n",
    "# start at the end, probably shouldn't have to go less\n",
    "# than half of the max value\n",
    "for i in reversed (range(maxIter//2,maxIter)):\n",
    "    for j in reversed (range(maxIter//2,maxIter)):\n",
    "        prod = j*i\n",
    "        if isPalindrome(prod) and prod > bigPal:\n",
    "            bigPal = prod\n",
    "print (bigPal)\n",
    "\n",
    "    "
   ]
  },
  {
   "cell_type": "markdown",
   "metadata": {},
   "source": [
    "# Problem 5"
   ]
  },
  {
   "cell_type": "code",
   "execution_count": 108,
   "metadata": {},
   "outputs": [
    {
     "data": {
      "text/plain": [
       "232792560"
      ]
     },
     "execution_count": 108,
     "metadata": {},
     "output_type": "execute_result"
    }
   ],
   "source": [
    "import functools\n",
    "\n",
    "# greatest common denomonator\n",
    "def gcd(a, b):\n",
    "    \n",
    "    # divide until b evenly divides into a\n",
    "    while b:\n",
    "        # old b moved to a, new b holds any remainder\n",
    "        a, b = b, a % b\n",
    "    return a\n",
    "\n",
    "# least common multiple\n",
    "def lcm(a,b):\n",
    "    # product of the two values divided by the greatest \n",
    "    # common denomonator\n",
    "    return a*b // gcd(a,b)\n",
    "\n",
    "functools.reduce(lcm, range(1,20))\n",
    "        "
   ]
  },
  {
   "cell_type": "markdown",
   "metadata": {},
   "source": [
    "# Problem 6"
   ]
  },
  {
   "cell_type": "code",
   "execution_count": 118,
   "metadata": {},
   "outputs": [
    {
     "name": "stdout",
     "output_type": "stream",
     "text": [
      "25164150\n"
     ]
    }
   ],
   "source": [
    "sqSum = rgSum = 0\n",
    "for i in range(1,101):\n",
    "    sqSum = sqSum + i**2\n",
    "    rgSum = rgSum +i\n",
    "sqRgSum = rgSum**2\n",
    "print (sqRgSum-sqSum)"
   ]
  },
  {
   "cell_type": "markdown",
   "metadata": {},
   "source": [
    "# Problem 7"
   ]
  },
  {
   "cell_type": "code",
   "execution_count": 139,
   "metadata": {},
   "outputs": [
    {
     "name": "stdout",
     "output_type": "stream",
     "text": [
      "104743\n"
     ]
    }
   ],
   "source": [
    "def isPrime(x):\n",
    "    isPrime = True\n",
    "    for y in range(2,int(x**0.5)+1):\n",
    "        if x%y == 0:\n",
    "            isPrime=False\n",
    "            break\n",
    "    return isPrime\n",
    "\n",
    "i = 1\n",
    "primeCount = 0\n",
    "found = False\n",
    "while(not found):\n",
    "    i+=1\n",
    "    if isPrime(i):\n",
    "        primeCount+=1\n",
    "    if primeCount == 10001:    \n",
    "        found = True\n",
    "        print (i)    "
   ]
  },
  {
   "cell_type": "markdown",
   "metadata": {},
   "source": [
    "# Problem 8"
   ]
  },
  {
   "cell_type": "code",
   "execution_count": 167,
   "metadata": {},
   "outputs": [
    {
     "name": "stdout",
     "output_type": "stream",
     "text": [
      "23514624000\n"
     ]
    }
   ],
   "source": [
    "numbers = [\n",
    "    7, 3, 1, 6, 7, 1, 7, 6, 5, 3, 1, 3, 3, 0, 6, 2, 4, 9, 1, 9, 2, 2, 5, 1, 1,\n",
    "    9, 6, 7, 4, 4, 2, 6, 5, 7, 4, 7, 4, 2, 3, 5, 5, 3, 4, 9, 1, 9, 4, 9, 3, 4, \n",
    "    9, 6, 9, 8, 3, 5, 2, 0, 3, 1, 2, 7, 7, 4, 5, 0, 6, 3, 2, 6, 2, 3, 9, 5, 7,\n",
    "    8, 3, 1, 8, 0, 1, 6, 9, 8, 4, 8, 0, 1, 8, 6, 9, 4, 7, 8, 8, 5, 1, 8, 4, 3, \n",
    "    8, 5, 8, 6, 1, 5, 6, 0, 7, 8, 9, 1, 1, 2, 9, 4, 9, 4, 9, 5, 4, 5, 9, 5, 0,\n",
    "    1, 7, 3, 7, 9, 5, 8, 3, 3, 1, 9, 5, 2, 8, 5, 3, 2, 0, 8, 8, 0, 5, 5, 1, 1, \n",
    "    1, 2, 5, 4, 0, 6, 9, 8, 7, 4, 7, 1, 5, 8, 5, 2, 3, 8, 6, 3, 0, 5, 0, 7, 1,\n",
    "    5, 6, 9, 3, 2, 9, 0, 9, 6, 3, 2, 9, 5, 2, 2, 7, 4, 4, 3, 0, 4, 3, 5, 5, 7, \n",
    "    6, 6, 8, 9, 6, 6, 4, 8, 9, 5, 0, 4, 4, 5, 2, 4, 4, 5, 2, 3, 1, 6, 1, 7, 3,\n",
    "    1, 8, 5, 6, 4, 0, 3, 0, 9, 8, 7, 1, 1, 1, 2, 1, 7, 2, 2, 3, 8, 3, 1, 1, 3, \n",
    "    6, 2, 2, 2, 9, 8, 9, 3, 4, 2, 3, 3, 8, 0, 3, 0, 8, 1, 3, 5, 3, 3, 6, 2, 7,\n",
    "    6, 6, 1, 4, 2, 8, 2, 8, 0, 6, 4, 4, 4, 4, 8, 6, 6, 4, 5, 2, 3, 8, 7, 4, 9, \n",
    "    3, 0, 3, 5, 8, 9, 0, 7, 2, 9, 6, 2, 9, 0, 4, 9, 1, 5, 6, 0, 4, 4, 0, 7, 7,\n",
    "    2, 3, 9, 0, 7, 1, 3, 8, 1, 0, 5, 1, 5, 8, 5, 9, 3, 0, 7, 9, 6, 0, 8, 6, 6, \n",
    "    7, 0, 1, 7, 2, 4, 2, 7, 1, 2, 1, 8, 8, 3, 9, 9, 8, 7, 9, 7, 9, 0, 8, 7, 9,\n",
    "    2, 2, 7, 4, 9, 2, 1, 9, 0, 1, 6, 9, 9, 7, 2, 0, 8, 8, 8, 0, 9, 3, 7, 7, 6, \n",
    "    6, 5, 7, 2, 7, 3, 3, 3, 0, 0, 1, 0, 5, 3, 3, 6, 7, 8, 8, 1, 2, 2, 0, 2, 3,\n",
    "    5, 4, 2, 1, 8, 0, 9, 7, 5, 1, 2, 5, 4, 5, 4, 0, 5, 9, 4, 7, 5, 2, 2, 4, 3, \n",
    "    5, 2, 5, 8, 4, 9, 0, 7, 7, 1, 1, 6, 7, 0, 5, 5, 6, 0, 1, 3, 6, 0, 4, 8, 3,\n",
    "    9, 5, 8, 6, 4, 4, 6, 7, 0, 6, 3, 2, 4, 4, 1, 5, 7, 2, 2, 1, 5, 5, 3, 9, 7, \n",
    "    5, 3, 6, 9, 7, 8, 1, 7, 9, 7, 7, 8, 4, 6, 1, 7, 4, 0, 6, 4, 9, 5, 5, 1, 4,\n",
    "    9, 2, 9, 0, 8, 6, 2, 5, 6, 9, 3, 2, 1, 9, 7, 8, 4, 6, 8, 6, 2, 2, 4, 8, 2, \n",
    "    8, 3, 9, 7, 2, 2, 4, 1, 3, 7, 5, 6, 5, 7, 0, 5, 6, 0, 5, 7, 4, 9, 0, 2, 6,\n",
    "    1, 4, 0, 7, 9, 7, 2, 9, 6, 8, 6, 5, 2, 4, 1, 4, 5, 3, 5, 1, 0, 0, 4, 7, 4, \n",
    "    8, 2, 1, 6, 6, 3, 7, 0, 4, 8, 4, 4, 0, 3, 1, 9, 9, 8, 9, 0, 0, 0, 8, 8, 9,\n",
    "    5, 2, 4, 3, 4, 5, 0, 6, 5, 8, 5, 4, 1, 2, 2, 7, 5, 8, 8, 6, 6, 6, 8, 8, 1, \n",
    "    1, 6, 4, 2, 7, 1, 7, 1, 4, 7, 9, 9, 2, 4, 4, 4, 2, 9, 2, 8, 2, 3, 0, 8, 6,\n",
    "    3, 4, 6, 5, 6, 7, 4, 8, 1, 3, 9, 1, 9, 1, 2, 3, 1, 6, 2, 8, 2, 4, 5, 8, 6, \n",
    "    1, 7, 8, 6, 6, 4, 5, 8, 3, 5, 9, 1, 2, 4, 5, 6, 6, 5, 2, 9, 4, 7, 6, 5, 4,\n",
    "    5, 6, 8, 2, 8, 4, 8, 9, 1, 2, 8, 8, 3, 1, 4, 2, 6, 0, 7, 6, 9, 0, 0, 4, 2, \n",
    "    2, 4, 2, 1, 9, 0, 2, 2, 6, 7, 1, 0, 5, 5, 6, 2, 6, 3, 2, 1, 1, 1, 1, 1, 0,\n",
    "    9, 3, 7, 0, 5, 4, 4, 2, 1, 7, 5, 0, 6, 9, 4, 1, 6, 5, 8, 9, 6, 0, 4, 0, 8, \n",
    "    0, 7, 1, 9, 8, 4, 0, 3, 8, 5, 0, 9, 6, 2, 4, 5, 5, 4, 4, 4, 3, 6, 2, 9, 8,\n",
    "    1, 2, 3, 0, 9, 8, 7, 8, 7, 9, 9, 2, 7, 2, 4, 4, 2, 8, 4, 9, 0, 9, 1, 8, 8, \n",
    "    8, 4, 5, 8, 0, 1, 5, 6, 1, 6, 6, 0, 9, 7, 9, 1, 9, 1, 3, 3, 8, 7, 5, 4, 9,\n",
    "    9, 2, 0, 0, 5, 2, 4, 0, 6, 3, 6, 8, 9, 9, 1, 2, 5, 6, 0, 7, 1, 7, 6, 0, 6, \n",
    "    0, 5, 8, 8, 6, 1, 1, 6, 4, 6, 7, 1, 0, 9, 4, 0, 5, 0, 7, 7, 5, 4, 1, 0, 0,\n",
    "    2, 2, 5, 6, 9, 8, 3, 1, 5, 5, 2, 0, 0, 0, 5, 5, 9, 3, 5, 7, 2, 9, 7, 2, 5, \n",
    "    7, 1, 6, 3, 6, 2, 6, 9, 5, 6, 1, 8, 8, 2, 6, 7, 0, 4, 2, 8, 2, 5, 2, 4, 8,\n",
    "    3, 6, 0, 0, 8, 2, 3, 2, 5, 7, 5, 3, 0, 4, 2, 0, 7, 5, 2, 9, 6, 3, 4, 5, 0\n",
    "]\n",
    "\n",
    "prod=1\n",
    "bigProd=0\n",
    "for i in range(0, len(numbers)):\n",
    "    for p in range(0,13):\n",
    "        if (i+p) > len(numbers)-1:\n",
    "            break\n",
    "        prod = prod * numbers[i+p]\n",
    "        if prod > bigProd:\n",
    "            bigProd = prod\n",
    "    prod = 1\n",
    "print(bigProd)           "
   ]
  },
  {
   "cell_type": "markdown",
   "metadata": {},
   "source": [
    "# Problem 9"
   ]
  },
  {
   "cell_type": "code",
   "execution_count": 181,
   "metadata": {},
   "outputs": [
    {
     "name": "stdout",
     "output_type": "stream",
     "text": [
      "375\n",
      "200\n",
      "425\n",
      "31875000\n"
     ]
    }
   ],
   "source": [
    "from IPython.display import clear_output\n",
    "finished = False\n",
    "for a in reversed(range(1,998)):\n",
    "    if (finished):\n",
    "        break\n",
    "    for b in range (1,998):\n",
    "        if (a + b) > 1000:\n",
    "            break\n",
    "        c = 1000 - (a+b)\n",
    "        if (a**2 + b**2) == (c**2):\n",
    "            print (a)\n",
    "            print (b)\n",
    "            print (c)\n",
    "            print (a*b*c)\n",
    "            finished = True\n",
    "            "
   ]
  },
  {
   "cell_type": "markdown",
   "metadata": {},
   "source": [
    "# Problem 10"
   ]
  },
  {
   "cell_type": "code",
   "execution_count": 184,
   "metadata": {},
   "outputs": [
    {
     "name": "stdout",
     "output_type": "stream",
     "text": [
      "142913828922\n"
     ]
    }
   ],
   "source": [
    "def isPrime(x):\n",
    "    isPrime = True\n",
    "    for y in range(2,int(x**0.5)+1):\n",
    "        if x%y == 0:\n",
    "            isPrime=False\n",
    "            break\n",
    "    return isPrime\n",
    "\n",
    "\n",
    "primeSum = 0\n",
    "for i in range(2, 2000000):\n",
    "    if isPrime(i):\n",
    "        primeSum+=i\n",
    "print (primeSum)       "
   ]
  },
  {
   "cell_type": "code",
   "execution_count": null,
   "metadata": {
    "collapsed": true
   },
   "outputs": [],
   "source": []
  }
 ],
 "metadata": {
  "kernelspec": {
   "display_name": "Python 3",
   "language": "python",
   "name": "python3"
  },
  "language_info": {
   "codemirror_mode": {
    "name": "ipython",
    "version": 3
   },
   "file_extension": ".py",
   "mimetype": "text/x-python",
   "name": "python",
   "nbconvert_exporter": "python",
   "pygments_lexer": "ipython3",
   "version": "3.6.3"
  }
 },
 "nbformat": 4,
 "nbformat_minor": 2
}
