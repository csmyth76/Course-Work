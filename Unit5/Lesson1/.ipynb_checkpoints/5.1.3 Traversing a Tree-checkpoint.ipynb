{
 "cells": [
  {
   "cell_type": "code",
   "execution_count": 1,
   "metadata": {
    "collapsed": true
   },
   "outputs": [],
   "source": [
    "import time\n",
    "import random"
   ]
  },
  {
   "cell_type": "code",
   "execution_count": 10,
   "metadata": {},
   "outputs": [],
   "source": [
    "def heapThisList(seq, stopAt = 1):\n",
    "    # LONG VERSION:\n",
    "    # Transform sequence into a max-heap, in-place.\n",
    "    # This means that the array is sorted as follows \n",
    "    # (for any index, the formula identifies the parent \n",
    "    # and children):\n",
    "    # [ROOT] - always index 0: the largest number\n",
    "    # [PARENT] - (index - 1) / 2\n",
    "    # [LEFT CHILD] - (index * 2) + 1\n",
    "    # [RIGHT CHILD] - (index * 2) + 2\n",
    "    # \n",
    "    # The loop starts at the end of the sequence which would \n",
    "    # the lowest layer of the heap.  It then calculates\n",
    "    # the parent.  If the element is greater than the parent, \n",
    "    # it swaps the element out with the parent.  As the \n",
    "    # algorithm moves through the sequence the correct parents\n",
    "    # are identified and the highest value is ultimately index 0.\n",
    "    # The corresponding parent/child relationships will be set \n",
    "    # per the calculations above.\n",
    "    # \n",
    "    # SHORT VERSION: \n",
    "    # 1) start from the right \n",
    "    # 2) calculate and place the parent for each value\n",
    "    # 3) Result: heap!    \n",
    "    for i in reversed(range(stopAt, len(seq))):\n",
    "        # get the index of the [PARENT] of the current element\n",
    "        parent = (i - 1) // 2\n",
    "        # if current element is greater than [PARENT]\n",
    "        # it becomes the new [PARENT] and the previous [PARENT] \n",
    "        # becomes the [LEFT or RIGHT CHILD]\n",
    "        if seq[i] > seq[parent]:\n",
    "            seq[i], seq[parent] = seq[parent], seq[i]\n",
    "            # Heap was altered; reheap up to one element\n",
    "            # before the altered element if the\n",
    "            # element has children\n",
    "            lChldIdx = i * 2 + 1\n",
    "            if (lChldIdx < len(seq)):\n",
    "                heapThisList(seq, stopAt=i+1)\n",
    "            rChldIdx = i * 2 + 2\n",
    "            if (lChldIdx < len(seq)):\n",
    "                heapThisList(seq,stopAt=i+1)  "
   ]
  },
  {
   "cell_type": "code",
   "execution_count": 11,
   "metadata": {},
   "outputs": [
    {
     "name": "stdout",
     "output_type": "stream",
     "text": [
      "[0, 67, 94, 18, 55, 44, 91, 38, 24, 31, 6, 43, 61, 56, 16]\n"
     ]
    }
   ],
   "source": [
    "short_list = list(random.sample(range(100), 15))\n",
    "print (short_list)"
   ]
  },
  {
   "cell_type": "code",
   "execution_count": 12,
   "metadata": {},
   "outputs": [],
   "source": [
    "heapThisList(short_list)"
   ]
  },
  {
   "cell_type": "code",
   "execution_count": 13,
   "metadata": {},
   "outputs": [
    {
     "name": "stdout",
     "output_type": "stream",
     "text": [
      "[94, 67, 91, 38, 55, 61, 56, 24, 18, 31, 6, 43, 44, 16, 0]\n",
      "\n",
      "p:94 lc:67 rc:91\n",
      "p:67 lc:38 rc:55\n",
      "p:91 lc:61 rc:56\n",
      "p:38 lc:24 rc:18\n",
      "p:55 lc:31 rc:6\n",
      "p:61 lc:43 rc:44\n",
      "p:56 lc:16 rc:0\n",
      "p:24 lc:None rc:None\n",
      "p:18 lc:None rc:None\n",
      "p:31 lc:None rc:None\n",
      "p:6 lc:None rc:None\n",
      "p:43 lc:None rc:None\n",
      "p:44 lc:None rc:None\n",
      "p:16 lc:None rc:None\n",
      "p:0 lc:None rc:None\n"
     ]
    }
   ],
   "source": [
    "print (str(short_list) + '\\n')\n",
    "for i in range (0, len(short_list)):\n",
    "    parent = short_list[i]\n",
    "    lChld = None\n",
    "    rChld = None\n",
    "    lChldIdx = i * 2 + 1\n",
    "    rChldIdx = i * 2 + 2\n",
    "    if (lChldIdx < len(short_list)):\n",
    "        lChld = short_list[lChldIdx]\n",
    "    if (rChldIdx < len(short_list)):\n",
    "        rChld = short_list[rChldIdx] \n",
    "    print('p:{} lc:{} rc:{}'.format(parent,lChld,rChld))"
   ]
  },
  {
   "cell_type": "code",
   "execution_count": null,
   "metadata": {
    "collapsed": true
   },
   "outputs": [],
   "source": []
  }
 ],
 "metadata": {
  "hide_input": false,
  "kernelspec": {
   "display_name": "Python 3",
   "language": "python",
   "name": "python3"
  },
  "language_info": {
   "codemirror_mode": {
    "name": "ipython",
    "version": 3
   },
   "file_extension": ".py",
   "mimetype": "text/x-python",
   "name": "python",
   "nbconvert_exporter": "python",
   "pygments_lexer": "ipython3",
   "version": "3.6.3"
  }
 },
 "nbformat": 4,
 "nbformat_minor": 2
}
