{
 "cells": [
  {
   "cell_type": "code",
   "execution_count": 2,
   "metadata": {
    "collapsed": true
   },
   "outputs": [],
   "source": [
    "import pandas as pd\n",
    "import numpy as np\n",
    "import scipy\n",
    "import matplotlib.pyplot as plt\n",
    "%matplotlib inline\n",
    "\n",
    "from sklearn import ensemble\n",
    "from sklearn import datasets\n",
    "from sklearn.utils import shuffle\n",
    "from sklearn.metrics import mean_squared_error"
   ]
  },
  {
   "cell_type": "markdown",
   "metadata": {},
   "source": [
    "https://raw.githubusercontent.com/Thinkful-Ed/data-201-resources/master/ESS_practice_data/ESSdata_Thinkful.csv\n"
   ]
  },
  {
   "cell_type": "code",
   "execution_count": 3,
   "metadata": {
    "collapsed": true
   },
   "outputs": [],
   "source": [
    "df = pd.read_csv((\n",
    "    \"https://raw.githubusercontent.com/Thinkful-Ed/data-201-resources/\"\n",
    "    \"master/ESS_practice_data/ESSdata_Thinkful.csv\")).dropna()\n",
    "\n"
   ]
  },
  {
   "cell_type": "code",
   "execution_count": 4,
   "metadata": {},
   "outputs": [
    {
     "data": {
      "text/html": [
       "<div>\n",
       "<style>\n",
       "    .dataframe thead tr:only-child th {\n",
       "        text-align: right;\n",
       "    }\n",
       "\n",
       "    .dataframe thead th {\n",
       "        text-align: left;\n",
       "    }\n",
       "\n",
       "    .dataframe tbody tr th {\n",
       "        vertical-align: top;\n",
       "    }\n",
       "</style>\n",
       "<table border=\"1\" class=\"dataframe\">\n",
       "  <thead>\n",
       "    <tr style=\"text-align: right;\">\n",
       "      <th></th>\n",
       "      <th>cntry</th>\n",
       "      <th>idno</th>\n",
       "      <th>year</th>\n",
       "      <th>tvtot</th>\n",
       "      <th>ppltrst</th>\n",
       "      <th>pplfair</th>\n",
       "      <th>pplhlp</th>\n",
       "      <th>happy</th>\n",
       "      <th>sclmeet</th>\n",
       "      <th>sclact</th>\n",
       "      <th>gndr</th>\n",
       "      <th>agea</th>\n",
       "      <th>partner</th>\n",
       "    </tr>\n",
       "  </thead>\n",
       "  <tbody>\n",
       "    <tr>\n",
       "      <th>0</th>\n",
       "      <td>CH</td>\n",
       "      <td>5.0</td>\n",
       "      <td>6</td>\n",
       "      <td>3.0</td>\n",
       "      <td>3.0</td>\n",
       "      <td>10.0</td>\n",
       "      <td>5.0</td>\n",
       "      <td>8.0</td>\n",
       "      <td>5.0</td>\n",
       "      <td>4.0</td>\n",
       "      <td>2.0</td>\n",
       "      <td>60.0</td>\n",
       "      <td>1.0</td>\n",
       "    </tr>\n",
       "    <tr>\n",
       "      <th>1</th>\n",
       "      <td>CH</td>\n",
       "      <td>25.0</td>\n",
       "      <td>6</td>\n",
       "      <td>6.0</td>\n",
       "      <td>5.0</td>\n",
       "      <td>7.0</td>\n",
       "      <td>5.0</td>\n",
       "      <td>9.0</td>\n",
       "      <td>3.0</td>\n",
       "      <td>2.0</td>\n",
       "      <td>2.0</td>\n",
       "      <td>59.0</td>\n",
       "      <td>1.0</td>\n",
       "    </tr>\n",
       "    <tr>\n",
       "      <th>2</th>\n",
       "      <td>CH</td>\n",
       "      <td>26.0</td>\n",
       "      <td>6</td>\n",
       "      <td>1.0</td>\n",
       "      <td>8.0</td>\n",
       "      <td>8.0</td>\n",
       "      <td>8.0</td>\n",
       "      <td>7.0</td>\n",
       "      <td>6.0</td>\n",
       "      <td>3.0</td>\n",
       "      <td>1.0</td>\n",
       "      <td>24.0</td>\n",
       "      <td>2.0</td>\n",
       "    </tr>\n",
       "    <tr>\n",
       "      <th>3</th>\n",
       "      <td>CH</td>\n",
       "      <td>28.0</td>\n",
       "      <td>6</td>\n",
       "      <td>4.0</td>\n",
       "      <td>6.0</td>\n",
       "      <td>6.0</td>\n",
       "      <td>7.0</td>\n",
       "      <td>10.0</td>\n",
       "      <td>6.0</td>\n",
       "      <td>2.0</td>\n",
       "      <td>2.0</td>\n",
       "      <td>64.0</td>\n",
       "      <td>1.0</td>\n",
       "    </tr>\n",
       "    <tr>\n",
       "      <th>4</th>\n",
       "      <td>CH</td>\n",
       "      <td>29.0</td>\n",
       "      <td>6</td>\n",
       "      <td>5.0</td>\n",
       "      <td>6.0</td>\n",
       "      <td>7.0</td>\n",
       "      <td>5.0</td>\n",
       "      <td>8.0</td>\n",
       "      <td>7.0</td>\n",
       "      <td>2.0</td>\n",
       "      <td>2.0</td>\n",
       "      <td>55.0</td>\n",
       "      <td>1.0</td>\n",
       "    </tr>\n",
       "  </tbody>\n",
       "</table>\n",
       "</div>"
      ],
      "text/plain": [
       "  cntry  idno  year  tvtot  ppltrst  pplfair  pplhlp  happy  sclmeet  sclact  \\\n",
       "0    CH   5.0     6    3.0      3.0     10.0     5.0    8.0      5.0     4.0   \n",
       "1    CH  25.0     6    6.0      5.0      7.0     5.0    9.0      3.0     2.0   \n",
       "2    CH  26.0     6    1.0      8.0      8.0     8.0    7.0      6.0     3.0   \n",
       "3    CH  28.0     6    4.0      6.0      6.0     7.0   10.0      6.0     2.0   \n",
       "4    CH  29.0     6    5.0      6.0      7.0     5.0    8.0      7.0     2.0   \n",
       "\n",
       "   gndr  agea  partner  \n",
       "0   2.0  60.0      1.0  \n",
       "1   2.0  59.0      1.0  \n",
       "2   1.0  24.0      2.0  \n",
       "3   2.0  64.0      1.0  \n",
       "4   2.0  55.0      1.0  "
      ]
     },
     "execution_count": 4,
     "metadata": {},
     "output_type": "execute_result"
    }
   ],
   "source": [
    "df.head()"
   ]
  },
  {
   "cell_type": "code",
   "execution_count": 5,
   "metadata": {
    "collapsed": true
   },
   "outputs": [],
   "source": [
    "# Definine outcome and predictors.\n",
    "# Set our outcome to 0 and 1.\n",
    "y = df['partner'] - 1\n",
    "X = df.loc[:, ~df.columns.isin(['partner', 'cntry', 'idno'])]\n",
    "\n",
    "# Make the categorical variable 'country' into dummies.\n",
    "X = pd.concat([X, pd.get_dummies(df['cntry'])], axis=1)\n",
    "\n",
    "# Create training and test sets.\n",
    "offset = int(X.shape[0] * 0.9)\n",
    "\n",
    "# Put 90% of the data in the training set.\n",
    "X_train, y_train = X[:offset], y[:offset]\n",
    "\n",
    "# And put 10% in the test set.\n",
    "X_test, y_test = X[offset:], y[offset:]"
   ]
  },
  {
   "cell_type": "code",
   "execution_count": 6,
   "metadata": {},
   "outputs": [
    {
     "name": "stdout",
     "output_type": "stream",
     "text": [
      "Training set accuracy:\n",
      "Percent Type I errors: 0.04650845608292417\n",
      "Percent Type II errors: 0.17607746863066012\n",
      "\n",
      "Test set accuracy:\n",
      "Percent Type I errors: 0.06257668711656442\n",
      "Percent Type II errors: 0.18527607361963191\n"
     ]
    }
   ],
   "source": [
    "# We'll make 500 iterations, use 2-deep trees, and set our loss function.\n",
    "params = {'n_estimators': 500,\n",
    "          'max_depth': 2,\n",
    "          'loss': 'deviance'}\n",
    "\n",
    "# Initialize and fit the model.\n",
    "clf = ensemble.GradientBoostingClassifier(**params)\n",
    "clf.fit(X_train, y_train)\n",
    "\n",
    "predict_train = clf.predict(X_train)\n",
    "predict_test = clf.predict(X_test)\n",
    "\n",
    "# Accuracy tables.\n",
    "table_train = pd.crosstab(y_train, predict_train, margins=True)\n",
    "table_test = pd.crosstab(y_test, predict_test, margins=True)\n",
    "\n",
    "train_tI_errors = table_train.loc[0.0,1.0] / table_train.loc['All','All']\n",
    "train_tII_errors = table_train.loc[1.0,0.0] / table_train.loc['All','All']\n",
    "\n",
    "test_tI_errors = table_test.loc[0.0,1.0]/table_test.loc['All','All']\n",
    "test_tII_errors = table_test.loc[1.0,0.0]/table_test.loc['All','All']\n",
    "\n",
    "print((\n",
    "    'Training set accuracy:\\n'\n",
    "    'Percent Type I errors: {}\\n'\n",
    "    'Percent Type II errors: {}\\n\\n'\n",
    "    'Test set accuracy:\\n'\n",
    "    'Percent Type I errors: {}\\n'\n",
    "    'Percent Type II errors: {}'\n",
    ").format(train_tI_errors, train_tII_errors, test_tI_errors, test_tII_errors))\n"
   ]
  },
  {
   "cell_type": "code",
   "execution_count": 7,
   "metadata": {},
   "outputs": [
    {
     "data": {
      "image/png": "[encoded data removed]",
      "text/plain": [
       "<matplotlib.figure.Figure at 0x1a0bf9ada0>"
      ]
     },
     "metadata": {},
     "output_type": "display_data"
    }
   ],
   "source": [
    "feature_importance = clf.feature_importances_\n",
    "\n",
    "# Make importances relative to max importance.\n",
    "feature_importance = 100.0 * (feature_importance / feature_importance.max())\n",
    "sorted_idx = np.argsort(feature_importance)\n",
    "pos = np.arange(sorted_idx.shape[0]) + .5\n",
    "plt.subplot(1, 2, 2)\n",
    "plt.barh(pos, feature_importance[sorted_idx], align='center')\n",
    "plt.yticks(pos, X.columns[sorted_idx])\n",
    "plt.xlabel('Relative Importance')\n",
    "plt.title('Variable Importance')\n",
    "plt.show()"
   ]
  },
  {
   "cell_type": "code",
   "execution_count": 8,
   "metadata": {},
   "outputs": [
    {
     "name": "stdout",
     "output_type": "stream",
     "text": [
      "Training set accuracy:\n",
      "Percent Type I errors: 0.04732678668848882\n",
      "Percent Type II errors: 0.1745771958537916\n",
      "\n",
      "Test set accuracy:\n",
      "Percent Type I errors: 0.06257668711656442\n",
      "Percent Type II errors: 0.18404907975460122\n"
     ]
    }
   ],
   "source": [
    "# We'll make 500 iterations, use 2-deep trees, and set our loss function.\n",
    "params = {'n_estimators': 600,\n",
    "          'max_depth': 2,\n",
    "          'loss': 'deviance'}\n",
    "\n",
    "# Initialize and fit the model.\n",
    "clf = ensemble.GradientBoostingClassifier(**params)\n",
    "clf.fit(X_train, y_train)\n",
    "\n",
    "predict_train = clf.predict(X_train)\n",
    "predict_test = clf.predict(X_test)\n",
    "\n",
    "# Accuracy tables.\n",
    "table_train = pd.crosstab(y_train, predict_train, margins=True)\n",
    "table_test = pd.crosstab(y_test, predict_test, margins=True)\n",
    "\n",
    "train_tI_errors = table_train.loc[0.0,1.0] / table_train.loc['All','All']\n",
    "train_tII_errors = table_train.loc[1.0,0.0] / table_train.loc['All','All']\n",
    "\n",
    "test_tI_errors = table_test.loc[0.0,1.0]/table_test.loc['All','All']\n",
    "test_tII_errors = table_test.loc[1.0,0.0]/table_test.loc['All','All']\n",
    "\n",
    "print((\n",
    "    'Training set accuracy:\\n'\n",
    "    'Percent Type I errors: {}\\n'\n",
    "    'Percent Type II errors: {}\\n\\n'\n",
    "    'Test set accuracy:\\n'\n",
    "    'Percent Type I errors: {}\\n'\n",
    "    'Percent Type II errors: {}'\n",
    ").format(train_tI_errors, train_tII_errors, test_tI_errors, test_tII_errors))\n"
   ]
  },
  {
   "cell_type": "code",
   "execution_count": 12,
   "metadata": {},
   "outputs": [
    {
     "name": "stdout",
     "output_type": "stream",
     "text": [
      "Training set accuracy:\n",
      "Percent Type I errors: 0.04487179487179487\n",
      "Percent Type II errors: 0.17144026186579378\n",
      "\n",
      "Test set accuracy:\n",
      "Percent Type I errors: 0.0687116564417178\n",
      "Percent Type II errors: 0.18159509202453988\n"
     ]
    }
   ],
   "source": [
    "# We'll make 500 iterations, use 2-deep trees, and set our loss function.\n",
    "params = {'n_estimators': 800,\n",
    "          'max_depth': 2,\n",
    "          'loss': 'deviance'}\n",
    "\n",
    "# Initialize and fit the model.\n",
    "clf = ensemble.GradientBoostingClassifier(**params)\n",
    "clf.fit(X_train, y_train)\n",
    "\n",
    "predict_train = clf.predict(X_train)\n",
    "predict_test = clf.predict(X_test)\n",
    "\n",
    "# Accuracy tables.\n",
    "table_train = pd.crosstab(y_train, predict_train, margins=True)\n",
    "table_test = pd.crosstab(y_test, predict_test, margins=True)\n",
    "\n",
    "train_tI_errors = table_train.loc[0.0,1.0] / table_train.loc['All','All']\n",
    "train_tII_errors = table_train.loc[1.0,0.0] / table_train.loc['All','All']\n",
    "\n",
    "test_tI_errors = table_test.loc[0.0,1.0]/table_test.loc['All','All']\n",
    "test_tII_errors = table_test.loc[1.0,0.0]/table_test.loc['All','All']\n",
    "\n",
    "print((\n",
    "    'Training set accuracy:\\n'\n",
    "    'Percent Type I errors: {}\\n'\n",
    "    'Percent Type II errors: {}\\n\\n'\n",
    "    'Test set accuracy:\\n'\n",
    "    'Percent Type I errors: {}\\n'\n",
    "    'Percent Type II errors: {}'\n",
    ").format(train_tI_errors, train_tII_errors, test_tI_errors, test_tII_errors))\n"
   ]
  },
  {
   "cell_type": "code",
   "execution_count": 13,
   "metadata": {},
   "outputs": [
    {
     "name": "stdout",
     "output_type": "stream",
     "text": [
      "Training set accuracy:\n",
      "Percent Type I errors: 0.04841789416257501\n",
      "Percent Type II errors: 0.1778505182760502\n",
      "\n",
      "Test set accuracy:\n",
      "Percent Type I errors: 0.0638036809815951\n",
      "Percent Type II errors: 0.18773006134969325\n"
     ]
    }
   ],
   "source": [
    "# We'll make 500 iterations, use 2-deep trees, and set our loss function.\n",
    "params = {'n_estimators': 500,\n",
    "          'max_depth': 2,\n",
    "          'loss': 'exponential'}\n",
    "\n",
    "# Initialize and fit the model.\n",
    "clf = ensemble.GradientBoostingClassifier(**params)\n",
    "clf.fit(X_train, y_train)\n",
    "\n",
    "predict_train = clf.predict(X_train)\n",
    "predict_test = clf.predict(X_test)\n",
    "\n",
    "# Accuracy tables.\n",
    "table_train = pd.crosstab(y_train, predict_train, margins=True)\n",
    "table_test = pd.crosstab(y_test, predict_test, margins=True)\n",
    "\n",
    "train_tI_errors = table_train.loc[0.0,1.0] / table_train.loc['All','All']\n",
    "train_tII_errors = table_train.loc[1.0,0.0] / table_train.loc['All','All']\n",
    "\n",
    "test_tI_errors = table_test.loc[0.0,1.0]/table_test.loc['All','All']\n",
    "test_tII_errors = table_test.loc[1.0,0.0]/table_test.loc['All','All']\n",
    "\n",
    "print((\n",
    "    'Training set accuracy:\\n'\n",
    "    'Percent Type I errors: {}\\n'\n",
    "    'Percent Type II errors: {}\\n\\n'\n",
    "    'Test set accuracy:\\n'\n",
    "    'Percent Type I errors: {}\\n'\n",
    "    'Percent Type II errors: {}'\n",
    ").format(train_tI_errors, train_tII_errors, test_tI_errors, test_tII_errors))\n"
   ]
  },
  {
   "cell_type": "code",
   "execution_count": null,
   "metadata": {
    "collapsed": true
   },
   "outputs": [],
   "source": []
  },
  {
   "cell_type": "code",
   "execution_count": null,
   "metadata": {
    "collapsed": true
   },
   "outputs": [],
   "source": []
  },
  {
   "cell_type": "code",
   "execution_count": 24,
   "metadata": {},
   "outputs": [
    {
     "name": "stdout",
     "output_type": "stream",
     "text": [
      "2\n"
     ]
    }
   ],
   "source": [
    "ar = range(2,3,1)\n",
    "for r in ar:\n",
    "    print (r)"
   ]
  },
  {
   "cell_type": "code",
   "execution_count": 10,
   "metadata": {
    "collapsed": true
   },
   "outputs": [],
   "source": [
    "ranges = {'lossVals': ['exponential', 'deviance'],\n",
    "    'estVals': range(400,600,50),\n",
    "    'dpthVals': range(2,10,2)}"
   ]
  },
  {
   "cell_type": "code",
   "execution_count": 19,
   "metadata": {},
   "outputs": [
    {
     "name": "stdout",
     "output_type": "stream",
     "text": [
      "lossVals\n",
      "['exponential', 'deviance']\n",
      "estVals\n",
      "range(400, 600, 50)\n",
      "dpthVals\n",
      "range(2, 10, 2)\n"
     ]
    },
    {
     "data": {
      "text/html": [
       "<div>\n",
       "<style>\n",
       "    .dataframe thead tr:only-child th {\n",
       "        text-align: right;\n",
       "    }\n",
       "\n",
       "    .dataframe thead th {\n",
       "        text-align: left;\n",
       "    }\n",
       "\n",
       "    .dataframe tbody tr th {\n",
       "        vertical-align: top;\n",
       "    }\n",
       "</style>\n",
       "<table border=\"1\" class=\"dataframe\">\n",
       "  <thead>\n",
       "    <tr style=\"text-align: right;\">\n",
       "      <th></th>\n",
       "      <th>lossVals</th>\n",
       "      <th>estVals</th>\n",
       "      <th>dpthVals</th>\n",
       "    </tr>\n",
       "  </thead>\n",
       "  <tbody>\n",
       "  </tbody>\n",
       "</table>\n",
       "</div>"
      ],
      "text/plain": [
       "Empty DataFrame\n",
       "Columns: [lossVals, estVals, dpthVals]\n",
       "Index: []"
      ]
     },
     "execution_count": 19,
     "metadata": {},
     "output_type": "execute_result"
    }
   ],
   "source": [
    "results = pd.DataFrame()\n",
    "for key, value in ranges.items():\n",
    "    print (key)\n",
    "    print (value)\n",
    "    results[key]=0\n",
    "    \n",
    "    # add Columns to data frame with titles\n",
    "results    "
   ]
  },
  {
   "cell_type": "code",
   "execution_count": 18,
   "metadata": {},
   "outputs": [
    {
     "data": {
      "text/html": [
       "<div>\n",
       "<style>\n",
       "    .dataframe thead tr:only-child th {\n",
       "        text-align: right;\n",
       "    }\n",
       "\n",
       "    .dataframe thead th {\n",
       "        text-align: left;\n",
       "    }\n",
       "\n",
       "    .dataframe tbody tr th {\n",
       "        vertical-align: top;\n",
       "    }\n",
       "</style>\n",
       "<table border=\"1\" class=\"dataframe\">\n",
       "  <thead>\n",
       "    <tr style=\"text-align: right;\">\n",
       "      <th></th>\n",
       "      <th>lossVals</th>\n",
       "      <th>estVals</th>\n",
       "      <th>dpthVals</th>\n",
       "    </tr>\n",
       "  </thead>\n",
       "  <tbody>\n",
       "  </tbody>\n",
       "</table>\n",
       "</div>"
      ],
      "text/plain": [
       "Empty DataFrame\n",
       "Columns: [lossVals, estVals, dpthVals]\n",
       "Index: []"
      ]
     },
     "execution_count": 18,
     "metadata": {},
     "output_type": "execute_result"
    }
   ],
   "source": [
    "results"
   ]
  },
  {
   "cell_type": "code",
   "execution_count": null,
   "metadata": {
    "collapsed": true
   },
   "outputs": [],
   "source": []
  },
  {
   "cell_type": "code",
   "execution_count": null,
   "metadata": {
    "collapsed": true
   },
   "outputs": [],
   "source": []
  },
  {
   "cell_type": "code",
   "execution_count": 56,
   "metadata": {
    "collapsed": true
   },
   "outputs": [],
   "source": [
    "def checkFunc(**ranges):\n",
    "    print (ranges['lossVals'])\n",
    "    for l in ranges['lossVals']:\n",
    "        for d in ranges['dpthVals']:\n",
    "            for e in ranges['estVals']:\n",
    "                print (l+str(d)+str(e))\n",
    "    "
   ]
  },
  {
   "cell_type": "code",
   "execution_count": 57,
   "metadata": {},
   "outputs": [
    {
     "name": "stdout",
     "output_type": "stream",
     "text": [
      "['exponential', 'deviance']\n",
      "exponential2400\n",
      "exponential2450\n",
      "exponential2500\n",
      "exponential2550\n",
      "exponential4400\n",
      "exponential4450\n",
      "exponential4500\n",
      "exponential4550\n",
      "exponential6400\n",
      "exponential6450\n",
      "exponential6500\n",
      "exponential6550\n",
      "exponential8400\n",
      "exponential8450\n",
      "exponential8500\n",
      "exponential8550\n",
      "deviance2400\n",
      "deviance2450\n",
      "deviance2500\n",
      "deviance2550\n",
      "deviance4400\n",
      "deviance4450\n",
      "deviance4500\n",
      "deviance4550\n",
      "deviance6400\n",
      "deviance6450\n",
      "deviance6500\n",
      "deviance6550\n",
      "deviance8400\n",
      "deviance8450\n",
      "deviance8500\n",
      "deviance8550\n"
     ]
    }
   ],
   "source": [
    "checkFunc(**ranges)"
   ]
  },
  {
   "cell_type": "code",
   "execution_count": 33,
   "metadata": {},
   "outputs": [
    {
     "name": "stdout",
     "output_type": "stream",
     "text": [
      "exponential2400\n",
      "exponential2450\n",
      "exponential2500\n",
      "exponential2550\n",
      "exponential4400\n",
      "exponential4450\n",
      "exponential4500\n",
      "exponential4550\n",
      "exponential6400\n",
      "exponential6450\n",
      "exponential6500\n",
      "exponential6550\n",
      "exponential8400\n",
      "exponential8450\n",
      "exponential8500\n",
      "exponential8550\n",
      "deviance2400\n",
      "deviance2450\n",
      "deviance2500\n",
      "deviance2550\n",
      "deviance4400\n",
      "deviance4450\n",
      "deviance4500\n",
      "deviance4550\n",
      "deviance6400\n",
      "deviance6450\n",
      "deviance6500\n",
      "deviance6550\n",
      "deviance8400\n",
      "deviance8450\n",
      "deviance8500\n",
      "deviance8550\n"
     ]
    }
   ],
   "source": [
    "for l in lossVals:\n",
    "    for d in dpthVals:\n",
    "        for e in estVals:\n",
    "            print (l+str(d)+str(e))"
   ]
  },
  {
   "cell_type": "markdown",
   "metadata": {},
   "source": [
    "# Use Other Method to Choose Features"
   ]
  },
  {
   "cell_type": "markdown",
   "metadata": {},
   "source": [
    "# Use Method to get Baseline"
   ]
  },
  {
   "cell_type": "code",
   "execution_count": 723,
   "metadata": {
    "collapsed": true
   },
   "outputs": [],
   "source": [
    "from sklearn import tree\n",
    "from sklearn.model_selection import cross_val_score\n",
    "import time\n",
    "from sklearn import ensemble\n",
    "from sklearn import linear_model\n",
    "from sklearn.model_selection import cross_val_score \n",
    "from IPython.display import clear_output\n",
    "\n",
    "class Tuner():\n",
    "    \n",
    "    def __init__(self,X,y,cvFolds=10, **tunerRanges):\n",
    "        self.X = X\n",
    "        self.y = y\n",
    "        self.cvFolds = cvFolds\n",
    "        self.results = pd.DataFrame(columns=['Name', 'Accuracy', 'Range', 'CrossValScores'])\n",
    "        self.setTunerSpecific(**tunerRanges)\n",
    "        self.genResults()\n",
    "    \n",
    "    def DisplayResultsGraph(self):\n",
    "        labels = []\n",
    "        widthscale = self.results.shape[0]/4\n",
    "        if widthscale < 8:\n",
    "            widthscale = 8\n",
    "        plt.figure(figsize=(widthscale,6))\n",
    "        plt.plot(self.results['Accuracy'])\n",
    "        labels.append('Accuracy')\n",
    "        plt.plot(self.results['Accuracy'] + self.results['Range'])\n",
    "        labels.append('Accuracy + Range')\n",
    "        plt.legend(labels)\n",
    "        plt.xticks(np.arange(self.results.shape[0]), (dataResults['Name']),rotation=90)\n",
    "        plt.show()\n",
    "    \n",
    "    def DisplayResultsSummary(self):\n",
    "        resultSortAcc = self.results.sort_values('Accuracy', ascending=False)\n",
    "        resultSortRan = self.results.sort_values('Range', ascending=True)\n",
    "        \n",
    "        print(\"Highest Accuracy\")\n",
    "        display(resultSortAcc.head())\n",
    "        \n",
    "        print(\"\\nLowest Range\")\n",
    "        display(resultSortRan.head())\n",
    "        \n",
    "    def FullResult(self):\n",
    "        self.DisplayResultsGraph()\n",
    "        self.DisplayResultsSummary()\n",
    "        \n",
    "    def disBox(self):\n",
    "        plt.boxplot(self.results)\n",
    "        ax.set_xticklabels(names)\n",
    "        plt.setp(ax.get_xticklabels(), rotation=90)\n",
    "        plt.show()\n",
    "                    \n",
    "class GradientBoostTuner(Tuner):\n",
    "    \n",
    "    def setTunerSpecific(self,**tunerRanges):\n",
    "        paramList = itertools.product(\n",
    "            ranges['loss'], \n",
    "            ranges['n_esitmators'], \n",
    "            ranges['max_depth'])\n",
    "        self.__setParamsResultList(paramList)\n",
    "        \n",
    "    def __setParamsResultList(self,paramList):\n",
    "        for i in paramList:\n",
    "            name = \"{0} d:{1} e:{2}\".format(i[0][:1],i[1],i[2])\n",
    "            self.results = self.results.append({'Name':name, \n",
    "                            'loss':i[0],\n",
    "                           'n_estimators':i[1],\n",
    "                           'max_depth':i[2]}, ignore_index=True)\n",
    "            \n",
    "    \n",
    "    def __getCrossVal(self,loss, depth, estimators):\n",
    "        params = {'n_estimators': int(estimators),\n",
    "                 'max_depth': int(depth),\n",
    "                 'loss': loss}\n",
    "        gb = ensemble.GradientBoostingClassifier(**params)\n",
    "        cvs = cross_val_score(gb,self.X,self.y,cv=self.cvFolds)\n",
    "        return cvs\n",
    "    \n",
    "    def genResults(self): \n",
    "        totIter = self.results.shape[0]\n",
    "        c=1\n",
    "        for index,row in self.results.iterrows():\n",
    "            params = {'n_estimators': int(row.n_estimators),\n",
    "                     'max_depth': int(row.max_depth),\n",
    "                     'loss': row.loss}\n",
    "            gb = ensemble.GradientBoostingClassifier(**params)\n",
    "            cvs = cross_val_score(gb,self.X,self.y,cv=self.cvFolds)\n",
    "            self.results.set_value(index,'CrossValScores', cvs)\n",
    "            self.results.set_value(index,'Accuracy', np.mean(cvs))\n",
    "            self.results.set_value(index,'Range', max(cvs)-min(cvs))\n",
    "            clear_output()\n",
    "            print (\"{:.0%} {}\".format((c/totIter), self.results.iloc[index].Name))\n",
    "            c += 1\n",
    "        self.results = self.results.sort_values(['Accuracy'], axis=0)\n",
    "        self.results = self.results.reset_index(drop=True)"
   ]
  },
  {
   "cell_type": "code",
   "execution_count": 732,
   "metadata": {
    "collapsed": true
   },
   "outputs": [],
   "source": [
    "ranges = {'loss': ['exponential', 'deviance'],\n",
    "    'n_esitmators': range(500,800,50),\n",
    "    'max_depth': range(1,10,1)}\n",
    "\n",
    "#ranges = {'loss': ['exponential', 'deviance'],\n",
    "#    'n_esitmators': range(600,800,100),\n",
    "#    'max_depth': range(2,10,4)}"
   ]
  },
  {
   "cell_type": "code",
   "execution_count": null,
   "metadata": {},
   "outputs": [
    {
     "name": "stdout",
     "output_type": "stream",
     "text": [
      "66% d d:550 e:8\n"
     ]
    }
   ],
   "source": [
    "gradBoostTuner5 = GradientBoostTuner(X,y,cvFolds=3,**ranges)"
   ]
  },
  {
   "cell_type": "code",
   "execution_count": null,
   "metadata": {
    "collapsed": true
   },
   "outputs": [],
   "source": [
    "gradBoostTuner5.FullResult()"
   ]
  },
  {
   "cell_type": "code",
   "execution_count": 729,
   "metadata": {},
   "outputs": [
    {
     "data": {
      "image/png": "[encoded data removed]",
      "text/plain": [
       "<matplotlib.figure.Figure at 0x1a16aaa1d0>"
      ]
     },
     "metadata": {},
     "output_type": "display_data"
    },
    {
     "name": "stdout",
     "output_type": "stream",
     "text": [
      "Highest Accuracy\n"
     ]
    },
    {
     "data": {
      "text/html": [
       "<div>\n",
       "<style>\n",
       "    .dataframe thead tr:only-child th {\n",
       "        text-align: right;\n",
       "    }\n",
       "\n",
       "    .dataframe thead th {\n",
       "        text-align: left;\n",
       "    }\n",
       "\n",
       "    .dataframe tbody tr th {\n",
       "        vertical-align: top;\n",
       "    }\n",
       "</style>\n",
       "<table border=\"1\" class=\"dataframe\">\n",
       "  <thead>\n",
       "    <tr style=\"text-align: right;\">\n",
       "      <th></th>\n",
       "      <th>Name</th>\n",
       "      <th>Accuracy</th>\n",
       "      <th>Range</th>\n",
       "      <th>CrossValScores</th>\n",
       "      <th>loss</th>\n",
       "      <th>max_depth</th>\n",
       "      <th>n_estimators</th>\n",
       "    </tr>\n",
       "  </thead>\n",
       "  <tbody>\n",
       "    <tr>\n",
       "      <th>7</th>\n",
       "      <td>d d:600 e:2</td>\n",
       "      <td>0.741868</td>\n",
       "      <td>0.00165506</td>\n",
       "      <td>[0.741040746195, 0.74269580162]</td>\n",
       "      <td>deviance</td>\n",
       "      <td>2.0</td>\n",
       "      <td>600.0</td>\n",
       "    </tr>\n",
       "    <tr>\n",
       "      <th>6</th>\n",
       "      <td>e d:700 e:2</td>\n",
       "      <td>0.739904</td>\n",
       "      <td>0.00361849</td>\n",
       "      <td>[0.738095238095, 0.741713724527]</td>\n",
       "      <td>exponential</td>\n",
       "      <td>2.0</td>\n",
       "      <td>700.0</td>\n",
       "    </tr>\n",
       "    <tr>\n",
       "      <th>5</th>\n",
       "      <td>d d:700 e:2</td>\n",
       "      <td>0.739904</td>\n",
       "      <td>0.00165457</td>\n",
       "      <td>[0.739077074129, 0.740731647434]</td>\n",
       "      <td>deviance</td>\n",
       "      <td>2.0</td>\n",
       "      <td>700.0</td>\n",
       "    </tr>\n",
       "    <tr>\n",
       "      <th>4</th>\n",
       "      <td>e d:600 e:2</td>\n",
       "      <td>0.739659</td>\n",
       "      <td>0.00263647</td>\n",
       "      <td>[0.738340697104, 0.740977166708]</td>\n",
       "      <td>exponential</td>\n",
       "      <td>2.0</td>\n",
       "      <td>600.0</td>\n",
       "    </tr>\n",
       "    <tr>\n",
       "      <th>3</th>\n",
       "      <td>e d:600 e:6</td>\n",
       "      <td>0.717443</td>\n",
       "      <td>0.0102412</td>\n",
       "      <td>[0.712322042219, 0.722563221213]</td>\n",
       "      <td>exponential</td>\n",
       "      <td>6.0</td>\n",
       "      <td>600.0</td>\n",
       "    </tr>\n",
       "  </tbody>\n",
       "</table>\n",
       "</div>"
      ],
      "text/plain": [
       "          Name  Accuracy       Range                    CrossValScores  \\\n",
       "7  d d:600 e:2  0.741868  0.00165506   [0.741040746195, 0.74269580162]   \n",
       "6  e d:700 e:2  0.739904  0.00361849  [0.738095238095, 0.741713724527]   \n",
       "5  d d:700 e:2  0.739904  0.00165457  [0.739077074129, 0.740731647434]   \n",
       "4  e d:600 e:2  0.739659  0.00263647  [0.738340697104, 0.740977166708]   \n",
       "3  e d:600 e:6  0.717443   0.0102412  [0.712322042219, 0.722563221213]   \n",
       "\n",
       "          loss  max_depth  n_estimators  \n",
       "7     deviance        2.0         600.0  \n",
       "6  exponential        2.0         700.0  \n",
       "5     deviance        2.0         700.0  \n",
       "4  exponential        2.0         600.0  \n",
       "3  exponential        6.0         600.0  "
      ]
     },
     "metadata": {},
     "output_type": "display_data"
    },
    {
     "name": "stdout",
     "output_type": "stream",
     "text": [
      "\n",
      "Lowest Range\n"
     ]
    },
    {
     "data": {
      "text/html": [
       "<div>\n",
       "<style>\n",
       "    .dataframe thead tr:only-child th {\n",
       "        text-align: right;\n",
       "    }\n",
       "\n",
       "    .dataframe thead th {\n",
       "        text-align: left;\n",
       "    }\n",
       "\n",
       "    .dataframe tbody tr th {\n",
       "        vertical-align: top;\n",
       "    }\n",
       "</style>\n",
       "<table border=\"1\" class=\"dataframe\">\n",
       "  <thead>\n",
       "    <tr style=\"text-align: right;\">\n",
       "      <th></th>\n",
       "      <th>Name</th>\n",
       "      <th>Accuracy</th>\n",
       "      <th>Range</th>\n",
       "      <th>CrossValScores</th>\n",
       "      <th>loss</th>\n",
       "      <th>max_depth</th>\n",
       "      <th>n_estimators</th>\n",
       "    </tr>\n",
       "  </thead>\n",
       "  <tbody>\n",
       "    <tr>\n",
       "      <th>0</th>\n",
       "      <td>e d:700 e:6</td>\n",
       "      <td>0.715969</td>\n",
       "      <td>0.00105168</td>\n",
       "      <td>[0.716494845361, 0.715443162288]</td>\n",
       "      <td>exponential</td>\n",
       "      <td>6.0</td>\n",
       "      <td>700.0</td>\n",
       "    </tr>\n",
       "    <tr>\n",
       "      <th>5</th>\n",
       "      <td>d d:700 e:2</td>\n",
       "      <td>0.739904</td>\n",
       "      <td>0.00165457</td>\n",
       "      <td>[0.739077074129, 0.740731647434]</td>\n",
       "      <td>deviance</td>\n",
       "      <td>2.0</td>\n",
       "      <td>700.0</td>\n",
       "    </tr>\n",
       "    <tr>\n",
       "      <th>7</th>\n",
       "      <td>d d:600 e:2</td>\n",
       "      <td>0.741868</td>\n",
       "      <td>0.00165506</td>\n",
       "      <td>[0.741040746195, 0.74269580162]</td>\n",
       "      <td>deviance</td>\n",
       "      <td>2.0</td>\n",
       "      <td>600.0</td>\n",
       "    </tr>\n",
       "    <tr>\n",
       "      <th>4</th>\n",
       "      <td>e d:600 e:2</td>\n",
       "      <td>0.739659</td>\n",
       "      <td>0.00263647</td>\n",
       "      <td>[0.738340697104, 0.740977166708]</td>\n",
       "      <td>exponential</td>\n",
       "      <td>2.0</td>\n",
       "      <td>600.0</td>\n",
       "    </tr>\n",
       "    <tr>\n",
       "      <th>1</th>\n",
       "      <td>d d:600 e:6</td>\n",
       "      <td>0.716951</td>\n",
       "      <td>0.00287638</td>\n",
       "      <td>[0.715513009327, 0.718389393567]</td>\n",
       "      <td>deviance</td>\n",
       "      <td>6.0</td>\n",
       "      <td>600.0</td>\n",
       "    </tr>\n",
       "  </tbody>\n",
       "</table>\n",
       "</div>"
      ],
      "text/plain": [
       "          Name  Accuracy       Range                    CrossValScores  \\\n",
       "0  e d:700 e:6  0.715969  0.00105168  [0.716494845361, 0.715443162288]   \n",
       "5  d d:700 e:2  0.739904  0.00165457  [0.739077074129, 0.740731647434]   \n",
       "7  d d:600 e:2  0.741868  0.00165506   [0.741040746195, 0.74269580162]   \n",
       "4  e d:600 e:2  0.739659  0.00263647  [0.738340697104, 0.740977166708]   \n",
       "1  d d:600 e:6  0.716951  0.00287638  [0.715513009327, 0.718389393567]   \n",
       "\n",
       "          loss  max_depth  n_estimators  \n",
       "0  exponential        6.0         700.0  \n",
       "5     deviance        2.0         700.0  \n",
       "7     deviance        2.0         600.0  \n",
       "4  exponential        2.0         600.0  \n",
       "1     deviance        6.0         600.0  "
      ]
     },
     "metadata": {},
     "output_type": "display_data"
    }
   ],
   "source": []
  },
  {
   "cell_type": "code",
   "execution_count": 728,
   "metadata": {},
   "outputs": [
    {
     "data": {
      "image/png": "[encoded data removed]",
      "text/plain": [
       "<matplotlib.figure.Figure at 0x1a16bc13c8>"
      ]
     },
     "metadata": {},
     "output_type": "display_data"
    },
    {
     "name": "stdout",
     "output_type": "stream",
     "text": [
      "Highest Accuracy\n"
     ]
    },
    {
     "data": {
      "text/html": [
       "<div>\n",
       "<style>\n",
       "    .dataframe thead tr:only-child th {\n",
       "        text-align: right;\n",
       "    }\n",
       "\n",
       "    .dataframe thead th {\n",
       "        text-align: left;\n",
       "    }\n",
       "\n",
       "    .dataframe tbody tr th {\n",
       "        vertical-align: top;\n",
       "    }\n",
       "</style>\n",
       "<table border=\"1\" class=\"dataframe\">\n",
       "  <thead>\n",
       "    <tr style=\"text-align: right;\">\n",
       "      <th></th>\n",
       "      <th>Name</th>\n",
       "      <th>Accuracy</th>\n",
       "      <th>Range</th>\n",
       "      <th>CrossValScores</th>\n",
       "      <th>loss</th>\n",
       "      <th>max_depth</th>\n",
       "      <th>n_estimators</th>\n",
       "    </tr>\n",
       "  </thead>\n",
       "  <tbody>\n",
       "    <tr>\n",
       "      <th>7</th>\n",
       "      <td>d d:600 e:2</td>\n",
       "      <td>0.683205</td>\n",
       "      <td>0.139452</td>\n",
       "      <td>[0.611929307806, 0.686303387334, 0.75138121547]</td>\n",
       "      <td>deviance</td>\n",
       "      <td>2.0</td>\n",
       "      <td>600.0</td>\n",
       "    </tr>\n",
       "    <tr>\n",
       "      <th>6</th>\n",
       "      <td>d d:700 e:2</td>\n",
       "      <td>0.680995</td>\n",
       "      <td>0.135401</td>\n",
       "      <td>[0.613402061856, 0.680780559647, 0.748802946593]</td>\n",
       "      <td>deviance</td>\n",
       "      <td>2.0</td>\n",
       "      <td>700.0</td>\n",
       "    </tr>\n",
       "    <tr>\n",
       "      <th>5</th>\n",
       "      <td>d d:700 e:6</td>\n",
       "      <td>0.679274</td>\n",
       "      <td>0.115509</td>\n",
       "      <td>[0.60824742268, 0.705817378498, 0.723756906077]</td>\n",
       "      <td>deviance</td>\n",
       "      <td>6.0</td>\n",
       "      <td>700.0</td>\n",
       "    </tr>\n",
       "    <tr>\n",
       "      <th>4</th>\n",
       "      <td>d d:600 e:6</td>\n",
       "      <td>0.67866</td>\n",
       "      <td>0.116982</td>\n",
       "      <td>[0.60677466863, 0.705449189985, 0.723756906077]</td>\n",
       "      <td>deviance</td>\n",
       "      <td>6.0</td>\n",
       "      <td>600.0</td>\n",
       "    </tr>\n",
       "    <tr>\n",
       "      <th>3</th>\n",
       "      <td>e d:700 e:6</td>\n",
       "      <td>0.675101</td>\n",
       "      <td>0.124347</td>\n",
       "      <td>[0.60088365243, 0.699189985272, 0.725230202578]</td>\n",
       "      <td>exponential</td>\n",
       "      <td>6.0</td>\n",
       "      <td>700.0</td>\n",
       "    </tr>\n",
       "  </tbody>\n",
       "</table>\n",
       "</div>"
      ],
      "text/plain": [
       "          Name  Accuracy     Range  \\\n",
       "7  d d:600 e:2  0.683205  0.139452   \n",
       "6  d d:700 e:2  0.680995  0.135401   \n",
       "5  d d:700 e:6  0.679274  0.115509   \n",
       "4  d d:600 e:6   0.67866  0.116982   \n",
       "3  e d:700 e:6  0.675101  0.124347   \n",
       "\n",
       "                                     CrossValScores         loss  max_depth  \\\n",
       "7   [0.611929307806, 0.686303387334, 0.75138121547]     deviance        2.0   \n",
       "6  [0.613402061856, 0.680780559647, 0.748802946593]     deviance        2.0   \n",
       "5   [0.60824742268, 0.705817378498, 0.723756906077]     deviance        6.0   \n",
       "4   [0.60677466863, 0.705449189985, 0.723756906077]     deviance        6.0   \n",
       "3   [0.60088365243, 0.699189985272, 0.725230202578]  exponential        6.0   \n",
       "\n",
       "   n_estimators  \n",
       "7         600.0  \n",
       "6         700.0  \n",
       "5         700.0  \n",
       "4         600.0  \n",
       "3         700.0  "
      ]
     },
     "metadata": {},
     "output_type": "display_data"
    },
    {
     "name": "stdout",
     "output_type": "stream",
     "text": [
      "\n",
      "Lowest Range\n"
     ]
    },
    {
     "data": {
      "text/html": [
       "<div>\n",
       "<style>\n",
       "    .dataframe thead tr:only-child th {\n",
       "        text-align: right;\n",
       "    }\n",
       "\n",
       "    .dataframe thead th {\n",
       "        text-align: left;\n",
       "    }\n",
       "\n",
       "    .dataframe tbody tr th {\n",
       "        vertical-align: top;\n",
       "    }\n",
       "</style>\n",
       "<table border=\"1\" class=\"dataframe\">\n",
       "  <thead>\n",
       "    <tr style=\"text-align: right;\">\n",
       "      <th></th>\n",
       "      <th>Name</th>\n",
       "      <th>Accuracy</th>\n",
       "      <th>Range</th>\n",
       "      <th>CrossValScores</th>\n",
       "      <th>loss</th>\n",
       "      <th>max_depth</th>\n",
       "      <th>n_estimators</th>\n",
       "    </tr>\n",
       "  </thead>\n",
       "  <tbody>\n",
       "    <tr>\n",
       "      <th>5</th>\n",
       "      <td>d d:700 e:6</td>\n",
       "      <td>0.679274</td>\n",
       "      <td>0.115509</td>\n",
       "      <td>[0.60824742268, 0.705817378498, 0.723756906077]</td>\n",
       "      <td>deviance</td>\n",
       "      <td>6.0</td>\n",
       "      <td>700.0</td>\n",
       "    </tr>\n",
       "    <tr>\n",
       "      <th>4</th>\n",
       "      <td>d d:600 e:6</td>\n",
       "      <td>0.67866</td>\n",
       "      <td>0.116982</td>\n",
       "      <td>[0.60677466863, 0.705449189985, 0.723756906077]</td>\n",
       "      <td>deviance</td>\n",
       "      <td>6.0</td>\n",
       "      <td>600.0</td>\n",
       "    </tr>\n",
       "    <tr>\n",
       "      <th>0</th>\n",
       "      <td>e d:600 e:6</td>\n",
       "      <td>0.673014</td>\n",
       "      <td>0.119558</td>\n",
       "      <td>[0.59941089838, 0.700662739323, 0.718968692449]</td>\n",
       "      <td>exponential</td>\n",
       "      <td>6.0</td>\n",
       "      <td>600.0</td>\n",
       "    </tr>\n",
       "    <tr>\n",
       "      <th>3</th>\n",
       "      <td>e d:700 e:6</td>\n",
       "      <td>0.675101</td>\n",
       "      <td>0.124347</td>\n",
       "      <td>[0.60088365243, 0.699189985272, 0.725230202578]</td>\n",
       "      <td>exponential</td>\n",
       "      <td>6.0</td>\n",
       "      <td>700.0</td>\n",
       "    </tr>\n",
       "    <tr>\n",
       "      <th>1</th>\n",
       "      <td>e d:700 e:2</td>\n",
       "      <td>0.673508</td>\n",
       "      <td>0.128772</td>\n",
       "      <td>[0.616715758468, 0.658321060383, 0.745488029466]</td>\n",
       "      <td>exponential</td>\n",
       "      <td>2.0</td>\n",
       "      <td>700.0</td>\n",
       "    </tr>\n",
       "  </tbody>\n",
       "</table>\n",
       "</div>"
      ],
      "text/plain": [
       "          Name  Accuracy     Range  \\\n",
       "5  d d:700 e:6  0.679274  0.115509   \n",
       "4  d d:600 e:6   0.67866  0.116982   \n",
       "0  e d:600 e:6  0.673014  0.119558   \n",
       "3  e d:700 e:6  0.675101  0.124347   \n",
       "1  e d:700 e:2  0.673508  0.128772   \n",
       "\n",
       "                                     CrossValScores         loss  max_depth  \\\n",
       "5   [0.60824742268, 0.705817378498, 0.723756906077]     deviance        6.0   \n",
       "4   [0.60677466863, 0.705449189985, 0.723756906077]     deviance        6.0   \n",
       "0   [0.59941089838, 0.700662739323, 0.718968692449]  exponential        6.0   \n",
       "3   [0.60088365243, 0.699189985272, 0.725230202578]  exponential        6.0   \n",
       "1  [0.616715758468, 0.658321060383, 0.745488029466]  exponential        2.0   \n",
       "\n",
       "   n_estimators  \n",
       "5         700.0  \n",
       "4         600.0  \n",
       "0         600.0  \n",
       "3         700.0  \n",
       "1         700.0  "
      ]
     },
     "metadata": {},
     "output_type": "display_data"
    }
   ],
   "source": [
    "gradBoostTuner3.FullResult()"
   ]
  },
  {
   "cell_type": "code",
   "execution_count": 726,
   "metadata": {},
   "outputs": [
    {
     "data": {
      "image/png": "[encoded data removed]",
      "text/plain": [
       "<matplotlib.figure.Figure at 0x1a16ae9f28>"
      ]
     },
     "metadata": {},
     "output_type": "display_data"
    },
    {
     "name": "stdout",
     "output_type": "stream",
     "text": [
      "Highest Accuracy\n"
     ]
    },
    {
     "data": {
      "text/html": [
       "<div>\n",
       "<style>\n",
       "    .dataframe thead tr:only-child th {\n",
       "        text-align: right;\n",
       "    }\n",
       "\n",
       "    .dataframe thead th {\n",
       "        text-align: left;\n",
       "    }\n",
       "\n",
       "    .dataframe tbody tr th {\n",
       "        vertical-align: top;\n",
       "    }\n",
       "</style>\n",
       "<table border=\"1\" class=\"dataframe\">\n",
       "  <thead>\n",
       "    <tr style=\"text-align: right;\">\n",
       "      <th></th>\n",
       "      <th>Name</th>\n",
       "      <th>Accuracy</th>\n",
       "      <th>Range</th>\n",
       "      <th>CrossValScores</th>\n",
       "      <th>loss</th>\n",
       "      <th>max_depth</th>\n",
       "      <th>n_estimators</th>\n",
       "    </tr>\n",
       "  </thead>\n",
       "  <tbody>\n",
       "    <tr>\n",
       "      <th>7</th>\n",
       "      <td>d d:600 e:2</td>\n",
       "      <td>0.741868</td>\n",
       "      <td>0.00165506</td>\n",
       "      <td>[0.741040746195, 0.74269580162]</td>\n",
       "      <td>deviance</td>\n",
       "      <td>2.0</td>\n",
       "      <td>600.0</td>\n",
       "    </tr>\n",
       "    <tr>\n",
       "      <th>6</th>\n",
       "      <td>e d:700 e:2</td>\n",
       "      <td>0.739904</td>\n",
       "      <td>0.00361849</td>\n",
       "      <td>[0.738095238095, 0.741713724527]</td>\n",
       "      <td>exponential</td>\n",
       "      <td>2.0</td>\n",
       "      <td>700.0</td>\n",
       "    </tr>\n",
       "    <tr>\n",
       "      <th>5</th>\n",
       "      <td>d d:700 e:2</td>\n",
       "      <td>0.739904</td>\n",
       "      <td>0.00165457</td>\n",
       "      <td>[0.739077074129, 0.740731647434]</td>\n",
       "      <td>deviance</td>\n",
       "      <td>2.0</td>\n",
       "      <td>700.0</td>\n",
       "    </tr>\n",
       "    <tr>\n",
       "      <th>4</th>\n",
       "      <td>e d:600 e:2</td>\n",
       "      <td>0.739659</td>\n",
       "      <td>0.00263647</td>\n",
       "      <td>[0.738340697104, 0.740977166708]</td>\n",
       "      <td>exponential</td>\n",
       "      <td>2.0</td>\n",
       "      <td>600.0</td>\n",
       "    </tr>\n",
       "    <tr>\n",
       "      <th>3</th>\n",
       "      <td>e d:600 e:6</td>\n",
       "      <td>0.717443</td>\n",
       "      <td>0.0102412</td>\n",
       "      <td>[0.712322042219, 0.722563221213]</td>\n",
       "      <td>exponential</td>\n",
       "      <td>6.0</td>\n",
       "      <td>600.0</td>\n",
       "    </tr>\n",
       "  </tbody>\n",
       "</table>\n",
       "</div>"
      ],
      "text/plain": [
       "          Name  Accuracy       Range                    CrossValScores  \\\n",
       "7  d d:600 e:2  0.741868  0.00165506   [0.741040746195, 0.74269580162]   \n",
       "6  e d:700 e:2  0.739904  0.00361849  [0.738095238095, 0.741713724527]   \n",
       "5  d d:700 e:2  0.739904  0.00165457  [0.739077074129, 0.740731647434]   \n",
       "4  e d:600 e:2  0.739659  0.00263647  [0.738340697104, 0.740977166708]   \n",
       "3  e d:600 e:6  0.717443   0.0102412  [0.712322042219, 0.722563221213]   \n",
       "\n",
       "          loss  max_depth  n_estimators  \n",
       "7     deviance        2.0         600.0  \n",
       "6  exponential        2.0         700.0  \n",
       "5     deviance        2.0         700.0  \n",
       "4  exponential        2.0         600.0  \n",
       "3  exponential        6.0         600.0  "
      ]
     },
     "metadata": {},
     "output_type": "display_data"
    },
    {
     "name": "stdout",
     "output_type": "stream",
     "text": [
      "\n",
      "Lowest Range\n"
     ]
    },
    {
     "data": {
      "text/html": [
       "<div>\n",
       "<style>\n",
       "    .dataframe thead tr:only-child th {\n",
       "        text-align: right;\n",
       "    }\n",
       "\n",
       "    .dataframe thead th {\n",
       "        text-align: left;\n",
       "    }\n",
       "\n",
       "    .dataframe tbody tr th {\n",
       "        vertical-align: top;\n",
       "    }\n",
       "</style>\n",
       "<table border=\"1\" class=\"dataframe\">\n",
       "  <thead>\n",
       "    <tr style=\"text-align: right;\">\n",
       "      <th></th>\n",
       "      <th>Name</th>\n",
       "      <th>Accuracy</th>\n",
       "      <th>Range</th>\n",
       "      <th>CrossValScores</th>\n",
       "      <th>loss</th>\n",
       "      <th>max_depth</th>\n",
       "      <th>n_estimators</th>\n",
       "    </tr>\n",
       "  </thead>\n",
       "  <tbody>\n",
       "    <tr>\n",
       "      <th>0</th>\n",
       "      <td>e d:700 e:6</td>\n",
       "      <td>0.715969</td>\n",
       "      <td>0.00105168</td>\n",
       "      <td>[0.716494845361, 0.715443162288]</td>\n",
       "      <td>exponential</td>\n",
       "      <td>6.0</td>\n",
       "      <td>700.0</td>\n",
       "    </tr>\n",
       "    <tr>\n",
       "      <th>5</th>\n",
       "      <td>d d:700 e:2</td>\n",
       "      <td>0.739904</td>\n",
       "      <td>0.00165457</td>\n",
       "      <td>[0.739077074129, 0.740731647434]</td>\n",
       "      <td>deviance</td>\n",
       "      <td>2.0</td>\n",
       "      <td>700.0</td>\n",
       "    </tr>\n",
       "    <tr>\n",
       "      <th>7</th>\n",
       "      <td>d d:600 e:2</td>\n",
       "      <td>0.741868</td>\n",
       "      <td>0.00165506</td>\n",
       "      <td>[0.741040746195, 0.74269580162]</td>\n",
       "      <td>deviance</td>\n",
       "      <td>2.0</td>\n",
       "      <td>600.0</td>\n",
       "    </tr>\n",
       "    <tr>\n",
       "      <th>4</th>\n",
       "      <td>e d:600 e:2</td>\n",
       "      <td>0.739659</td>\n",
       "      <td>0.00263647</td>\n",
       "      <td>[0.738340697104, 0.740977166708]</td>\n",
       "      <td>exponential</td>\n",
       "      <td>2.0</td>\n",
       "      <td>600.0</td>\n",
       "    </tr>\n",
       "    <tr>\n",
       "      <th>1</th>\n",
       "      <td>d d:600 e:6</td>\n",
       "      <td>0.716951</td>\n",
       "      <td>0.00287638</td>\n",
       "      <td>[0.715513009327, 0.718389393567]</td>\n",
       "      <td>deviance</td>\n",
       "      <td>6.0</td>\n",
       "      <td>600.0</td>\n",
       "    </tr>\n",
       "  </tbody>\n",
       "</table>\n",
       "</div>"
      ],
      "text/plain": [
       "          Name  Accuracy       Range                    CrossValScores  \\\n",
       "0  e d:700 e:6  0.715969  0.00105168  [0.716494845361, 0.715443162288]   \n",
       "5  d d:700 e:2  0.739904  0.00165457  [0.739077074129, 0.740731647434]   \n",
       "7  d d:600 e:2  0.741868  0.00165506   [0.741040746195, 0.74269580162]   \n",
       "4  e d:600 e:2  0.739659  0.00263647  [0.738340697104, 0.740977166708]   \n",
       "1  d d:600 e:6  0.716951  0.00287638  [0.715513009327, 0.718389393567]   \n",
       "\n",
       "          loss  max_depth  n_estimators  \n",
       "0  exponential        6.0         700.0  \n",
       "5     deviance        2.0         700.0  \n",
       "7     deviance        2.0         600.0  \n",
       "4  exponential        2.0         600.0  \n",
       "1     deviance        6.0         600.0  "
      ]
     },
     "metadata": {},
     "output_type": "display_data"
    }
   ],
   "source": [
    "gradBoostTuner.FullResult()"
   ]
  },
  {
   "cell_type": "code",
   "execution_count": 704,
   "metadata": {
    "collapsed": true
   },
   "outputs": [],
   "source": [
    "dataResults = pd.DataFrame()\n",
    "dataResults = gradBoostTuner.results"
   ]
  },
  {
   "cell_type": "code",
   "execution_count": 706,
   "metadata": {
    "collapsed": true
   },
   "outputs": [],
   "source": [
    "dataResults = dataResults.sort_values(['Accuracy'], axis=0)"
   ]
  },
  {
   "cell_type": "code",
   "execution_count": 707,
   "metadata": {},
   "outputs": [
    {
     "data": {
      "image/png": "[encoded data removed]",
      "text/plain": [
       "<matplotlib.figure.Figure at 0x1a1660fa20>"
      ]
     },
     "metadata": {},
     "output_type": "display_data"
    }
   ],
   "source": [
    "labels = []\n",
    "widthscale = dataResults.shape[0]/4\n",
    "if widthscale < 8:\n",
    "    widthscale = 8\n",
    "plt.figure(figsize=(widthscale,6))\n",
    "plt.plot(dataResults['Name'], dataResults['Accuracy'])\n",
    "labels.append('Accuracy')\n",
    "plt.plot(dataResults['Name'], dataResults['Accuracy'] + dataResults['Range'])\n",
    "labels.append('Accuracy + Range')\n",
    "plt.xlabel('Tree Feature Depth')\n",
    "plt.legend(labels)\n",
    "plt.xticks(rotation=90)\n",
    "plt.show()"
   ]
  },
  {
   "cell_type": "code",
   "execution_count": 708,
   "metadata": {},
   "outputs": [
    {
     "data": {
      "image/png": "[encoded data removed]",
      "text/plain": [
       "<matplotlib.figure.Figure at 0x1a1660fdd8>"
      ]
     },
     "metadata": {},
     "output_type": "display_data"
    }
   ],
   "source": [
    "plt.plot(dataResults['Accuracy'])\n",
    "plt.plot(dataResults['Accuracy'] + dataResults['Range'])\n",
    "plt.xticks(np.arange(30), (dataResults['Name']),rotation=90)\n",
    "plt.show()"
   ]
  },
  {
   "cell_type": "code",
   "execution_count": 710,
   "metadata": {},
   "outputs": [
    {
     "data": {
      "text/html": [
       "<div>\n",
       "<style>\n",
       "    .dataframe thead tr:only-child th {\n",
       "        text-align: right;\n",
       "    }\n",
       "\n",
       "    .dataframe thead th {\n",
       "        text-align: left;\n",
       "    }\n",
       "\n",
       "    .dataframe tbody tr th {\n",
       "        vertical-align: top;\n",
       "    }\n",
       "</style>\n",
       "<table border=\"1\" class=\"dataframe\">\n",
       "  <thead>\n",
       "    <tr style=\"text-align: right;\">\n",
       "      <th></th>\n",
       "      <th>Name</th>\n",
       "      <th>Accuracy</th>\n",
       "      <th>Range</th>\n",
       "      <th>CrossValScores</th>\n",
       "      <th>loss</th>\n",
       "      <th>max_depth</th>\n",
       "      <th>n_estimators</th>\n",
       "    </tr>\n",
       "  </thead>\n",
       "  <tbody>\n",
       "    <tr>\n",
       "      <th>2</th>\n",
       "      <td>e d:700 e:2</td>\n",
       "      <td>0.673508</td>\n",
       "      <td>0.128772</td>\n",
       "      <td>[0.616715758468, 0.658321060383, 0.745488029466]</td>\n",
       "      <td>exponential</td>\n",
       "      <td>2.0</td>\n",
       "      <td>700.0</td>\n",
       "    </tr>\n",
       "    <tr>\n",
       "      <th>0</th>\n",
       "      <td>e d:600 e:2</td>\n",
       "      <td>0.67449</td>\n",
       "      <td>0.13135</td>\n",
       "      <td>[0.616347569956, 0.65942562592, 0.747697974217]</td>\n",
       "      <td>exponential</td>\n",
       "      <td>2.0</td>\n",
       "      <td>600.0</td>\n",
       "    </tr>\n",
       "    <tr>\n",
       "      <th>3</th>\n",
       "      <td>e d:700 e:6</td>\n",
       "      <td>0.67461</td>\n",
       "      <td>0.111826</td>\n",
       "      <td>[0.606406480118, 0.699189985272, 0.718232044199]</td>\n",
       "      <td>exponential</td>\n",
       "      <td>6.0</td>\n",
       "      <td>700.0</td>\n",
       "    </tr>\n",
       "    <tr>\n",
       "      <th>1</th>\n",
       "      <td>e d:600 e:6</td>\n",
       "      <td>0.675837</td>\n",
       "      <td>0.114403</td>\n",
       "      <td>[0.604565537555, 0.703976435935, 0.718968692449]</td>\n",
       "      <td>exponential</td>\n",
       "      <td>6.0</td>\n",
       "      <td>600.0</td>\n",
       "    </tr>\n",
       "    <tr>\n",
       "      <th>5</th>\n",
       "      <td>d d:600 e:6</td>\n",
       "      <td>0.676697</td>\n",
       "      <td>0.122505</td>\n",
       "      <td>[0.601251840943, 0.705081001473, 0.723756906077]</td>\n",
       "      <td>deviance</td>\n",
       "      <td>6.0</td>\n",
       "      <td>600.0</td>\n",
       "    </tr>\n",
       "    <tr>\n",
       "      <th>7</th>\n",
       "      <td>d d:700 e:6</td>\n",
       "      <td>0.679274</td>\n",
       "      <td>0.112563</td>\n",
       "      <td>[0.608983799705, 0.707290132548, 0.721546961326]</td>\n",
       "      <td>deviance</td>\n",
       "      <td>6.0</td>\n",
       "      <td>700.0</td>\n",
       "    </tr>\n",
       "    <tr>\n",
       "      <th>6</th>\n",
       "      <td>d d:700 e:2</td>\n",
       "      <td>0.680995</td>\n",
       "      <td>0.135401</td>\n",
       "      <td>[0.613402061856, 0.680780559647, 0.748802946593]</td>\n",
       "      <td>deviance</td>\n",
       "      <td>2.0</td>\n",
       "      <td>700.0</td>\n",
       "    </tr>\n",
       "    <tr>\n",
       "      <th>4</th>\n",
       "      <td>d d:600 e:2</td>\n",
       "      <td>0.683205</td>\n",
       "      <td>0.139452</td>\n",
       "      <td>[0.611929307806, 0.686303387334, 0.75138121547]</td>\n",
       "      <td>deviance</td>\n",
       "      <td>2.0</td>\n",
       "      <td>600.0</td>\n",
       "    </tr>\n",
       "  </tbody>\n",
       "</table>\n",
       "</div>"
      ],
      "text/plain": [
       "          Name  Accuracy     Range  \\\n",
       "2  e d:700 e:2  0.673508  0.128772   \n",
       "0  e d:600 e:2   0.67449   0.13135   \n",
       "3  e d:700 e:6   0.67461  0.111826   \n",
       "1  e d:600 e:6  0.675837  0.114403   \n",
       "5  d d:600 e:6  0.676697  0.122505   \n",
       "7  d d:700 e:6  0.679274  0.112563   \n",
       "6  d d:700 e:2  0.680995  0.135401   \n",
       "4  d d:600 e:2  0.683205  0.139452   \n",
       "\n",
       "                                     CrossValScores         loss  max_depth  \\\n",
       "2  [0.616715758468, 0.658321060383, 0.745488029466]  exponential        2.0   \n",
       "0   [0.616347569956, 0.65942562592, 0.747697974217]  exponential        2.0   \n",
       "3  [0.606406480118, 0.699189985272, 0.718232044199]  exponential        6.0   \n",
       "1  [0.604565537555, 0.703976435935, 0.718968692449]  exponential        6.0   \n",
       "5  [0.601251840943, 0.705081001473, 0.723756906077]     deviance        6.0   \n",
       "7  [0.608983799705, 0.707290132548, 0.721546961326]     deviance        6.0   \n",
       "6  [0.613402061856, 0.680780559647, 0.748802946593]     deviance        2.0   \n",
       "4   [0.611929307806, 0.686303387334, 0.75138121547]     deviance        2.0   \n",
       "\n",
       "   n_estimators  \n",
       "2         700.0  \n",
       "0         600.0  \n",
       "3         700.0  \n",
       "1         600.0  \n",
       "5         600.0  \n",
       "7         700.0  \n",
       "6         700.0  \n",
       "4         600.0  "
      ]
     },
     "execution_count": 710,
     "metadata": {},
     "output_type": "execute_result"
    }
   ],
   "source": [
    "dataResults"
   ]
  },
  {
   "cell_type": "code",
   "execution_count": 715,
   "metadata": {
    "collapsed": true
   },
   "outputs": [],
   "source": [
    "dataResults = dataResults.reset_index(drop=True)"
   ]
  },
  {
   "cell_type": "code",
   "execution_count": 716,
   "metadata": {},
   "outputs": [
    {
     "data": {
      "image/png": "[encoded data removed]",
      "text/plain": [
       "<matplotlib.figure.Figure at 0x1a16f607f0>"
      ]
     },
     "metadata": {},
     "output_type": "display_data"
    }
   ],
   "source": [
    "plt.plot(dataResults['Accuracy'])\n",
    "plt.plot(dataResults['Accuracy'] + dataResults['Range'])\n",
    "plt.xticks(np.arange(7), (dataResults['Name']),rotation=90)\n",
    "plt.show()"
   ]
  },
  {
   "cell_type": "code",
   "execution_count": null,
   "metadata": {
    "collapsed": true
   },
   "outputs": [],
   "source": []
  }
 ],
 "metadata": {
  "kernelspec": {
   "display_name": "Python 3",
   "language": "python",
   "name": "python3"
  },
  "language_info": {
   "codemirror_mode": {
    "name": "ipython",
    "version": 3
   },
   "file_extension": ".py",
   "mimetype": "text/x-python",
   "name": "python",
   "nbconvert_exporter": "python",
   "pygments_lexer": "ipython3",
   "version": "3.6.3"
  }
 },
 "nbformat": 4,
 "nbformat_minor": 2
}
