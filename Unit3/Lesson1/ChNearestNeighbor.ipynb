{
 "cells": [
  {
   "cell_type": "code",
   "execution_count": 7,
   "metadata": {
    "collapsed": true
   },
   "outputs": [],
   "source": [
    "import numpy as np\n",
    "import pandas as pd\n",
    "import matplotlib.pyplot as plt\n",
    "import scipy\n",
    "import random "
   ]
  },
  {
   "cell_type": "code",
   "execution_count": 33,
   "metadata": {
    "collapsed": true
   },
   "outputs": [],
   "source": [
    "size = pd.DataFrame()\n",
    "\n",
    "size['height'] = random.sample(range(1,100),99)\n",
    "size['width'] = random.sample(range(1,100),99)"
   ]
  },
  {
   "cell_type": "code",
   "execution_count": 34,
   "metadata": {},
   "outputs": [],
   "source": [
    "size['big'] = (size['height']>40) & (size['width']>40)"
   ]
  },
  {
   "cell_type": "code",
   "execution_count": 78,
   "metadata": {},
   "outputs": [
    {
     "data": {
      "image/png": "[encoded data removed]",
      "text/plain": [
       "<matplotlib.figure.Figure at 0x11b4a92e8>"
      ]
     },
     "metadata": {},
     "output_type": "display_data"
    }
   ],
   "source": [
    "\n",
    "plt.scatter(\n",
    "    size[size['big'] == 1].height,\n",
    "    size[size['big'] == 1].width,\n",
    "    color='red'\n",
    ")\n",
    "plt.scatter(\n",
    "    size[size['big'] == 0].height,\n",
    "    size[size['big'] == 0].width,\n",
    "    color='blue'\n",
    ")\n",
    "plt.legend(['big', 'small'])\n",
    "plt.title('Big and Small')\n",
    "plt.xlabel('Height')\n",
    "plt.ylabel('Width')\n",
    "plt.show()"
   ]
  },
  {
   "cell_type": "code",
   "execution_count": 79,
   "metadata": {
    "collapsed": true
   },
   "outputs": [],
   "source": [
    "import math\n",
    "def euclideanDistance(instance1, instance2, length):\n",
    "    distance = 0\n",
    "    for x in range(length):\n",
    "        distance += pow((instance1[x] - instance2[x]), 2)\n",
    "        return math.sqrt(distance)"
   ]
  },
  {
   "cell_type": "code",
   "execution_count": 80,
   "metadata": {},
   "outputs": [
    {
     "name": "stdout",
     "output_type": "stream",
     "text": [
      "4.0\n",
      "Distance: 4.0\n"
     ]
    }
   ],
   "source": [
    "data1 = [8, 2, 2, 'a']\n",
    "data2 = [4, 5, 8, 'c']\n",
    "distance = euclideanDistance(data1, data2, 3)\n",
    "print (distance)\n",
    "print ('Distance: ' + repr(distance))"
   ]
  },
  {
   "cell_type": "code",
   "execution_count": 81,
   "metadata": {
    "collapsed": true
   },
   "outputs": [],
   "source": [
    "def closest_node(node, nodes):\n",
    "    dist_2 = np.sum((nodes - node)**2, axis=1)\n",
    "    return np.argmin(dist_2)"
   ]
  },
  {
   "cell_type": "code",
   "execution_count": 82,
   "metadata": {},
   "outputs": [],
   "source": [
    "nodes = np.column_stack((size['height'], size['width']))"
   ]
  },
  {
   "cell_type": "code",
   "execution_count": 90,
   "metadata": {},
   "outputs": [
    {
     "data": {
      "text/plain": [
       "height       45\n",
       "width        36\n",
       "big       False\n",
       "Name: 16, dtype: object"
      ]
     },
     "execution_count": 90,
     "metadata": {},
     "output_type": "execute_result"
    }
   ],
   "source": [
    "nodelist = []\n",
    "node = [45,40]\n",
    "nodelist.append(node)\n",
    "size.iloc[closest_node(node, nodes)]"
   ]
  },
  {
   "cell_type": "code",
   "execution_count": 91,
   "metadata": {},
   "outputs": [
    {
     "data": {
      "text/plain": [
       "height      48\n",
       "width       52\n",
       "big       True\n",
       "Name: 58, dtype: object"
      ]
     },
     "execution_count": 91,
     "metadata": {},
     "output_type": "execute_result"
    }
   ],
   "source": [
    "node = [50,50]\n",
    "nodelist.append(node)\n",
    "size.iloc[closest_node(node, nodes)]"
   ]
  },
  {
   "cell_type": "code",
   "execution_count": 93,
   "metadata": {},
   "outputs": [
    {
     "data": {
      "image/png": "[encoded data removed]",
      "text/plain": [
       "<matplotlib.figure.Figure at 0x11b60e048>"
      ]
     },
     "metadata": {},
     "output_type": "display_data"
    }
   ],
   "source": [
    "plt.scatter(\n",
    "    size[size['big'] == 1].height,\n",
    "    size[size['big'] == 1].width,\n",
    "    color='red'\n",
    ")\n",
    "plt.scatter(\n",
    "    size[size['big'] == 0].height,\n",
    "    size[size['big'] == 0].width,\n",
    "    color='blue'\n",
    ")\n",
    "\n",
    "plt.scatter(\n",
    "    *zip(*nodelist),\n",
    "    color='green'\n",
    ")\n",
    "\n",
    "plt.legend(['big', 'small', 'test'])\n",
    "plt.title('Big and Small')\n",
    "plt.xlabel('Height')\n",
    "plt.ylabel('Width')\n",
    "plt.show()"
   ]
  },
  {
   "cell_type": "code",
   "execution_count": null,
   "metadata": {
    "collapsed": true
   },
   "outputs": [],
   "source": []
  }
 ],
 "metadata": {
  "kernelspec": {
   "display_name": "Python 3",
   "language": "python",
   "name": "python3"
  },
  "language_info": {
   "codemirror_mode": {
    "name": "ipython",
    "version": 3
   },
   "file_extension": ".py",
   "mimetype": "text/x-python",
   "name": "python",
   "nbconvert_exporter": "python",
   "pygments_lexer": "ipython3",
   "version": "3.6.3"
  }
 },
 "nbformat": 4,
 "nbformat_minor": 2
}
