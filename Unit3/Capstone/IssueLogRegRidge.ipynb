{
 "cells": [
  {
   "cell_type": "code",
   "execution_count": 1,
   "metadata": {
    "collapsed": true
   },
   "outputs": [],
   "source": [
    "import pandas as pd\n",
    "import numpy as np\n",
    "import matplotlib.pyplot as plt\n",
    "import io\n",
    "import requests\n",
    "import seaborn as sns\n",
    "import itertools\n",
    "from sklearn.model_selection import GridSearchCV\n",
    "from sklearn import linear_model\n",
    "from sklearn.linear_model import LogisticRegression\n",
    "from sklearn import ensemble\n",
    "from sklearn.neighbors import KNeighborsClassifier\n",
    "from sklearn import tree\n",
    "from sklearn.svm import SVC\n",
    "from sklearn.naive_bayes import BernoulliNB\n",
    "from sklearn.decomposition import PCA\n",
    "from sklearn.model_selection import cross_val_score"
   ]
  },
  {
   "cell_type": "code",
   "execution_count": 2,
   "metadata": {
    "collapsed": true
   },
   "outputs": [],
   "source": [
    "#url='https://www.kaggle.com/kemical/kickstarter-projects/downloads/ks-projects-201801.csv'\n",
    "#df=pd.read_csv(url, header=None)"
   ]
  },
  {
   "cell_type": "code",
   "execution_count": 3,
   "metadata": {},
   "outputs": [
    {
     "name": "stderr",
     "output_type": "stream",
     "text": [
      "b'Skipping line 20454: expected 15 fields, saw 19\\nSkipping line 27266: expected 15 fields, saw 23\\nSkipping line 47738: expected 15 fields, saw 19\\nSkipping line 54556: expected 15 fields, saw 23\\n'\n",
      "b'Skipping line 75000: expected 15 fields, saw 17\\nSkipping line 95465: expected 15 fields, saw 21\\nSkipping line 102283: expected 15 fields, saw 26\\nSkipping line 129576: expected 15 fields, saw 26\\n'\n",
      "b'Skipping line 170525: expected 15 fields, saw 16\\nSkipping line 177348: expected 15 fields, saw 26\\n'\n",
      "b'Skipping line 204638: expected 15 fields, saw 19\\nSkipping line 211470: expected 15 fields, saw 26\\nSkipping line 218306: expected 15 fields, saw 16\\nSkipping line 252430: expected 15 fields, saw 17\\nSkipping line 259262: expected 15 fields, saw 26\\n'\n",
      "b'Skipping line 266098: expected 15 fields, saw 18\\nSkipping line 300233: expected 15 fields, saw 17\\nSkipping line 307065: expected 15 fields, saw 27\\nSkipping line 313893: expected 15 fields, saw 19\\n'\n",
      "b'Skipping line 348033: expected 15 fields, saw 17\\nSkipping line 354860: expected 15 fields, saw 21\\nSkipping line 361688: expected 15 fields, saw 19\\nSkipping line 368524: expected 15 fields, saw 16\\n'\n",
      "b'Skipping line 395813: expected 15 fields, saw 16\\nSkipping line 402638: expected 15 fields, saw 21\\nSkipping line 409466: expected 15 fields, saw 21\\nSkipping line 436765: expected 15 fields, saw 20\\nSkipping line 443599: expected 15 fields, saw 16\\nSkipping line 450424: expected 15 fields, saw 16\\nSkipping line 457253: expected 15 fields, saw 16\\n'\n",
      "b'Skipping line 477745: expected 15 fields, saw 27\\nSkipping line 484572: expected 15 fields, saw 20\\nSkipping line 498218: expected 15 fields, saw 22\\nSkipping line 505047: expected 15 fields, saw 16\\nSkipping line 518721: expected 15 fields, saw 20\\n'\n",
      "b'Skipping line 525564: expected 15 fields, saw 27\\nSkipping line 546039: expected 15 fields, saw 22\\nSkipping line 552868: expected 15 fields, saw 17\\nSkipping line 566530: expected 15 fields, saw 20\\nSkipping line 573373: expected 15 fields, saw 27\\n'\n",
      "b'Skipping line 593900: expected 15 fields, saw 27\\nSkipping line 614414: expected 15 fields, saw 22\\nSkipping line 621264: expected 15 fields, saw 23\\nSkipping line 641837: expected 15 fields, saw 26\\n'\n",
      "b'Skipping line 662384: expected 15 fields, saw 16\\nSkipping line 669234: expected 15 fields, saw 23\\nSkipping line 689853: expected 15 fields, saw 26\\nSkipping line 710432: expected 15 fields, saw 16\\n'\n",
      "b'Skipping line 737900: expected 15 fields, saw 26\\nSkipping line 779100: expected 15 fields, saw 21\\nSkipping line 785967: expected 15 fields, saw 20\\n'\n",
      "b'Skipping line 799692: expected 15 fields, saw 18\\nSkipping line 827166: expected 15 fields, saw 21\\nSkipping line 834033: expected 15 fields, saw 20\\n'\n",
      "b'Skipping line 861498: expected 15 fields, saw 16\\nSkipping line 875236: expected 15 fields, saw 21\\nSkipping line 882103: expected 15 fields, saw 20\\nSkipping line 902716: expected 15 fields, saw 18\\nSkipping line 909590: expected 15 fields, saw 25\\n'\n",
      "b'Skipping line 950794: expected 15 fields, saw 17\\nSkipping line 957668: expected 15 fields, saw 25\\nSkipping line 964537: expected 15 fields, saw 17\\nSkipping line 971386: expected 15 fields, saw 16\\n'\n",
      "b'Skipping line 991996: expected 15 fields, saw 20\\nSkipping line 998845: expected 15 fields, saw 17\\nSkipping line 1005719: expected 15 fields, saw 19\\nSkipping line 1019458: expected 15 fields, saw 16\\nSkipping line 1026321: expected 15 fields, saw 16\\nSkipping line 1035540: expected 15 fields, saw 20\\n'\n",
      "b'Skipping line 1056128: expected 15 fields, saw 26\\n'\n",
      "/Users/christophersmyth/anaconda3/lib/python3.6/site-packages/IPython/core/interactiveshell.py:2698: DtypeWarning: Columns (0,6,8,10,12) have mixed types. Specify dtype option on import or set low_memory=False.\n",
      "  interactivity=interactivity, compiler=compiler, result=result)\n"
     ]
    }
   ],
   "source": [
    "df = pd.read_csv('ks-projects-201801.csv',error_bad_lines=False)"
   ]
  },
  {
   "cell_type": "markdown",
   "metadata": {},
   "source": [
    "https://www.kaggle.com/kromel/kickstarter-successful-vs-failed/data"
   ]
  },
  {
   "cell_type": "code",
   "execution_count": 4,
   "metadata": {
    "collapsed": true
   },
   "outputs": [],
   "source": [
    "df=df.sample(1000, random_state=32)"
   ]
  },
  {
   "cell_type": "code",
   "execution_count": 5,
   "metadata": {},
   "outputs": [
    {
     "data": {
      "text/plain": [
       "(1000, 15)"
      ]
     },
     "execution_count": 5,
     "metadata": {},
     "output_type": "execute_result"
    }
   ],
   "source": [
    "df.shape"
   ]
  },
  {
   "cell_type": "code",
   "execution_count": 6,
   "metadata": {},
   "outputs": [
    {
     "data": {
      "text/html": [
       "<div>\n",
       "<style>\n",
       "    .dataframe thead tr:only-child th {\n",
       "        text-align: right;\n",
       "    }\n",
       "\n",
       "    .dataframe thead th {\n",
       "        text-align: left;\n",
       "    }\n",
       "\n",
       "    .dataframe tbody tr th {\n",
       "        vertical-align: top;\n",
       "    }\n",
       "</style>\n",
       "<table border=\"1\" class=\"dataframe\">\n",
       "  <thead>\n",
       "    <tr style=\"text-align: right;\">\n",
       "      <th></th>\n",
       "      <th>ID</th>\n",
       "      <th>name</th>\n",
       "      <th>category</th>\n",
       "      <th>main_category</th>\n",
       "      <th>currency</th>\n",
       "      <th>deadline</th>\n",
       "      <th>goal</th>\n",
       "      <th>launched</th>\n",
       "      <th>pledged</th>\n",
       "      <th>state</th>\n",
       "      <th>backers</th>\n",
       "      <th>country</th>\n",
       "      <th>usd pledged</th>\n",
       "      <th>usd_pledged_real</th>\n",
       "      <th>usd_goal_real</th>\n",
       "    </tr>\n",
       "  </thead>\n",
       "  <tbody>\n",
       "    <tr>\n",
       "      <th>711859</th>\n",
       "      <td>292924641</td>\n",
       "      <td>NextGen, Use any platform on any devive, rules...</td>\n",
       "      <td>Software</td>\n",
       "      <td>Technology</td>\n",
       "      <td>SEK</td>\n",
       "      <td>2014-11-04</td>\n",
       "      <td>50000</td>\n",
       "      <td>2014-10-21 15:14:46</td>\n",
       "      <td>0</td>\n",
       "      <td>failed</td>\n",
       "      <td>0</td>\n",
       "      <td>SE</td>\n",
       "      <td>0</td>\n",
       "      <td>0.00</td>\n",
       "      <td>6726.22</td>\n",
       "    </tr>\n",
       "    <tr>\n",
       "      <th>443026</th>\n",
       "      <td>1865145137</td>\n",
       "      <td>Cassidy Jones Adventures: Paperback Books For ...</td>\n",
       "      <td>Fiction</td>\n",
       "      <td>Publishing</td>\n",
       "      <td>USD</td>\n",
       "      <td>2012-07-12</td>\n",
       "      <td>1000</td>\n",
       "      <td>2012-06-28 01:35:01</td>\n",
       "      <td>1505</td>\n",
       "      <td>successful</td>\n",
       "      <td>43</td>\n",
       "      <td>US</td>\n",
       "      <td>1505</td>\n",
       "      <td>1505.00</td>\n",
       "      <td>1000.00</td>\n",
       "    </tr>\n",
       "    <tr>\n",
       "      <th>305960</th>\n",
       "      <td>1549399998</td>\n",
       "      <td>· Guenda · products for connecting with nature...</td>\n",
       "      <td>Embroidery</td>\n",
       "      <td>Crafts</td>\n",
       "      <td>MXN</td>\n",
       "      <td>2017-12-25</td>\n",
       "      <td>60000.00</td>\n",
       "      <td>2017-11-25 15:56:14</td>\n",
       "      <td>60520.00</td>\n",
       "      <td>successful</td>\n",
       "      <td>84</td>\n",
       "      <td>MX</td>\n",
       "      <td>112.64</td>\n",
       "      <td>3067.57</td>\n",
       "      <td>3041.21</td>\n",
       "    </tr>\n",
       "    <tr>\n",
       "      <th>56190</th>\n",
       "      <td>1111918633</td>\n",
       "      <td>The ABCs of Nightmares</td>\n",
       "      <td>Children's Books</td>\n",
       "      <td>Publishing</td>\n",
       "      <td>CAD</td>\n",
       "      <td>2016-11-24</td>\n",
       "      <td>8500.00</td>\n",
       "      <td>2016-10-24 01:05:08</td>\n",
       "      <td>2764.00</td>\n",
       "      <td>failed</td>\n",
       "      <td>49</td>\n",
       "      <td>CA</td>\n",
       "      <td>0</td>\n",
       "      <td>2048.77</td>\n",
       "      <td>6300.50</td>\n",
       "    </tr>\n",
       "    <tr>\n",
       "      <th>867977</th>\n",
       "      <td>7.40164e+08</td>\n",
       "      <td>The Toughest</td>\n",
       "      <td>Documentary</td>\n",
       "      <td>Film &amp; Video</td>\n",
       "      <td>USD</td>\n",
       "      <td>2016-04-02</td>\n",
       "      <td>2295.00</td>\n",
       "      <td>2016-03-03 15:46:40</td>\n",
       "      <td>0.00</td>\n",
       "      <td>failed</td>\n",
       "      <td>0</td>\n",
       "      <td>US</td>\n",
       "      <td>0</td>\n",
       "      <td>0.00</td>\n",
       "      <td>2295.00</td>\n",
       "    </tr>\n",
       "  </tbody>\n",
       "</table>\n",
       "</div>"
      ],
      "text/plain": [
       "                 ID                                               name  \\\n",
       "711859    292924641  NextGen, Use any platform on any devive, rules...   \n",
       "443026   1865145137  Cassidy Jones Adventures: Paperback Books For ...   \n",
       "305960   1549399998  · Guenda · products for connecting with nature...   \n",
       "56190    1111918633                             The ABCs of Nightmares   \n",
       "867977  7.40164e+08                                       The Toughest   \n",
       "\n",
       "                category main_category currency    deadline      goal  \\\n",
       "711859          Software    Technology      SEK  2014-11-04     50000   \n",
       "443026           Fiction    Publishing      USD  2012-07-12      1000   \n",
       "305960        Embroidery        Crafts      MXN  2017-12-25  60000.00   \n",
       "56190   Children's Books    Publishing      CAD  2016-11-24   8500.00   \n",
       "867977       Documentary  Film & Video      USD  2016-04-02   2295.00   \n",
       "\n",
       "                   launched   pledged       state backers country usd pledged  \\\n",
       "711859  2014-10-21 15:14:46         0      failed       0      SE           0   \n",
       "443026  2012-06-28 01:35:01      1505  successful      43      US        1505   \n",
       "305960  2017-11-25 15:56:14  60520.00  successful      84      MX      112.64   \n",
       "56190   2016-10-24 01:05:08   2764.00      failed      49      CA           0   \n",
       "867977  2016-03-03 15:46:40      0.00      failed       0      US           0   \n",
       "\n",
       "        usd_pledged_real  usd_goal_real  \n",
       "711859              0.00        6726.22  \n",
       "443026           1505.00        1000.00  \n",
       "305960           3067.57        3041.21  \n",
       "56190            2048.77        6300.50  \n",
       "867977              0.00        2295.00  "
      ]
     },
     "execution_count": 6,
     "metadata": {},
     "output_type": "execute_result"
    }
   ],
   "source": [
    "df.head()"
   ]
  },
  {
   "cell_type": "code",
   "execution_count": 7,
   "metadata": {},
   "outputs": [
    {
     "data": {
      "text/plain": [
       "ID                   object\n",
       "name                 object\n",
       "category             object\n",
       "main_category        object\n",
       "currency             object\n",
       "deadline             object\n",
       "goal                 object\n",
       "launched             object\n",
       "pledged              object\n",
       "state                object\n",
       "backers              object\n",
       "country              object\n",
       "usd pledged          object\n",
       "usd_pledged_real    float64\n",
       "usd_goal_real       float64\n",
       "dtype: object"
      ]
     },
     "execution_count": 7,
     "metadata": {},
     "output_type": "execute_result"
    }
   ],
   "source": [
    "df.dtypes"
   ]
  },
  {
   "cell_type": "markdown",
   "metadata": {},
   "source": [
    "# Data Cleaning"
   ]
  },
  {
   "cell_type": "markdown",
   "metadata": {},
   "source": [
    "### Nulls"
   ]
  },
  {
   "cell_type": "code",
   "execution_count": 8,
   "metadata": {},
   "outputs": [
    {
     "data": {
      "text/html": [
       "<div>\n",
       "<style>\n",
       "    .dataframe thead tr:only-child th {\n",
       "        text-align: right;\n",
       "    }\n",
       "\n",
       "    .dataframe thead th {\n",
       "        text-align: left;\n",
       "    }\n",
       "\n",
       "    .dataframe tbody tr th {\n",
       "        vertical-align: top;\n",
       "    }\n",
       "</style>\n",
       "<table border=\"1\" class=\"dataframe\">\n",
       "  <thead>\n",
       "    <tr style=\"text-align: right;\">\n",
       "      <th></th>\n",
       "      <th>Total</th>\n",
       "      <th>Percent</th>\n",
       "    </tr>\n",
       "  </thead>\n",
       "  <tbody>\n",
       "    <tr>\n",
       "      <th>usd pledged</th>\n",
       "      <td>8</td>\n",
       "      <td>0.008</td>\n",
       "    </tr>\n",
       "    <tr>\n",
       "      <th>usd_goal_real</th>\n",
       "      <td>0</td>\n",
       "      <td>0.000</td>\n",
       "    </tr>\n",
       "    <tr>\n",
       "      <th>usd_pledged_real</th>\n",
       "      <td>0</td>\n",
       "      <td>0.000</td>\n",
       "    </tr>\n",
       "    <tr>\n",
       "      <th>country</th>\n",
       "      <td>0</td>\n",
       "      <td>0.000</td>\n",
       "    </tr>\n",
       "    <tr>\n",
       "      <th>backers</th>\n",
       "      <td>0</td>\n",
       "      <td>0.000</td>\n",
       "    </tr>\n",
       "    <tr>\n",
       "      <th>state</th>\n",
       "      <td>0</td>\n",
       "      <td>0.000</td>\n",
       "    </tr>\n",
       "    <tr>\n",
       "      <th>pledged</th>\n",
       "      <td>0</td>\n",
       "      <td>0.000</td>\n",
       "    </tr>\n",
       "    <tr>\n",
       "      <th>launched</th>\n",
       "      <td>0</td>\n",
       "      <td>0.000</td>\n",
       "    </tr>\n",
       "    <tr>\n",
       "      <th>goal</th>\n",
       "      <td>0</td>\n",
       "      <td>0.000</td>\n",
       "    </tr>\n",
       "    <tr>\n",
       "      <th>deadline</th>\n",
       "      <td>0</td>\n",
       "      <td>0.000</td>\n",
       "    </tr>\n",
       "    <tr>\n",
       "      <th>currency</th>\n",
       "      <td>0</td>\n",
       "      <td>0.000</td>\n",
       "    </tr>\n",
       "    <tr>\n",
       "      <th>main_category</th>\n",
       "      <td>0</td>\n",
       "      <td>0.000</td>\n",
       "    </tr>\n",
       "    <tr>\n",
       "      <th>category</th>\n",
       "      <td>0</td>\n",
       "      <td>0.000</td>\n",
       "    </tr>\n",
       "    <tr>\n",
       "      <th>name</th>\n",
       "      <td>0</td>\n",
       "      <td>0.000</td>\n",
       "    </tr>\n",
       "    <tr>\n",
       "      <th>ID</th>\n",
       "      <td>0</td>\n",
       "      <td>0.000</td>\n",
       "    </tr>\n",
       "  </tbody>\n",
       "</table>\n",
       "</div>"
      ],
      "text/plain": [
       "                  Total  Percent\n",
       "usd pledged           8    0.008\n",
       "usd_goal_real         0    0.000\n",
       "usd_pledged_real      0    0.000\n",
       "country               0    0.000\n",
       "backers               0    0.000\n",
       "state                 0    0.000\n",
       "pledged               0    0.000\n",
       "launched              0    0.000\n",
       "goal                  0    0.000\n",
       "deadline              0    0.000\n",
       "currency              0    0.000\n",
       "main_category         0    0.000\n",
       "category              0    0.000\n",
       "name                  0    0.000\n",
       "ID                    0    0.000"
      ]
     },
     "metadata": {},
     "output_type": "display_data"
    },
    {
     "data": {
      "text/plain": [
       "8"
      ]
     },
     "execution_count": 8,
     "metadata": {},
     "output_type": "execute_result"
    }
   ],
   "source": [
    "total = df.isnull().sum().sort_values(ascending=False)\n",
    "percent = (df.isnull().sum()/df.isnull().count()).sort_values(ascending=False)\n",
    "df_missingData = pd.concat([total, percent], axis=1, keys=['Total', 'Percent'])\n",
    "display(df_missingData.head(20))\n",
    "df.isnull().sum().max()"
   ]
  },
  {
   "cell_type": "code",
   "execution_count": 9,
   "metadata": {},
   "outputs": [
    {
     "name": "stdout",
     "output_type": "stream",
     "text": [
      "Before Dropping Nulls:  1000\n",
      "After Dropping Nulls:  992\n",
      "Rows Removed:  8\n",
      "Percent Removed: 1%\n"
     ]
    }
   ],
   "source": [
    "dfNoNulls = df.copy()\n",
    "dfNoNulls.dropna(inplace=True)\n",
    "print (\"Before Dropping Nulls: \", df.shape[0])\n",
    "print (\"After Dropping Nulls: \", dfNoNulls.shape[0])\n",
    "print (\"Rows Removed: \", df.shape[0] - dfNoNulls.shape[0])\n",
    "print (\"Percent Removed: {:.0%}\".format(1-(dfNoNulls.shape[0])/df.shape[0]))   "
   ]
  },
  {
   "cell_type": "markdown",
   "metadata": {},
   "source": [
    "### \"usd pledged\" Column: Bad Formatting"
   ]
  },
  {
   "cell_type": "code",
   "execution_count": 10,
   "metadata": {
    "collapsed": true
   },
   "outputs": [],
   "source": [
    "dfDropPldg = dfNoNulls.copy()\n",
    "for row in dfDropPldg.iterrows():\n",
    "    if str(row[1]['usd pledged']).count('.') > 1:\n",
    "        print (row)\n",
    "        dfDrop = dfDropPldg.drop(row[0])\n",
    "        break;\n",
    "# Use a comprehension for this"
   ]
  },
  {
   "cell_type": "code",
   "execution_count": 11,
   "metadata": {
    "collapsed": true
   },
   "outputs": [],
   "source": [
    "dfDropCntry = dfDropPldg.copy()\n",
    "dfDropCntry = dfDropCntry.drop(dfDropCntry[(dfDropCntry['country'] != 'US')].index)"
   ]
  },
  {
   "cell_type": "code",
   "execution_count": 12,
   "metadata": {
    "collapsed": true
   },
   "outputs": [],
   "source": [
    "dfDropCat = dfDropCntry.copy()\n",
    "dfDropCat = dfDropCat.drop('category',axis=1)"
   ]
  },
  {
   "cell_type": "code",
   "execution_count": 13,
   "metadata": {
    "collapsed": true
   },
   "outputs": [],
   "source": [
    "dfDropState = dfDropCat.copy()\n",
    "dropVals = ['live','suspended','canceled','fnceled']\n",
    "for dv in dropVals:\n",
    "    dfDropState = dfDropState.drop(dfDropState[(dfDropState['state'] == dv)].index)"
   ]
  },
  {
   "cell_type": "markdown",
   "metadata": {},
   "source": [
    "### Convert to Numeric"
   ]
  },
  {
   "cell_type": "code",
   "execution_count": 14,
   "metadata": {
    "collapsed": true
   },
   "outputs": [],
   "source": [
    "dfNum = dfDropState.copy()\n",
    "numCols = ['goal','pledged','backers','usd pledged']\n",
    "for c in numCols:\n",
    "    dfNum[c] = dfNum[c].apply(pd.to_numeric)"
   ]
  },
  {
   "cell_type": "code",
   "execution_count": 15,
   "metadata": {},
   "outputs": [
    {
     "data": {
      "text/html": [
       "<div>\n",
       "<style>\n",
       "    .dataframe thead tr:only-child th {\n",
       "        text-align: right;\n",
       "    }\n",
       "\n",
       "    .dataframe thead th {\n",
       "        text-align: left;\n",
       "    }\n",
       "\n",
       "    .dataframe tbody tr th {\n",
       "        vertical-align: top;\n",
       "    }\n",
       "</style>\n",
       "<table border=\"1\" class=\"dataframe\">\n",
       "  <thead>\n",
       "    <tr style=\"text-align: right;\">\n",
       "      <th></th>\n",
       "      <th>goal</th>\n",
       "      <th>pledged</th>\n",
       "      <th>backers</th>\n",
       "      <th>usd pledged</th>\n",
       "      <th>usd_pledged_real</th>\n",
       "      <th>usd_goal_real</th>\n",
       "    </tr>\n",
       "  </thead>\n",
       "  <tbody>\n",
       "    <tr>\n",
       "      <th>count</th>\n",
       "      <td>7.000000e+02</td>\n",
       "      <td>700.000000</td>\n",
       "      <td>700.000000</td>\n",
       "      <td>700.000000</td>\n",
       "      <td>700.000000</td>\n",
       "      <td>7.000000e+02</td>\n",
       "    </tr>\n",
       "    <tr>\n",
       "      <th>mean</th>\n",
       "      <td>2.324955e+04</td>\n",
       "      <td>8470.745529</td>\n",
       "      <td>120.361429</td>\n",
       "      <td>6414.505000</td>\n",
       "      <td>8470.745529</td>\n",
       "      <td>2.324955e+04</td>\n",
       "    </tr>\n",
       "    <tr>\n",
       "      <th>std</th>\n",
       "      <td>1.286013e+05</td>\n",
       "      <td>31772.481735</td>\n",
       "      <td>492.706359</td>\n",
       "      <td>27647.878257</td>\n",
       "      <td>31772.481735</td>\n",
       "      <td>1.286013e+05</td>\n",
       "    </tr>\n",
       "    <tr>\n",
       "      <th>min</th>\n",
       "      <td>1.000000e+00</td>\n",
       "      <td>0.000000</td>\n",
       "      <td>0.000000</td>\n",
       "      <td>0.000000</td>\n",
       "      <td>0.000000</td>\n",
       "      <td>1.000000e+00</td>\n",
       "    </tr>\n",
       "    <tr>\n",
       "      <th>25%</th>\n",
       "      <td>2.000000e+03</td>\n",
       "      <td>81.000000</td>\n",
       "      <td>3.000000</td>\n",
       "      <td>35.000000</td>\n",
       "      <td>81.000000</td>\n",
       "      <td>2.000000e+03</td>\n",
       "    </tr>\n",
       "    <tr>\n",
       "      <th>50%</th>\n",
       "      <td>5.000000e+03</td>\n",
       "      <td>1102.500000</td>\n",
       "      <td>20.000000</td>\n",
       "      <td>802.000000</td>\n",
       "      <td>1102.500000</td>\n",
       "      <td>5.000000e+03</td>\n",
       "    </tr>\n",
       "    <tr>\n",
       "      <th>75%</th>\n",
       "      <td>1.500000e+04</td>\n",
       "      <td>5208.500000</td>\n",
       "      <td>71.000000</td>\n",
       "      <td>4067.750000</td>\n",
       "      <td>5208.500000</td>\n",
       "      <td>1.500000e+04</td>\n",
       "    </tr>\n",
       "    <tr>\n",
       "      <th>max</th>\n",
       "      <td>3.000000e+06</td>\n",
       "      <td>588903.000000</td>\n",
       "      <td>9677.000000</td>\n",
       "      <td>588903.000000</td>\n",
       "      <td>588903.000000</td>\n",
       "      <td>3.000000e+06</td>\n",
       "    </tr>\n",
       "  </tbody>\n",
       "</table>\n",
       "</div>"
      ],
      "text/plain": [
       "               goal        pledged      backers    usd pledged  \\\n",
       "count  7.000000e+02     700.000000   700.000000     700.000000   \n",
       "mean   2.324955e+04    8470.745529   120.361429    6414.505000   \n",
       "std    1.286013e+05   31772.481735   492.706359   27647.878257   \n",
       "min    1.000000e+00       0.000000     0.000000       0.000000   \n",
       "25%    2.000000e+03      81.000000     3.000000      35.000000   \n",
       "50%    5.000000e+03    1102.500000    20.000000     802.000000   \n",
       "75%    1.500000e+04    5208.500000    71.000000    4067.750000   \n",
       "max    3.000000e+06  588903.000000  9677.000000  588903.000000   \n",
       "\n",
       "       usd_pledged_real  usd_goal_real  \n",
       "count        700.000000   7.000000e+02  \n",
       "mean        8470.745529   2.324955e+04  \n",
       "std        31772.481735   1.286013e+05  \n",
       "min            0.000000   1.000000e+00  \n",
       "25%           81.000000   2.000000e+03  \n",
       "50%         1102.500000   5.000000e+03  \n",
       "75%         5208.500000   1.500000e+04  \n",
       "max       588903.000000   3.000000e+06  "
      ]
     },
     "execution_count": 15,
     "metadata": {},
     "output_type": "execute_result"
    }
   ],
   "source": [
    "dfNum.describe()"
   ]
  },
  {
   "cell_type": "markdown",
   "metadata": {},
   "source": [
    "# Encoding"
   ]
  },
  {
   "cell_type": "code",
   "execution_count": 16,
   "metadata": {},
   "outputs": [
    {
     "data": {
      "text/plain": [
       "['failed', 'successful']"
      ]
     },
     "execution_count": 16,
     "metadata": {},
     "output_type": "execute_result"
    }
   ],
   "source": [
    "sorted(dfNum.state.unique())"
   ]
  },
  {
   "cell_type": "code",
   "execution_count": 17,
   "metadata": {
    "collapsed": true
   },
   "outputs": [],
   "source": [
    "dfEnc = pd.DataFrame()\n",
    "dfEnc = dfNum.copy()\n",
    "dfEnc['state'] = dfNum.state.astype('category')\n",
    "dfEnc['state_code'] = np.where(dfEnc['state'].str.contains('successful'),1,0)"
   ]
  },
  {
   "cell_type": "code",
   "execution_count": 18,
   "metadata": {
    "collapsed": true
   },
   "outputs": [],
   "source": [
    "dfEnc = pd.get_dummies(dfEnc, columns=['main_category'], prefix = ['cat'])"
   ]
  },
  {
   "cell_type": "code",
   "execution_count": 19,
   "metadata": {},
   "outputs": [
    {
     "data": {
      "text/plain": [
       "(700, 29)"
      ]
     },
     "execution_count": 19,
     "metadata": {},
     "output_type": "execute_result"
    }
   ],
   "source": [
    "dfEnc.shape"
   ]
  },
  {
   "cell_type": "code",
   "execution_count": 20,
   "metadata": {
    "collapsed": true
   },
   "outputs": [],
   "source": [
    "dfEnc.reset_index(inplace=True, drop=True)"
   ]
  },
  {
   "cell_type": "markdown",
   "metadata": {},
   "source": [
    "# Set Data and Target"
   ]
  },
  {
   "cell_type": "code",
   "execution_count": 21,
   "metadata": {},
   "outputs": [],
   "source": [
    "contCols = ['goal','pledged','backers','usd pledged', 'usd_pledged_real', 'usd_goal_real']"
   ]
  },
  {
   "cell_type": "code",
   "execution_count": 22,
   "metadata": {
    "collapsed": true
   },
   "outputs": [],
   "source": [
    "dataCols = []\n",
    "dataCols += contCols\n",
    "dataCols += [col for col in dfEnc.columns if 'cat_' in col]"
   ]
  },
  {
   "cell_type": "code",
   "execution_count": 23,
   "metadata": {},
   "outputs": [
    {
     "data": {
      "text/plain": [
       "['goal',\n",
       " 'pledged',\n",
       " 'backers',\n",
       " 'usd pledged',\n",
       " 'usd_pledged_real',\n",
       " 'usd_goal_real',\n",
       " 'cat_Art',\n",
       " 'cat_Comics',\n",
       " 'cat_Crafts',\n",
       " 'cat_Dance',\n",
       " 'cat_Design',\n",
       " 'cat_Fashion',\n",
       " 'cat_Film & Video',\n",
       " 'cat_Food',\n",
       " 'cat_Games',\n",
       " 'cat_Journalism',\n",
       " 'cat_Music',\n",
       " 'cat_Photography',\n",
       " 'cat_Publishing',\n",
       " 'cat_Technology',\n",
       " 'cat_Theater']"
      ]
     },
     "execution_count": 23,
     "metadata": {},
     "output_type": "execute_result"
    }
   ],
   "source": [
    "dataCols"
   ]
  },
  {
   "cell_type": "code",
   "execution_count": 24,
   "metadata": {
    "collapsed": true
   },
   "outputs": [],
   "source": [
    "y=dfEnc['state_code']\n",
    "X=dfEnc[dataCols]"
   ]
  },
  {
   "cell_type": "code",
   "execution_count": 25,
   "metadata": {},
   "outputs": [
    {
     "data": {
      "text/html": [
       "<div>\n",
       "<style>\n",
       "    .dataframe thead tr:only-child th {\n",
       "        text-align: right;\n",
       "    }\n",
       "\n",
       "    .dataframe thead th {\n",
       "        text-align: left;\n",
       "    }\n",
       "\n",
       "    .dataframe tbody tr th {\n",
       "        vertical-align: top;\n",
       "    }\n",
       "</style>\n",
       "<table border=\"1\" class=\"dataframe\">\n",
       "  <thead>\n",
       "    <tr style=\"text-align: right;\">\n",
       "      <th></th>\n",
       "      <th>goal</th>\n",
       "      <th>pledged</th>\n",
       "      <th>backers</th>\n",
       "      <th>usd pledged</th>\n",
       "      <th>usd_pledged_real</th>\n",
       "      <th>usd_goal_real</th>\n",
       "      <th>cat_Art</th>\n",
       "      <th>cat_Comics</th>\n",
       "      <th>cat_Crafts</th>\n",
       "      <th>cat_Dance</th>\n",
       "      <th>...</th>\n",
       "      <th>cat_Fashion</th>\n",
       "      <th>cat_Film &amp; Video</th>\n",
       "      <th>cat_Food</th>\n",
       "      <th>cat_Games</th>\n",
       "      <th>cat_Journalism</th>\n",
       "      <th>cat_Music</th>\n",
       "      <th>cat_Photography</th>\n",
       "      <th>cat_Publishing</th>\n",
       "      <th>cat_Technology</th>\n",
       "      <th>cat_Theater</th>\n",
       "    </tr>\n",
       "  </thead>\n",
       "  <tbody>\n",
       "    <tr>\n",
       "      <th>0</th>\n",
       "      <td>1000.0</td>\n",
       "      <td>1505.0</td>\n",
       "      <td>43.0</td>\n",
       "      <td>1505.0</td>\n",
       "      <td>1505.0</td>\n",
       "      <td>1000.0</td>\n",
       "      <td>0</td>\n",
       "      <td>0</td>\n",
       "      <td>0</td>\n",
       "      <td>0</td>\n",
       "      <td>...</td>\n",
       "      <td>0</td>\n",
       "      <td>0</td>\n",
       "      <td>0</td>\n",
       "      <td>0</td>\n",
       "      <td>0</td>\n",
       "      <td>0</td>\n",
       "      <td>0</td>\n",
       "      <td>1</td>\n",
       "      <td>0</td>\n",
       "      <td>0</td>\n",
       "    </tr>\n",
       "    <tr>\n",
       "      <th>1</th>\n",
       "      <td>2295.0</td>\n",
       "      <td>0.0</td>\n",
       "      <td>0.0</td>\n",
       "      <td>0.0</td>\n",
       "      <td>0.0</td>\n",
       "      <td>2295.0</td>\n",
       "      <td>0</td>\n",
       "      <td>0</td>\n",
       "      <td>0</td>\n",
       "      <td>0</td>\n",
       "      <td>...</td>\n",
       "      <td>0</td>\n",
       "      <td>1</td>\n",
       "      <td>0</td>\n",
       "      <td>0</td>\n",
       "      <td>0</td>\n",
       "      <td>0</td>\n",
       "      <td>0</td>\n",
       "      <td>0</td>\n",
       "      <td>0</td>\n",
       "      <td>0</td>\n",
       "    </tr>\n",
       "    <tr>\n",
       "      <th>2</th>\n",
       "      <td>2000.0</td>\n",
       "      <td>2001.0</td>\n",
       "      <td>21.0</td>\n",
       "      <td>2001.0</td>\n",
       "      <td>2001.0</td>\n",
       "      <td>2000.0</td>\n",
       "      <td>0</td>\n",
       "      <td>0</td>\n",
       "      <td>0</td>\n",
       "      <td>0</td>\n",
       "      <td>...</td>\n",
       "      <td>0</td>\n",
       "      <td>1</td>\n",
       "      <td>0</td>\n",
       "      <td>0</td>\n",
       "      <td>0</td>\n",
       "      <td>0</td>\n",
       "      <td>0</td>\n",
       "      <td>0</td>\n",
       "      <td>0</td>\n",
       "      <td>0</td>\n",
       "    </tr>\n",
       "    <tr>\n",
       "      <th>3</th>\n",
       "      <td>2500.0</td>\n",
       "      <td>60.0</td>\n",
       "      <td>3.0</td>\n",
       "      <td>60.0</td>\n",
       "      <td>60.0</td>\n",
       "      <td>2500.0</td>\n",
       "      <td>0</td>\n",
       "      <td>0</td>\n",
       "      <td>0</td>\n",
       "      <td>0</td>\n",
       "      <td>...</td>\n",
       "      <td>0</td>\n",
       "      <td>0</td>\n",
       "      <td>0</td>\n",
       "      <td>0</td>\n",
       "      <td>0</td>\n",
       "      <td>1</td>\n",
       "      <td>0</td>\n",
       "      <td>0</td>\n",
       "      <td>0</td>\n",
       "      <td>0</td>\n",
       "    </tr>\n",
       "    <tr>\n",
       "      <th>4</th>\n",
       "      <td>3000.0</td>\n",
       "      <td>360.0</td>\n",
       "      <td>12.0</td>\n",
       "      <td>360.0</td>\n",
       "      <td>360.0</td>\n",
       "      <td>3000.0</td>\n",
       "      <td>0</td>\n",
       "      <td>0</td>\n",
       "      <td>0</td>\n",
       "      <td>0</td>\n",
       "      <td>...</td>\n",
       "      <td>0</td>\n",
       "      <td>0</td>\n",
       "      <td>0</td>\n",
       "      <td>0</td>\n",
       "      <td>0</td>\n",
       "      <td>0</td>\n",
       "      <td>0</td>\n",
       "      <td>1</td>\n",
       "      <td>0</td>\n",
       "      <td>0</td>\n",
       "    </tr>\n",
       "  </tbody>\n",
       "</table>\n",
       "<p>5 rows × 21 columns</p>\n",
       "</div>"
      ],
      "text/plain": [
       "     goal  pledged  backers  usd pledged  usd_pledged_real  usd_goal_real  \\\n",
       "0  1000.0   1505.0     43.0       1505.0            1505.0         1000.0   \n",
       "1  2295.0      0.0      0.0          0.0               0.0         2295.0   \n",
       "2  2000.0   2001.0     21.0       2001.0            2001.0         2000.0   \n",
       "3  2500.0     60.0      3.0         60.0              60.0         2500.0   \n",
       "4  3000.0    360.0     12.0        360.0             360.0         3000.0   \n",
       "\n",
       "   cat_Art  cat_Comics  cat_Crafts  cat_Dance     ...       cat_Fashion  \\\n",
       "0        0           0           0          0     ...                 0   \n",
       "1        0           0           0          0     ...                 0   \n",
       "2        0           0           0          0     ...                 0   \n",
       "3        0           0           0          0     ...                 0   \n",
       "4        0           0           0          0     ...                 0   \n",
       "\n",
       "   cat_Film & Video  cat_Food  cat_Games  cat_Journalism  cat_Music  \\\n",
       "0                 0         0          0               0          0   \n",
       "1                 1         0          0               0          0   \n",
       "2                 1         0          0               0          0   \n",
       "3                 0         0          0               0          1   \n",
       "4                 0         0          0               0          0   \n",
       "\n",
       "   cat_Photography  cat_Publishing  cat_Technology  cat_Theater  \n",
       "0                0               1               0            0  \n",
       "1                0               0               0            0  \n",
       "2                0               0               0            0  \n",
       "3                0               0               0            0  \n",
       "4                0               1               0            0  \n",
       "\n",
       "[5 rows x 21 columns]"
      ]
     },
     "execution_count": 25,
     "metadata": {},
     "output_type": "execute_result"
    }
   ],
   "source": [
    "X.head()"
   ]
  },
  {
   "cell_type": "code",
   "execution_count": 26,
   "metadata": {},
   "outputs": [
    {
     "data": {
      "image/png": "[encoded data removed]",
      "text/plain": [
       "<matplotlib.figure.Figure at 0x1a1ba8a5f8>"
      ]
     },
     "metadata": {},
     "output_type": "display_data"
    }
   ],
   "source": [
    "sns.countplot(x=y,data=dfNum)\n",
    "plt.show()"
   ]
  },
  {
   "cell_type": "code",
   "execution_count": 27,
   "metadata": {},
   "outputs": [
    {
     "name": "stdout",
     "output_type": "stream",
     "text": [
      "(700,)\n"
     ]
    },
    {
     "data": {
      "text/plain": [
       "array([1, 0])"
      ]
     },
     "execution_count": 27,
     "metadata": {},
     "output_type": "execute_result"
    }
   ],
   "source": [
    "print (y.shape)\n",
    "y.unique()"
   ]
  },
  {
   "cell_type": "markdown",
   "metadata": {},
   "source": [
    "# ISSUE"
   ]
  },
  {
   "cell_type": "markdown",
   "metadata": {},
   "source": [
    "The Cross Val results for LogisticRegression are returning the same values regardless of the regularization parameter \"C\".  RidgeClassifier returns the expected resutls.  So does Lasso LogisticRegression.\n"
   ]
  },
  {
   "cell_type": "markdown",
   "metadata": {},
   "source": [
    "### Ridge: LogisticRegression \n",
    "\n",
    "SHOULD BE DIFFERENT FOR SUCH DIFFERENT C VALUES"
   ]
  },
  {
   "cell_type": "code",
   "execution_count": 28,
   "metadata": {},
   "outputs": [
    {
     "name": "stdout",
     "output_type": "stream",
     "text": [
      "LogisticRegression(C=0.03, class_weight=None, dual=False, fit_intercept=True,\n",
      "          intercept_scaling=1, max_iter=100, multi_class='ovr', n_jobs=1,\n",
      "          penalty='l2', random_state=None, solver='liblinear', tol=0.0001,\n",
      "          verbose=0, warm_start=False)\n"
     ]
    },
    {
     "data": {
      "text/plain": [
       "array([ 1.        ,  1.        ,  1.        ,  1.        ,  1.        ,\n",
       "        1.        ,  1.        ,  1.        ,  1.        ,  0.98550725])"
      ]
     },
     "execution_count": 28,
     "metadata": {},
     "output_type": "execute_result"
    }
   ],
   "source": [
    "rdgLr1 = LogisticRegression(C=.03, penalty='l2')\n",
    "print(rdgLr1)\n",
    "cross_val_score(rdgLr1, X,y, cv=10)"
   ]
  },
  {
   "cell_type": "code",
   "execution_count": 29,
   "metadata": {},
   "outputs": [
    {
     "name": "stdout",
     "output_type": "stream",
     "text": [
      "LogisticRegression(C=1000, class_weight=None, dual=False, fit_intercept=True,\n",
      "          intercept_scaling=1, max_iter=100, multi_class='ovr', n_jobs=1,\n",
      "          penalty='l2', random_state=None, solver='liblinear', tol=0.0001,\n",
      "          verbose=0, warm_start=False)\n"
     ]
    },
    {
     "data": {
      "text/plain": [
       "array([ 1.        ,  1.        ,  1.        ,  1.        ,  1.        ,\n",
       "        1.        ,  1.        ,  1.        ,  1.        ,  0.98550725])"
      ]
     },
     "execution_count": 29,
     "metadata": {},
     "output_type": "execute_result"
    }
   ],
   "source": [
    "rdgLr2 = LogisticRegression(C=1000, penalty='l2')\n",
    "print(rdgLr2)\n",
    "cross_val_score(rdgLr2, X,y, cv=10)"
   ]
  },
  {
   "cell_type": "markdown",
   "metadata": {},
   "source": [
    "### Ridge: RidgeClassifer"
   ]
  },
  {
   "cell_type": "code",
   "execution_count": 30,
   "metadata": {},
   "outputs": [
    {
     "name": "stdout",
     "output_type": "stream",
     "text": [
      "RidgeClassifier(alpha=0.03, class_weight=None, copy_X=True,\n",
      "        fit_intercept=True, max_iter=None, normalize=False,\n",
      "        random_state=None, solver='auto', tol=0.001)\n"
     ]
    },
    {
     "data": {
      "text/plain": [
       "array([ 0.74647887,  0.81690141,  0.62857143,  0.58571429,  0.75714286,\n",
       "        0.7       ,  0.62857143,  0.67142857,  0.62318841,  0.68115942])"
      ]
     },
     "execution_count": 30,
     "metadata": {},
     "output_type": "execute_result"
    }
   ],
   "source": [
    "rdgLr3 = linear_model.RidgeClassifier(alpha=.03)\n",
    "print(rdgLr3)\n",
    "cross_val_score(rdgLr3, X, y, cv=10)"
   ]
  },
  {
   "cell_type": "code",
   "execution_count": 31,
   "metadata": {},
   "outputs": [
    {
     "name": "stdout",
     "output_type": "stream",
     "text": [
      "RidgeClassifier(alpha=1000, class_weight=None, copy_X=True,\n",
      "        fit_intercept=True, max_iter=None, normalize=False,\n",
      "        random_state=None, solver='auto', tol=0.001)\n"
     ]
    },
    {
     "data": {
      "text/plain": [
       "array([ 0.74647887,  0.81690141,  0.62857143,  0.58571429,  0.75714286,\n",
       "        0.7       ,  0.62857143,  0.67142857,  0.62318841,  0.68115942])"
      ]
     },
     "execution_count": 31,
     "metadata": {},
     "output_type": "execute_result"
    }
   ],
   "source": [
    "rdgLr4 = linear_model.RidgeClassifier(alpha=1000)\n",
    "print(rdgLr4)\n",
    "cross_val_score(rdgLr3, X, y, cv=10)"
   ]
  },
  {
   "cell_type": "code",
   "execution_count": null,
   "metadata": {
    "collapsed": true
   },
   "outputs": [],
   "source": []
  },
  {
   "cell_type": "markdown",
   "metadata": {},
   "source": [
    "### Lasso: LogisticRegression"
   ]
  },
  {
   "cell_type": "code",
   "execution_count": 32,
   "metadata": {},
   "outputs": [
    {
     "name": "stdout",
     "output_type": "stream",
     "text": [
      "LogisticRegression(C=0.03, class_weight=None, dual=False, fit_intercept=True,\n",
      "          intercept_scaling=1, max_iter=100, multi_class='ovr', n_jobs=1,\n",
      "          penalty='l1', random_state=None, solver='liblinear', tol=0.0001,\n",
      "          verbose=0, warm_start=False)\n"
     ]
    },
    {
     "data": {
      "text/plain": [
       "array([ 1.        ,  1.        ,  1.        ,  0.98571429,  0.98571429,\n",
       "        1.        ,  1.        ,  0.98571429,  0.97101449,  0.98550725])"
      ]
     },
     "execution_count": 32,
     "metadata": {},
     "output_type": "execute_result"
    }
   ],
   "source": [
    "lssLr1 = LogisticRegression(C=.03, penalty='l1')\n",
    "print(lssLr1)\n",
    "cross_val_score(lssLr1, X,y, cv=10)"
   ]
  },
  {
   "cell_type": "code",
   "execution_count": 33,
   "metadata": {},
   "outputs": [
    {
     "name": "stdout",
     "output_type": "stream",
     "text": [
      "LogisticRegression(C=100, class_weight=None, dual=False, fit_intercept=True,\n",
      "          intercept_scaling=1, max_iter=100, multi_class='ovr', n_jobs=1,\n",
      "          penalty='l1', random_state=None, solver='liblinear', tol=0.0001,\n",
      "          verbose=0, warm_start=False)\n"
     ]
    },
    {
     "data": {
      "text/plain": [
       "array([ 0.95774648,  0.97183099,  0.95714286,  0.91428571,  0.97142857,\n",
       "        0.95714286,  0.95714286,  0.92857143,  0.97101449,  0.94202899])"
      ]
     },
     "execution_count": 33,
     "metadata": {},
     "output_type": "execute_result"
    }
   ],
   "source": [
    "lssLr2 = LogisticRegression(C=100, penalty='l1')\n",
    "print(lssLr2)\n",
    "cross_val_score(lssLr2, X,y, cv=10)"
   ]
  },
  {
   "cell_type": "markdown",
   "metadata": {},
   "source": [
    "### Vanilla Regression"
   ]
  },
  {
   "cell_type": "code",
   "execution_count": 34,
   "metadata": {},
   "outputs": [
    {
     "name": "stdout",
     "output_type": "stream",
     "text": [
      "LogisticRegression(C=1.0, class_weight=None, dual=False, fit_intercept=True,\n",
      "          intercept_scaling=1, max_iter=100, multi_class='ovr', n_jobs=1,\n",
      "          penalty='l2', random_state=None, solver='liblinear', tol=0.0001,\n",
      "          verbose=0, warm_start=False)\n"
     ]
    },
    {
     "data": {
      "text/plain": [
       "array([ 1.        ,  1.        ,  1.        ,  1.        ,  1.        ,\n",
       "        1.        ,  1.        ,  1.        ,  1.        ,  0.98550725])"
      ]
     },
     "execution_count": 34,
     "metadata": {},
     "output_type": "execute_result"
    }
   ],
   "source": [
    "vLr1 = LogisticRegression()\n",
    "print(vLr1)\n",
    "cross_val_score(vLr1, X,y, cv=10)"
   ]
  },
  {
   "cell_type": "markdown",
   "metadata": {},
   "source": [
    "# Isolate Features"
   ]
  },
  {
   "cell_type": "code",
   "execution_count": null,
   "metadata": {
    "collapsed": true
   },
   "outputs": [],
   "source": []
  },
  {
   "cell_type": "markdown",
   "metadata": {},
   "source": [
    "# Manual Iterations"
   ]
  },
  {
   "cell_type": "code",
   "execution_count": 262,
   "metadata": {},
   "outputs": [],
   "source": [
    "def loopIterations2(X,y,listOfCs):\n",
    "\n",
    "    for c in listOfCs:\n",
    "\n",
    "        B_rdgLr4 = LogisticRegression(C=c, penalty='l2').fit(X,y)\n",
    "        score = B_rdgLr4.score(X,y)\n",
    "        cvs = cross_val_score(B_rdgLr4, X,y, cv=5)\n",
    "        \n",
    "        print(\"C:{0:.6f}   Score:{1}\".format(c,score))\n",
    "        print (\"  {}\\n\".format(cvs))\n",
    "        "
   ]
  },
  {
   "cell_type": "code",
   "execution_count": 252,
   "metadata": {},
   "outputs": [],
   "source": [
    "def manualIterations(X,y):\n",
    "\n",
    "    B_rdgLr3 = LogisticRegression(C=300, penalty='l2').fit(X,y)\n",
    "    print('300\\t' + str(B_rdgLr3.score(X,y)))\n",
    "    \n",
    "    B_rdgLr3 = LogisticRegression(C=30, penalty='l2').fit(X,y)\n",
    "    print('30\\t' + str(B_rdgLr3.score(X,y)))\n",
    "    \n",
    "    B_rdgLr3 = LogisticRegression(C=3, penalty='l2').fit(X,y)\n",
    "    print('3\\t' + str(B_rdgLr3.score(X,y)))\n",
    "\n",
    "    B_rdgLr2 = LogisticRegression(C=.3, penalty='l2').fit(X,y)\n",
    "    print('.3\\t' + str(B_rdgLr2.score(X,y)))\n",
    "    \n",
    "    B_rdgLr1 = LogisticRegression(C=.03, penalty='l2').fit(X,y)\n",
    "    print('.03\\t' + str(B_rdgLr1.score(X[:10],y[:10])))\n",
    "    \n",
    "    B_rdgLr5 = LogisticRegression(C=.003, penalty='l2').fit(X,y)\n",
    "    print('.003\\t' + str(B_rdgLr5.score(X,y)))\n",
    "    \n",
    "    B_rdgLr5 = LogisticRegression(C=.0003, penalty='l2').fit(X,y)\n",
    "    print('.0003\\t' + str(B_rdgLr5.score(X,y)))\n",
    "    \n",
    "    B_rdgLr5 = LogisticRegression(C=.00003, penalty='l2').fit(X,y)\n",
    "    print('.00003\\t' + str(B_rdgLr5.score(X,y)))"
   ]
  },
  {
   "cell_type": "code",
   "execution_count": null,
   "metadata": {},
   "outputs": [],
   "source": []
  },
  {
   "cell_type": "markdown",
   "metadata": {},
   "source": [
    "# Odd Behavior"
   ]
  },
  {
   "cell_type": "markdown",
   "metadata": {},
   "source": [
    "- isolated the problem to three features\n",
    "- when the 'goal' feature is included \n",
    "    - the scores are scores only have a few values across a wide range.  For example:  \n",
    "        - 3 scores:\n",
    "            - 0.898571428571 (at c of 300 and .0003!)\n",
    "            - 1.0\n",
    "            - 0.9\n",
    "        - for c of 300,30, 3,.3,.03,.003,.0003\n",
    "    - The CV scores are the same for various values of C"
   ]
  },
  {
   "cell_type": "code",
   "execution_count": 215,
   "metadata": {},
   "outputs": [
    {
     "data": {
      "text/html": [
       "<div>\n",
       "<style>\n",
       "    .dataframe thead tr:only-child th {\n",
       "        text-align: right;\n",
       "    }\n",
       "\n",
       "    .dataframe thead th {\n",
       "        text-align: left;\n",
       "    }\n",
       "\n",
       "    .dataframe tbody tr th {\n",
       "        vertical-align: top;\n",
       "    }\n",
       "</style>\n",
       "<table border=\"1\" class=\"dataframe\">\n",
       "  <thead>\n",
       "    <tr style=\"text-align: right;\">\n",
       "      <th></th>\n",
       "      <th>goal</th>\n",
       "      <th>pledged</th>\n",
       "      <th>backers</th>\n",
       "      <th>usd pledged</th>\n",
       "      <th>usd_pledged_real</th>\n",
       "      <th>usd_goal_real</th>\n",
       "      <th>cat_Art</th>\n",
       "      <th>cat_Comics</th>\n",
       "      <th>cat_Crafts</th>\n",
       "      <th>cat_Dance</th>\n",
       "      <th>...</th>\n",
       "      <th>cat_Fashion</th>\n",
       "      <th>cat_Film &amp; Video</th>\n",
       "      <th>cat_Food</th>\n",
       "      <th>cat_Games</th>\n",
       "      <th>cat_Journalism</th>\n",
       "      <th>cat_Music</th>\n",
       "      <th>cat_Photography</th>\n",
       "      <th>cat_Publishing</th>\n",
       "      <th>cat_Technology</th>\n",
       "      <th>cat_Theater</th>\n",
       "    </tr>\n",
       "  </thead>\n",
       "  <tbody>\n",
       "    <tr>\n",
       "      <th>0</th>\n",
       "      <td>1000.0</td>\n",
       "      <td>1505.0</td>\n",
       "      <td>43.0</td>\n",
       "      <td>1505.0</td>\n",
       "      <td>1505.0</td>\n",
       "      <td>1000.0</td>\n",
       "      <td>0</td>\n",
       "      <td>0</td>\n",
       "      <td>0</td>\n",
       "      <td>0</td>\n",
       "      <td>...</td>\n",
       "      <td>0</td>\n",
       "      <td>0</td>\n",
       "      <td>0</td>\n",
       "      <td>0</td>\n",
       "      <td>0</td>\n",
       "      <td>0</td>\n",
       "      <td>0</td>\n",
       "      <td>1</td>\n",
       "      <td>0</td>\n",
       "      <td>0</td>\n",
       "    </tr>\n",
       "    <tr>\n",
       "      <th>1</th>\n",
       "      <td>2295.0</td>\n",
       "      <td>0.0</td>\n",
       "      <td>0.0</td>\n",
       "      <td>0.0</td>\n",
       "      <td>0.0</td>\n",
       "      <td>2295.0</td>\n",
       "      <td>0</td>\n",
       "      <td>0</td>\n",
       "      <td>0</td>\n",
       "      <td>0</td>\n",
       "      <td>...</td>\n",
       "      <td>0</td>\n",
       "      <td>1</td>\n",
       "      <td>0</td>\n",
       "      <td>0</td>\n",
       "      <td>0</td>\n",
       "      <td>0</td>\n",
       "      <td>0</td>\n",
       "      <td>0</td>\n",
       "      <td>0</td>\n",
       "      <td>0</td>\n",
       "    </tr>\n",
       "    <tr>\n",
       "      <th>2</th>\n",
       "      <td>2000.0</td>\n",
       "      <td>2001.0</td>\n",
       "      <td>21.0</td>\n",
       "      <td>2001.0</td>\n",
       "      <td>2001.0</td>\n",
       "      <td>2000.0</td>\n",
       "      <td>0</td>\n",
       "      <td>0</td>\n",
       "      <td>0</td>\n",
       "      <td>0</td>\n",
       "      <td>...</td>\n",
       "      <td>0</td>\n",
       "      <td>1</td>\n",
       "      <td>0</td>\n",
       "      <td>0</td>\n",
       "      <td>0</td>\n",
       "      <td>0</td>\n",
       "      <td>0</td>\n",
       "      <td>0</td>\n",
       "      <td>0</td>\n",
       "      <td>0</td>\n",
       "    </tr>\n",
       "    <tr>\n",
       "      <th>3</th>\n",
       "      <td>2500.0</td>\n",
       "      <td>60.0</td>\n",
       "      <td>3.0</td>\n",
       "      <td>60.0</td>\n",
       "      <td>60.0</td>\n",
       "      <td>2500.0</td>\n",
       "      <td>0</td>\n",
       "      <td>0</td>\n",
       "      <td>0</td>\n",
       "      <td>0</td>\n",
       "      <td>...</td>\n",
       "      <td>0</td>\n",
       "      <td>0</td>\n",
       "      <td>0</td>\n",
       "      <td>0</td>\n",
       "      <td>0</td>\n",
       "      <td>1</td>\n",
       "      <td>0</td>\n",
       "      <td>0</td>\n",
       "      <td>0</td>\n",
       "      <td>0</td>\n",
       "    </tr>\n",
       "    <tr>\n",
       "      <th>4</th>\n",
       "      <td>3000.0</td>\n",
       "      <td>360.0</td>\n",
       "      <td>12.0</td>\n",
       "      <td>360.0</td>\n",
       "      <td>360.0</td>\n",
       "      <td>3000.0</td>\n",
       "      <td>0</td>\n",
       "      <td>0</td>\n",
       "      <td>0</td>\n",
       "      <td>0</td>\n",
       "      <td>...</td>\n",
       "      <td>0</td>\n",
       "      <td>0</td>\n",
       "      <td>0</td>\n",
       "      <td>0</td>\n",
       "      <td>0</td>\n",
       "      <td>0</td>\n",
       "      <td>0</td>\n",
       "      <td>1</td>\n",
       "      <td>0</td>\n",
       "      <td>0</td>\n",
       "    </tr>\n",
       "  </tbody>\n",
       "</table>\n",
       "<p>5 rows × 21 columns</p>\n",
       "</div>"
      ],
      "text/plain": [
       "     goal  pledged  backers  usd pledged  usd_pledged_real  usd_goal_real  \\\n",
       "0  1000.0   1505.0     43.0       1505.0            1505.0         1000.0   \n",
       "1  2295.0      0.0      0.0          0.0               0.0         2295.0   \n",
       "2  2000.0   2001.0     21.0       2001.0            2001.0         2000.0   \n",
       "3  2500.0     60.0      3.0         60.0              60.0         2500.0   \n",
       "4  3000.0    360.0     12.0        360.0             360.0         3000.0   \n",
       "\n",
       "   cat_Art  cat_Comics  cat_Crafts  cat_Dance     ...       cat_Fashion  \\\n",
       "0        0           0           0          0     ...                 0   \n",
       "1        0           0           0          0     ...                 0   \n",
       "2        0           0           0          0     ...                 0   \n",
       "3        0           0           0          0     ...                 0   \n",
       "4        0           0           0          0     ...                 0   \n",
       "\n",
       "   cat_Film & Video  cat_Food  cat_Games  cat_Journalism  cat_Music  \\\n",
       "0                 0         0          0               0          0   \n",
       "1                 1         0          0               0          0   \n",
       "2                 1         0          0               0          0   \n",
       "3                 0         0          0               0          1   \n",
       "4                 0         0          0               0          0   \n",
       "\n",
       "   cat_Photography  cat_Publishing  cat_Technology  cat_Theater  \n",
       "0                0               1               0            0  \n",
       "1                0               0               0            0  \n",
       "2                0               0               0            0  \n",
       "3                0               0               0            0  \n",
       "4                0               1               0            0  \n",
       "\n",
       "[5 rows x 21 columns]"
      ]
     },
     "execution_count": 215,
     "metadata": {},
     "output_type": "execute_result"
    }
   ],
   "source": [
    "X.head()"
   ]
  },
  {
   "cell_type": "markdown",
   "metadata": {},
   "source": [
    "#### Isolate the issue to three features"
   ]
  },
  {
   "cell_type": "code",
   "execution_count": 233,
   "metadata": {},
   "outputs": [
    {
     "name": "stdout",
     "output_type": "stream",
     "text": [
      "300\t1.0\n",
      "30\t1.0\n",
      "3\t1.0\n",
      ".3\t1.0\n",
      ".03\t1.0\n",
      ".003\t1.0\n",
      ".0003\t1.0\n",
      ".00003\t1.0\n"
     ]
    }
   ],
   "source": [
    "manualIterations(X[['goal','pledged','backers']],y)"
   ]
  },
  {
   "cell_type": "markdown",
   "metadata": {},
   "source": [
    "#### Only 3 unique scores for a very wide range of Cs!!!"
   ]
  },
  {
   "cell_type": "code",
   "execution_count": 234,
   "metadata": {},
   "outputs": [
    {
     "name": "stdout",
     "output_type": "stream",
     "text": [
      "300\t0.898571428571\n",
      "30\t0.898571428571\n",
      "3\t0.898571428571\n",
      ".3\t0.898571428571\n",
      ".03\t1.0\n",
      ".003\t0.898571428571\n",
      ".0003\t0.898571428571\n",
      ".00003\t0.9\n"
     ]
    }
   ],
   "source": [
    "manualIterations(X[['goal','backers']],y)"
   ]
  },
  {
   "cell_type": "markdown",
   "metadata": {},
   "source": [
    "#### Scores repeat but there is more variety (The CV scores DO vary.  Those are in the next section)"
   ]
  },
  {
   "cell_type": "code",
   "execution_count": 231,
   "metadata": {},
   "outputs": [
    {
     "name": "stdout",
     "output_type": "stream",
     "text": [
      "300\t0.765714285714\n",
      "30\t0.765714285714\n",
      "3\t0.765714285714\n",
      ".3\t0.764285714286\n",
      ".03\t0.8\n",
      ".003\t0.814285714286\n",
      ".0003\t0.564285714286\n",
      ".00003\t0.564285714286\n"
     ]
    }
   ],
   "source": [
    "manualIterations(X[['pledged','backers']],y)"
   ]
  },
  {
   "cell_type": "markdown",
   "metadata": {},
   "source": [
    "#### Very similar to scores with all three features"
   ]
  },
  {
   "cell_type": "code",
   "execution_count": 232,
   "metadata": {},
   "outputs": [
    {
     "name": "stdout",
     "output_type": "stream",
     "text": [
      "300\t1.0\n",
      "30\t1.0\n",
      "3\t1.0\n",
      ".3\t1.0\n",
      ".03\t1.0\n",
      ".003\t1.0\n",
      ".0003\t1.0\n",
      ".00003\t1.0\n"
     ]
    }
   ],
   "source": [
    "manualIterations(X[['goal','pledged']],y)"
   ]
  },
  {
   "cell_type": "markdown",
   "metadata": {},
   "source": [
    "### CV scores repeat when \"goal\" feature is included but not when excluded"
   ]
  },
  {
   "cell_type": "code",
   "execution_count": 263,
   "metadata": {
    "collapsed": true
   },
   "outputs": [],
   "source": [
    "listOfCs = [300,30, 3,.3,.03,.003,.0003]"
   ]
  },
  {
   "cell_type": "markdown",
   "metadata": {},
   "source": [
    "#### CV Scores Repeat.  Similar values when all features are used"
   ]
  },
  {
   "cell_type": "code",
   "execution_count": 264,
   "metadata": {},
   "outputs": [
    {
     "name": "stdout",
     "output_type": "stream",
     "text": [
      "C:300.000000   Score:1.0\n",
      "  [ 1.          1.          1.          1.          0.99280576]\n",
      "\n",
      "C:30.000000   Score:1.0\n",
      "  [ 1.          1.          1.          1.          0.99280576]\n",
      "\n",
      "C:3.000000   Score:1.0\n",
      "  [ 1.          1.          1.          1.          0.99280576]\n",
      "\n",
      "C:0.300000   Score:1.0\n",
      "  [ 1.          1.          1.          1.          0.99280576]\n",
      "\n",
      "C:0.030000   Score:1.0\n",
      "  [ 1.          1.          1.          1.          0.99280576]\n",
      "\n",
      "C:0.003000   Score:1.0\n",
      "  [ 1.          1.          1.          1.          0.99280576]\n",
      "\n",
      "C:0.000300   Score:1.0\n",
      "  [ 1.          1.          1.          1.          0.99280576]\n",
      "\n"
     ]
    }
   ],
   "source": [
    "loopIterations2(X[['goal','pledged']],y,listOfCs)"
   ]
  },
  {
   "cell_type": "markdown",
   "metadata": {},
   "source": [
    "#### CV Scores vary more for a single value of C, but they are the same for ALL Cs"
   ]
  },
  {
   "cell_type": "code",
   "execution_count": 304,
   "metadata": {},
   "outputs": [
    {
     "name": "stdout",
     "output_type": "stream",
     "text": [
      "C:300.000000   Score:0.8985714285714286\n",
      "  [ 0.92907801  0.90070922  0.90714286  0.86330935  0.89928058]\n",
      "\n",
      "C:30.000000   Score:0.8985714285714286\n",
      "  [ 0.92907801  0.90070922  0.90714286  0.86330935  0.89928058]\n",
      "\n",
      "C:3.000000   Score:0.8985714285714286\n",
      "  [ 0.92907801  0.90070922  0.90714286  0.86330935  0.89928058]\n",
      "\n",
      "C:0.300000   Score:0.8985714285714286\n",
      "  [ 0.92907801  0.90070922  0.90714286  0.86330935  0.89928058]\n",
      "\n",
      "C:0.030000   Score:0.8985714285714286\n",
      "  [ 0.92907801  0.90070922  0.90714286  0.86330935  0.89928058]\n",
      "\n",
      "C:0.003000   Score:0.8985714285714286\n",
      "  [ 0.92907801  0.90070922  0.90714286  0.86330935  0.89928058]\n",
      "\n",
      "C:0.000300   Score:0.8985714285714286\n",
      "  [ 0.92907801  0.90070922  0.90714286  0.86330935  0.89928058]\n",
      "\n"
     ]
    }
   ],
   "source": [
    "loopIterations2(X[['goal','backers']],y,listOfCs)"
   ]
  },
  {
   "cell_type": "markdown",
   "metadata": {},
   "source": [
    "#### Without \"goals\" feature, CV scores vary more with smaller C values then level off at 3 and above"
   ]
  },
  {
   "cell_type": "code",
   "execution_count": 266,
   "metadata": {},
   "outputs": [
    {
     "name": "stdout",
     "output_type": "stream",
     "text": [
      "C:300.000000   Score:0.7657142857142857\n",
      "  [ 0.78014184  0.78723404  0.76428571  0.73381295  0.78417266]\n",
      "\n",
      "C:30.000000   Score:0.7657142857142857\n",
      "  [ 0.78014184  0.78723404  0.76428571  0.73381295  0.78417266]\n",
      "\n",
      "C:3.000000   Score:0.7657142857142857\n",
      "  [ 0.78014184  0.78723404  0.76428571  0.73381295  0.78417266]\n",
      "\n",
      "C:0.300000   Score:0.7642857142857142\n",
      "  [ 0.78014184  0.78723404  0.75714286  0.73381295  0.78417266]\n",
      "\n",
      "C:0.030000   Score:0.7728571428571429\n",
      "  [ 0.83687943  0.79432624  0.76428571  0.76258993  0.78417266]\n",
      "\n",
      "C:0.003000   Score:0.8142857142857143\n",
      "  [ 0.78723404  0.81560284  0.8         0.70503597  0.64748201]\n",
      "\n",
      "C:0.000300   Score:0.5642857142857143\n",
      "  [ 0.58156028  0.53191489  0.77857143  0.65467626  0.61870504]\n",
      "\n"
     ]
    }
   ],
   "source": [
    "loopIterations2(X[['backers','pledged']],y,listOfCs)"
   ]
  },
  {
   "cell_type": "markdown",
   "metadata": {
    "collapsed": true
   },
   "source": [
    "# Auto Iterations"
   ]
  },
  {
   "cell_type": "code",
   "execution_count": 268,
   "metadata": {
    "collapsed": true
   },
   "outputs": [],
   "source": [
    "def GridSearchTablePlot(gridClf, paramName,\n",
    "                          num_results=15,\n",
    "                          negative=True,\n",
    "                          graph=True,\n",
    "                          displayAllParams=False,\n",
    "                          largeTable=False):\n",
    "\n",
    "    '''Display grid search results\n",
    "\n",
    "    Arguments\n",
    "    ---------\n",
    "\n",
    "    gridClf           the estimator resulting from a grid search\n",
    "                       for example: gridClf = GridSearchCV( ...\n",
    "\n",
    "    paramName         a string with the name of the parameter being tested\n",
    "\n",
    "    num_results        an integer indicating the number of results to display\n",
    "                       Default: 15\n",
    "\n",
    "    negative           boolean: should the sign of the score be reversed?\n",
    "                       scoring = 'neg_log_loss', for instance\n",
    "                       Default: True\n",
    "\n",
    "    graph              boolean: should a graph be produced?\n",
    "                       non-numeric parameters (True/False, None) don't graph well\n",
    "                       Default: True\n",
    "\n",
    "    displayAllParams boolean: should we print out all of the parameters, not just the ones searched for?\n",
    "                       Default: True\n",
    "\n",
    "    Usage\n",
    "    -----\n",
    "\n",
    "    GridSearchTablePlot(gridClf, \"min_samples_leaf\")\n",
    "\n",
    "                          '''\n",
    "    from matplotlib      import pyplot as plt\n",
    "    from IPython.display import display\n",
    "    import pandas as pd\n",
    "\n",
    "    clf = gridClf.best_estimator_\n",
    "    clf_params = gridClf.best_params_\n",
    "    if negative:\n",
    "        clf_score = -gridClf.best_score_\n",
    "    else:\n",
    "        clf_score = gridClf.best_score_\n",
    "    clf_stdev = gridClf.cv_results_['std_test_score'][gridClf.best_index_]\n",
    "    cv_results = gridClf.cv_results_\n",
    "\n",
    "    print(\"best parameters: {}\".format(clf_params))\n",
    "    print(\"best score:      {:0.5f} (+/-{:0.5f})\".format(clf_score, clf_stdev))\n",
    "    if displayAllParams:\n",
    "        import pprint\n",
    "        pprint.pprint(clf.get_params())\n",
    "\n",
    "    # pick out the best results\n",
    "    # =========================\n",
    "    scores_df = pd.DataFrame(cv_results).sort_values(by='rank_test_score')\n",
    "\n",
    "    best_row = scores_df.iloc[0, :]\n",
    "    if negative:\n",
    "        best_mean = -best_row['mean_test_score']\n",
    "    else:\n",
    "        best_mean = best_row['mean_test_score']\n",
    "    best_stdev = best_row['std_test_score']\n",
    "    best_param = best_row['param_' + paramName]\n",
    "\n",
    " \n",
    "    # display abreviated top 'num_results' results\n",
    "    # ===================================== \n",
    "\n",
    "    if largeTable:\n",
    "        display(pd.DataFrame(cv_results) \\\n",
    "            .sort_values(by='rank_test_score').head(num_results))\n",
    "\n",
    "    else:\n",
    "        abrevCols = ['mean_test_score','std_test_score']\n",
    "        abrevCols += [col for col in pd.DataFrame(cv_results) if 'param_' in col]\n",
    "    \n",
    "        display(pd.DataFrame(cv_results) \\\n",
    "            .sort_values(by='rank_test_score').head(num_results)[abrevCols])\n",
    "        \n",
    "\n",
    "    # plot the results\n",
    "    # ================\n",
    "    [col for col in pd.DataFrame(cv_results) if 'param_' in col]\n",
    "    \n",
    "    scores_df = scores_df.sort_values(by='param_' + paramName)\n",
    "\n",
    "    if negative:\n",
    "        means = -scores_df['mean_test_score']\n",
    "    else:\n",
    "        means = scores_df['mean_test_score']\n",
    "    stds = scores_df['std_test_score']\n",
    "    params = scores_df['param_' + paramName]\n",
    "\n",
    "    # plot\n",
    "    if graph:\n",
    "        plt.figure(figsize=(8, 4))\n",
    "        plt.errorbar(params, means, yerr=stds)\n",
    "\n",
    "        plt.axhline(y=best_mean + best_stdev, color='red')\n",
    "        plt.axhline(y=best_mean - best_stdev, color='red')\n",
    "        plt.plot(best_param, best_mean, 'or')\n",
    "\n",
    "        plt.title(paramName + \" vs Score\\nBest Score {:0.5f}\".format(clf_score))\n",
    "        plt.xlabel(paramName)\n",
    "        plt.ylabel('Score')\n",
    "        plt.show()"
   ]
  },
  {
   "cell_type": "markdown",
   "metadata": {},
   "source": [
    "### Ridge: LogisticRegression"
   ]
  },
  {
   "cell_type": "code",
   "execution_count": 269,
   "metadata": {},
   "outputs": [
    {
     "name": "stdout",
     "output_type": "stream",
     "text": [
      "best parameters: {'C': 0.0030000000000000001, 'penalty': 'l2'}\n",
      "best score:      0.99857 (+/-0.00202)\n"
     ]
    },
    {
     "data": {
      "text/html": [
       "<div>\n",
       "<style>\n",
       "    .dataframe thead tr:only-child th {\n",
       "        text-align: right;\n",
       "    }\n",
       "\n",
       "    .dataframe thead th {\n",
       "        text-align: left;\n",
       "    }\n",
       "\n",
       "    .dataframe tbody tr th {\n",
       "        vertical-align: top;\n",
       "    }\n",
       "</style>\n",
       "<table border=\"1\" class=\"dataframe\">\n",
       "  <thead>\n",
       "    <tr style=\"text-align: right;\">\n",
       "      <th></th>\n",
       "      <th>mean_test_score</th>\n",
       "      <th>std_test_score</th>\n",
       "      <th>param_C</th>\n",
       "      <th>param_penalty</th>\n",
       "    </tr>\n",
       "  </thead>\n",
       "  <tbody>\n",
       "    <tr>\n",
       "      <th>0</th>\n",
       "      <td>0.998571</td>\n",
       "      <td>0.002022</td>\n",
       "      <td>0.003</td>\n",
       "      <td>l2</td>\n",
       "    </tr>\n",
       "    <tr>\n",
       "      <th>1</th>\n",
       "      <td>0.998571</td>\n",
       "      <td>0.002022</td>\n",
       "      <td>11.1138</td>\n",
       "      <td>l2</td>\n",
       "    </tr>\n",
       "    <tr>\n",
       "      <th>2</th>\n",
       "      <td>0.998571</td>\n",
       "      <td>0.002022</td>\n",
       "      <td>22.2246</td>\n",
       "      <td>l2</td>\n",
       "    </tr>\n",
       "    <tr>\n",
       "      <th>3</th>\n",
       "      <td>0.998571</td>\n",
       "      <td>0.002022</td>\n",
       "      <td>33.3353</td>\n",
       "      <td>l2</td>\n",
       "    </tr>\n",
       "    <tr>\n",
       "      <th>4</th>\n",
       "      <td>0.998571</td>\n",
       "      <td>0.002022</td>\n",
       "      <td>44.4461</td>\n",
       "      <td>l2</td>\n",
       "    </tr>\n",
       "    <tr>\n",
       "      <th>5</th>\n",
       "      <td>0.998571</td>\n",
       "      <td>0.002022</td>\n",
       "      <td>55.5569</td>\n",
       "      <td>l2</td>\n",
       "    </tr>\n",
       "    <tr>\n",
       "      <th>6</th>\n",
       "      <td>0.998571</td>\n",
       "      <td>0.002022</td>\n",
       "      <td>66.6677</td>\n",
       "      <td>l2</td>\n",
       "    </tr>\n",
       "    <tr>\n",
       "      <th>7</th>\n",
       "      <td>0.998571</td>\n",
       "      <td>0.002022</td>\n",
       "      <td>77.7784</td>\n",
       "      <td>l2</td>\n",
       "    </tr>\n",
       "    <tr>\n",
       "      <th>8</th>\n",
       "      <td>0.998571</td>\n",
       "      <td>0.002022</td>\n",
       "      <td>88.8892</td>\n",
       "      <td>l2</td>\n",
       "    </tr>\n",
       "    <tr>\n",
       "      <th>9</th>\n",
       "      <td>0.998571</td>\n",
       "      <td>0.002022</td>\n",
       "      <td>100</td>\n",
       "      <td>l2</td>\n",
       "    </tr>\n",
       "  </tbody>\n",
       "</table>\n",
       "</div>"
      ],
      "text/plain": [
       "   mean_test_score  std_test_score  param_C param_penalty\n",
       "0         0.998571        0.002022    0.003            l2\n",
       "1         0.998571        0.002022  11.1138            l2\n",
       "2         0.998571        0.002022  22.2246            l2\n",
       "3         0.998571        0.002022  33.3353            l2\n",
       "4         0.998571        0.002022  44.4461            l2\n",
       "5         0.998571        0.002022  55.5569            l2\n",
       "6         0.998571        0.002022  66.6677            l2\n",
       "7         0.998571        0.002022  77.7784            l2\n",
       "8         0.998571        0.002022  88.8892            l2\n",
       "9         0.998571        0.002022      100            l2"
      ]
     },
     "metadata": {},
     "output_type": "display_data"
    },
    {
     "data": {
      "image/png": "[encoded data removed]",
      "text/plain": [
       "<matplotlib.figure.Figure at 0x1a1cb23ac8>"
      ]
     },
     "metadata": {},
     "output_type": "display_data"
    }
   ],
   "source": [
    "ridgeLrParams = {'C':np.linspace(.003,100,num=10),\n",
    "              'penalty':('l2',)}\n",
    "gsRidgeLr = GridSearchCV(LogisticRegression(), ridgeLrParams, return_train_score=True, n_jobs=4)\n",
    "gsOut = gsRidgeLr.fit(X,y)\n",
    "GridSearchTablePlot(gsRidgeLr,\"C\", negative=False)"
   ]
  },
  {
   "cell_type": "markdown",
   "metadata": {},
   "source": [
    "### Ridge: RidgeClassifier"
   ]
  },
  {
   "cell_type": "code",
   "execution_count": 270,
   "metadata": {},
   "outputs": [
    {
     "name": "stdout",
     "output_type": "stream",
     "text": [
      "best parameters: {'alpha': 32.157894736842103}\n",
      "best score:      0.71429 (+/-0.01693)\n"
     ]
    },
    {
     "data": {
      "text/html": [
       "<div>\n",
       "<style>\n",
       "    .dataframe thead tr:only-child th {\n",
       "        text-align: right;\n",
       "    }\n",
       "\n",
       "    .dataframe thead th {\n",
       "        text-align: left;\n",
       "    }\n",
       "\n",
       "    .dataframe tbody tr th {\n",
       "        vertical-align: top;\n",
       "    }\n",
       "</style>\n",
       "<table border=\"1\" class=\"dataframe\">\n",
       "  <thead>\n",
       "    <tr style=\"text-align: right;\">\n",
       "      <th></th>\n",
       "      <th>mean_test_score</th>\n",
       "      <th>std_test_score</th>\n",
       "      <th>param_alpha</th>\n",
       "    </tr>\n",
       "  </thead>\n",
       "  <tbody>\n",
       "    <tr>\n",
       "      <th>16</th>\n",
       "      <td>0.714286</td>\n",
       "      <td>0.016935</td>\n",
       "      <td>32.1579</td>\n",
       "    </tr>\n",
       "    <tr>\n",
       "      <th>19</th>\n",
       "      <td>0.712857</td>\n",
       "      <td>0.015601</td>\n",
       "      <td>35</td>\n",
       "    </tr>\n",
       "    <tr>\n",
       "      <th>4</th>\n",
       "      <td>0.712857</td>\n",
       "      <td>0.007504</td>\n",
       "      <td>20.7895</td>\n",
       "    </tr>\n",
       "    <tr>\n",
       "      <th>18</th>\n",
       "      <td>0.712857</td>\n",
       "      <td>0.015601</td>\n",
       "      <td>34.0526</td>\n",
       "    </tr>\n",
       "    <tr>\n",
       "      <th>15</th>\n",
       "      <td>0.712857</td>\n",
       "      <td>0.014918</td>\n",
       "      <td>31.2105</td>\n",
       "    </tr>\n",
       "    <tr>\n",
       "      <th>17</th>\n",
       "      <td>0.711429</td>\n",
       "      <td>0.012904</td>\n",
       "      <td>33.1053</td>\n",
       "    </tr>\n",
       "    <tr>\n",
       "      <th>1</th>\n",
       "      <td>0.710000</td>\n",
       "      <td>0.013615</td>\n",
       "      <td>17.9474</td>\n",
       "    </tr>\n",
       "    <tr>\n",
       "      <th>2</th>\n",
       "      <td>0.710000</td>\n",
       "      <td>0.011138</td>\n",
       "      <td>18.8947</td>\n",
       "    </tr>\n",
       "    <tr>\n",
       "      <th>3</th>\n",
       "      <td>0.710000</td>\n",
       "      <td>0.011138</td>\n",
       "      <td>19.8421</td>\n",
       "    </tr>\n",
       "    <tr>\n",
       "      <th>5</th>\n",
       "      <td>0.710000</td>\n",
       "      <td>0.005898</td>\n",
       "      <td>21.7368</td>\n",
       "    </tr>\n",
       "    <tr>\n",
       "      <th>6</th>\n",
       "      <td>0.710000</td>\n",
       "      <td>0.005898</td>\n",
       "      <td>22.6842</td>\n",
       "    </tr>\n",
       "    <tr>\n",
       "      <th>7</th>\n",
       "      <td>0.710000</td>\n",
       "      <td>0.005898</td>\n",
       "      <td>23.6316</td>\n",
       "    </tr>\n",
       "    <tr>\n",
       "      <th>14</th>\n",
       "      <td>0.710000</td>\n",
       "      <td>0.010892</td>\n",
       "      <td>30.2632</td>\n",
       "    </tr>\n",
       "    <tr>\n",
       "      <th>0</th>\n",
       "      <td>0.708571</td>\n",
       "      <td>0.018908</td>\n",
       "      <td>17</td>\n",
       "    </tr>\n",
       "    <tr>\n",
       "      <th>13</th>\n",
       "      <td>0.708571</td>\n",
       "      <td>0.005792</td>\n",
       "      <td>29.3158</td>\n",
       "    </tr>\n",
       "  </tbody>\n",
       "</table>\n",
       "</div>"
      ],
      "text/plain": [
       "    mean_test_score  std_test_score param_alpha\n",
       "16         0.714286        0.016935     32.1579\n",
       "19         0.712857        0.015601          35\n",
       "4          0.712857        0.007504     20.7895\n",
       "18         0.712857        0.015601     34.0526\n",
       "15         0.712857        0.014918     31.2105\n",
       "17         0.711429        0.012904     33.1053\n",
       "1          0.710000        0.013615     17.9474\n",
       "2          0.710000        0.011138     18.8947\n",
       "3          0.710000        0.011138     19.8421\n",
       "5          0.710000        0.005898     21.7368\n",
       "6          0.710000        0.005898     22.6842\n",
       "7          0.710000        0.005898     23.6316\n",
       "14         0.710000        0.010892     30.2632\n",
       "0          0.708571        0.018908          17\n",
       "13         0.708571        0.005792     29.3158"
      ]
     },
     "metadata": {},
     "output_type": "display_data"
    },
    {
     "data": {
      "image/png": "[encoded data removed]",
      "text/plain": [
       "<matplotlib.figure.Figure at 0x1a27c6b828>"
      ]
     },
     "metadata": {},
     "output_type": "display_data"
    }
   ],
   "source": [
    "params = {'alpha':np.linspace(17,35,num=20)}\n",
    "gslrr = GridSearchCV(linear_model.RidgeClassifier(), params, return_train_score=True, n_jobs=4)\n",
    "gsOut = gslrr.fit(X,y)\n",
    "GridSearchTablePlot(gslrr,\"alpha\", negative=False)"
   ]
  },
  {
   "cell_type": "markdown",
   "metadata": {},
   "source": [
    "### Lasso: LogisticRegression"
   ]
  },
  {
   "cell_type": "code",
   "execution_count": 271,
   "metadata": {},
   "outputs": [
    {
     "name": "stdout",
     "output_type": "stream",
     "text": [
      "best parameters: {'C': 0.0057142857142857143, 'penalty': 'l1'}\n",
      "best score:      0.99571 (+/-0.00350)\n"
     ]
    },
    {
     "data": {
      "text/html": [
       "<div>\n",
       "<style>\n",
       "    .dataframe thead tr:only-child th {\n",
       "        text-align: right;\n",
       "    }\n",
       "\n",
       "    .dataframe thead th {\n",
       "        text-align: left;\n",
       "    }\n",
       "\n",
       "    .dataframe tbody tr th {\n",
       "        vertical-align: top;\n",
       "    }\n",
       "</style>\n",
       "<table border=\"1\" class=\"dataframe\">\n",
       "  <thead>\n",
       "    <tr style=\"text-align: right;\">\n",
       "      <th></th>\n",
       "      <th>mean_test_score</th>\n",
       "      <th>std_test_score</th>\n",
       "      <th>param_C</th>\n",
       "      <th>param_penalty</th>\n",
       "    </tr>\n",
       "  </thead>\n",
       "  <tbody>\n",
       "    <tr>\n",
       "      <th>4</th>\n",
       "      <td>0.995714</td>\n",
       "      <td>0.003502</td>\n",
       "      <td>0.00571429</td>\n",
       "      <td>l1</td>\n",
       "    </tr>\n",
       "    <tr>\n",
       "      <th>7</th>\n",
       "      <td>0.995714</td>\n",
       "      <td>0.003502</td>\n",
       "      <td>0.007</td>\n",
       "      <td>l1</td>\n",
       "    </tr>\n",
       "    <tr>\n",
       "      <th>0</th>\n",
       "      <td>0.994286</td>\n",
       "      <td>0.004036</td>\n",
       "      <td>0.004</td>\n",
       "      <td>l1</td>\n",
       "    </tr>\n",
       "    <tr>\n",
       "      <th>1</th>\n",
       "      <td>0.994286</td>\n",
       "      <td>0.004036</td>\n",
       "      <td>0.00442857</td>\n",
       "      <td>l1</td>\n",
       "    </tr>\n",
       "    <tr>\n",
       "      <th>2</th>\n",
       "      <td>0.994286</td>\n",
       "      <td>0.004036</td>\n",
       "      <td>0.00485714</td>\n",
       "      <td>l1</td>\n",
       "    </tr>\n",
       "    <tr>\n",
       "      <th>3</th>\n",
       "      <td>0.994286</td>\n",
       "      <td>0.004036</td>\n",
       "      <td>0.00528571</td>\n",
       "      <td>l1</td>\n",
       "    </tr>\n",
       "    <tr>\n",
       "      <th>14</th>\n",
       "      <td>0.994286</td>\n",
       "      <td>0.004036</td>\n",
       "      <td>0.01</td>\n",
       "      <td>l1</td>\n",
       "    </tr>\n",
       "    <tr>\n",
       "      <th>5</th>\n",
       "      <td>0.992857</td>\n",
       "      <td>0.005346</td>\n",
       "      <td>0.00614286</td>\n",
       "      <td>l1</td>\n",
       "    </tr>\n",
       "    <tr>\n",
       "      <th>8</th>\n",
       "      <td>0.992857</td>\n",
       "      <td>0.007293</td>\n",
       "      <td>0.00742857</td>\n",
       "      <td>l1</td>\n",
       "    </tr>\n",
       "    <tr>\n",
       "      <th>9</th>\n",
       "      <td>0.992857</td>\n",
       "      <td>0.007293</td>\n",
       "      <td>0.00785714</td>\n",
       "      <td>l1</td>\n",
       "    </tr>\n",
       "    <tr>\n",
       "      <th>11</th>\n",
       "      <td>0.992857</td>\n",
       "      <td>0.005346</td>\n",
       "      <td>0.00871429</td>\n",
       "      <td>l1</td>\n",
       "    </tr>\n",
       "    <tr>\n",
       "      <th>12</th>\n",
       "      <td>0.992857</td>\n",
       "      <td>0.007293</td>\n",
       "      <td>0.00914286</td>\n",
       "      <td>l1</td>\n",
       "    </tr>\n",
       "    <tr>\n",
       "      <th>6</th>\n",
       "      <td>0.991429</td>\n",
       "      <td>0.007004</td>\n",
       "      <td>0.00657143</td>\n",
       "      <td>l1</td>\n",
       "    </tr>\n",
       "    <tr>\n",
       "      <th>10</th>\n",
       "      <td>0.991429</td>\n",
       "      <td>0.007004</td>\n",
       "      <td>0.00828571</td>\n",
       "      <td>l1</td>\n",
       "    </tr>\n",
       "    <tr>\n",
       "      <th>13</th>\n",
       "      <td>0.991429</td>\n",
       "      <td>0.007004</td>\n",
       "      <td>0.00957143</td>\n",
       "      <td>l1</td>\n",
       "    </tr>\n",
       "  </tbody>\n",
       "</table>\n",
       "</div>"
      ],
      "text/plain": [
       "    mean_test_score  std_test_score     param_C param_penalty\n",
       "4          0.995714        0.003502  0.00571429            l1\n",
       "7          0.995714        0.003502       0.007            l1\n",
       "0          0.994286        0.004036       0.004            l1\n",
       "1          0.994286        0.004036  0.00442857            l1\n",
       "2          0.994286        0.004036  0.00485714            l1\n",
       "3          0.994286        0.004036  0.00528571            l1\n",
       "14         0.994286        0.004036        0.01            l1\n",
       "5          0.992857        0.005346  0.00614286            l1\n",
       "8          0.992857        0.007293  0.00742857            l1\n",
       "9          0.992857        0.007293  0.00785714            l1\n",
       "11         0.992857        0.005346  0.00871429            l1\n",
       "12         0.992857        0.007293  0.00914286            l1\n",
       "6          0.991429        0.007004  0.00657143            l1\n",
       "10         0.991429        0.007004  0.00828571            l1\n",
       "13         0.991429        0.007004  0.00957143            l1"
      ]
     },
     "metadata": {},
     "output_type": "display_data"
    },
    {
     "data": {
      "image/png": "[encoded data removed]",
      "text/plain": [
       "<matplotlib.figure.Figure at 0x1a27c697b8>"
      ]
     },
     "metadata": {},
     "output_type": "display_data"
    }
   ],
   "source": [
    "lassoParams = {'C':np.linspace(.004,.01,15),\n",
    "              'penalty':('l1',)}\n",
    "gslsr = GridSearchCV(LogisticRegression(), lassoParams, return_train_score=True, n_jobs=4)\n",
    "gsOut = gslsr.fit(X,y)\n",
    "GridSearchTablePlot(gslsr,\"C\", negative=False)"
   ]
  },
  {
   "cell_type": "markdown",
   "metadata": {},
   "source": [
    "### Ridge, Excluding \"goals\" feature"
   ]
  },
  {
   "cell_type": "code",
   "execution_count": 298,
   "metadata": {
    "collapsed": true
   },
   "outputs": [],
   "source": [
    "autoListOfCs=[.001,.003,.03,.2,.3]\n",
    "npListOfCs=np.linspace(.001,.015,20,endpoint=False)"
   ]
  },
  {
   "cell_type": "code",
   "execution_count": 299,
   "metadata": {},
   "outputs": [
    {
     "name": "stdout",
     "output_type": "stream",
     "text": [
      "best parameters: {'C': 0.0051999999999999989, 'penalty': 'l2'}\n",
      "best score:      0.82429 (+/-0.01430)\n"
     ]
    },
    {
     "data": {
      "text/html": [
       "<div>\n",
       "<style>\n",
       "    .dataframe thead tr:only-child th {\n",
       "        text-align: right;\n",
       "    }\n",
       "\n",
       "    .dataframe thead th {\n",
       "        text-align: left;\n",
       "    }\n",
       "\n",
       "    .dataframe tbody tr th {\n",
       "        vertical-align: top;\n",
       "    }\n",
       "</style>\n",
       "<table border=\"1\" class=\"dataframe\">\n",
       "  <thead>\n",
       "    <tr style=\"text-align: right;\">\n",
       "      <th></th>\n",
       "      <th>mean_test_score</th>\n",
       "      <th>std_test_score</th>\n",
       "      <th>param_C</th>\n",
       "      <th>param_penalty</th>\n",
       "    </tr>\n",
       "  </thead>\n",
       "  <tbody>\n",
       "    <tr>\n",
       "      <th>7</th>\n",
       "      <td>0.824286</td>\n",
       "      <td>0.014300</td>\n",
       "      <td>0.0059</td>\n",
       "      <td>l2</td>\n",
       "    </tr>\n",
       "    <tr>\n",
       "      <th>6</th>\n",
       "      <td>0.824286</td>\n",
       "      <td>0.014300</td>\n",
       "      <td>0.0052</td>\n",
       "      <td>l2</td>\n",
       "    </tr>\n",
       "    <tr>\n",
       "      <th>5</th>\n",
       "      <td>0.822857</td>\n",
       "      <td>0.016074</td>\n",
       "      <td>0.0045</td>\n",
       "      <td>l2</td>\n",
       "    </tr>\n",
       "    <tr>\n",
       "      <th>9</th>\n",
       "      <td>0.820000</td>\n",
       "      <td>0.019764</td>\n",
       "      <td>0.0073</td>\n",
       "      <td>l2</td>\n",
       "    </tr>\n",
       "    <tr>\n",
       "      <th>12</th>\n",
       "      <td>0.820000</td>\n",
       "      <td>0.019764</td>\n",
       "      <td>0.0094</td>\n",
       "      <td>l2</td>\n",
       "    </tr>\n",
       "    <tr>\n",
       "      <th>18</th>\n",
       "      <td>0.820000</td>\n",
       "      <td>0.019764</td>\n",
       "      <td>0.0136</td>\n",
       "      <td>l2</td>\n",
       "    </tr>\n",
       "    <tr>\n",
       "      <th>19</th>\n",
       "      <td>0.820000</td>\n",
       "      <td>0.019764</td>\n",
       "      <td>0.0143</td>\n",
       "      <td>l2</td>\n",
       "    </tr>\n",
       "    <tr>\n",
       "      <th>4</th>\n",
       "      <td>0.820000</td>\n",
       "      <td>0.012881</td>\n",
       "      <td>0.0038</td>\n",
       "      <td>l2</td>\n",
       "    </tr>\n",
       "    <tr>\n",
       "      <th>8</th>\n",
       "      <td>0.818571</td>\n",
       "      <td>0.021657</td>\n",
       "      <td>0.0066</td>\n",
       "      <td>l2</td>\n",
       "    </tr>\n",
       "    <tr>\n",
       "      <th>10</th>\n",
       "      <td>0.818571</td>\n",
       "      <td>0.018225</td>\n",
       "      <td>0.008</td>\n",
       "      <td>l2</td>\n",
       "    </tr>\n",
       "    <tr>\n",
       "      <th>11</th>\n",
       "      <td>0.818571</td>\n",
       "      <td>0.018225</td>\n",
       "      <td>0.0087</td>\n",
       "      <td>l2</td>\n",
       "    </tr>\n",
       "    <tr>\n",
       "      <th>14</th>\n",
       "      <td>0.818571</td>\n",
       "      <td>0.018225</td>\n",
       "      <td>0.0108</td>\n",
       "      <td>l2</td>\n",
       "    </tr>\n",
       "    <tr>\n",
       "      <th>15</th>\n",
       "      <td>0.818571</td>\n",
       "      <td>0.018225</td>\n",
       "      <td>0.0115</td>\n",
       "      <td>l2</td>\n",
       "    </tr>\n",
       "    <tr>\n",
       "      <th>16</th>\n",
       "      <td>0.818571</td>\n",
       "      <td>0.018225</td>\n",
       "      <td>0.0122</td>\n",
       "      <td>l2</td>\n",
       "    </tr>\n",
       "    <tr>\n",
       "      <th>17</th>\n",
       "      <td>0.818571</td>\n",
       "      <td>0.018225</td>\n",
       "      <td>0.0129</td>\n",
       "      <td>l2</td>\n",
       "    </tr>\n",
       "  </tbody>\n",
       "</table>\n",
       "</div>"
      ],
      "text/plain": [
       "    mean_test_score  std_test_score param_C param_penalty\n",
       "7          0.824286        0.014300  0.0059            l2\n",
       "6          0.824286        0.014300  0.0052            l2\n",
       "5          0.822857        0.016074  0.0045            l2\n",
       "9          0.820000        0.019764  0.0073            l2\n",
       "12         0.820000        0.019764  0.0094            l2\n",
       "18         0.820000        0.019764  0.0136            l2\n",
       "19         0.820000        0.019764  0.0143            l2\n",
       "4          0.820000        0.012881  0.0038            l2\n",
       "8          0.818571        0.021657  0.0066            l2\n",
       "10         0.818571        0.018225   0.008            l2\n",
       "11         0.818571        0.018225  0.0087            l2\n",
       "14         0.818571        0.018225  0.0108            l2\n",
       "15         0.818571        0.018225  0.0115            l2\n",
       "16         0.818571        0.018225  0.0122            l2\n",
       "17         0.818571        0.018225  0.0129            l2"
      ]
     },
     "metadata": {},
     "output_type": "display_data"
    },
    {
     "data": {
      "image/png": "[encoded data removed]",
      "text/plain": [
       "<matplotlib.figure.Figure at 0x1a27c7eba8>"
      ]
     },
     "metadata": {},
     "output_type": "display_data"
    }
   ],
   "source": [
    "ridgeLrParams = {'C':npListOfCs,\n",
    "              'penalty':('l2',)}\n",
    "gsRidgeLr = GridSearchCV(LogisticRegression(), ridgeLrParams, return_train_score=True, n_jobs=4)\n",
    "gsOut = gsRidgeLr.fit(X[['backers','pledged']],y)\n",
    "GridSearchTablePlot(gsRidgeLr,\"C\", negative=False)"
   ]
  },
  {
   "cell_type": "code",
   "execution_count": null,
   "metadata": {
    "collapsed": true
   },
   "outputs": [],
   "source": []
  },
  {
   "cell_type": "code",
   "execution_count": null,
   "metadata": {
    "collapsed": true
   },
   "outputs": [],
   "source": []
  },
  {
   "cell_type": "code",
   "execution_count": null,
   "metadata": {
    "collapsed": true
   },
   "outputs": [],
   "source": []
  }
 ],
 "metadata": {
  "kernelspec": {
   "display_name": "Python 3",
   "language": "python",
   "name": "python3"
  },
  "language_info": {
   "codemirror_mode": {
    "name": "ipython",
    "version": 3
   },
   "file_extension": ".py",
   "mimetype": "text/x-python",
   "name": "python",
   "nbconvert_exporter": "python",
   "pygments_lexer": "ipython3",
   "version": "3.6.3"
  }
 },
 "nbformat": 4,
 "nbformat_minor": 2
}
