{
 "cells": [
  {
   "cell_type": "code",
   "execution_count": 1,
   "metadata": {
    "collapsed": true
   },
   "outputs": [],
   "source": [
    "import pandas as pd\n",
    "import numpy as np\n",
    "import matplotlib.pyplot as plt\n",
    "import io\n",
    "import requests\n",
    "import seaborn as sns\n",
    "import itertools\n",
    "from sklearn.model_selection import GridSearchCV\n",
    "from sklearn import linear_model\n",
    "from sklearn.linear_model import LogisticRegression\n",
    "from sklearn import ensemble\n",
    "from sklearn.neighbors import KNeighborsClassifier\n",
    "from sklearn import tree\n",
    "from sklearn.svm import SVC\n",
    "from sklearn.naive_bayes import BernoulliNB\n",
    "from sklearn.decomposition import PCA\n",
    "from sklearn.model_selection import cross_val_score"
   ]
  },
  {
   "cell_type": "code",
   "execution_count": 2,
   "metadata": {},
   "outputs": [],
   "source": [
    "#url='https://www.kaggle.com/kemical/kickstarter-projects/downloads/ks-projects-201801.csv'\n",
    "#df=pd.read_csv(url, header=None)"
   ]
  },
  {
   "cell_type": "code",
   "execution_count": 3,
   "metadata": {},
   "outputs": [
    {
     "name": "stderr",
     "output_type": "stream",
     "text": [
      "b'Skipping line 20454: expected 15 fields, saw 19\\nSkipping line 27266: expected 15 fields, saw 23\\nSkipping line 47738: expected 15 fields, saw 19\\nSkipping line 54556: expected 15 fields, saw 23\\n'\n",
      "b'Skipping line 75000: expected 15 fields, saw 17\\nSkipping line 95465: expected 15 fields, saw 21\\nSkipping line 102283: expected 15 fields, saw 26\\nSkipping line 129576: expected 15 fields, saw 26\\n'\n",
      "b'Skipping line 170525: expected 15 fields, saw 16\\nSkipping line 177348: expected 15 fields, saw 26\\n'\n",
      "b'Skipping line 204638: expected 15 fields, saw 19\\nSkipping line 211470: expected 15 fields, saw 26\\nSkipping line 218306: expected 15 fields, saw 16\\nSkipping line 252430: expected 15 fields, saw 17\\nSkipping line 259262: expected 15 fields, saw 26\\n'\n",
      "b'Skipping line 266098: expected 15 fields, saw 18\\nSkipping line 300233: expected 15 fields, saw 17\\nSkipping line 307065: expected 15 fields, saw 27\\nSkipping line 313893: expected 15 fields, saw 19\\n'\n",
      "b'Skipping line 348033: expected 15 fields, saw 17\\nSkipping line 354860: expected 15 fields, saw 21\\nSkipping line 361688: expected 15 fields, saw 19\\nSkipping line 368524: expected 15 fields, saw 16\\n'\n",
      "b'Skipping line 395813: expected 15 fields, saw 16\\nSkipping line 402638: expected 15 fields, saw 21\\nSkipping line 409466: expected 15 fields, saw 21\\nSkipping line 436765: expected 15 fields, saw 20\\nSkipping line 443599: expected 15 fields, saw 16\\nSkipping line 450424: expected 15 fields, saw 16\\nSkipping line 457253: expected 15 fields, saw 16\\n'\n",
      "b'Skipping line 477745: expected 15 fields, saw 27\\nSkipping line 484572: expected 15 fields, saw 20\\nSkipping line 498218: expected 15 fields, saw 22\\nSkipping line 505047: expected 15 fields, saw 16\\nSkipping line 518721: expected 15 fields, saw 20\\n'\n",
      "b'Skipping line 525564: expected 15 fields, saw 27\\nSkipping line 546039: expected 15 fields, saw 22\\nSkipping line 552868: expected 15 fields, saw 17\\nSkipping line 566530: expected 15 fields, saw 20\\nSkipping line 573373: expected 15 fields, saw 27\\n'\n",
      "b'Skipping line 593900: expected 15 fields, saw 27\\nSkipping line 614414: expected 15 fields, saw 22\\nSkipping line 621264: expected 15 fields, saw 23\\nSkipping line 641837: expected 15 fields, saw 26\\n'\n",
      "b'Skipping line 662384: expected 15 fields, saw 16\\nSkipping line 669234: expected 15 fields, saw 23\\nSkipping line 689853: expected 15 fields, saw 26\\nSkipping line 710432: expected 15 fields, saw 16\\n'\n",
      "b'Skipping line 737900: expected 15 fields, saw 26\\nSkipping line 779100: expected 15 fields, saw 21\\nSkipping line 785967: expected 15 fields, saw 20\\n'\n",
      "b'Skipping line 799692: expected 15 fields, saw 18\\nSkipping line 827166: expected 15 fields, saw 21\\nSkipping line 834033: expected 15 fields, saw 20\\n'\n",
      "b'Skipping line 861498: expected 15 fields, saw 16\\nSkipping line 875236: expected 15 fields, saw 21\\nSkipping line 882103: expected 15 fields, saw 20\\nSkipping line 902716: expected 15 fields, saw 18\\nSkipping line 909590: expected 15 fields, saw 25\\n'\n",
      "b'Skipping line 950794: expected 15 fields, saw 17\\nSkipping line 957668: expected 15 fields, saw 25\\nSkipping line 964537: expected 15 fields, saw 17\\nSkipping line 971386: expected 15 fields, saw 16\\n'\n",
      "b'Skipping line 991996: expected 15 fields, saw 20\\nSkipping line 998845: expected 15 fields, saw 17\\nSkipping line 1005719: expected 15 fields, saw 19\\nSkipping line 1019458: expected 15 fields, saw 16\\nSkipping line 1026321: expected 15 fields, saw 16\\nSkipping line 1035540: expected 15 fields, saw 20\\n'\n",
      "b'Skipping line 1056128: expected 15 fields, saw 26\\n'\n",
      "/Users/christophersmyth/anaconda3/lib/python3.6/site-packages/IPython/core/interactiveshell.py:2698: DtypeWarning: Columns (0,6,8,10,12) have mixed types. Specify dtype option on import or set low_memory=False.\n",
      "  interactivity=interactivity, compiler=compiler, result=result)\n"
     ]
    }
   ],
   "source": [
    "df = pd.read_csv('ks-projects-201801.csv',error_bad_lines=False)"
   ]
  },
  {
   "cell_type": "markdown",
   "metadata": {},
   "source": [
    "https://www.kaggle.com/kromel/kickstarter-successful-vs-failed/data"
   ]
  },
  {
   "cell_type": "code",
   "execution_count": 4,
   "metadata": {
    "collapsed": true
   },
   "outputs": [],
   "source": [
    "df=df.sample(1000, random_state=32)"
   ]
  },
  {
   "cell_type": "code",
   "execution_count": 5,
   "metadata": {},
   "outputs": [
    {
     "data": {
      "text/plain": [
       "(1000, 15)"
      ]
     },
     "execution_count": 5,
     "metadata": {},
     "output_type": "execute_result"
    }
   ],
   "source": [
    "df.shape"
   ]
  },
  {
   "cell_type": "code",
   "execution_count": 6,
   "metadata": {},
   "outputs": [
    {
     "data": {
      "text/html": [
       "<div>\n",
       "<style>\n",
       "    .dataframe thead tr:only-child th {\n",
       "        text-align: right;\n",
       "    }\n",
       "\n",
       "    .dataframe thead th {\n",
       "        text-align: left;\n",
       "    }\n",
       "\n",
       "    .dataframe tbody tr th {\n",
       "        vertical-align: top;\n",
       "    }\n",
       "</style>\n",
       "<table border=\"1\" class=\"dataframe\">\n",
       "  <thead>\n",
       "    <tr style=\"text-align: right;\">\n",
       "      <th></th>\n",
       "      <th>ID</th>\n",
       "      <th>name</th>\n",
       "      <th>category</th>\n",
       "      <th>main_category</th>\n",
       "      <th>currency</th>\n",
       "      <th>deadline</th>\n",
       "      <th>goal</th>\n",
       "      <th>launched</th>\n",
       "      <th>pledged</th>\n",
       "      <th>state</th>\n",
       "      <th>backers</th>\n",
       "      <th>country</th>\n",
       "      <th>usd pledged</th>\n",
       "      <th>usd_pledged_real</th>\n",
       "      <th>usd_goal_real</th>\n",
       "    </tr>\n",
       "  </thead>\n",
       "  <tbody>\n",
       "    <tr>\n",
       "      <th>711859</th>\n",
       "      <td>292924641</td>\n",
       "      <td>NextGen, Use any platform on any devive, rules...</td>\n",
       "      <td>Software</td>\n",
       "      <td>Technology</td>\n",
       "      <td>SEK</td>\n",
       "      <td>2014-11-04</td>\n",
       "      <td>50000</td>\n",
       "      <td>2014-10-21 15:14:46</td>\n",
       "      <td>0</td>\n",
       "      <td>failed</td>\n",
       "      <td>0</td>\n",
       "      <td>SE</td>\n",
       "      <td>0</td>\n",
       "      <td>0.00</td>\n",
       "      <td>6726.22</td>\n",
       "    </tr>\n",
       "    <tr>\n",
       "      <th>443026</th>\n",
       "      <td>1865145137</td>\n",
       "      <td>Cassidy Jones Adventures: Paperback Books For ...</td>\n",
       "      <td>Fiction</td>\n",
       "      <td>Publishing</td>\n",
       "      <td>USD</td>\n",
       "      <td>2012-07-12</td>\n",
       "      <td>1000</td>\n",
       "      <td>2012-06-28 01:35:01</td>\n",
       "      <td>1505</td>\n",
       "      <td>successful</td>\n",
       "      <td>43</td>\n",
       "      <td>US</td>\n",
       "      <td>1505</td>\n",
       "      <td>1505.00</td>\n",
       "      <td>1000.00</td>\n",
       "    </tr>\n",
       "    <tr>\n",
       "      <th>305960</th>\n",
       "      <td>1549399998</td>\n",
       "      <td>· Guenda · products for connecting with nature...</td>\n",
       "      <td>Embroidery</td>\n",
       "      <td>Crafts</td>\n",
       "      <td>MXN</td>\n",
       "      <td>2017-12-25</td>\n",
       "      <td>60000.00</td>\n",
       "      <td>2017-11-25 15:56:14</td>\n",
       "      <td>60520.00</td>\n",
       "      <td>successful</td>\n",
       "      <td>84</td>\n",
       "      <td>MX</td>\n",
       "      <td>112.64</td>\n",
       "      <td>3067.57</td>\n",
       "      <td>3041.21</td>\n",
       "    </tr>\n",
       "    <tr>\n",
       "      <th>56190</th>\n",
       "      <td>1111918633</td>\n",
       "      <td>The ABCs of Nightmares</td>\n",
       "      <td>Children's Books</td>\n",
       "      <td>Publishing</td>\n",
       "      <td>CAD</td>\n",
       "      <td>2016-11-24</td>\n",
       "      <td>8500.00</td>\n",
       "      <td>2016-10-24 01:05:08</td>\n",
       "      <td>2764.00</td>\n",
       "      <td>failed</td>\n",
       "      <td>49</td>\n",
       "      <td>CA</td>\n",
       "      <td>0</td>\n",
       "      <td>2048.77</td>\n",
       "      <td>6300.50</td>\n",
       "    </tr>\n",
       "    <tr>\n",
       "      <th>867977</th>\n",
       "      <td>7.40164e+08</td>\n",
       "      <td>The Toughest</td>\n",
       "      <td>Documentary</td>\n",
       "      <td>Film &amp; Video</td>\n",
       "      <td>USD</td>\n",
       "      <td>2016-04-02</td>\n",
       "      <td>2295.00</td>\n",
       "      <td>2016-03-03 15:46:40</td>\n",
       "      <td>0.00</td>\n",
       "      <td>failed</td>\n",
       "      <td>0</td>\n",
       "      <td>US</td>\n",
       "      <td>0</td>\n",
       "      <td>0.00</td>\n",
       "      <td>2295.00</td>\n",
       "    </tr>\n",
       "  </tbody>\n",
       "</table>\n",
       "</div>"
      ],
      "text/plain": [
       "                 ID                                               name  \\\n",
       "711859    292924641  NextGen, Use any platform on any devive, rules...   \n",
       "443026   1865145137  Cassidy Jones Adventures: Paperback Books For ...   \n",
       "305960   1549399998  · Guenda · products for connecting with nature...   \n",
       "56190    1111918633                             The ABCs of Nightmares   \n",
       "867977  7.40164e+08                                       The Toughest   \n",
       "\n",
       "                category main_category currency    deadline      goal  \\\n",
       "711859          Software    Technology      SEK  2014-11-04     50000   \n",
       "443026           Fiction    Publishing      USD  2012-07-12      1000   \n",
       "305960        Embroidery        Crafts      MXN  2017-12-25  60000.00   \n",
       "56190   Children's Books    Publishing      CAD  2016-11-24   8500.00   \n",
       "867977       Documentary  Film & Video      USD  2016-04-02   2295.00   \n",
       "\n",
       "                   launched   pledged       state backers country usd pledged  \\\n",
       "711859  2014-10-21 15:14:46         0      failed       0      SE           0   \n",
       "443026  2012-06-28 01:35:01      1505  successful      43      US        1505   \n",
       "305960  2017-11-25 15:56:14  60520.00  successful      84      MX      112.64   \n",
       "56190   2016-10-24 01:05:08   2764.00      failed      49      CA           0   \n",
       "867977  2016-03-03 15:46:40      0.00      failed       0      US           0   \n",
       "\n",
       "        usd_pledged_real  usd_goal_real  \n",
       "711859              0.00        6726.22  \n",
       "443026           1505.00        1000.00  \n",
       "305960           3067.57        3041.21  \n",
       "56190            2048.77        6300.50  \n",
       "867977              0.00        2295.00  "
      ]
     },
     "execution_count": 6,
     "metadata": {},
     "output_type": "execute_result"
    }
   ],
   "source": [
    "df.head()"
   ]
  },
  {
   "cell_type": "code",
   "execution_count": 7,
   "metadata": {},
   "outputs": [
    {
     "data": {
      "text/plain": [
       "ID                   object\n",
       "name                 object\n",
       "category             object\n",
       "main_category        object\n",
       "currency             object\n",
       "deadline             object\n",
       "goal                 object\n",
       "launched             object\n",
       "pledged              object\n",
       "state                object\n",
       "backers              object\n",
       "country              object\n",
       "usd pledged          object\n",
       "usd_pledged_real    float64\n",
       "usd_goal_real       float64\n",
       "dtype: object"
      ]
     },
     "execution_count": 7,
     "metadata": {},
     "output_type": "execute_result"
    }
   ],
   "source": [
    "df.dtypes"
   ]
  },
  {
   "cell_type": "markdown",
   "metadata": {},
   "source": [
    "# Data Cleaning"
   ]
  },
  {
   "cell_type": "markdown",
   "metadata": {},
   "source": [
    "### Nulls"
   ]
  },
  {
   "cell_type": "code",
   "execution_count": 8,
   "metadata": {},
   "outputs": [
    {
     "data": {
      "text/html": [
       "<div>\n",
       "<style>\n",
       "    .dataframe thead tr:only-child th {\n",
       "        text-align: right;\n",
       "    }\n",
       "\n",
       "    .dataframe thead th {\n",
       "        text-align: left;\n",
       "    }\n",
       "\n",
       "    .dataframe tbody tr th {\n",
       "        vertical-align: top;\n",
       "    }\n",
       "</style>\n",
       "<table border=\"1\" class=\"dataframe\">\n",
       "  <thead>\n",
       "    <tr style=\"text-align: right;\">\n",
       "      <th></th>\n",
       "      <th>Total</th>\n",
       "      <th>Percent</th>\n",
       "    </tr>\n",
       "  </thead>\n",
       "  <tbody>\n",
       "    <tr>\n",
       "      <th>usd pledged</th>\n",
       "      <td>8</td>\n",
       "      <td>0.008</td>\n",
       "    </tr>\n",
       "    <tr>\n",
       "      <th>usd_goal_real</th>\n",
       "      <td>0</td>\n",
       "      <td>0.000</td>\n",
       "    </tr>\n",
       "    <tr>\n",
       "      <th>usd_pledged_real</th>\n",
       "      <td>0</td>\n",
       "      <td>0.000</td>\n",
       "    </tr>\n",
       "    <tr>\n",
       "      <th>country</th>\n",
       "      <td>0</td>\n",
       "      <td>0.000</td>\n",
       "    </tr>\n",
       "    <tr>\n",
       "      <th>backers</th>\n",
       "      <td>0</td>\n",
       "      <td>0.000</td>\n",
       "    </tr>\n",
       "    <tr>\n",
       "      <th>state</th>\n",
       "      <td>0</td>\n",
       "      <td>0.000</td>\n",
       "    </tr>\n",
       "    <tr>\n",
       "      <th>pledged</th>\n",
       "      <td>0</td>\n",
       "      <td>0.000</td>\n",
       "    </tr>\n",
       "    <tr>\n",
       "      <th>launched</th>\n",
       "      <td>0</td>\n",
       "      <td>0.000</td>\n",
       "    </tr>\n",
       "    <tr>\n",
       "      <th>goal</th>\n",
       "      <td>0</td>\n",
       "      <td>0.000</td>\n",
       "    </tr>\n",
       "    <tr>\n",
       "      <th>deadline</th>\n",
       "      <td>0</td>\n",
       "      <td>0.000</td>\n",
       "    </tr>\n",
       "    <tr>\n",
       "      <th>currency</th>\n",
       "      <td>0</td>\n",
       "      <td>0.000</td>\n",
       "    </tr>\n",
       "    <tr>\n",
       "      <th>main_category</th>\n",
       "      <td>0</td>\n",
       "      <td>0.000</td>\n",
       "    </tr>\n",
       "    <tr>\n",
       "      <th>category</th>\n",
       "      <td>0</td>\n",
       "      <td>0.000</td>\n",
       "    </tr>\n",
       "    <tr>\n",
       "      <th>name</th>\n",
       "      <td>0</td>\n",
       "      <td>0.000</td>\n",
       "    </tr>\n",
       "    <tr>\n",
       "      <th>ID</th>\n",
       "      <td>0</td>\n",
       "      <td>0.000</td>\n",
       "    </tr>\n",
       "  </tbody>\n",
       "</table>\n",
       "</div>"
      ],
      "text/plain": [
       "                  Total  Percent\n",
       "usd pledged           8    0.008\n",
       "usd_goal_real         0    0.000\n",
       "usd_pledged_real      0    0.000\n",
       "country               0    0.000\n",
       "backers               0    0.000\n",
       "state                 0    0.000\n",
       "pledged               0    0.000\n",
       "launched              0    0.000\n",
       "goal                  0    0.000\n",
       "deadline              0    0.000\n",
       "currency              0    0.000\n",
       "main_category         0    0.000\n",
       "category              0    0.000\n",
       "name                  0    0.000\n",
       "ID                    0    0.000"
      ]
     },
     "metadata": {},
     "output_type": "display_data"
    },
    {
     "data": {
      "text/plain": [
       "8"
      ]
     },
     "execution_count": 8,
     "metadata": {},
     "output_type": "execute_result"
    }
   ],
   "source": [
    "total = df.isnull().sum().sort_values(ascending=False)\n",
    "percent = (df.isnull().sum()/df.isnull().count()).sort_values(ascending=False)\n",
    "df_missingData = pd.concat([total, percent], axis=1, keys=['Total', 'Percent'])\n",
    "display(df_missingData.head(20))\n",
    "df.isnull().sum().max()"
   ]
  },
  {
   "cell_type": "code",
   "execution_count": 9,
   "metadata": {},
   "outputs": [
    {
     "name": "stdout",
     "output_type": "stream",
     "text": [
      "Before Dropping Nulls:  1000\n",
      "After Dropping Nulls:  992\n",
      "Rows Removed:  8\n",
      "Percent Removed: 1%\n"
     ]
    }
   ],
   "source": [
    "dfNoNulls = df.copy()\n",
    "dfNoNulls.dropna(inplace=True)\n",
    "print (\"Before Dropping Nulls: \", df.shape[0])\n",
    "print (\"After Dropping Nulls: \", dfNoNulls.shape[0])\n",
    "print (\"Rows Removed: \", df.shape[0] - dfNoNulls.shape[0])\n",
    "print (\"Percent Removed: {:.0%}\".format(1-(dfNoNulls.shape[0])/df.shape[0]))   "
   ]
  },
  {
   "cell_type": "markdown",
   "metadata": {},
   "source": [
    "### \"usd pledged\" Column: Bad Formatting"
   ]
  },
  {
   "cell_type": "code",
   "execution_count": 10,
   "metadata": {
    "collapsed": true
   },
   "outputs": [],
   "source": [
    "dfDropPldg = dfNoNulls.copy()\n",
    "for row in dfDropPldg.iterrows():\n",
    "    if str(row[1]['usd pledged']).count('.') > 1:\n",
    "        print (row)\n",
    "        dfDrop = dfDropPldg.drop(row[0])\n",
    "        break;\n",
    "# Use a comprehension for this"
   ]
  },
  {
   "cell_type": "code",
   "execution_count": 11,
   "metadata": {
    "collapsed": true
   },
   "outputs": [],
   "source": [
    "dfDropCntry = dfDropPldg.copy()\n",
    "dfDropCntry = dfDropCntry.drop(dfDropCntry[(dfDropCntry['country'] != 'US')].index)"
   ]
  },
  {
   "cell_type": "code",
   "execution_count": 12,
   "metadata": {
    "collapsed": true
   },
   "outputs": [],
   "source": [
    "dfDropCat = dfDropCntry.copy()\n",
    "dfDropCat = dfDropCat.drop('category',axis=1)"
   ]
  },
  {
   "cell_type": "code",
   "execution_count": 13,
   "metadata": {
    "collapsed": true
   },
   "outputs": [],
   "source": [
    "dfDropState = dfDropCat.copy()\n",
    "dropVals = ['live','suspended','canceled','fnceled']\n",
    "for dv in dropVals:\n",
    "    dfDropState = dfDropState.drop(dfDropState[(dfDropState['state'] == dv)].index)"
   ]
  },
  {
   "cell_type": "markdown",
   "metadata": {},
   "source": [
    "### Convert to Numeric"
   ]
  },
  {
   "cell_type": "code",
   "execution_count": 14,
   "metadata": {
    "collapsed": true
   },
   "outputs": [],
   "source": [
    "dfNum = dfDropState.copy()\n",
    "numCols = ['goal','pledged','backers','usd pledged']\n",
    "for c in numCols:\n",
    "    dfNum[c] = dfNum[c].apply(pd.to_numeric)"
   ]
  },
  {
   "cell_type": "code",
   "execution_count": 15,
   "metadata": {},
   "outputs": [
    {
     "data": {
      "text/html": [
       "<div>\n",
       "<style>\n",
       "    .dataframe thead tr:only-child th {\n",
       "        text-align: right;\n",
       "    }\n",
       "\n",
       "    .dataframe thead th {\n",
       "        text-align: left;\n",
       "    }\n",
       "\n",
       "    .dataframe tbody tr th {\n",
       "        vertical-align: top;\n",
       "    }\n",
       "</style>\n",
       "<table border=\"1\" class=\"dataframe\">\n",
       "  <thead>\n",
       "    <tr style=\"text-align: right;\">\n",
       "      <th></th>\n",
       "      <th>goal</th>\n",
       "      <th>pledged</th>\n",
       "      <th>backers</th>\n",
       "      <th>usd pledged</th>\n",
       "      <th>usd_pledged_real</th>\n",
       "      <th>usd_goal_real</th>\n",
       "    </tr>\n",
       "  </thead>\n",
       "  <tbody>\n",
       "    <tr>\n",
       "      <th>count</th>\n",
       "      <td>7.000000e+02</td>\n",
       "      <td>700.000000</td>\n",
       "      <td>700.000000</td>\n",
       "      <td>700.000000</td>\n",
       "      <td>700.000000</td>\n",
       "      <td>7.000000e+02</td>\n",
       "    </tr>\n",
       "    <tr>\n",
       "      <th>mean</th>\n",
       "      <td>2.324955e+04</td>\n",
       "      <td>8470.745529</td>\n",
       "      <td>120.361429</td>\n",
       "      <td>6414.505000</td>\n",
       "      <td>8470.745529</td>\n",
       "      <td>2.324955e+04</td>\n",
       "    </tr>\n",
       "    <tr>\n",
       "      <th>std</th>\n",
       "      <td>1.286013e+05</td>\n",
       "      <td>31772.481735</td>\n",
       "      <td>492.706359</td>\n",
       "      <td>27647.878257</td>\n",
       "      <td>31772.481735</td>\n",
       "      <td>1.286013e+05</td>\n",
       "    </tr>\n",
       "    <tr>\n",
       "      <th>min</th>\n",
       "      <td>1.000000e+00</td>\n",
       "      <td>0.000000</td>\n",
       "      <td>0.000000</td>\n",
       "      <td>0.000000</td>\n",
       "      <td>0.000000</td>\n",
       "      <td>1.000000e+00</td>\n",
       "    </tr>\n",
       "    <tr>\n",
       "      <th>25%</th>\n",
       "      <td>2.000000e+03</td>\n",
       "      <td>81.000000</td>\n",
       "      <td>3.000000</td>\n",
       "      <td>35.000000</td>\n",
       "      <td>81.000000</td>\n",
       "      <td>2.000000e+03</td>\n",
       "    </tr>\n",
       "    <tr>\n",
       "      <th>50%</th>\n",
       "      <td>5.000000e+03</td>\n",
       "      <td>1102.500000</td>\n",
       "      <td>20.000000</td>\n",
       "      <td>802.000000</td>\n",
       "      <td>1102.500000</td>\n",
       "      <td>5.000000e+03</td>\n",
       "    </tr>\n",
       "    <tr>\n",
       "      <th>75%</th>\n",
       "      <td>1.500000e+04</td>\n",
       "      <td>5208.500000</td>\n",
       "      <td>71.000000</td>\n",
       "      <td>4067.750000</td>\n",
       "      <td>5208.500000</td>\n",
       "      <td>1.500000e+04</td>\n",
       "    </tr>\n",
       "    <tr>\n",
       "      <th>max</th>\n",
       "      <td>3.000000e+06</td>\n",
       "      <td>588903.000000</td>\n",
       "      <td>9677.000000</td>\n",
       "      <td>588903.000000</td>\n",
       "      <td>588903.000000</td>\n",
       "      <td>3.000000e+06</td>\n",
       "    </tr>\n",
       "  </tbody>\n",
       "</table>\n",
       "</div>"
      ],
      "text/plain": [
       "               goal        pledged      backers    usd pledged  \\\n",
       "count  7.000000e+02     700.000000   700.000000     700.000000   \n",
       "mean   2.324955e+04    8470.745529   120.361429    6414.505000   \n",
       "std    1.286013e+05   31772.481735   492.706359   27647.878257   \n",
       "min    1.000000e+00       0.000000     0.000000       0.000000   \n",
       "25%    2.000000e+03      81.000000     3.000000      35.000000   \n",
       "50%    5.000000e+03    1102.500000    20.000000     802.000000   \n",
       "75%    1.500000e+04    5208.500000    71.000000    4067.750000   \n",
       "max    3.000000e+06  588903.000000  9677.000000  588903.000000   \n",
       "\n",
       "       usd_pledged_real  usd_goal_real  \n",
       "count        700.000000   7.000000e+02  \n",
       "mean        8470.745529   2.324955e+04  \n",
       "std        31772.481735   1.286013e+05  \n",
       "min            0.000000   1.000000e+00  \n",
       "25%           81.000000   2.000000e+03  \n",
       "50%         1102.500000   5.000000e+03  \n",
       "75%         5208.500000   1.500000e+04  \n",
       "max       588903.000000   3.000000e+06  "
      ]
     },
     "execution_count": 15,
     "metadata": {},
     "output_type": "execute_result"
    }
   ],
   "source": [
    "dfNum.describe()"
   ]
  },
  {
   "cell_type": "markdown",
   "metadata": {},
   "source": [
    "# Encoding"
   ]
  },
  {
   "cell_type": "code",
   "execution_count": 16,
   "metadata": {},
   "outputs": [
    {
     "data": {
      "text/plain": [
       "['failed', 'successful']"
      ]
     },
     "execution_count": 16,
     "metadata": {},
     "output_type": "execute_result"
    }
   ],
   "source": [
    "sorted(dfNum.state.unique())"
   ]
  },
  {
   "cell_type": "code",
   "execution_count": 17,
   "metadata": {
    "collapsed": true
   },
   "outputs": [],
   "source": [
    "dfEnc = pd.DataFrame()\n",
    "dfEnc = dfNum.copy()\n",
    "dfEnc['state'] = dfNum.state.astype('category')\n",
    "dfEnc['state_code'] = np.where(dfEnc['state'].str.contains('successful'),1,0)"
   ]
  },
  {
   "cell_type": "code",
   "execution_count": 18,
   "metadata": {
    "collapsed": true
   },
   "outputs": [],
   "source": [
    "dfEnc = pd.get_dummies(dfEnc, columns=['main_category'], prefix = ['cat'])"
   ]
  },
  {
   "cell_type": "code",
   "execution_count": 19,
   "metadata": {},
   "outputs": [
    {
     "data": {
      "text/plain": [
       "(700, 29)"
      ]
     },
     "execution_count": 19,
     "metadata": {},
     "output_type": "execute_result"
    }
   ],
   "source": [
    "dfEnc.shape"
   ]
  },
  {
   "cell_type": "code",
   "execution_count": 20,
   "metadata": {
    "collapsed": true
   },
   "outputs": [],
   "source": [
    "dfEnc.reset_index(inplace=True, drop=True)"
   ]
  },
  {
   "cell_type": "markdown",
   "metadata": {},
   "source": [
    "# Helper Functions"
   ]
  },
  {
   "cell_type": "code",
   "execution_count": 21,
   "metadata": {
    "collapsed": true
   },
   "outputs": [],
   "source": [
    "def BoxHist(column, df_focus):\n",
    "    \n",
    "    sns.set()\n",
    "    colList = df_focus[column]\n",
    "    \n",
    "    # plots\n",
    "    plt.figure(figsize=(10, 5))\n",
    "\n",
    "    plt.subplot(1, 2, 1)\n",
    "    sns.boxplot(y=column, data=df_focus)\n",
    "    \n",
    "    plt.subplot(1, 2, 2)\n",
    "    g=sns.distplot(colList, kde=False, bins=60)\n",
    "    \n",
    "    # rotate label for large tick values on histagram x axis\n",
    "    if (colList.max() > 9999):\n",
    "        plt.setp(g.get_xticklabels(), rotation=45)\n",
    "\n",
    "    plt.show()"
   ]
  },
  {
   "cell_type": "code",
   "execution_count": 52,
   "metadata": {
    "collapsed": true
   },
   "outputs": [],
   "source": [
    "def loopIterations2(X,y,listOfCs,verbose=False):\n",
    "\n",
    "    for c in listOfCs:\n",
    "\n",
    "        IterRdgLr = LogisticRegression(C=c, penalty='l2').fit(X,y)\n",
    "        score = IterRdgLr.score(X,y)\n",
    "        cvs = cross_val_score(IterRdgLr, X,y, cv=5)\n",
    "        # Display.\n",
    "        if verbose:\n",
    "            print('===========================')\n",
    "        print(\"C:{0}\\n Score:{1}\".format(c,score))\n",
    "        print (\" CVS:\\n  {}\".format(cvs))\n",
    "        if verbose:\n",
    "            print('Coefficients:')\n",
    "            print(IterRdgLr.coef_)\n",
    "            print('Intercept:')\n",
    "            print(IterRdgLr.intercept_)\n",
    "\n",
    "            pred_y_sklearn = IterRdgLr.predict(X)\n",
    "            print('Accuracy CrossTab:')\n",
    "            print(pd.crosstab(pred_y_sklearn, y))"
   ]
  },
  {
   "cell_type": "markdown",
   "metadata": {},
   "source": [
    "# Isolate the Issue Columns"
   ]
  },
  {
   "cell_type": "code",
   "execution_count": 53,
   "metadata": {},
   "outputs": [],
   "source": [
    "dfIsolate = dfEnc[['state_code','goal','pledged','backers']].copy()"
   ]
  },
  {
   "cell_type": "markdown",
   "metadata": {},
   "source": [
    "# Many Outliers"
   ]
  },
  {
   "cell_type": "code",
   "execution_count": 54,
   "metadata": {},
   "outputs": [
    {
     "data": {
      "image/png": "[encoded data removed]",
      "text/plain": [
       "<matplotlib.figure.Figure at 0x1a1cf58518>"
      ]
     },
     "metadata": {},
     "output_type": "display_data"
    },
    {
     "data": {
      "image/png": "[encoded data removed]",
      "text/plain": [
       "<matplotlib.figure.Figure at 0x1a1cf53c50>"
      ]
     },
     "metadata": {},
     "output_type": "display_data"
    },
    {
     "data": {
      "image/png": "[encoded data removed]",
      "text/plain": [
       "<matplotlib.figure.Figure at 0x1a222d2748>"
      ]
     },
     "metadata": {},
     "output_type": "display_data"
    }
   ],
   "source": [
    "contCols = ['goal','pledged','backers']\n",
    "for col in contCols:\n",
    "    BoxHist(col,dfIsolate)"
   ]
  },
  {
   "cell_type": "markdown",
   "metadata": {},
   "source": [
    "# Weak Correlation"
   ]
  },
  {
   "cell_type": "code",
   "execution_count": 55,
   "metadata": {},
   "outputs": [
    {
     "data": {
      "image/png": "[encoded data removed]",
      "text/plain": [
       "<matplotlib.figure.Figure at 0x1a1cff1898>"
      ]
     },
     "metadata": {},
     "output_type": "display_data"
    }
   ],
   "source": [
    "corrmat = dfIsolate.corr()\n",
    "k = 10\n",
    "cols = corrmat.nlargest(k, 'state_code')['state_code'].index\n",
    "cm = np.corrcoef(dfIsolate[cols].values.T)\n",
    "sns.set(font_scale=1.1)\n",
    "hm = sns.heatmap(cm, cbar=True, annot=True, square=True, fmt='.2f', annot_kws={'size': 10}, yticklabels=cols.values, xticklabels=cols.values)\n",
    "plt.show()"
   ]
  },
  {
   "cell_type": "code",
   "execution_count": null,
   "metadata": {
    "collapsed": true
   },
   "outputs": [],
   "source": []
  },
  {
   "cell_type": "markdown",
   "metadata": {},
   "source": [
    "# Set Target and Data"
   ]
  },
  {
   "cell_type": "code",
   "execution_count": 56,
   "metadata": {},
   "outputs": [],
   "source": [
    "X = dfIsolate.drop('state_code', axis=1)\n",
    "y = dfIsolate['state_code']"
   ]
  },
  {
   "cell_type": "code",
   "execution_count": 57,
   "metadata": {},
   "outputs": [
    {
     "data": {
      "image/png": "[encoded data removed]",
      "text/plain": [
       "<matplotlib.figure.Figure at 0x1a26a42438>"
      ]
     },
     "metadata": {},
     "output_type": "display_data"
    }
   ],
   "source": [
    "sns.countplot(x=y,data=dfNum)\n",
    "plt.show()"
   ]
  },
  {
   "cell_type": "markdown",
   "metadata": {},
   "source": [
    "# Issue"
   ]
  },
  {
   "cell_type": "markdown",
   "metadata": {},
   "source": [
    "The Cross Val results for LogisticRegression are returning the same values regardless of the regularization parameter \"C\"."
   ]
  },
  {
   "cell_type": "code",
   "execution_count": 60,
   "metadata": {},
   "outputs": [
    {
     "name": "stdout",
     "output_type": "stream",
     "text": [
      "300\t1.0\n",
      ".003\t1.0\n",
      ".00003\t1.0\n"
     ]
    }
   ],
   "source": [
    "B_rdgLr3 = LogisticRegression(C=300, penalty='l2').fit(X,y)\n",
    "print('300\\t' + str(B_rdgLr3.score(X,y)))\n",
    "\n",
    "    \n",
    "B_rdgLr5 = LogisticRegression(C=.003, penalty='l2').fit(X,y)\n",
    "print('.003\\t' + str(B_rdgLr5.score(X,y)))\n",
    "\n",
    "    \n",
    "B_rdgLr5 = LogisticRegression(C=.00003, penalty='l2').fit(X,y)\n",
    "print('.00003\\t' + str(B_rdgLr5.score(X,y)))"
   ]
  },
  {
   "cell_type": "code",
   "execution_count": 61,
   "metadata": {},
   "outputs": [
    {
     "name": "stdout",
     "output_type": "stream",
     "text": [
      "===========================\n",
      "C:300\n",
      " Score:1.0\n",
      " CVS:\n",
      "  [ 1.          1.          1.          1.          0.99280576]\n",
      "Coefficients:\n",
      "[[-0.04378602  0.05157578  0.00363444]]\n",
      "Intercept:\n",
      "[ 0.0004377]\n",
      "Accuracy CrossTab:\n",
      "state_code    0    1\n",
      "row_0               \n",
      "0           388    0\n",
      "1             0  312\n",
      "===========================\n",
      "C:0.003\n",
      " Score:1.0\n",
      " CVS:\n",
      "  [ 1.          1.          1.          1.          0.99280576]\n",
      "Coefficients:\n",
      "[[-0.03895599  0.04591977  0.00316042]]\n",
      "Intercept:\n",
      "[ 0.00039138]\n",
      "Accuracy CrossTab:\n",
      "state_code    0    1\n",
      "row_0               \n",
      "0           388    0\n",
      "1             0  312\n",
      "===========================\n",
      "C:3e-05\n",
      " Score:1.0\n",
      " CVS:\n",
      "  [ 1.          1.          1.          1.          0.99280576]\n",
      "Coefficients:\n",
      "[[-0.01216908  0.01433618  0.00060847]]\n",
      "Intercept:\n",
      "[  5.95852113e-05]\n",
      "Accuracy CrossTab:\n",
      "state_code    0    1\n",
      "row_0               \n",
      "0           388    0\n",
      "1             0  312\n",
      "===========================\n",
      "C:3e-10\n",
      " Score:0.99\n",
      " CVS:\n",
      "  [ 0.9858156   0.9929078   1.          0.98561151  0.98561151]\n",
      "Coefficients:\n",
      "[[ -9.13474754e-05   1.33276603e-04   2.01389078e-06]]\n",
      "Intercept:\n",
      "[ -1.75825355e-09]\n",
      "Accuracy CrossTab:\n",
      "state_code    0    1\n",
      "row_0               \n",
      "0           381    0\n",
      "1             7  312\n"
     ]
    }
   ],
   "source": [
    "listOfCs = [300,.003,.00003,.0000000003]\n",
    "loopIterations2(X,y,listOfCs, verbose=True)"
   ]
  },
  {
   "cell_type": "code",
   "execution_count": null,
   "metadata": {
    "collapsed": true
   },
   "outputs": [],
   "source": []
  },
  {
   "cell_type": "code",
   "execution_count": null,
   "metadata": {
    "collapsed": true
   },
   "outputs": [],
   "source": []
  },
  {
   "cell_type": "markdown",
   "metadata": {},
   "source": [
    "## Remove Goal Outliers"
   ]
  },
  {
   "cell_type": "code",
   "execution_count": 30,
   "metadata": {},
   "outputs": [
    {
     "data": {
      "image/png": "[encoded data removed]",
      "text/plain": [
       "<matplotlib.figure.Figure at 0x1a29037390>"
      ]
     },
     "metadata": {},
     "output_type": "display_data"
    },
    {
     "data": {
      "text/plain": [
       "(502, 4)"
      ]
     },
     "execution_count": 30,
     "metadata": {},
     "output_type": "execute_result"
    }
   ],
   "source": [
    "dfNoGoalOutlier = dfEnc[['state_code','goal','pledged','backers']].copy()\n",
    "#dfNoGoalOutlier = dfNoGoalOutlier[np.abs(dfNoGoalOutlier.goal-dfNoGoalOutlier.goal.mean()) <= (3*dfNoGoalOutlier.goal.std())]\n",
    "\n",
    "dfNoGoalOutlier = dfNoGoalOutlier[dfNoGoalOutlier.goal < dfNoGoalOutlier.goal.quantile(.72)]\n",
    "\n",
    "BoxHist('goal',dfNoGoalOutlier)\n",
    "plt.show()\n",
    "\n",
    "dfNoGoalOutlier.shape"
   ]
  },
  {
   "cell_type": "code",
   "execution_count": null,
   "metadata": {
    "collapsed": true
   },
   "outputs": [],
   "source": [
    "\n"
   ]
  },
  {
   "cell_type": "code",
   "execution_count": 31,
   "metadata": {},
   "outputs": [
    {
     "data": {
      "image/png": "[encoded data removed]",
      "text/plain": [
       "<matplotlib.figure.Figure at 0x1a27b98358>"
      ]
     },
     "metadata": {},
     "output_type": "display_data"
    },
    {
     "data": {
      "image/png": "[encoded data removed]",
      "text/plain": [
       "<matplotlib.figure.Figure at 0x1a26a55518>"
      ]
     },
     "metadata": {},
     "output_type": "display_data"
    },
    {
     "data": {
      "image/png": "[encoded data removed]",
      "text/plain": [
       "<matplotlib.figure.Figure at 0x1a2900d668>"
      ]
     },
     "metadata": {},
     "output_type": "display_data"
    }
   ],
   "source": [
    "graphlog = []\n",
    "for colx in ['goal','pledged','backers']:\n",
    "    for coly in ['goal','pledged','backers']:\n",
    "        logItem = coly+colx\n",
    "        if (colx != coly) & (colx+coly not in graphlog):\n",
    "            ax = sns.regplot(x=colx,y=coly, data=dfNoGoalOutlier)\n",
    "            graphlog.append(coly+colx)\n",
    "            plt.show()"
   ]
  },
  {
   "cell_type": "markdown",
   "metadata": {},
   "source": [
    "## Remove Pledge Outliers"
   ]
  },
  {
   "cell_type": "code",
   "execution_count": 32,
   "metadata": {},
   "outputs": [
    {
     "data": {
      "image/png": "[encoded data removed]",
      "text/plain": [
       "<matplotlib.figure.Figure at 0x1a2900ddd8>"
      ]
     },
     "metadata": {},
     "output_type": "display_data"
    },
    {
     "data": {
      "image/png": "[encoded data removed]",
      "text/plain": [
       "<matplotlib.figure.Figure at 0x1a290058d0>"
      ]
     },
     "metadata": {},
     "output_type": "display_data"
    }
   ],
   "source": [
    "plt.boxplot(dfNoGoalOutlier[dfNoGoalOutlier['state_code']==1]['pledged'])\n",
    "  #           ,dfCorr[dfCorr['state']==0]['goal']])\n",
    "plt.show()\n",
    "\n",
    "plt.boxplot(dfNoGoalOutlier[dfNoGoalOutlier['state_code']==0]['pledged'])\n",
    "  #           ,dfCorr[dfCorr['state']==0]['goal']])\n",
    "plt.show()"
   ]
  },
  {
   "cell_type": "code",
   "execution_count": 33,
   "metadata": {},
   "outputs": [
    {
     "data": {
      "text/plain": [
       "count       502.000000\n",
       "mean       4033.503745\n",
       "std       12950.928828\n",
       "min           0.000000\n",
       "25%          80.250000\n",
       "50%        1005.500000\n",
       "75%        3702.500000\n",
       "max      236949.000000\n",
       "Name: pledged, dtype: float64"
      ]
     },
     "execution_count": 33,
     "metadata": {},
     "output_type": "execute_result"
    }
   ],
   "source": [
    "dfNoGoalOutlier['pledged'].describe()"
   ]
  },
  {
   "cell_type": "code",
   "execution_count": 34,
   "metadata": {
    "collapsed": true
   },
   "outputs": [],
   "source": [
    "dfNoPledgeOutlier = dfNoGoalOutlier.copy()\n",
    "#dfNoPledgeOutlier = dfNoPledgeOutlier[np.abs(dfNoPledgeOutlier.goal-dfNoPledgeOutlier.goal.mean()) <= (3*dfNoPledgeOutlier.goal.std())]\n",
    "\n",
    "dfNoPledgeOutlier = dfNoPledgeOutlier[dfNoPledgeOutlier.goal < dfNoPledgeOutlier.goal.quantile(.00155)]"
   ]
  },
  {
   "cell_type": "code",
   "execution_count": 35,
   "metadata": {},
   "outputs": [
    {
     "data": {
      "text/plain": [
       "(1, 4)"
      ]
     },
     "execution_count": 35,
     "metadata": {},
     "output_type": "execute_result"
    }
   ],
   "source": [
    "dfNoPledgeOutlier.shape"
   ]
  },
  {
   "cell_type": "code",
   "execution_count": 36,
   "metadata": {
    "collapsed": true
   },
   "outputs": [],
   "source": [
    "pledgeNoZero = dfNoGoalOutlier.copy()\n",
    "pledgeNoZero = pledgeNoZero[dfNoGoalOutlier.pledged > 200 ]"
   ]
  }
 ],
 "metadata": {
  "kernelspec": {
   "display_name": "Python 3",
   "language": "python",
   "name": "python3"
  },
  "language_info": {
   "codemirror_mode": {
    "name": "ipython",
    "version": 3
   },
   "file_extension": ".py",
   "mimetype": "text/x-python",
   "name": "python",
   "nbconvert_exporter": "python",
   "pygments_lexer": "ipython3",
   "version": "3.6.3"
  }
 },
 "nbformat": 4,
 "nbformat_minor": 2
}
