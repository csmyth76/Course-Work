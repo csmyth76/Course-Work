{
 "cells": [
  {
   "cell_type": "code",
   "execution_count": 1,
   "metadata": {
    "collapsed": true
   },
   "outputs": [],
   "source": [
    "%matplotlib inline\n",
    "import numpy as np\n",
    "import pandas as pd\n",
    "import scipy\n",
    "import sklearn\n",
    "import matplotlib.pyplot as plt\n",
    "import seaborn as sns\n",
    "import re\n",
    "from collections import Counter\n",
    "import scipy.stats as stats"
   ]
  },
  {
   "cell_type": "code",
   "execution_count": 2,
   "metadata": {
    "collapsed": true
   },
   "outputs": [],
   "source": [
    "df = pd.read_csv('Profile_of_Workplace_Safety_and_Health_in_the_United_States.csv')"
   ]
  },
  {
   "cell_type": "markdown",
   "metadata": {
    "collapsed": true
   },
   "source": [
    "# Data Description\n",
    "\n",
    "Workplace injury data for 2012 with penalties issued in 2013 for infractions occuring in 2012 for all 50 states.\n",
    "\n",
    "https://opendata.socrata.com/Government/Profile-of-Workplace-Safety-and-Health-in-the-Unit/tcp4-eymc"
   ]
  },
  {
   "cell_type": "code",
   "execution_count": 3,
   "metadata": {},
   "outputs": [
    {
     "data": {
      "text/html": [
       "<div>\n",
       "<style>\n",
       "    .dataframe thead tr:only-child th {\n",
       "        text-align: right;\n",
       "    }\n",
       "\n",
       "    .dataframe thead th {\n",
       "        text-align: left;\n",
       "    }\n",
       "\n",
       "    .dataframe tbody tr th {\n",
       "        vertical-align: top;\n",
       "    }\n",
       "</style>\n",
       "<table border=\"1\" class=\"dataframe\">\n",
       "  <thead>\n",
       "    <tr style=\"text-align: right;\">\n",
       "      <th></th>\n",
       "      <th>State</th>\n",
       "      <th>Number of Fatalities, 2012</th>\n",
       "      <th>Rate of Fatalities, 2012</th>\n",
       "      <th>State Rank, Fatalities 2012</th>\n",
       "      <th>Number of Injuries/Illnesses 2012</th>\n",
       "      <th>Injuries/Illnesses 2012 Rate</th>\n",
       "      <th>Penalties FY 2013 (Average $)</th>\n",
       "      <th>Penalties FY 2013 (Rank)</th>\n",
       "      <th>Inspectors</th>\n",
       "      <th>Years to Inspect Each Workplace Once</th>\n",
       "      <th>State or Federal Program</th>\n",
       "    </tr>\n",
       "  </thead>\n",
       "  <tbody>\n",
       "    <tr>\n",
       "      <th>0</th>\n",
       "      <td>South Carolina\\n(33.99882060100049, -81.045367...</td>\n",
       "      <td>63</td>\n",
       "      <td>3.5</td>\n",
       "      <td>25.0</td>\n",
       "      <td>36,200</td>\n",
       "      <td>3.0</td>\n",
       "      <td>492</td>\n",
       "      <td>49.0</td>\n",
       "      <td>24.0</td>\n",
       "      <td>111.0</td>\n",
       "      <td>State</td>\n",
       "    </tr>\n",
       "    <tr>\n",
       "      <th>1</th>\n",
       "      <td>West Virginia\\n(38.665511497000466, -80.712639...</td>\n",
       "      <td>49</td>\n",
       "      <td>6.9</td>\n",
       "      <td>46.0</td>\n",
       "      <td>19,800</td>\n",
       "      <td>4.1</td>\n",
       "      <td>1,798</td>\n",
       "      <td>27.0</td>\n",
       "      <td>7.0</td>\n",
       "      <td>173.0</td>\n",
       "      <td>Federal</td>\n",
       "    </tr>\n",
       "    <tr>\n",
       "      <th>2</th>\n",
       "      <td>Massachusetts\\n(42.27687306500047, -72.0826898...</td>\n",
       "      <td>44</td>\n",
       "      <td>1.4</td>\n",
       "      <td>1.0</td>\n",
       "      <td>69,700</td>\n",
       "      <td>3.1</td>\n",
       "      <td>1,929</td>\n",
       "      <td>21.0</td>\n",
       "      <td>33.0</td>\n",
       "      <td>123.0</td>\n",
       "      <td>Federal</td>\n",
       "    </tr>\n",
       "    <tr>\n",
       "      <th>3</th>\n",
       "      <td>Tennessee\\n(35.680943063000484, -85.7744864219...</td>\n",
       "      <td>101</td>\n",
       "      <td>3.8</td>\n",
       "      <td>30.0</td>\n",
       "      <td>65,100</td>\n",
       "      <td>3.5</td>\n",
       "      <td>727</td>\n",
       "      <td>45.0</td>\n",
       "      <td>30.0</td>\n",
       "      <td>82.0</td>\n",
       "      <td>State</td>\n",
       "    </tr>\n",
       "    <tr>\n",
       "      <th>4</th>\n",
       "      <td>Oklahoma\\n(35.472034350000456, -97.52106845499...</td>\n",
       "      <td>97</td>\n",
       "      <td>6.1</td>\n",
       "      <td>42.0</td>\n",
       "      <td>39,000</td>\n",
       "      <td>3.6</td>\n",
       "      <td>1,872</td>\n",
       "      <td>24.0</td>\n",
       "      <td>19.0</td>\n",
       "      <td>131.0</td>\n",
       "      <td>Federal</td>\n",
       "    </tr>\n",
       "  </tbody>\n",
       "</table>\n",
       "</div>"
      ],
      "text/plain": [
       "                                               State  \\\n",
       "0  South Carolina\\n(33.99882060100049, -81.045367...   \n",
       "1  West Virginia\\n(38.665511497000466, -80.712639...   \n",
       "2  Massachusetts\\n(42.27687306500047, -72.0826898...   \n",
       "3  Tennessee\\n(35.680943063000484, -85.7744864219...   \n",
       "4  Oklahoma\\n(35.472034350000456, -97.52106845499...   \n",
       "\n",
       "  Number of Fatalities, 2012  Rate of Fatalities, 2012  \\\n",
       "0                         63                       3.5   \n",
       "1                         49                       6.9   \n",
       "2                         44                       1.4   \n",
       "3                        101                       3.8   \n",
       "4                         97                       6.1   \n",
       "\n",
       "   State Rank, Fatalities 2012 Number of Injuries/Illnesses 2012  \\\n",
       "0                         25.0                            36,200   \n",
       "1                         46.0                            19,800   \n",
       "2                          1.0                            69,700   \n",
       "3                         30.0                            65,100   \n",
       "4                         42.0                            39,000   \n",
       "\n",
       "   Injuries/Illnesses 2012 Rate Penalties FY 2013 (Average $)  \\\n",
       "0                           3.0                           492   \n",
       "1                           4.1                         1,798   \n",
       "2                           3.1                         1,929   \n",
       "3                           3.5                           727   \n",
       "4                           3.6                         1,872   \n",
       "\n",
       "   Penalties FY 2013 (Rank)  Inspectors  Years to Inspect Each Workplace Once  \\\n",
       "0                      49.0        24.0                                 111.0   \n",
       "1                      27.0         7.0                                 173.0   \n",
       "2                      21.0        33.0                                 123.0   \n",
       "3                      45.0        30.0                                  82.0   \n",
       "4                      24.0        19.0                                 131.0   \n",
       "\n",
       "  State or Federal Program  \n",
       "0                    State  \n",
       "1                  Federal  \n",
       "2                  Federal  \n",
       "3                    State  \n",
       "4                  Federal  "
      ]
     },
     "execution_count": 3,
     "metadata": {},
     "output_type": "execute_result"
    }
   ],
   "source": [
    "df.head()"
   ]
  },
  {
   "cell_type": "code",
   "execution_count": 4,
   "metadata": {},
   "outputs": [
    {
     "data": {
      "text/plain": [
       "(54, 11)"
      ]
     },
     "execution_count": 4,
     "metadata": {},
     "output_type": "execute_result"
    }
   ],
   "source": [
    "df.shape"
   ]
  },
  {
   "cell_type": "markdown",
   "metadata": {},
   "source": [
    "# Data Cleaning\n",
    "\n",
    "### Type\n",
    "\n",
    "There are columns of data that are numeric but are not a numeric type.  Convert each of these columns to a numeric format."
   ]
  },
  {
   "cell_type": "code",
   "execution_count": 5,
   "metadata": {},
   "outputs": [
    {
     "data": {
      "text/plain": [
       "State                                    object\n",
       "Number of Fatalities, 2012               object\n",
       "Rate of Fatalities, 2012                float64\n",
       "State Rank, Fatalities 2012             float64\n",
       "Number of Injuries/Illnesses 2012        object\n",
       "Injuries/Illnesses 2012 Rate            float64\n",
       "Penalties FY 2013 (Average $)            object\n",
       "Penalties FY 2013 (Rank)                float64\n",
       "Inspectors                              float64\n",
       "Years to Inspect Each Workplace Once    float64\n",
       "State or Federal Program                 object\n",
       "dtype: object"
      ]
     },
     "execution_count": 5,
     "metadata": {},
     "output_type": "execute_result"
    }
   ],
   "source": [
    "df.dtypes"
   ]
  },
  {
   "cell_type": "code",
   "execution_count": 144,
   "metadata": {
    "collapsed": true
   },
   "outputs": [],
   "source": [
    "# Convert numeric columns that are objects to floats\n",
    "df_clean = df.copy()\n",
    "\n",
    "cols_to_convert = [\"Number of Injuries/Illnesses 2012\",\n",
    "                  \"Penalties FY 2013 (Average $)\",\n",
    "                  \"Number of Fatalities, 2012\"]\n",
    "\n",
    "for col in cols_to_convert:\n",
    "    df_clean[col] = df[col].str.replace(\",\",\"\").astype(float)"
   ]
  },
  {
   "cell_type": "code",
   "execution_count": 145,
   "metadata": {},
   "outputs": [
    {
     "data": {
      "text/plain": [
       "State                                    object\n",
       "Number of Fatalities, 2012              float64\n",
       "Rate of Fatalities, 2012                float64\n",
       "State Rank, Fatalities 2012             float64\n",
       "Number of Injuries/Illnesses 2012       float64\n",
       "Injuries/Illnesses 2012 Rate            float64\n",
       "Penalties FY 2013 (Average $)           float64\n",
       "Penalties FY 2013 (Rank)                float64\n",
       "Inspectors                              float64\n",
       "Years to Inspect Each Workplace Once    float64\n",
       "State or Federal Program                 object\n",
       "dtype: object"
      ]
     },
     "execution_count": 145,
     "metadata": {},
     "output_type": "execute_result"
    }
   ],
   "source": [
    "df_clean.dtypes"
   ]
  },
  {
   "cell_type": "markdown",
   "metadata": {},
   "source": [
    "### Null Values\n",
    "\n",
    "Several columns contain Null values.  Since these are numeric and there are so few samples to this data set, replace the missing entries with the mean for the existing column entries."
   ]
  },
  {
   "cell_type": "code",
   "execution_count": 146,
   "metadata": {},
   "outputs": [
    {
     "data": {
      "text/html": [
       "<div>\n",
       "<style>\n",
       "    .dataframe thead tr:only-child th {\n",
       "        text-align: right;\n",
       "    }\n",
       "\n",
       "    .dataframe thead th {\n",
       "        text-align: left;\n",
       "    }\n",
       "\n",
       "    .dataframe tbody tr th {\n",
       "        vertical-align: top;\n",
       "    }\n",
       "</style>\n",
       "<table border=\"1\" class=\"dataframe\">\n",
       "  <thead>\n",
       "    <tr style=\"text-align: right;\">\n",
       "      <th></th>\n",
       "      <th>State</th>\n",
       "      <th>Number of Fatalities, 2012</th>\n",
       "      <th>Rate of Fatalities, 2012</th>\n",
       "      <th>State Rank, Fatalities 2012</th>\n",
       "      <th>Number of Injuries/Illnesses 2012</th>\n",
       "      <th>Injuries/Illnesses 2012 Rate</th>\n",
       "      <th>Penalties FY 2013 (Average $)</th>\n",
       "      <th>Penalties FY 2013 (Rank)</th>\n",
       "      <th>Inspectors</th>\n",
       "      <th>Years to Inspect Each Workplace Once</th>\n",
       "      <th>State or Federal Program</th>\n",
       "    </tr>\n",
       "  </thead>\n",
       "  <tbody>\n",
       "    <tr>\n",
       "      <th>11</th>\n",
       "      <td>Florida\\n(28.932042899000464, -81.92895558499964)</td>\n",
       "      <td>218</td>\n",
       "      <td>2.7</td>\n",
       "      <td>15.0</td>\n",
       "      <td>NaN</td>\n",
       "      <td>NaN</td>\n",
       "      <td>1,821</td>\n",
       "      <td>25.0</td>\n",
       "      <td>60.0</td>\n",
       "      <td>238.0</td>\n",
       "      <td>Federal</td>\n",
       "    </tr>\n",
       "    <tr>\n",
       "      <th>17</th>\n",
       "      <td>New Hampshire\\n(43.6559537330005, -71.50035726...</td>\n",
       "      <td>14</td>\n",
       "      <td>2.2</td>\n",
       "      <td>4.0</td>\n",
       "      <td>NaN</td>\n",
       "      <td>NaN</td>\n",
       "      <td>2,243</td>\n",
       "      <td>8.0</td>\n",
       "      <td>7.0</td>\n",
       "      <td>119.0</td>\n",
       "      <td>Federal</td>\n",
       "    </tr>\n",
       "    <tr>\n",
       "      <th>20</th>\n",
       "      <td>South Dakota\\n(44.35313342000046, -100.3735281...</td>\n",
       "      <td>31</td>\n",
       "      <td>6.7</td>\n",
       "      <td>45.0</td>\n",
       "      <td>NaN</td>\n",
       "      <td>NaN</td>\n",
       "      <td>2,346</td>\n",
       "      <td>7.0</td>\n",
       "      <td>NaN</td>\n",
       "      <td>521.0</td>\n",
       "      <td>Federal</td>\n",
       "    </tr>\n",
       "    <tr>\n",
       "      <th>33</th>\n",
       "      <td>Colorado\\n(38.84384047000049, -106.13360888799...</td>\n",
       "      <td>82</td>\n",
       "      <td>3.5</td>\n",
       "      <td>25.0</td>\n",
       "      <td>NaN</td>\n",
       "      <td>NaN</td>\n",
       "      <td>1,649</td>\n",
       "      <td>31.0</td>\n",
       "      <td>28.0</td>\n",
       "      <td>122.0</td>\n",
       "      <td>Federal</td>\n",
       "    </tr>\n",
       "    <tr>\n",
       "      <th>38</th>\n",
       "      <td>Idaho\\n(43.682630058000484, -114.3637261449997)</td>\n",
       "      <td>19</td>\n",
       "      <td>2.7</td>\n",
       "      <td>15.0</td>\n",
       "      <td>NaN</td>\n",
       "      <td>NaN</td>\n",
       "      <td>1,449</td>\n",
       "      <td>33.0</td>\n",
       "      <td>9.0</td>\n",
       "      <td>108.0</td>\n",
       "      <td>Federal</td>\n",
       "    </tr>\n",
       "    <tr>\n",
       "      <th>41</th>\n",
       "      <td>Mississippi\\n(32.74551123200047, -89.538027644...</td>\n",
       "      <td>63</td>\n",
       "      <td>5.5</td>\n",
       "      <td>40.0</td>\n",
       "      <td>NaN</td>\n",
       "      <td>NaN</td>\n",
       "      <td>1,515</td>\n",
       "      <td>32.0</td>\n",
       "      <td>14.0</td>\n",
       "      <td>112.0</td>\n",
       "      <td>Federal</td>\n",
       "    </tr>\n",
       "    <tr>\n",
       "      <th>44</th>\n",
       "      <td>Rhode Island\\n(41.70828281900049, -71.52246918...</td>\n",
       "      <td>8</td>\n",
       "      <td>1.7</td>\n",
       "      <td>2.0</td>\n",
       "      <td>NaN</td>\n",
       "      <td>NaN</td>\n",
       "      <td>2,023</td>\n",
       "      <td>16.0</td>\n",
       "      <td>7.0</td>\n",
       "      <td>103.0</td>\n",
       "      <td>Federal</td>\n",
       "    </tr>\n",
       "    <tr>\n",
       "      <th>47</th>\n",
       "      <td>North Dakota\\n(47.47531738700047, -100.1184259...</td>\n",
       "      <td>65</td>\n",
       "      <td>17.7</td>\n",
       "      <td>50.0</td>\n",
       "      <td>NaN</td>\n",
       "      <td>NaN</td>\n",
       "      <td>3,045</td>\n",
       "      <td>3.0</td>\n",
       "      <td>8.0</td>\n",
       "      <td>111.0</td>\n",
       "      <td>Federal</td>\n",
       "    </tr>\n",
       "    <tr>\n",
       "      <th>50</th>\n",
       "      <td>NaN</td>\n",
       "      <td>NaN</td>\n",
       "      <td>NaN</td>\n",
       "      <td>NaN</td>\n",
       "      <td>NaN</td>\n",
       "      <td>NaN</td>\n",
       "      <td>NaN</td>\n",
       "      <td>NaN</td>\n",
       "      <td>NaN</td>\n",
       "      <td>NaN</td>\n",
       "      <td>NaN</td>\n",
       "    </tr>\n",
       "    <tr>\n",
       "      <th>51</th>\n",
       "      <td>NaN</td>\n",
       "      <td>NaN</td>\n",
       "      <td>NaN</td>\n",
       "      <td>NaN</td>\n",
       "      <td>NaN</td>\n",
       "      <td>NaN</td>\n",
       "      <td>NaN</td>\n",
       "      <td>NaN</td>\n",
       "      <td>NaN</td>\n",
       "      <td>NaN</td>\n",
       "      <td>NaN</td>\n",
       "    </tr>\n",
       "    <tr>\n",
       "      <th>52</th>\n",
       "      <td>NaN</td>\n",
       "      <td>NaN</td>\n",
       "      <td>NaN</td>\n",
       "      <td>NaN</td>\n",
       "      <td>NaN</td>\n",
       "      <td>NaN</td>\n",
       "      <td>NaN</td>\n",
       "      <td>NaN</td>\n",
       "      <td>NaN</td>\n",
       "      <td>NaN</td>\n",
       "      <td>NaN</td>\n",
       "    </tr>\n",
       "    <tr>\n",
       "      <th>53</th>\n",
       "      <td>Total or National, Average\\n</td>\n",
       "      <td>4,628</td>\n",
       "      <td>3.4</td>\n",
       "      <td>NaN</td>\n",
       "      <td>NaN</td>\n",
       "      <td>3.4</td>\n",
       "      <td>NaN</td>\n",
       "      <td>NaN</td>\n",
       "      <td>NaN</td>\n",
       "      <td>NaN</td>\n",
       "      <td>NaN</td>\n",
       "    </tr>\n",
       "  </tbody>\n",
       "</table>\n",
       "</div>"
      ],
      "text/plain": [
       "                                                State  \\\n",
       "11  Florida\\n(28.932042899000464, -81.92895558499964)   \n",
       "17  New Hampshire\\n(43.6559537330005, -71.50035726...   \n",
       "20  South Dakota\\n(44.35313342000046, -100.3735281...   \n",
       "33  Colorado\\n(38.84384047000049, -106.13360888799...   \n",
       "38    Idaho\\n(43.682630058000484, -114.3637261449997)   \n",
       "41  Mississippi\\n(32.74551123200047, -89.538027644...   \n",
       "44  Rhode Island\\n(41.70828281900049, -71.52246918...   \n",
       "47  North Dakota\\n(47.47531738700047, -100.1184259...   \n",
       "50                                                NaN   \n",
       "51                                                NaN   \n",
       "52                                                NaN   \n",
       "53                       Total or National, Average\\n   \n",
       "\n",
       "   Number of Fatalities, 2012  Rate of Fatalities, 2012  \\\n",
       "11                        218                       2.7   \n",
       "17                         14                       2.2   \n",
       "20                         31                       6.7   \n",
       "33                         82                       3.5   \n",
       "38                         19                       2.7   \n",
       "41                         63                       5.5   \n",
       "44                          8                       1.7   \n",
       "47                         65                      17.7   \n",
       "50                        NaN                       NaN   \n",
       "51                        NaN                       NaN   \n",
       "52                        NaN                       NaN   \n",
       "53                      4,628                       3.4   \n",
       "\n",
       "    State Rank, Fatalities 2012 Number of Injuries/Illnesses 2012  \\\n",
       "11                         15.0                               NaN   \n",
       "17                          4.0                               NaN   \n",
       "20                         45.0                               NaN   \n",
       "33                         25.0                               NaN   \n",
       "38                         15.0                               NaN   \n",
       "41                         40.0                               NaN   \n",
       "44                          2.0                               NaN   \n",
       "47                         50.0                               NaN   \n",
       "50                          NaN                               NaN   \n",
       "51                          NaN                               NaN   \n",
       "52                          NaN                               NaN   \n",
       "53                          NaN                               NaN   \n",
       "\n",
       "    Injuries/Illnesses 2012 Rate Penalties FY 2013 (Average $)  \\\n",
       "11                           NaN                         1,821   \n",
       "17                           NaN                         2,243   \n",
       "20                           NaN                         2,346   \n",
       "33                           NaN                         1,649   \n",
       "38                           NaN                         1,449   \n",
       "41                           NaN                         1,515   \n",
       "44                           NaN                         2,023   \n",
       "47                           NaN                         3,045   \n",
       "50                           NaN                           NaN   \n",
       "51                           NaN                           NaN   \n",
       "52                           NaN                           NaN   \n",
       "53                           3.4                           NaN   \n",
       "\n",
       "    Penalties FY 2013 (Rank)  Inspectors  \\\n",
       "11                      25.0        60.0   \n",
       "17                       8.0         7.0   \n",
       "20                       7.0         NaN   \n",
       "33                      31.0        28.0   \n",
       "38                      33.0         9.0   \n",
       "41                      32.0        14.0   \n",
       "44                      16.0         7.0   \n",
       "47                       3.0         8.0   \n",
       "50                       NaN         NaN   \n",
       "51                       NaN         NaN   \n",
       "52                       NaN         NaN   \n",
       "53                       NaN         NaN   \n",
       "\n",
       "    Years to Inspect Each Workplace Once State or Federal Program  \n",
       "11                                 238.0                  Federal  \n",
       "17                                 119.0                  Federal  \n",
       "20                                 521.0                  Federal  \n",
       "33                                 122.0                  Federal  \n",
       "38                                 108.0                  Federal  \n",
       "41                                 112.0                  Federal  \n",
       "44                                 103.0                  Federal  \n",
       "47                                 111.0                  Federal  \n",
       "50                                   NaN                      NaN  \n",
       "51                                   NaN                      NaN  \n",
       "52                                   NaN                      NaN  \n",
       "53                                   NaN                      NaN  "
      ]
     },
     "execution_count": 146,
     "metadata": {},
     "output_type": "execute_result"
    }
   ],
   "source": [
    "# Check for Null entries\n",
    "df[df.isnull().any(axis=1)]"
   ]
  },
  {
   "cell_type": "code",
   "execution_count": 147,
   "metadata": {
    "collapsed": true
   },
   "outputs": [],
   "source": [
    "# The number of records is small so replace missing values \n",
    "# with Mean for the column\n",
    "df_clean = df_clean.fillna(df_clean.mean())"
   ]
  },
  {
   "cell_type": "code",
   "execution_count": 148,
   "metadata": {},
   "outputs": [
    {
     "data": {
      "text/html": [
       "<div>\n",
       "<style>\n",
       "    .dataframe thead tr:only-child th {\n",
       "        text-align: right;\n",
       "    }\n",
       "\n",
       "    .dataframe thead th {\n",
       "        text-align: left;\n",
       "    }\n",
       "\n",
       "    .dataframe tbody tr th {\n",
       "        vertical-align: top;\n",
       "    }\n",
       "</style>\n",
       "<table border=\"1\" class=\"dataframe\">\n",
       "  <thead>\n",
       "    <tr style=\"text-align: right;\">\n",
       "      <th></th>\n",
       "      <th>State</th>\n",
       "      <th>Number of Fatalities, 2012</th>\n",
       "      <th>Rate of Fatalities, 2012</th>\n",
       "      <th>State Rank, Fatalities 2012</th>\n",
       "      <th>Number of Injuries/Illnesses 2012</th>\n",
       "      <th>Injuries/Illnesses 2012 Rate</th>\n",
       "      <th>Penalties FY 2013 (Average $)</th>\n",
       "      <th>Penalties FY 2013 (Rank)</th>\n",
       "      <th>Inspectors</th>\n",
       "      <th>Years to Inspect Each Workplace Once</th>\n",
       "      <th>State or Federal Program</th>\n",
       "    </tr>\n",
       "  </thead>\n",
       "  <tbody>\n",
       "    <tr>\n",
       "      <th>50</th>\n",
       "      <td>NaN</td>\n",
       "      <td>181.27451</td>\n",
       "      <td>4.3</td>\n",
       "      <td>25.1</td>\n",
       "      <td>64178.571429</td>\n",
       "      <td>3.62093</td>\n",
       "      <td>1727.88</td>\n",
       "      <td>25.5</td>\n",
       "      <td>38.979592</td>\n",
       "      <td>123.88</td>\n",
       "      <td>NaN</td>\n",
       "    </tr>\n",
       "    <tr>\n",
       "      <th>51</th>\n",
       "      <td>NaN</td>\n",
       "      <td>181.27451</td>\n",
       "      <td>4.3</td>\n",
       "      <td>25.1</td>\n",
       "      <td>64178.571429</td>\n",
       "      <td>3.62093</td>\n",
       "      <td>1727.88</td>\n",
       "      <td>25.5</td>\n",
       "      <td>38.979592</td>\n",
       "      <td>123.88</td>\n",
       "      <td>NaN</td>\n",
       "    </tr>\n",
       "    <tr>\n",
       "      <th>52</th>\n",
       "      <td>NaN</td>\n",
       "      <td>181.27451</td>\n",
       "      <td>4.3</td>\n",
       "      <td>25.1</td>\n",
       "      <td>64178.571429</td>\n",
       "      <td>3.62093</td>\n",
       "      <td>1727.88</td>\n",
       "      <td>25.5</td>\n",
       "      <td>38.979592</td>\n",
       "      <td>123.88</td>\n",
       "      <td>NaN</td>\n",
       "    </tr>\n",
       "    <tr>\n",
       "      <th>53</th>\n",
       "      <td>Total or National, Average\\n</td>\n",
       "      <td>4628.00000</td>\n",
       "      <td>3.4</td>\n",
       "      <td>25.1</td>\n",
       "      <td>64178.571429</td>\n",
       "      <td>3.40000</td>\n",
       "      <td>1727.88</td>\n",
       "      <td>25.5</td>\n",
       "      <td>38.979592</td>\n",
       "      <td>123.88</td>\n",
       "      <td>NaN</td>\n",
       "    </tr>\n",
       "  </tbody>\n",
       "</table>\n",
       "</div>"
      ],
      "text/plain": [
       "                           State  Number of Fatalities, 2012  \\\n",
       "50                           NaN                   181.27451   \n",
       "51                           NaN                   181.27451   \n",
       "52                           NaN                   181.27451   \n",
       "53  Total or National, Average\\n                  4628.00000   \n",
       "\n",
       "    Rate of Fatalities, 2012  State Rank, Fatalities 2012  \\\n",
       "50                       4.3                         25.1   \n",
       "51                       4.3                         25.1   \n",
       "52                       4.3                         25.1   \n",
       "53                       3.4                         25.1   \n",
       "\n",
       "    Number of Injuries/Illnesses 2012  Injuries/Illnesses 2012 Rate  \\\n",
       "50                       64178.571429                       3.62093   \n",
       "51                       64178.571429                       3.62093   \n",
       "52                       64178.571429                       3.62093   \n",
       "53                       64178.571429                       3.40000   \n",
       "\n",
       "    Penalties FY 2013 (Average $)  Penalties FY 2013 (Rank)  Inspectors  \\\n",
       "50                        1727.88                      25.5   38.979592   \n",
       "51                        1727.88                      25.5   38.979592   \n",
       "52                        1727.88                      25.5   38.979592   \n",
       "53                        1727.88                      25.5   38.979592   \n",
       "\n",
       "    Years to Inspect Each Workplace Once State or Federal Program  \n",
       "50                                123.88                      NaN  \n",
       "51                                123.88                      NaN  \n",
       "52                                123.88                      NaN  \n",
       "53                                123.88                      NaN  "
      ]
     },
     "execution_count": 148,
     "metadata": {},
     "output_type": "execute_result"
    }
   ],
   "source": [
    "# Check again for Null entries\n",
    "df_clean[df_clean.isnull().any(axis=1)]"
   ]
  },
  {
   "cell_type": "markdown",
   "metadata": {},
   "source": [
    "### Unneded Text in \"State\" Column\n",
    "\n",
    "Extra text in the \"State\" Column entries is not needed for analysis.  Remove this extra text from each entry."
   ]
  },
  {
   "cell_type": "code",
   "execution_count": 149,
   "metadata": {},
   "outputs": [
    {
     "data": {
      "text/plain": [
       "0    South Carolina\\n(33.99882060100049, -81.045367...\n",
       "1    West Virginia\\n(38.665511497000466, -80.712639...\n",
       "2    Massachusetts\\n(42.27687306500047, -72.0826898...\n",
       "Name: State, dtype: object"
      ]
     },
     "execution_count": 149,
     "metadata": {},
     "output_type": "execute_result"
    }
   ],
   "source": [
    "df_clean['State'][:3]"
   ]
  },
  {
   "cell_type": "code",
   "execution_count": 150,
   "metadata": {
    "collapsed": true
   },
   "outputs": [],
   "source": [
    "# State column has more information than needed; \n",
    "# remove the extra information\n",
    "df_clean['State'] = df['State'].str.split('\\n').str[0]"
   ]
  },
  {
   "cell_type": "code",
   "execution_count": 151,
   "metadata": {},
   "outputs": [
    {
     "data": {
      "text/plain": [
       "0    South Carolina\n",
       "1     West Virginia\n",
       "2     Massachusetts\n",
       "Name: State, dtype: object"
      ]
     },
     "execution_count": 151,
     "metadata": {},
     "output_type": "execute_result"
    }
   ],
   "source": [
    "df_clean['State'][:3]"
   ]
  },
  {
   "cell_type": "markdown",
   "metadata": {},
   "source": [
    "### Summary and Null Records\n",
    "\n",
    "There are Null and Summary records in the data set that are not needed.  The occur at the end of the data set so remove these records."
   ]
  },
  {
   "cell_type": "code",
   "execution_count": 152,
   "metadata": {},
   "outputs": [
    {
     "data": {
      "text/plain": [
       "48                         Texas\n",
       "49                    California\n",
       "50                           NaN\n",
       "51                           NaN\n",
       "52                           NaN\n",
       "53    Total or National, Average\n",
       "Name: State, dtype: object"
      ]
     },
     "execution_count": 152,
     "metadata": {},
     "output_type": "execute_result"
    }
   ],
   "source": [
    "# There are extra entries at the end of the data set\n",
    "df_clean['State'][-6:]"
   ]
  },
  {
   "cell_type": "code",
   "execution_count": 153,
   "metadata": {},
   "outputs": [
    {
     "data": {
      "text/plain": [
       "44    Rhode Island\n",
       "45          Alaska\n",
       "46      New Jersey\n",
       "47    North Dakota\n",
       "48           Texas\n",
       "49      California\n",
       "Name: State, dtype: object"
      ]
     },
     "execution_count": 153,
     "metadata": {},
     "output_type": "execute_result"
    }
   ],
   "source": [
    "df_clean = df_clean[df_clean.State.str.contains(\"Total\") == False]\n",
    "df_clean['State'][-6:]"
   ]
  },
  {
   "cell_type": "markdown",
   "metadata": {},
   "source": [
    "### Clean Complete\n",
    "\n",
    "With data cleaned the data description contains more useful information."
   ]
  },
  {
   "cell_type": "code",
   "execution_count": 154,
   "metadata": {},
   "outputs": [
    {
     "data": {
      "text/html": [
       "<div>\n",
       "<style>\n",
       "    .dataframe thead tr:only-child th {\n",
       "        text-align: right;\n",
       "    }\n",
       "\n",
       "    .dataframe thead th {\n",
       "        text-align: left;\n",
       "    }\n",
       "\n",
       "    .dataframe tbody tr th {\n",
       "        vertical-align: top;\n",
       "    }\n",
       "</style>\n",
       "<table border=\"1\" class=\"dataframe\">\n",
       "  <thead>\n",
       "    <tr style=\"text-align: right;\">\n",
       "      <th></th>\n",
       "      <th>Number of Fatalities, 2012</th>\n",
       "      <th>Rate of Fatalities, 2012</th>\n",
       "      <th>State Rank, Fatalities 2012</th>\n",
       "      <th>Number of Injuries/Illnesses 2012</th>\n",
       "      <th>Injuries/Illnesses 2012 Rate</th>\n",
       "      <th>Penalties FY 2013 (Average $)</th>\n",
       "      <th>Penalties FY 2013 (Rank)</th>\n",
       "      <th>Inspectors</th>\n",
       "      <th>Years to Inspect Each Workplace Once</th>\n",
       "    </tr>\n",
       "  </thead>\n",
       "  <tbody>\n",
       "    <tr>\n",
       "      <th>count</th>\n",
       "      <td>50.000000</td>\n",
       "      <td>50.000000</td>\n",
       "      <td>50.000000</td>\n",
       "      <td>50.000000</td>\n",
       "      <td>50.000000</td>\n",
       "      <td>50.000000</td>\n",
       "      <td>50.00000</td>\n",
       "      <td>50.000000</td>\n",
       "      <td>50.000000</td>\n",
       "    </tr>\n",
       "    <tr>\n",
       "      <th>mean</th>\n",
       "      <td>92.340000</td>\n",
       "      <td>4.318000</td>\n",
       "      <td>25.100000</td>\n",
       "      <td>64178.571429</td>\n",
       "      <td>3.625349</td>\n",
       "      <td>1727.880000</td>\n",
       "      <td>25.50000</td>\n",
       "      <td>38.979592</td>\n",
       "      <td>123.880000</td>\n",
       "    </tr>\n",
       "    <tr>\n",
       "      <th>std</th>\n",
       "      <td>92.019876</td>\n",
       "      <td>2.788584</td>\n",
       "      <td>14.733344</td>\n",
       "      <td>56633.629354</td>\n",
       "      <td>0.656543</td>\n",
       "      <td>963.377702</td>\n",
       "      <td>14.57738</td>\n",
       "      <td>38.198456</td>\n",
       "      <td>73.311647</td>\n",
       "    </tr>\n",
       "    <tr>\n",
       "      <th>min</th>\n",
       "      <td>8.000000</td>\n",
       "      <td>1.400000</td>\n",
       "      <td>1.000000</td>\n",
       "      <td>6500.000000</td>\n",
       "      <td>2.300000</td>\n",
       "      <td>363.000000</td>\n",
       "      <td>1.00000</td>\n",
       "      <td>5.000000</td>\n",
       "      <td>31.000000</td>\n",
       "    </tr>\n",
       "    <tr>\n",
       "      <th>25%</th>\n",
       "      <td>39.000000</td>\n",
       "      <td>2.600000</td>\n",
       "      <td>12.000000</td>\n",
       "      <td>31050.000000</td>\n",
       "      <td>3.200000</td>\n",
       "      <td>996.500000</td>\n",
       "      <td>13.25000</td>\n",
       "      <td>9.500000</td>\n",
       "      <td>85.000000</td>\n",
       "    </tr>\n",
       "    <tr>\n",
       "      <th>50%</th>\n",
       "      <td>68.500000</td>\n",
       "      <td>3.500000</td>\n",
       "      <td>25.000000</td>\n",
       "      <td>62239.285714</td>\n",
       "      <td>3.620930</td>\n",
       "      <td>1812.000000</td>\n",
       "      <td>25.50000</td>\n",
       "      <td>27.000000</td>\n",
       "      <td>111.500000</td>\n",
       "    </tr>\n",
       "    <tr>\n",
       "      <th>75%</th>\n",
       "      <td>110.750000</td>\n",
       "      <td>5.125000</td>\n",
       "      <td>37.750000</td>\n",
       "      <td>72100.000000</td>\n",
       "      <td>3.900000</td>\n",
       "      <td>2120.500000</td>\n",
       "      <td>37.75000</td>\n",
       "      <td>52.000000</td>\n",
       "      <td>134.000000</td>\n",
       "    </tr>\n",
       "    <tr>\n",
       "      <th>max</th>\n",
       "      <td>536.000000</td>\n",
       "      <td>17.700000</td>\n",
       "      <td>50.000000</td>\n",
       "      <td>345400.000000</td>\n",
       "      <td>5.600000</td>\n",
       "      <td>6422.000000</td>\n",
       "      <td>50.00000</td>\n",
       "      <td>216.000000</td>\n",
       "      <td>521.000000</td>\n",
       "    </tr>\n",
       "  </tbody>\n",
       "</table>\n",
       "</div>"
      ],
      "text/plain": [
       "       Number of Fatalities, 2012  Rate of Fatalities, 2012  \\\n",
       "count                   50.000000                 50.000000   \n",
       "mean                    92.340000                  4.318000   \n",
       "std                     92.019876                  2.788584   \n",
       "min                      8.000000                  1.400000   \n",
       "25%                     39.000000                  2.600000   \n",
       "50%                     68.500000                  3.500000   \n",
       "75%                    110.750000                  5.125000   \n",
       "max                    536.000000                 17.700000   \n",
       "\n",
       "       State Rank, Fatalities 2012  Number of Injuries/Illnesses 2012  \\\n",
       "count                    50.000000                          50.000000   \n",
       "mean                     25.100000                       64178.571429   \n",
       "std                      14.733344                       56633.629354   \n",
       "min                       1.000000                        6500.000000   \n",
       "25%                      12.000000                       31050.000000   \n",
       "50%                      25.000000                       62239.285714   \n",
       "75%                      37.750000                       72100.000000   \n",
       "max                      50.000000                      345400.000000   \n",
       "\n",
       "       Injuries/Illnesses 2012 Rate  Penalties FY 2013 (Average $)  \\\n",
       "count                     50.000000                      50.000000   \n",
       "mean                       3.625349                    1727.880000   \n",
       "std                        0.656543                     963.377702   \n",
       "min                        2.300000                     363.000000   \n",
       "25%                        3.200000                     996.500000   \n",
       "50%                        3.620930                    1812.000000   \n",
       "75%                        3.900000                    2120.500000   \n",
       "max                        5.600000                    6422.000000   \n",
       "\n",
       "       Penalties FY 2013 (Rank)  Inspectors  \\\n",
       "count                  50.00000   50.000000   \n",
       "mean                   25.50000   38.979592   \n",
       "std                    14.57738   38.198456   \n",
       "min                     1.00000    5.000000   \n",
       "25%                    13.25000    9.500000   \n",
       "50%                    25.50000   27.000000   \n",
       "75%                    37.75000   52.000000   \n",
       "max                    50.00000  216.000000   \n",
       "\n",
       "       Years to Inspect Each Workplace Once  \n",
       "count                             50.000000  \n",
       "mean                             123.880000  \n",
       "std                               73.311647  \n",
       "min                               31.000000  \n",
       "25%                               85.000000  \n",
       "50%                              111.500000  \n",
       "75%                              134.000000  \n",
       "max                              521.000000  "
      ]
     },
     "execution_count": 154,
     "metadata": {},
     "output_type": "execute_result"
    }
   ],
   "source": [
    "df_clean.describe()"
   ]
  },
  {
   "cell_type": "markdown",
   "metadata": {},
   "source": [
    "# Data Analysis"
   ]
  },
  {
   "cell_type": "code",
   "execution_count": 155,
   "metadata": {},
   "outputs": [],
   "source": [
    "def BoxHistOutliers(column):\n",
    "    \n",
    "    colList = df_clean[column]\n",
    "    \n",
    "    # plots\n",
    "    plt.figure(figsize=(10, 5))\n",
    "\n",
    "    plt.subplot(1, 2, 1)\n",
    "    sns.boxplot(y=column, data=df_clean)\n",
    "    \n",
    "    plt.subplot(1, 2, 2)\n",
    "    g=sns.distplot(colList, kde=False, bins=20)\n",
    "    \n",
    "    # rotate label for large tick values on histagram x axis\n",
    "    if (colList.max() > 9999):\n",
    "        plt.setp(g.get_xticklabels(), rotation=45)\n",
    "\n",
    "    plt.show()\n",
    "\n",
    "    # outliers\n",
    "    Q1, median, Q3 = np.percentile(np.asarray(colList), [25, 50, 75])\n",
    "    IQR = Q3 - Q1\n",
    "\n",
    "    loVal = Q1 - 1.5 * IQR\n",
    "    hiVal = Q3 + 1.5 * IQR\n",
    "\n",
    "    wiskHi = np.compress(colList <= hiVal, colList)\n",
    "    wiskLo = np.compress(colList >= loVal, colList)\n",
    "    \n",
    "    actualHiVal = np.max(wiskHi)\n",
    "    actualLoVal = np.min(wiskLo)\n",
    "    \n",
    "    outliersHigh = [i for i in colList if i > actualHiVal]\n",
    "    outliersLow = [i for i in colList if i < actualLoVal]\n",
    "    \n",
    "    if (len(outliersHigh) > 0):\n",
    "        print ('\\n'+ column +' Outliers: High')\n",
    "        display(df_clean.sort_values(by=column, ascending=False)[:len(outliersHigh)])\n",
    "  \n",
    "    if (len(outliersLow) > 0):\n",
    "        print ('\\n'+ column +' Outliers: Low')   \n",
    "        display(df_clean.sort_values(by=column, ascending=False)[:len(outliersLow)])\n",
    "        "
   ]
  },
  {
   "cell_type": "code",
   "execution_count": 156,
   "metadata": {},
   "outputs": [
    {
     "data": {
      "image/png": "[encoded data removed]",
      "text/plain": [
       "<matplotlib.figure.Figure at 0x1a158af080>"
      ]
     },
     "metadata": {},
     "output_type": "display_data"
    },
    {
     "name": "stdout",
     "output_type": "stream",
     "text": [
      "\n",
      "Number of Fatalities, 2012 Outliers: High\n"
     ]
    },
    {
     "data": {
      "text/html": [
       "<div>\n",
       "<style>\n",
       "    .dataframe thead tr:only-child th {\n",
       "        text-align: right;\n",
       "    }\n",
       "\n",
       "    .dataframe thead th {\n",
       "        text-align: left;\n",
       "    }\n",
       "\n",
       "    .dataframe tbody tr th {\n",
       "        vertical-align: top;\n",
       "    }\n",
       "</style>\n",
       "<table border=\"1\" class=\"dataframe\">\n",
       "  <thead>\n",
       "    <tr style=\"text-align: right;\">\n",
       "      <th></th>\n",
       "      <th>State</th>\n",
       "      <th>Number of Fatalities, 2012</th>\n",
       "      <th>Rate of Fatalities, 2012</th>\n",
       "      <th>State Rank, Fatalities 2012</th>\n",
       "      <th>Number of Injuries/Illnesses 2012</th>\n",
       "      <th>Injuries/Illnesses 2012 Rate</th>\n",
       "      <th>Penalties FY 2013 (Average $)</th>\n",
       "      <th>Penalties FY 2013 (Rank)</th>\n",
       "      <th>Inspectors</th>\n",
       "      <th>Years to Inspect Each Workplace Once</th>\n",
       "      <th>State or Federal Program</th>\n",
       "    </tr>\n",
       "  </thead>\n",
       "  <tbody>\n",
       "    <tr>\n",
       "      <th>48</th>\n",
       "      <td>Texas</td>\n",
       "      <td>536.0</td>\n",
       "      <td>4.8</td>\n",
       "      <td>35.0</td>\n",
       "      <td>203200.0</td>\n",
       "      <td>2.7</td>\n",
       "      <td>2187.0</td>\n",
       "      <td>10.0</td>\n",
       "      <td>98.0</td>\n",
       "      <td>136.0</td>\n",
       "      <td>Federal</td>\n",
       "    </tr>\n",
       "    <tr>\n",
       "      <th>49</th>\n",
       "      <td>California</td>\n",
       "      <td>375.0</td>\n",
       "      <td>2.3</td>\n",
       "      <td>6.0</td>\n",
       "      <td>345400.0</td>\n",
       "      <td>3.5</td>\n",
       "      <td>6422.0</td>\n",
       "      <td>1.0</td>\n",
       "      <td>216.0</td>\n",
       "      <td>179.0</td>\n",
       "      <td>State</td>\n",
       "    </tr>\n",
       "  </tbody>\n",
       "</table>\n",
       "</div>"
      ],
      "text/plain": [
       "         State  Number of Fatalities, 2012  Rate of Fatalities, 2012  \\\n",
       "48       Texas                       536.0                       4.8   \n",
       "49  California                       375.0                       2.3   \n",
       "\n",
       "    State Rank, Fatalities 2012  Number of Injuries/Illnesses 2012  \\\n",
       "48                         35.0                           203200.0   \n",
       "49                          6.0                           345400.0   \n",
       "\n",
       "    Injuries/Illnesses 2012 Rate  Penalties FY 2013 (Average $)  \\\n",
       "48                           2.7                         2187.0   \n",
       "49                           3.5                         6422.0   \n",
       "\n",
       "    Penalties FY 2013 (Rank)  Inspectors  \\\n",
       "48                      10.0        98.0   \n",
       "49                       1.0       216.0   \n",
       "\n",
       "    Years to Inspect Each Workplace Once State or Federal Program  \n",
       "48                                 136.0                  Federal  \n",
       "49                                 179.0                    State  "
      ]
     },
     "metadata": {},
     "output_type": "display_data"
    }
   ],
   "source": [
    "BoxHistOutliers(\"Number of Fatalities, 2012\")"
   ]
  },
  {
   "cell_type": "markdown",
   "metadata": {},
   "source": [
    "### Number of Fatalities\n",
    "\n",
    "Data is skewed right and and is centered around the value 92.  There are two very significant outliers which are approximately 4 and 5 times the mean."
   ]
  },
  {
   "cell_type": "code",
   "execution_count": 157,
   "metadata": {},
   "outputs": [
    {
     "data": {
      "image/png": "[encoded data removed]",
      "text/plain": [
       "<matplotlib.figure.Figure at 0x1a15f6aba8>"
      ]
     },
     "metadata": {},
     "output_type": "display_data"
    },
    {
     "name": "stdout",
     "output_type": "stream",
     "text": [
      "\n",
      "Rate of Fatalities, 2012 Outliers: High\n"
     ]
    },
    {
     "data": {
      "text/html": [
       "<div>\n",
       "<style>\n",
       "    .dataframe thead tr:only-child th {\n",
       "        text-align: right;\n",
       "    }\n",
       "\n",
       "    .dataframe thead th {\n",
       "        text-align: left;\n",
       "    }\n",
       "\n",
       "    .dataframe tbody tr th {\n",
       "        vertical-align: top;\n",
       "    }\n",
       "</style>\n",
       "<table border=\"1\" class=\"dataframe\">\n",
       "  <thead>\n",
       "    <tr style=\"text-align: right;\">\n",
       "      <th></th>\n",
       "      <th>State</th>\n",
       "      <th>Number of Fatalities, 2012</th>\n",
       "      <th>Rate of Fatalities, 2012</th>\n",
       "      <th>State Rank, Fatalities 2012</th>\n",
       "      <th>Number of Injuries/Illnesses 2012</th>\n",
       "      <th>Injuries/Illnesses 2012 Rate</th>\n",
       "      <th>Penalties FY 2013 (Average $)</th>\n",
       "      <th>Penalties FY 2013 (Rank)</th>\n",
       "      <th>Inspectors</th>\n",
       "      <th>Years to Inspect Each Workplace Once</th>\n",
       "      <th>State or Federal Program</th>\n",
       "    </tr>\n",
       "  </thead>\n",
       "  <tbody>\n",
       "    <tr>\n",
       "      <th>47</th>\n",
       "      <td>North Dakota</td>\n",
       "      <td>65.0</td>\n",
       "      <td>17.7</td>\n",
       "      <td>50.0</td>\n",
       "      <td>64178.571429</td>\n",
       "      <td>3.62093</td>\n",
       "      <td>3045.0</td>\n",
       "      <td>3.0</td>\n",
       "      <td>8.0</td>\n",
       "      <td>111.0</td>\n",
       "      <td>Federal</td>\n",
       "    </tr>\n",
       "    <tr>\n",
       "      <th>35</th>\n",
       "      <td>Wyoming</td>\n",
       "      <td>35.0</td>\n",
       "      <td>12.2</td>\n",
       "      <td>49.0</td>\n",
       "      <td>6500.000000</td>\n",
       "      <td>3.50000</td>\n",
       "      <td>1777.0</td>\n",
       "      <td>28.0</td>\n",
       "      <td>9.0</td>\n",
       "      <td>101.0</td>\n",
       "      <td>State</td>\n",
       "    </tr>\n",
       "  </tbody>\n",
       "</table>\n",
       "</div>"
      ],
      "text/plain": [
       "           State  Number of Fatalities, 2012  Rate of Fatalities, 2012  \\\n",
       "47  North Dakota                        65.0                      17.7   \n",
       "35       Wyoming                        35.0                      12.2   \n",
       "\n",
       "    State Rank, Fatalities 2012  Number of Injuries/Illnesses 2012  \\\n",
       "47                         50.0                       64178.571429   \n",
       "35                         49.0                        6500.000000   \n",
       "\n",
       "    Injuries/Illnesses 2012 Rate  Penalties FY 2013 (Average $)  \\\n",
       "47                       3.62093                         3045.0   \n",
       "35                       3.50000                         1777.0   \n",
       "\n",
       "    Penalties FY 2013 (Rank)  Inspectors  \\\n",
       "47                       3.0         8.0   \n",
       "35                      28.0         9.0   \n",
       "\n",
       "    Years to Inspect Each Workplace Once State or Federal Program  \n",
       "47                                 111.0                  Federal  \n",
       "35                                 101.0                    State  "
      ]
     },
     "metadata": {},
     "output_type": "display_data"
    }
   ],
   "source": [
    "BoxHistOutliers(\"Rate of Fatalities, 2012\")"
   ]
  },
  {
   "cell_type": "markdown",
   "metadata": {},
   "source": [
    "### Rate of Fatalities\n",
    "\n",
    "Data is skewed right and and is centered around the value 4.  There are two very significant outliers which are approximately 4 times the mean."
   ]
  },
  {
   "cell_type": "code",
   "execution_count": 158,
   "metadata": {},
   "outputs": [
    {
     "data": {
      "image/png": "[encoded data removed]",
      "text/plain": [
       "<matplotlib.figure.Figure at 0x1a158af668>"
      ]
     },
     "metadata": {},
     "output_type": "display_data"
    },
    {
     "name": "stdout",
     "output_type": "stream",
     "text": [
      "\n",
      "Number of Injuries/Illnesses 2012 Outliers: High\n"
     ]
    },
    {
     "data": {
      "text/html": [
       "<div>\n",
       "<style>\n",
       "    .dataframe thead tr:only-child th {\n",
       "        text-align: right;\n",
       "    }\n",
       "\n",
       "    .dataframe thead th {\n",
       "        text-align: left;\n",
       "    }\n",
       "\n",
       "    .dataframe tbody tr th {\n",
       "        vertical-align: top;\n",
       "    }\n",
       "</style>\n",
       "<table border=\"1\" class=\"dataframe\">\n",
       "  <thead>\n",
       "    <tr style=\"text-align: right;\">\n",
       "      <th></th>\n",
       "      <th>State</th>\n",
       "      <th>Number of Fatalities, 2012</th>\n",
       "      <th>Rate of Fatalities, 2012</th>\n",
       "      <th>State Rank, Fatalities 2012</th>\n",
       "      <th>Number of Injuries/Illnesses 2012</th>\n",
       "      <th>Injuries/Illnesses 2012 Rate</th>\n",
       "      <th>Penalties FY 2013 (Average $)</th>\n",
       "      <th>Penalties FY 2013 (Rank)</th>\n",
       "      <th>Inspectors</th>\n",
       "      <th>Years to Inspect Each Workplace Once</th>\n",
       "      <th>State or Federal Program</th>\n",
       "    </tr>\n",
       "  </thead>\n",
       "  <tbody>\n",
       "    <tr>\n",
       "      <th>49</th>\n",
       "      <td>California</td>\n",
       "      <td>375.0</td>\n",
       "      <td>2.3</td>\n",
       "      <td>6.0</td>\n",
       "      <td>345400.0</td>\n",
       "      <td>3.5</td>\n",
       "      <td>6422.0</td>\n",
       "      <td>1.0</td>\n",
       "      <td>216.0</td>\n",
       "      <td>179.0</td>\n",
       "      <td>State</td>\n",
       "    </tr>\n",
       "    <tr>\n",
       "      <th>48</th>\n",
       "      <td>Texas</td>\n",
       "      <td>536.0</td>\n",
       "      <td>4.8</td>\n",
       "      <td>35.0</td>\n",
       "      <td>203200.0</td>\n",
       "      <td>2.7</td>\n",
       "      <td>2187.0</td>\n",
       "      <td>10.0</td>\n",
       "      <td>98.0</td>\n",
       "      <td>136.0</td>\n",
       "      <td>Federal</td>\n",
       "    </tr>\n",
       "    <tr>\n",
       "      <th>19</th>\n",
       "      <td>Pennsylvania</td>\n",
       "      <td>194.0</td>\n",
       "      <td>3.4</td>\n",
       "      <td>22.0</td>\n",
       "      <td>155300.0</td>\n",
       "      <td>3.9</td>\n",
       "      <td>1916.0</td>\n",
       "      <td>22.0</td>\n",
       "      <td>57.0</td>\n",
       "      <td>125.0</td>\n",
       "      <td>Federal</td>\n",
       "    </tr>\n",
       "    <tr>\n",
       "      <th>21</th>\n",
       "      <td>New York</td>\n",
       "      <td>202.0</td>\n",
       "      <td>2.4</td>\n",
       "      <td>8.0</td>\n",
       "      <td>146300.0</td>\n",
       "      <td>2.5</td>\n",
       "      <td>2016.0</td>\n",
       "      <td>17.0</td>\n",
       "      <td>105.0</td>\n",
       "      <td>184.0</td>\n",
       "      <td>Federal</td>\n",
       "    </tr>\n",
       "  </tbody>\n",
       "</table>\n",
       "</div>"
      ],
      "text/plain": [
       "           State  Number of Fatalities, 2012  Rate of Fatalities, 2012  \\\n",
       "49    California                       375.0                       2.3   \n",
       "48         Texas                       536.0                       4.8   \n",
       "19  Pennsylvania                       194.0                       3.4   \n",
       "21      New York                       202.0                       2.4   \n",
       "\n",
       "    State Rank, Fatalities 2012  Number of Injuries/Illnesses 2012  \\\n",
       "49                          6.0                           345400.0   \n",
       "48                         35.0                           203200.0   \n",
       "19                         22.0                           155300.0   \n",
       "21                          8.0                           146300.0   \n",
       "\n",
       "    Injuries/Illnesses 2012 Rate  Penalties FY 2013 (Average $)  \\\n",
       "49                           3.5                         6422.0   \n",
       "48                           2.7                         2187.0   \n",
       "19                           3.9                         1916.0   \n",
       "21                           2.5                         2016.0   \n",
       "\n",
       "    Penalties FY 2013 (Rank)  Inspectors  \\\n",
       "49                       1.0       216.0   \n",
       "48                      10.0        98.0   \n",
       "19                      22.0        57.0   \n",
       "21                      17.0       105.0   \n",
       "\n",
       "    Years to Inspect Each Workplace Once State or Federal Program  \n",
       "49                                 179.0                    State  \n",
       "48                                 136.0                  Federal  \n",
       "19                                 125.0                  Federal  \n",
       "21                                 184.0                  Federal  "
      ]
     },
     "metadata": {},
     "output_type": "display_data"
    }
   ],
   "source": [
    "BoxHistOutliers(\"Number of Injuries/Illnesses 2012\")"
   ]
  },
  {
   "cell_type": "markdown",
   "metadata": {},
   "source": [
    "### Number of Injuries/Illnesses 2012\n",
    "\n",
    "Data is slightly skewed right and is centered around the value 64,000.  There are four very significant outliers which range from approximately twice as much to and 5 times greater than the mean."
   ]
  },
  {
   "cell_type": "code",
   "execution_count": 159,
   "metadata": {},
   "outputs": [
    {
     "data": {
      "image/png": "[encoded data removed]",
      "text/plain": [
       "<matplotlib.figure.Figure at 0x1a15f73f28>"
      ]
     },
     "metadata": {},
     "output_type": "display_data"
    },
    {
     "name": "stdout",
     "output_type": "stream",
     "text": [
      "\n",
      "Injuries/Illnesses 2012 Rate Outliers: High\n"
     ]
    },
    {
     "data": {
      "text/html": [
       "<div>\n",
       "<style>\n",
       "    .dataframe thead tr:only-child th {\n",
       "        text-align: right;\n",
       "    }\n",
       "\n",
       "    .dataframe thead th {\n",
       "        text-align: left;\n",
       "    }\n",
       "\n",
       "    .dataframe tbody tr th {\n",
       "        vertical-align: top;\n",
       "    }\n",
       "</style>\n",
       "<table border=\"1\" class=\"dataframe\">\n",
       "  <thead>\n",
       "    <tr style=\"text-align: right;\">\n",
       "      <th></th>\n",
       "      <th>State</th>\n",
       "      <th>Number of Fatalities, 2012</th>\n",
       "      <th>Rate of Fatalities, 2012</th>\n",
       "      <th>State Rank, Fatalities 2012</th>\n",
       "      <th>Number of Injuries/Illnesses 2012</th>\n",
       "      <th>Injuries/Illnesses 2012 Rate</th>\n",
       "      <th>Penalties FY 2013 (Average $)</th>\n",
       "      <th>Penalties FY 2013 (Rank)</th>\n",
       "      <th>Inspectors</th>\n",
       "      <th>Years to Inspect Each Workplace Once</th>\n",
       "      <th>State or Federal Program</th>\n",
       "    </tr>\n",
       "  </thead>\n",
       "  <tbody>\n",
       "    <tr>\n",
       "      <th>23</th>\n",
       "      <td>Maine</td>\n",
       "      <td>19.0</td>\n",
       "      <td>3.2</td>\n",
       "      <td>20.0</td>\n",
       "      <td>21200.0</td>\n",
       "      <td>5.6</td>\n",
       "      <td>2083.0</td>\n",
       "      <td>14.0</td>\n",
       "      <td>8.0</td>\n",
       "      <td>80.0</td>\n",
       "      <td>Federal</td>\n",
       "    </tr>\n",
       "    <tr>\n",
       "      <th>25</th>\n",
       "      <td>Vermont</td>\n",
       "      <td>11.0</td>\n",
       "      <td>3.5</td>\n",
       "      <td>25.0</td>\n",
       "      <td>9900.0</td>\n",
       "      <td>5.0</td>\n",
       "      <td>1008.0</td>\n",
       "      <td>36.0</td>\n",
       "      <td>9.0</td>\n",
       "      <td>68.0</td>\n",
       "      <td>State</td>\n",
       "    </tr>\n",
       "    <tr>\n",
       "      <th>24</th>\n",
       "      <td>Montana</td>\n",
       "      <td>34.0</td>\n",
       "      <td>7.3</td>\n",
       "      <td>47.0</td>\n",
       "      <td>13300.0</td>\n",
       "      <td>5.0</td>\n",
       "      <td>1983.0</td>\n",
       "      <td>18.0</td>\n",
       "      <td>7.0</td>\n",
       "      <td>135.0</td>\n",
       "      <td>Federal</td>\n",
       "    </tr>\n",
       "  </tbody>\n",
       "</table>\n",
       "</div>"
      ],
      "text/plain": [
       "      State  Number of Fatalities, 2012  Rate of Fatalities, 2012  \\\n",
       "23    Maine                        19.0                       3.2   \n",
       "25  Vermont                        11.0                       3.5   \n",
       "24  Montana                        34.0                       7.3   \n",
       "\n",
       "    State Rank, Fatalities 2012  Number of Injuries/Illnesses 2012  \\\n",
       "23                         20.0                            21200.0   \n",
       "25                         25.0                             9900.0   \n",
       "24                         47.0                            13300.0   \n",
       "\n",
       "    Injuries/Illnesses 2012 Rate  Penalties FY 2013 (Average $)  \\\n",
       "23                           5.6                         2083.0   \n",
       "25                           5.0                         1008.0   \n",
       "24                           5.0                         1983.0   \n",
       "\n",
       "    Penalties FY 2013 (Rank)  Inspectors  \\\n",
       "23                      14.0         8.0   \n",
       "25                      36.0         9.0   \n",
       "24                      18.0         7.0   \n",
       "\n",
       "    Years to Inspect Each Workplace Once State or Federal Program  \n",
       "23                                  80.0                  Federal  \n",
       "25                                  68.0                    State  \n",
       "24                                 135.0                  Federal  "
      ]
     },
     "metadata": {},
     "output_type": "display_data"
    }
   ],
   "source": [
    "BoxHistOutliers('Injuries/Illnesses 2012 Rate')"
   ]
  },
  {
   "cell_type": "markdown",
   "metadata": {},
   "source": [
    "### Injuries/Illnesses 2012 Rate\n",
    "\n",
    "Data is centered around the value 3.6.  There are three outliers."
   ]
  },
  {
   "cell_type": "code",
   "execution_count": 160,
   "metadata": {},
   "outputs": [
    {
     "data": {
      "image/png": "[encoded data removed]",
      "text/plain": [
       "<matplotlib.figure.Figure at 0x1a15be0320>"
      ]
     },
     "metadata": {},
     "output_type": "display_data"
    },
    {
     "name": "stdout",
     "output_type": "stream",
     "text": [
      "\n",
      "Penalties FY 2013 (Average $) Outliers: High\n"
     ]
    },
    {
     "data": {
      "text/html": [
       "<div>\n",
       "<style>\n",
       "    .dataframe thead tr:only-child th {\n",
       "        text-align: right;\n",
       "    }\n",
       "\n",
       "    .dataframe thead th {\n",
       "        text-align: left;\n",
       "    }\n",
       "\n",
       "    .dataframe tbody tr th {\n",
       "        vertical-align: top;\n",
       "    }\n",
       "</style>\n",
       "<table border=\"1\" class=\"dataframe\">\n",
       "  <thead>\n",
       "    <tr style=\"text-align: right;\">\n",
       "      <th></th>\n",
       "      <th>State</th>\n",
       "      <th>Number of Fatalities, 2012</th>\n",
       "      <th>Rate of Fatalities, 2012</th>\n",
       "      <th>State Rank, Fatalities 2012</th>\n",
       "      <th>Number of Injuries/Illnesses 2012</th>\n",
       "      <th>Injuries/Illnesses 2012 Rate</th>\n",
       "      <th>Penalties FY 2013 (Average $)</th>\n",
       "      <th>Penalties FY 2013 (Rank)</th>\n",
       "      <th>Inspectors</th>\n",
       "      <th>Years to Inspect Each Workplace Once</th>\n",
       "      <th>State or Federal Program</th>\n",
       "    </tr>\n",
       "  </thead>\n",
       "  <tbody>\n",
       "    <tr>\n",
       "      <th>49</th>\n",
       "      <td>California</td>\n",
       "      <td>375.0</td>\n",
       "      <td>2.3</td>\n",
       "      <td>6.0</td>\n",
       "      <td>345400.0</td>\n",
       "      <td>3.5</td>\n",
       "      <td>6422.0</td>\n",
       "      <td>1.0</td>\n",
       "      <td>216.0</td>\n",
       "      <td>179.0</td>\n",
       "      <td>State</td>\n",
       "    </tr>\n",
       "  </tbody>\n",
       "</table>\n",
       "</div>"
      ],
      "text/plain": [
       "         State  Number of Fatalities, 2012  Rate of Fatalities, 2012  \\\n",
       "49  California                       375.0                       2.3   \n",
       "\n",
       "    State Rank, Fatalities 2012  Number of Injuries/Illnesses 2012  \\\n",
       "49                          6.0                           345400.0   \n",
       "\n",
       "    Injuries/Illnesses 2012 Rate  Penalties FY 2013 (Average $)  \\\n",
       "49                           3.5                         6422.0   \n",
       "\n",
       "    Penalties FY 2013 (Rank)  Inspectors  \\\n",
       "49                       1.0       216.0   \n",
       "\n",
       "    Years to Inspect Each Workplace Once State or Federal Program  \n",
       "49                                 179.0                    State  "
      ]
     },
     "metadata": {},
     "output_type": "display_data"
    }
   ],
   "source": [
    "BoxHistOutliers('Penalties FY 2013 (Average $)')"
   ]
  },
  {
   "cell_type": "markdown",
   "metadata": {},
   "source": [
    "### Penalties FY 2013 (Average) \n",
    "\n",
    "Histogram showse data is bimodal with a peak near 2500 and another just below 1000.  There is one very significant outlier which is almost 4 times greater than the mean."
   ]
  },
  {
   "cell_type": "code",
   "execution_count": 162,
   "metadata": {},
   "outputs": [
    {
     "data": {
      "image/png": "[encoded data removed]",
      "text/plain": [
       "<matplotlib.figure.Figure at 0x1a15ca2470>"
      ]
     },
     "metadata": {},
     "output_type": "display_data"
    },
    {
     "name": "stdout",
     "output_type": "stream",
     "text": [
      "\n",
      "Inspectors Outliers: High\n"
     ]
    },
    {
     "data": {
      "text/html": [
       "<div>\n",
       "<style>\n",
       "    .dataframe thead tr:only-child th {\n",
       "        text-align: right;\n",
       "    }\n",
       "\n",
       "    .dataframe thead th {\n",
       "        text-align: left;\n",
       "    }\n",
       "\n",
       "    .dataframe tbody tr th {\n",
       "        vertical-align: top;\n",
       "    }\n",
       "</style>\n",
       "<table border=\"1\" class=\"dataframe\">\n",
       "  <thead>\n",
       "    <tr style=\"text-align: right;\">\n",
       "      <th></th>\n",
       "      <th>State</th>\n",
       "      <th>Number of Fatalities, 2012</th>\n",
       "      <th>Rate of Fatalities, 2012</th>\n",
       "      <th>State Rank, Fatalities 2012</th>\n",
       "      <th>Number of Injuries/Illnesses 2012</th>\n",
       "      <th>Injuries/Illnesses 2012 Rate</th>\n",
       "      <th>Penalties FY 2013 (Average $)</th>\n",
       "      <th>Penalties FY 2013 (Rank)</th>\n",
       "      <th>Inspectors</th>\n",
       "      <th>Years to Inspect Each Workplace Once</th>\n",
       "      <th>State or Federal Program</th>\n",
       "    </tr>\n",
       "  </thead>\n",
       "  <tbody>\n",
       "    <tr>\n",
       "      <th>49</th>\n",
       "      <td>California</td>\n",
       "      <td>375.0</td>\n",
       "      <td>2.3</td>\n",
       "      <td>6.0</td>\n",
       "      <td>345400.0</td>\n",
       "      <td>3.5</td>\n",
       "      <td>6422.0</td>\n",
       "      <td>1.0</td>\n",
       "      <td>216.0</td>\n",
       "      <td>179.0</td>\n",
       "      <td>State</td>\n",
       "    </tr>\n",
       "  </tbody>\n",
       "</table>\n",
       "</div>"
      ],
      "text/plain": [
       "         State  Number of Fatalities, 2012  Rate of Fatalities, 2012  \\\n",
       "49  California                       375.0                       2.3   \n",
       "\n",
       "    State Rank, Fatalities 2012  Number of Injuries/Illnesses 2012  \\\n",
       "49                          6.0                           345400.0   \n",
       "\n",
       "    Injuries/Illnesses 2012 Rate  Penalties FY 2013 (Average $)  \\\n",
       "49                           3.5                         6422.0   \n",
       "\n",
       "    Penalties FY 2013 (Rank)  Inspectors  \\\n",
       "49                       1.0       216.0   \n",
       "\n",
       "    Years to Inspect Each Workplace Once State or Federal Program  \n",
       "49                                 179.0                    State  "
      ]
     },
     "metadata": {},
     "output_type": "display_data"
    }
   ],
   "source": [
    "BoxHistOutliers('Inspectors')"
   ]
  },
  {
   "cell_type": "markdown",
   "metadata": {},
   "source": [
    "### Inspectors\n",
    "\n",
    "Data is skewed right and is centered around the value 39.  There is one very significant outlier which range from approximately 5 times greater than the mean."
   ]
  },
  {
   "cell_type": "code",
   "execution_count": 163,
   "metadata": {},
   "outputs": [
    {
     "data": {
      "image/png": "[encoded data removed]",
      "text/plain": [
       "<matplotlib.figure.Figure at 0x1a159a65f8>"
      ]
     },
     "metadata": {},
     "output_type": "display_data"
    },
    {
     "name": "stdout",
     "output_type": "stream",
     "text": [
      "\n",
      "Years to Inspect Each Workplace Once Outliers: High\n"
     ]
    },
    {
     "data": {
      "text/html": [
       "<div>\n",
       "<style>\n",
       "    .dataframe thead tr:only-child th {\n",
       "        text-align: right;\n",
       "    }\n",
       "\n",
       "    .dataframe thead th {\n",
       "        text-align: left;\n",
       "    }\n",
       "\n",
       "    .dataframe tbody tr th {\n",
       "        vertical-align: top;\n",
       "    }\n",
       "</style>\n",
       "<table border=\"1\" class=\"dataframe\">\n",
       "  <thead>\n",
       "    <tr style=\"text-align: right;\">\n",
       "      <th></th>\n",
       "      <th>State</th>\n",
       "      <th>Number of Fatalities, 2012</th>\n",
       "      <th>Rate of Fatalities, 2012</th>\n",
       "      <th>State Rank, Fatalities 2012</th>\n",
       "      <th>Number of Injuries/Illnesses 2012</th>\n",
       "      <th>Injuries/Illnesses 2012 Rate</th>\n",
       "      <th>Penalties FY 2013 (Average $)</th>\n",
       "      <th>Penalties FY 2013 (Rank)</th>\n",
       "      <th>Inspectors</th>\n",
       "      <th>Years to Inspect Each Workplace Once</th>\n",
       "      <th>State or Federal Program</th>\n",
       "    </tr>\n",
       "  </thead>\n",
       "  <tbody>\n",
       "    <tr>\n",
       "      <th>20</th>\n",
       "      <td>South Dakota</td>\n",
       "      <td>31.0</td>\n",
       "      <td>6.7</td>\n",
       "      <td>45.0</td>\n",
       "      <td>64178.571429</td>\n",
       "      <td>3.62093</td>\n",
       "      <td>2346.0</td>\n",
       "      <td>7.0</td>\n",
       "      <td>38.979592</td>\n",
       "      <td>521.0</td>\n",
       "      <td>Federal</td>\n",
       "    </tr>\n",
       "    <tr>\n",
       "      <th>11</th>\n",
       "      <td>Florida</td>\n",
       "      <td>218.0</td>\n",
       "      <td>2.7</td>\n",
       "      <td>15.0</td>\n",
       "      <td>64178.571429</td>\n",
       "      <td>3.62093</td>\n",
       "      <td>1821.0</td>\n",
       "      <td>25.0</td>\n",
       "      <td>60.000000</td>\n",
       "      <td>238.0</td>\n",
       "      <td>Federal</td>\n",
       "    </tr>\n",
       "    <tr>\n",
       "      <th>26</th>\n",
       "      <td>Arkansas</td>\n",
       "      <td>63.0</td>\n",
       "      <td>5.4</td>\n",
       "      <td>39.0</td>\n",
       "      <td>26600.000000</td>\n",
       "      <td>3.20000</td>\n",
       "      <td>2569.0</td>\n",
       "      <td>4.0</td>\n",
       "      <td>9.000000</td>\n",
       "      <td>237.0</td>\n",
       "      <td>Federal</td>\n",
       "    </tr>\n",
       "  </tbody>\n",
       "</table>\n",
       "</div>"
      ],
      "text/plain": [
       "           State  Number of Fatalities, 2012  Rate of Fatalities, 2012  \\\n",
       "20  South Dakota                        31.0                       6.7   \n",
       "11       Florida                       218.0                       2.7   \n",
       "26      Arkansas                        63.0                       5.4   \n",
       "\n",
       "    State Rank, Fatalities 2012  Number of Injuries/Illnesses 2012  \\\n",
       "20                         45.0                       64178.571429   \n",
       "11                         15.0                       64178.571429   \n",
       "26                         39.0                       26600.000000   \n",
       "\n",
       "    Injuries/Illnesses 2012 Rate  Penalties FY 2013 (Average $)  \\\n",
       "20                       3.62093                         2346.0   \n",
       "11                       3.62093                         1821.0   \n",
       "26                       3.20000                         2569.0   \n",
       "\n",
       "    Penalties FY 2013 (Rank)  Inspectors  \\\n",
       "20                       7.0   38.979592   \n",
       "11                      25.0   60.000000   \n",
       "26                       4.0    9.000000   \n",
       "\n",
       "    Years to Inspect Each Workplace Once State or Federal Program  \n",
       "20                                 521.0                  Federal  \n",
       "11                                 238.0                  Federal  \n",
       "26                                 237.0                  Federal  "
      ]
     },
     "metadata": {},
     "output_type": "display_data"
    }
   ],
   "source": [
    "BoxHistOutliers('Years to Inspect Each Workplace Once')"
   ]
  },
  {
   "cell_type": "markdown",
   "metadata": {},
   "source": [
    "### Years to Inspect Each Workplace Once\n",
    "\n",
    "Data is slightly skewed right and is centered around the value 124.  There are three outliers. Two are approximately twice as much as the mean.  One is 4 times greater than the mean. "
   ]
  },
  {
   "cell_type": "code",
   "execution_count": 164,
   "metadata": {
    "collapsed": true
   },
   "outputs": [],
   "source": [
    "# remove categorical data\n",
    "df_cont = df_clean.drop('State',1)\n",
    "df_cont = df_cont.drop('Penalties FY 2013 (Rank)',1)\n",
    "df_cont = df_cont.drop('State Rank, Fatalities 2012',1) \n",
    "df_cont = df_cont.drop('State or Federal Program',1)"
   ]
  },
  {
   "cell_type": "code",
   "execution_count": 165,
   "metadata": {},
   "outputs": [
    {
     "data": {
      "image/png": "[encoded data removed]",
      "text/plain": [
       "<matplotlib.figure.Figure at 0x1a160f32b0>"
      ]
     },
     "metadata": {},
     "output_type": "display_data"
    }
   ],
   "source": [
    "### WHY ARE KDE PLOTS OFF THE GRID?\n",
    "g = sns.PairGrid(df_cont)\n",
    "# Scatterplot.\n",
    "g.map_upper(plt.scatter)\n",
    "# Fit line summarizing the linear relationship of the two variables.\n",
    "g.map_lower(sns.regplot)\n",
    "# Give information about the univariate distributions of the variables.\n",
    "g.map_diag(sns.kdeplot)\n",
    "plt.show()\n"
   ]
  },
  {
   "cell_type": "markdown",
   "metadata": {},
   "source": []
  },
  {
   "cell_type": "code",
   "execution_count": 166,
   "metadata": {},
   "outputs": [
    {
     "name": "stdout",
     "output_type": "stream",
     "text": [
      "                                      Number of Fatalities, 2012  \\\n",
      "Number of Fatalities, 2012                              1.000000   \n",
      "Rate of Fatalities, 2012                               -0.103638   \n",
      "Number of Injuries/Illnesses 2012                       0.812810   \n",
      "Injuries/Illnesses 2012 Rate                           -0.359071   \n",
      "Penalties FY 2013 (Average $)                           0.366846   \n",
      "Inspectors                                              0.709983   \n",
      "Years to Inspect Each Workplace Once                    0.095607   \n",
      "\n",
      "                                      Rate of Fatalities, 2012  \\\n",
      "Number of Fatalities, 2012                           -0.103638   \n",
      "Rate of Fatalities, 2012                              1.000000   \n",
      "Number of Injuries/Illnesses 2012                    -0.250741   \n",
      "Injuries/Illnesses 2012 Rate                          0.133885   \n",
      "Penalties FY 2013 (Average $)                         0.124127   \n",
      "Inspectors                                           -0.337205   \n",
      "Years to Inspect Each Workplace Once                  0.122329   \n",
      "\n",
      "                                      Number of Injuries/Illnesses 2012  \\\n",
      "Number of Fatalities, 2012                                     0.812810   \n",
      "Rate of Fatalities, 2012                                      -0.250741   \n",
      "Number of Injuries/Illnesses 2012                              1.000000   \n",
      "Injuries/Illnesses 2012 Rate                                  -0.264200   \n",
      "Penalties FY 2013 (Average $)                                  0.549120   \n",
      "Inspectors                                                     0.856716   \n",
      "Years to Inspect Each Workplace Once                           0.100619   \n",
      "\n",
      "                                      Injuries/Illnesses 2012 Rate  \\\n",
      "Number of Fatalities, 2012                               -0.359071   \n",
      "Rate of Fatalities, 2012                                  0.133885   \n",
      "Number of Injuries/Illnesses 2012                        -0.264200   \n",
      "Injuries/Illnesses 2012 Rate                              1.000000   \n",
      "Penalties FY 2013 (Average $)                            -0.084708   \n",
      "Inspectors                                               -0.210848   \n",
      "Years to Inspect Each Workplace Once                     -0.243461   \n",
      "\n",
      "                                      Penalties FY 2013 (Average $)  \\\n",
      "Number of Fatalities, 2012                                 0.366846   \n",
      "Rate of Fatalities, 2012                                   0.124127   \n",
      "Number of Injuries/Illnesses 2012                          0.549120   \n",
      "Injuries/Illnesses 2012 Rate                              -0.084708   \n",
      "Penalties FY 2013 (Average $)                              1.000000   \n",
      "Inspectors                                                 0.364527   \n",
      "Years to Inspect Each Workplace Once                       0.365000   \n",
      "\n",
      "                                      Inspectors  \\\n",
      "Number of Fatalities, 2012              0.709983   \n",
      "Rate of Fatalities, 2012               -0.337205   \n",
      "Number of Injuries/Illnesses 2012       0.856716   \n",
      "Injuries/Illnesses 2012 Rate           -0.210848   \n",
      "Penalties FY 2013 (Average $)           0.364527   \n",
      "Inspectors                              1.000000   \n",
      "Years to Inspect Each Workplace Once    0.002717   \n",
      "\n",
      "                                      Years to Inspect Each Workplace Once  \n",
      "Number of Fatalities, 2012                                        0.095607  \n",
      "Rate of Fatalities, 2012                                          0.122329  \n",
      "Number of Injuries/Illnesses 2012                                 0.100619  \n",
      "Injuries/Illnesses 2012 Rate                                     -0.243461  \n",
      "Penalties FY 2013 (Average $)                                     0.365000  \n",
      "Inspectors                                                        0.002717  \n",
      "Years to Inspect Each Workplace Once                              1.000000  \n"
     ]
    }
   ],
   "source": [
    "# correlation\n",
    "\n",
    "# Make the correlation matrix.\n",
    "corrmat = df_cont.corr()\n",
    "print(corrmat)"
   ]
  },
  {
   "cell_type": "markdown",
   "metadata": {},
   "source": [
    "\n"
   ]
  },
  {
   "cell_type": "code",
   "execution_count": 167,
   "metadata": {},
   "outputs": [
    {
     "data": {
      "image/png": "[encoded data removed]",
      "text/plain": [
       "<matplotlib.figure.Figure at 0x1a15929be0>"
      ]
     },
     "metadata": {},
     "output_type": "display_data"
    }
   ],
   "source": [
    "# Set up the matplotlib figure.\n",
    "f, ax = plt.subplots(figsize=(8, 5))\n",
    "\n",
    "# Draw the heatmap using seaborn.\n",
    "sns.heatmap(corrmat, vmax=.8, square=True)\n",
    "plt.show()"
   ]
  },
  {
   "cell_type": "markdown",
   "metadata": {},
   "source": [
    "### High Positive Correlations\n",
    "\n",
    "*** Number of Fatalities, 2012 and Number of Injuries/Illnesses 2012 ***\n",
    "\n",
    "*** Number of Fatalities, 2012 and Inspectors ***\n",
    "\n",
    "*** Number of Injuries/Illnesses 2012 and Inspectors ***\n",
    "\n",
    "*** Number of Injuries/Illnesses 2012 and Penalties FY 2013 (Average $) ***\n",
    "\n",
    "Fatalities and Injuries are highly correlated which could indicate hazardous work environments. \n",
    "\n",
    "Fatalities, Injuries and Inspectors are correlated as well.  This could indicate a need for more inspectors where there are hazardous work environments.\n",
    "\n",
    "Penalties and Injuries are correlated but Penalties and fatalities are not.  There may be an issue related to the types of items that are penalized.  The expectation is that States with high fatalities would also have high penalties (i.e. working conditions unsafe enough to lead to fatalities should be detected by inspectors and therefore reported and penalized).  A review of fatalities and how they occured could lead to inspections that detect work environments that could lead to fatalities.  Detecting these and penalizing companies for them could ultimately reduce the number of fatalities.\n"
   ]
  },
  {
   "cell_type": "code",
   "execution_count": 169,
   "metadata": {},
   "outputs": [
    {
     "name": "stdout",
     "output_type": "stream",
     "text": [
      "Number of Fatalities, 2012\n",
      "Ttest_indResult(statistic=-0.42034015452199763, pvalue=0.67611282570844533)\n",
      "Rate of Fatalities, 2012\n",
      "Ttest_indResult(statistic=-0.30314838662167748, pvalue=0.76308680079770075)\n",
      "Number of Injuries/Illnesses 2012\n",
      "Ttest_indResult(statistic=-0.27688751813756679, pvalue=0.78305538354669879)\n",
      "Injuries/Illnesses 2012 Rate\n",
      "Ttest_indResult(statistic=1.350011298586073, pvalue=0.18334437448158911)\n",
      "Penalties FY 2013 (Average $)\n",
      "Ttest_indResult(statistic=-2.8533292155642291, pvalue=0.0063667651222184844)\n",
      "Inspectors\n",
      "Ttest_indResult(statistic=1.6518619300145279, pvalue=0.10509065557481616)\n",
      "Years to Inspect Each Workplace Once\n",
      "Ttest_indResult(statistic=-3.0291524488367521, pvalue=0.0039408581790831305)\n"
     ]
    }
   ],
   "source": [
    "for col in df_cont.loc[:].columns:\n",
    "    print(col)\n",
    "    print(stats.ttest_ind(\n",
    "        df_clean[df_clean['State or Federal Program'] == 'State'][col],\n",
    "        df_clean[df_clean['State or Federal Program'] == 'Federal'][col]\n",
    "    ))"
   ]
  },
  {
   "cell_type": "markdown",
   "metadata": {},
   "source": [
    "### T Test: Federal vs State\n",
    "\n",
    "T-Test results show that there is a significant difference between State and Federal inspection progrms for the following columns:\n",
    "- Penalties FY 2013 (Average $)\n",
    "- Years to Inspect Each Workplace Once\n",
    "\n",
    "\n"
   ]
  },
  {
   "cell_type": "code",
   "execution_count": 38,
   "metadata": {},
   "outputs": [
    {
     "data": {
      "image/png": "[encoded data removed]",
      "text/plain": [
       "<matplotlib.figure.Figure at 0x1a1dedbb38>"
      ]
     },
     "metadata": {},
     "output_type": "display_data"
    }
   ],
   "source": [
    "ax = sns.boxplot(x=\"State or Federal Program\", y=\"Penalties FY 2013 (Average $)\", data=df_clean)"
   ]
  },
  {
   "cell_type": "code",
   "execution_count": 170,
   "metadata": {},
   "outputs": [
    {
     "name": "stdout",
     "output_type": "stream",
     "text": [
      "\n",
      "Penalties FY 2013 (Average $) for State Outliers: High\n"
     ]
    },
    {
     "data": {
      "text/html": [
       "<div>\n",
       "<style>\n",
       "    .dataframe thead tr:only-child th {\n",
       "        text-align: right;\n",
       "    }\n",
       "\n",
       "    .dataframe thead th {\n",
       "        text-align: left;\n",
       "    }\n",
       "\n",
       "    .dataframe tbody tr th {\n",
       "        vertical-align: top;\n",
       "    }\n",
       "</style>\n",
       "<table border=\"1\" class=\"dataframe\">\n",
       "  <thead>\n",
       "    <tr style=\"text-align: right;\">\n",
       "      <th></th>\n",
       "      <th>State</th>\n",
       "      <th>Number of Fatalities, 2012</th>\n",
       "      <th>Rate of Fatalities, 2012</th>\n",
       "      <th>State Rank, Fatalities 2012</th>\n",
       "      <th>Number of Injuries/Illnesses 2012</th>\n",
       "      <th>Injuries/Illnesses 2012 Rate</th>\n",
       "      <th>Penalties FY 2013 (Average $)</th>\n",
       "      <th>Penalties FY 2013 (Rank)</th>\n",
       "      <th>Inspectors</th>\n",
       "      <th>Years to Inspect Each Workplace Once</th>\n",
       "      <th>State or Federal Program</th>\n",
       "    </tr>\n",
       "  </thead>\n",
       "  <tbody>\n",
       "    <tr>\n",
       "      <th>49</th>\n",
       "      <td>California</td>\n",
       "      <td>375.0</td>\n",
       "      <td>2.3</td>\n",
       "      <td>6.0</td>\n",
       "      <td>345400.0</td>\n",
       "      <td>3.5</td>\n",
       "      <td>6422.0</td>\n",
       "      <td>1.0</td>\n",
       "      <td>216.0</td>\n",
       "      <td>179.0</td>\n",
       "      <td>State</td>\n",
       "    </tr>\n",
       "    <tr>\n",
       "      <th>28</th>\n",
       "      <td>Kentucky</td>\n",
       "      <td>91.0</td>\n",
       "      <td>4.9</td>\n",
       "      <td>37.0</td>\n",
       "      <td>48900.0</td>\n",
       "      <td>4.1</td>\n",
       "      <td>3254.0</td>\n",
       "      <td>2.0</td>\n",
       "      <td>39.0</td>\n",
       "      <td>124.0</td>\n",
       "      <td>State</td>\n",
       "    </tr>\n",
       "    <tr>\n",
       "      <th>27</th>\n",
       "      <td>Nevada</td>\n",
       "      <td>42.0</td>\n",
       "      <td>3.6</td>\n",
       "      <td>29.0</td>\n",
       "      <td>32400.0</td>\n",
       "      <td>4.1</td>\n",
       "      <td>2133.0</td>\n",
       "      <td>13.0</td>\n",
       "      <td>44.0</td>\n",
       "      <td>49.0</td>\n",
       "      <td>State</td>\n",
       "    </tr>\n",
       "    <tr>\n",
       "      <th>35</th>\n",
       "      <td>Wyoming</td>\n",
       "      <td>35.0</td>\n",
       "      <td>12.2</td>\n",
       "      <td>49.0</td>\n",
       "      <td>6500.0</td>\n",
       "      <td>3.5</td>\n",
       "      <td>1777.0</td>\n",
       "      <td>28.0</td>\n",
       "      <td>9.0</td>\n",
       "      <td>101.0</td>\n",
       "      <td>State</td>\n",
       "    </tr>\n",
       "  </tbody>\n",
       "</table>\n",
       "</div>"
      ],
      "text/plain": [
       "         State  Number of Fatalities, 2012  Rate of Fatalities, 2012  \\\n",
       "49  California                       375.0                       2.3   \n",
       "28    Kentucky                        91.0                       4.9   \n",
       "27      Nevada                        42.0                       3.6   \n",
       "35     Wyoming                        35.0                      12.2   \n",
       "\n",
       "    State Rank, Fatalities 2012  Number of Injuries/Illnesses 2012  \\\n",
       "49                          6.0                           345400.0   \n",
       "28                         37.0                            48900.0   \n",
       "27                         29.0                            32400.0   \n",
       "35                         49.0                             6500.0   \n",
       "\n",
       "    Injuries/Illnesses 2012 Rate  Penalties FY 2013 (Average $)  \\\n",
       "49                           3.5                         6422.0   \n",
       "28                           4.1                         3254.0   \n",
       "27                           4.1                         2133.0   \n",
       "35                           3.5                         1777.0   \n",
       "\n",
       "    Penalties FY 2013 (Rank)  Inspectors  \\\n",
       "49                       1.0       216.0   \n",
       "28                       2.0        39.0   \n",
       "27                      13.0        44.0   \n",
       "35                      28.0         9.0   \n",
       "\n",
       "    Years to Inspect Each Workplace Once State or Federal Program  \n",
       "49                                 179.0                    State  \n",
       "28                                 124.0                    State  \n",
       "27                                  49.0                    State  \n",
       "35                                 101.0                    State  "
      ]
     },
     "execution_count": 170,
     "metadata": {},
     "output_type": "execute_result"
    }
   ],
   "source": [
    "print ('\\nPenalties FY 2013 (Average $) for State Outliers: High')\n",
    "df_clean[df_clean['State or Federal Program'] == 'State'].sort_values(by='Penalties FY 2013 (Average $)', ascending=False)[:4]"
   ]
  },
  {
   "cell_type": "code",
   "execution_count": 171,
   "metadata": {},
   "outputs": [
    {
     "name": "stdout",
     "output_type": "stream",
     "text": [
      "\n",
      "Penalties FY 2013 (Average $) for Federal Outliers: High\n"
     ]
    },
    {
     "data": {
      "text/html": [
       "<div>\n",
       "<style>\n",
       "    .dataframe thead tr:only-child th {\n",
       "        text-align: right;\n",
       "    }\n",
       "\n",
       "    .dataframe thead th {\n",
       "        text-align: left;\n",
       "    }\n",
       "\n",
       "    .dataframe tbody tr th {\n",
       "        vertical-align: top;\n",
       "    }\n",
       "</style>\n",
       "<table border=\"1\" class=\"dataframe\">\n",
       "  <thead>\n",
       "    <tr style=\"text-align: right;\">\n",
       "      <th></th>\n",
       "      <th>State</th>\n",
       "      <th>Number of Fatalities, 2012</th>\n",
       "      <th>Rate of Fatalities, 2012</th>\n",
       "      <th>State Rank, Fatalities 2012</th>\n",
       "      <th>Number of Injuries/Illnesses 2012</th>\n",
       "      <th>Injuries/Illnesses 2012 Rate</th>\n",
       "      <th>Penalties FY 2013 (Average $)</th>\n",
       "      <th>Penalties FY 2013 (Rank)</th>\n",
       "      <th>Inspectors</th>\n",
       "      <th>Years to Inspect Each Workplace Once</th>\n",
       "      <th>State or Federal Program</th>\n",
       "    </tr>\n",
       "  </thead>\n",
       "  <tbody>\n",
       "    <tr>\n",
       "      <th>47</th>\n",
       "      <td>North Dakota</td>\n",
       "      <td>65.0</td>\n",
       "      <td>17.7</td>\n",
       "      <td>50.0</td>\n",
       "      <td>64178.571429</td>\n",
       "      <td>3.62093</td>\n",
       "      <td>3045.0</td>\n",
       "      <td>3.0</td>\n",
       "      <td>8.0</td>\n",
       "      <td>111.0</td>\n",
       "      <td>Federal</td>\n",
       "    </tr>\n",
       "  </tbody>\n",
       "</table>\n",
       "</div>"
      ],
      "text/plain": [
       "           State  Number of Fatalities, 2012  Rate of Fatalities, 2012  \\\n",
       "47  North Dakota                        65.0                      17.7   \n",
       "\n",
       "    State Rank, Fatalities 2012  Number of Injuries/Illnesses 2012  \\\n",
       "47                         50.0                       64178.571429   \n",
       "\n",
       "    Injuries/Illnesses 2012 Rate  Penalties FY 2013 (Average $)  \\\n",
       "47                       3.62093                         3045.0   \n",
       "\n",
       "    Penalties FY 2013 (Rank)  Inspectors  \\\n",
       "47                       3.0         8.0   \n",
       "\n",
       "    Years to Inspect Each Workplace Once State or Federal Program  \n",
       "47                                 111.0                  Federal  "
      ]
     },
     "execution_count": 171,
     "metadata": {},
     "output_type": "execute_result"
    }
   ],
   "source": [
    "print ('\\nPenalties FY 2013 (Average $) for Federal Outliers: High')\n",
    "df_clean[df_clean['State or Federal Program'] == 'Federal'].sort_values(by='Penalties FY 2013 (Average $)', ascending=False)[:1]"
   ]
  },
  {
   "cell_type": "code",
   "execution_count": 186,
   "metadata": {},
   "outputs": [
    {
     "name": "stdout",
     "output_type": "stream",
     "text": [
      "\n",
      "Penalties FY 2013 (Average $) for State Mean: 1301.095238095238\n",
      "\n",
      "Penalties FY 2013 (Average $) for Federal Mean: 2036.9310344827586\n"
     ]
    }
   ],
   "source": [
    "stateMean = df_clean[df_clean['State or Federal Program'] == 'State']['Penalties FY 2013 (Average $)'].mean()\n",
    "fedMean = df_clean[df_clean['State or Federal Program'] == 'Federal']['Penalties FY 2013 (Average $)'].mean()\n",
    "\n",
    "print ('\\nPenalties FY 2013 (Average $) for State Mean: ' + str(stateMean))\n",
    "\n",
    "print ('\\nPenalties FY 2013 (Average $) for Federal Mean: ' + str(fedMean))\n"
   ]
  },
  {
   "cell_type": "markdown",
   "metadata": {},
   "source": [
    "### Penalties FY 2013 (Average): State or Federal Program \n",
    "\n",
    "Workplaces in states on the federal program spend almost twice as much in penalties than state programs."
   ]
  },
  {
   "cell_type": "code",
   "execution_count": 40,
   "metadata": {},
   "outputs": [
    {
     "data": {
      "image/png": "[encoded data removed]",
      "text/plain": [
       "<matplotlib.figure.Figure at 0x1a1e13d5f8>"
      ]
     },
     "metadata": {},
     "output_type": "display_data"
    }
   ],
   "source": [
    "ax = sns.boxplot(x=\"State or Federal Program\", y=\"Years to Inspect Each Workplace Once\", data=df_clean)"
   ]
  },
  {
   "cell_type": "code",
   "execution_count": 175,
   "metadata": {},
   "outputs": [
    {
     "name": "stdout",
     "output_type": "stream",
     "text": [
      "\n",
      "Years to Inspect Each Workplace Once for State Outliers: High\n"
     ]
    },
    {
     "data": {
      "text/html": [
       "<div>\n",
       "<style>\n",
       "    .dataframe thead tr:only-child th {\n",
       "        text-align: right;\n",
       "    }\n",
       "\n",
       "    .dataframe thead th {\n",
       "        text-align: left;\n",
       "    }\n",
       "\n",
       "    .dataframe tbody tr th {\n",
       "        vertical-align: top;\n",
       "    }\n",
       "</style>\n",
       "<table border=\"1\" class=\"dataframe\">\n",
       "  <thead>\n",
       "    <tr style=\"text-align: right;\">\n",
       "      <th></th>\n",
       "      <th>State</th>\n",
       "      <th>Number of Fatalities, 2012</th>\n",
       "      <th>Rate of Fatalities, 2012</th>\n",
       "      <th>State Rank, Fatalities 2012</th>\n",
       "      <th>Number of Injuries/Illnesses 2012</th>\n",
       "      <th>Injuries/Illnesses 2012 Rate</th>\n",
       "      <th>Penalties FY 2013 (Average $)</th>\n",
       "      <th>Penalties FY 2013 (Rank)</th>\n",
       "      <th>Inspectors</th>\n",
       "      <th>Years to Inspect Each Workplace Once</th>\n",
       "      <th>State or Federal Program</th>\n",
       "    </tr>\n",
       "  </thead>\n",
       "  <tbody>\n",
       "    <tr>\n",
       "      <th>18</th>\n",
       "      <td>New Mexico</td>\n",
       "      <td>39.0</td>\n",
       "      <td>4.8</td>\n",
       "      <td>35.0</td>\n",
       "      <td>19900.0</td>\n",
       "      <td>3.9</td>\n",
       "      <td>998.0</td>\n",
       "      <td>37.0</td>\n",
       "      <td>9.0</td>\n",
       "      <td>191.0</td>\n",
       "      <td>State</td>\n",
       "    </tr>\n",
       "  </tbody>\n",
       "</table>\n",
       "</div>"
      ],
      "text/plain": [
       "         State  Number of Fatalities, 2012  Rate of Fatalities, 2012  \\\n",
       "18  New Mexico                        39.0                       4.8   \n",
       "\n",
       "    State Rank, Fatalities 2012  Number of Injuries/Illnesses 2012  \\\n",
       "18                         35.0                            19900.0   \n",
       "\n",
       "    Injuries/Illnesses 2012 Rate  Penalties FY 2013 (Average $)  \\\n",
       "18                           3.9                          998.0   \n",
       "\n",
       "    Penalties FY 2013 (Rank)  Inspectors  \\\n",
       "18                      37.0         9.0   \n",
       "\n",
       "    Years to Inspect Each Workplace Once State or Federal Program  \n",
       "18                                 191.0                    State  "
      ]
     },
     "execution_count": 175,
     "metadata": {},
     "output_type": "execute_result"
    }
   ],
   "source": [
    "print ('\\nYears to Inspect Each Workplace Once for State Outliers: High')\n",
    "df_clean[df_clean['State or Federal Program'] == 'State'].sort_values(by='Years to Inspect Each Workplace Once', ascending=False)[:1]"
   ]
  },
  {
   "cell_type": "code",
   "execution_count": 174,
   "metadata": {},
   "outputs": [
    {
     "name": "stdout",
     "output_type": "stream",
     "text": [
      "\n",
      "Years to Inspect Each Workplace Once for Federal Outliers: High\n"
     ]
    },
    {
     "data": {
      "text/html": [
       "<div>\n",
       "<style>\n",
       "    .dataframe thead tr:only-child th {\n",
       "        text-align: right;\n",
       "    }\n",
       "\n",
       "    .dataframe thead th {\n",
       "        text-align: left;\n",
       "    }\n",
       "\n",
       "    .dataframe tbody tr th {\n",
       "        vertical-align: top;\n",
       "    }\n",
       "</style>\n",
       "<table border=\"1\" class=\"dataframe\">\n",
       "  <thead>\n",
       "    <tr style=\"text-align: right;\">\n",
       "      <th></th>\n",
       "      <th>State</th>\n",
       "      <th>Number of Fatalities, 2012</th>\n",
       "      <th>Rate of Fatalities, 2012</th>\n",
       "      <th>State Rank, Fatalities 2012</th>\n",
       "      <th>Number of Injuries/Illnesses 2012</th>\n",
       "      <th>Injuries/Illnesses 2012 Rate</th>\n",
       "      <th>Penalties FY 2013 (Average $)</th>\n",
       "      <th>Penalties FY 2013 (Rank)</th>\n",
       "      <th>Inspectors</th>\n",
       "      <th>Years to Inspect Each Workplace Once</th>\n",
       "      <th>State or Federal Program</th>\n",
       "    </tr>\n",
       "  </thead>\n",
       "  <tbody>\n",
       "    <tr>\n",
       "      <th>20</th>\n",
       "      <td>South Dakota</td>\n",
       "      <td>31.0</td>\n",
       "      <td>6.7</td>\n",
       "      <td>45.0</td>\n",
       "      <td>64178.571429</td>\n",
       "      <td>3.62093</td>\n",
       "      <td>2346.0</td>\n",
       "      <td>7.0</td>\n",
       "      <td>38.979592</td>\n",
       "      <td>521.0</td>\n",
       "      <td>Federal</td>\n",
       "    </tr>\n",
       "    <tr>\n",
       "      <th>11</th>\n",
       "      <td>Florida</td>\n",
       "      <td>218.0</td>\n",
       "      <td>2.7</td>\n",
       "      <td>15.0</td>\n",
       "      <td>64178.571429</td>\n",
       "      <td>3.62093</td>\n",
       "      <td>1821.0</td>\n",
       "      <td>25.0</td>\n",
       "      <td>60.000000</td>\n",
       "      <td>238.0</td>\n",
       "      <td>Federal</td>\n",
       "    </tr>\n",
       "    <tr>\n",
       "      <th>26</th>\n",
       "      <td>Arkansas</td>\n",
       "      <td>63.0</td>\n",
       "      <td>5.4</td>\n",
       "      <td>39.0</td>\n",
       "      <td>26600.000000</td>\n",
       "      <td>3.20000</td>\n",
       "      <td>2569.0</td>\n",
       "      <td>4.0</td>\n",
       "      <td>9.000000</td>\n",
       "      <td>237.0</td>\n",
       "      <td>Federal</td>\n",
       "    </tr>\n",
       "    <tr>\n",
       "      <th>42</th>\n",
       "      <td>Louisiana</td>\n",
       "      <td>116.0</td>\n",
       "      <td>6.4</td>\n",
       "      <td>43.0</td>\n",
       "      <td>30600.000000</td>\n",
       "      <td>2.30000</td>\n",
       "      <td>1765.0</td>\n",
       "      <td>29.0</td>\n",
       "      <td>16.000000</td>\n",
       "      <td>206.0</td>\n",
       "      <td>Federal</td>\n",
       "    </tr>\n",
       "  </tbody>\n",
       "</table>\n",
       "</div>"
      ],
      "text/plain": [
       "           State  Number of Fatalities, 2012  Rate of Fatalities, 2012  \\\n",
       "20  South Dakota                        31.0                       6.7   \n",
       "11       Florida                       218.0                       2.7   \n",
       "26      Arkansas                        63.0                       5.4   \n",
       "42     Louisiana                       116.0                       6.4   \n",
       "\n",
       "    State Rank, Fatalities 2012  Number of Injuries/Illnesses 2012  \\\n",
       "20                         45.0                       64178.571429   \n",
       "11                         15.0                       64178.571429   \n",
       "26                         39.0                       26600.000000   \n",
       "42                         43.0                       30600.000000   \n",
       "\n",
       "    Injuries/Illnesses 2012 Rate  Penalties FY 2013 (Average $)  \\\n",
       "20                       3.62093                         2346.0   \n",
       "11                       3.62093                         1821.0   \n",
       "26                       3.20000                         2569.0   \n",
       "42                       2.30000                         1765.0   \n",
       "\n",
       "    Penalties FY 2013 (Rank)  Inspectors  \\\n",
       "20                       7.0   38.979592   \n",
       "11                      25.0   60.000000   \n",
       "26                       4.0    9.000000   \n",
       "42                      29.0   16.000000   \n",
       "\n",
       "    Years to Inspect Each Workplace Once State or Federal Program  \n",
       "20                                 521.0                  Federal  \n",
       "11                                 238.0                  Federal  \n",
       "26                                 237.0                  Federal  \n",
       "42                                 206.0                  Federal  "
      ]
     },
     "execution_count": 174,
     "metadata": {},
     "output_type": "execute_result"
    }
   ],
   "source": [
    "print ('\\nYears to Inspect Each Workplace Once for Federal Outliers: High')\n",
    "df_clean[df_clean['State or Federal Program'] == 'Federal'].sort_values(by='Years to Inspect Each Workplace Once', ascending=False)[:4]"
   ]
  },
  {
   "cell_type": "code",
   "execution_count": 189,
   "metadata": {},
   "outputs": [
    {
     "name": "stdout",
     "output_type": "stream",
     "text": [
      "\n",
      "Years to Inspect Each Workplace Once for State Mean: 89.71428571428571\n",
      "\n",
      "Years to Inspect Each Workplace Once for Federal Mean: 148.6206896551724\n"
     ]
    }
   ],
   "source": [
    "stateMean = df_clean[df_clean['State or Federal Program'] == 'State']['Years to Inspect Each Workplace Once'].mean()\n",
    "fedMean = df_clean[df_clean['State or Federal Program'] == 'Federal']['Years to Inspect Each Workplace Once'].mean()\n",
    "\n",
    "print ('\\nYears to Inspect Each Workplace Once for State Mean: ' + str(stateMean))\n",
    "\n",
    "print ('\\nYears to Inspect Each Workplace Once for Federal Mean: ' + str(fedMean))\n"
   ]
  },
  {
   "cell_type": "markdown",
   "metadata": {},
   "source": [
    "### Years to Inspect Each Workplace Once: State or Federal Program \n",
    "\n",
    "Inspectors in states on the federal program take significantly longer to inspect workplaces than state programs. "
   ]
  },
  {
   "cell_type": "markdown",
   "metadata": {},
   "source": [
    "# Problem\n",
    "\n",
    "Federal Inspectors are significantly less efficient than State inspectors.\n",
    "\n",
    "\n",
    "# Hypothesis\n",
    "\n",
    "Automating the paperwork of the Federal Inspectors will decrease the \"Years to Inspect Each Workplace Once\" metric.\n",
    "\n",
    "\n",
    "# Strategy\n",
    "\n",
    "Start 10% of inspectors in each Federal State on the automated paperwork process.  Monitor for any issues with the new process related to number of inspections done, ease of use and any unexpected adverse effects.  Make corrections as needed until process runs as intended.  After 10% of Federal Inspectors have run the process for a period of time without significant issues, increase the number of Inspectors using the new process to 50% per Federal State.  Continue to monitor number of inspections done per inspector and note any issues with the new process.  After a significant period of time the number of inspections done by inspectors using the new process will be compared to the number of inspections done by inspectors using the the old process.  \n",
    "\n",
    "\n",
    "# Roll Out  \n",
    "\n",
    "\n",
    "### First Month\n",
    "\n",
    "Start 10% of inspectors in each Federal State on the automated paperwork process.  Monitor for any issues with the new process related to number of inspections done, ease of use and any unexpected adverse effects.  Make corrections as needed until process runs as intended. \n",
    "\n",
    "\n",
    "### Month 3: Official Start\n",
    "\n",
    "Have automated paperwork process rolled out to 50% of Federal State Inspectors.  This is the official start of the experiment.\n",
    "\n",
    "\n",
    "### Month 6: Check In\n",
    "\n",
    "Review the rate of inspections done by inspectors using the automated process vs those that are not.  Also, review the inspections done by the inspectors using the automated process for the same period in the previous year.  If there are significant increases in the number of inspections done by the automated process group, then continue the experiment.  If not, evaluate the status vs expectations and make a choice to continue the experiment or not.\n",
    "\n",
    "\n",
    "### Month 9: Experiment Complete\n",
    "\n",
    "At month 9 should have 6 months of data for the new process vs the old process.  This data will be evaluated to determine if automating the paperwork process had a significant impact on the rate of inspections performed.\n",
    "\n",
    "\n",
    "# Success Metric\n",
    "\n",
    "A significant decrease in “Years to Inspect Each Workplace Once” for Federal Inspectors is the metric that the experiment is designed to influence.  This is a calculation based on the rate of workplaces inspections over a year.  In order to condense the timeframe for the experiment the focus will be on the number of inspections performed per month.  If the group using the automated paperwork process shows a significantly greater number of inspections vs the group using the old method,  hypothesis will be considered proven.\n",
    "\n",
    "\n",
    "# Secondary Metric\n",
    "\n",
    "There are no other metrics related to “Years to Inspect Each Workplace Once” that will help prove the hypothesis. \t"
   ]
  },
  {
   "cell_type": "code",
   "execution_count": null,
   "metadata": {
    "collapsed": true
   },
   "outputs": [],
   "source": []
  }
 ],
 "metadata": {
  "kernelspec": {
   "display_name": "Python 3",
   "language": "python",
   "name": "python3"
  },
  "language_info": {
   "codemirror_mode": {
    "name": "ipython",
    "version": 3
   },
   "file_extension": ".py",
   "mimetype": "text/x-python",
   "name": "python",
   "nbconvert_exporter": "python",
   "pygments_lexer": "ipython3",
   "version": "3.6.3"
  }
 },
 "nbformat": 4,
 "nbformat_minor": 2
}
