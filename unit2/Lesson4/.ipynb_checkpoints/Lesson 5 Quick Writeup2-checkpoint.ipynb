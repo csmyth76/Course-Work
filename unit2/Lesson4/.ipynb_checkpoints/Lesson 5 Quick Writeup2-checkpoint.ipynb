{
 "cells": [
  {
   "cell_type": "code",
   "execution_count": 1,
   "metadata": {
    "collapsed": true
   },
   "outputs": [],
   "source": [
    "import math\n",
    "import numpy as np\n",
    "import pandas as pd\n",
    "import seaborn as sns\n",
    "import matplotlib.pyplot as plt\n",
    "from sklearn import linear_model"
   ]
  },
  {
   "cell_type": "code",
   "execution_count": 2,
   "metadata": {
    "collapsed": true
   },
   "outputs": [],
   "source": [
    "df = pd.read_csv('table_8_offenses_known_to_law_enforcement_new_york_by_city_2013.csv', encoding = \"ISO-8859-1\")"
   ]
  },
  {
   "cell_type": "code",
   "execution_count": 3,
   "metadata": {},
   "outputs": [
    {
     "data": {
      "text/html": [
       "<div>\n",
       "<style>\n",
       "    .dataframe thead tr:only-child th {\n",
       "        text-align: right;\n",
       "    }\n",
       "\n",
       "    .dataframe thead th {\n",
       "        text-align: left;\n",
       "    }\n",
       "\n",
       "    .dataframe tbody tr th {\n",
       "        vertical-align: top;\n",
       "    }\n",
       "</style>\n",
       "<table border=\"1\" class=\"dataframe\">\n",
       "  <thead>\n",
       "    <tr style=\"text-align: right;\">\n",
       "      <th></th>\n",
       "      <th>City</th>\n",
       "      <th>Population</th>\n",
       "      <th>Violent\n",
       "crime</th>\n",
       "      <th>Murder and\n",
       "nonnegligent\n",
       "manslaughter</th>\n",
       "      <th>Rape\n",
       "(revised\n",
       "definition)1</th>\n",
       "      <th>Rape\n",
       "(legacy\n",
       "definition)2</th>\n",
       "      <th>Robbery</th>\n",
       "      <th>Aggravated\n",
       "assault</th>\n",
       "      <th>Property\n",
       "crime</th>\n",
       "      <th>Burglary</th>\n",
       "      <th>Larceny-\n",
       "theft</th>\n",
       "      <th>Motor\n",
       "vehicle\n",
       "theft</th>\n",
       "      <th>Arson3</th>\n",
       "    </tr>\n",
       "  </thead>\n",
       "  <tbody>\n",
       "    <tr>\n",
       "      <th>344</th>\n",
       "      <td>Woodridge Village</td>\n",
       "      <td>829</td>\n",
       "      <td>7</td>\n",
       "      <td>0.0</td>\n",
       "      <td>NaN</td>\n",
       "      <td>0</td>\n",
       "      <td>0</td>\n",
       "      <td>7</td>\n",
       "      <td>17</td>\n",
       "      <td>8</td>\n",
       "      <td>9</td>\n",
       "      <td>0</td>\n",
       "      <td>0.0</td>\n",
       "    </tr>\n",
       "    <tr>\n",
       "      <th>345</th>\n",
       "      <td>Woodstock Town</td>\n",
       "      <td>5,931</td>\n",
       "      <td>2</td>\n",
       "      <td>0.0</td>\n",
       "      <td>NaN</td>\n",
       "      <td>0</td>\n",
       "      <td>0</td>\n",
       "      <td>2</td>\n",
       "      <td>58</td>\n",
       "      <td>13</td>\n",
       "      <td>45</td>\n",
       "      <td>0</td>\n",
       "      <td>NaN</td>\n",
       "    </tr>\n",
       "    <tr>\n",
       "      <th>346</th>\n",
       "      <td>Yonkers</td>\n",
       "      <td>199,134</td>\n",
       "      <td>1,036</td>\n",
       "      <td>6.0</td>\n",
       "      <td>NaN</td>\n",
       "      <td>25</td>\n",
       "      <td>390</td>\n",
       "      <td>615</td>\n",
       "      <td>2,368</td>\n",
       "      <td>470</td>\n",
       "      <td>1,662</td>\n",
       "      <td>236</td>\n",
       "      <td>10.0</td>\n",
       "    </tr>\n",
       "    <tr>\n",
       "      <th>347</th>\n",
       "      <td>Yorktown Town</td>\n",
       "      <td>36,643</td>\n",
       "      <td>15</td>\n",
       "      <td>0.0</td>\n",
       "      <td>NaN</td>\n",
       "      <td>0</td>\n",
       "      <td>2</td>\n",
       "      <td>13</td>\n",
       "      <td>334</td>\n",
       "      <td>45</td>\n",
       "      <td>287</td>\n",
       "      <td>2</td>\n",
       "      <td>NaN</td>\n",
       "    </tr>\n",
       "  </tbody>\n",
       "</table>\n",
       "</div>"
      ],
      "text/plain": [
       "                  City Population Violent\\ncrime  \\\n",
       "344  Woodridge Village        829              7   \n",
       "345     Woodstock Town      5,931              2   \n",
       "346            Yonkers    199,134          1,036   \n",
       "347      Yorktown Town     36,643             15   \n",
       "\n",
       "     Murder and\\nnonnegligent\\nmanslaughter  Rape\\n(revised\\ndefinition)1  \\\n",
       "344                                     0.0                           NaN   \n",
       "345                                     0.0                           NaN   \n",
       "346                                     6.0                           NaN   \n",
       "347                                     0.0                           NaN   \n",
       "\n",
       "    Rape\\n(legacy\\ndefinition)2 Robbery Aggravated\\nassault Property\\ncrime  \\\n",
       "344                           0       0                   7              17   \n",
       "345                           0       0                   2              58   \n",
       "346                          25     390                 615           2,368   \n",
       "347                           0       2                  13             334   \n",
       "\n",
       "    Burglary Larceny-\\ntheft Motor\\nvehicle\\ntheft  Arson3  \n",
       "344        8               9                     0     0.0  \n",
       "345       13              45                     0     NaN  \n",
       "346      470           1,662                   236    10.0  \n",
       "347       45             287                     2     NaN  "
      ]
     },
     "execution_count": 3,
     "metadata": {},
     "output_type": "execute_result"
    }
   ],
   "source": [
    "df = df[:-3]\n",
    "df[-4:]"
   ]
  },
  {
   "cell_type": "code",
   "execution_count": 4,
   "metadata": {
    "collapsed": true
   },
   "outputs": [],
   "source": [
    "df_clean = pd.DataFrame()\n",
    "df_clean = df.fillna(0)\n",
    "df_clean['MurderFull'] = df_clean['Murder and\\nnonnegligent\\nmanslaughter']\n",
    "df_clean['Rape1'] = df_clean['Rape\\n(revised\\ndefinition)1']\n",
    "df_clean['Rape2'] = df_clean['Rape\\n(legacy\\ndefinition)2'].str.replace(',','').astype(float)\n",
    "df_clean['Population'] = df_clean['Population'].str.replace(',','').astype(float)\n",
    "df_clean['ViolentCrime'] = df_clean['Violent\\ncrime'].str.replace(',','').astype(float)\n",
    "df_clean['RobberyFull'] = df_clean['Robbery'].str.replace(',','').astype(float)\n",
    "df_clean['AggAssault'] = df_clean['Aggravated\\nassault'].str.replace(',','').astype(float)\n",
    "df_clean['PropertyCrime'] = df_clean['Property\\ncrime'].str.replace(',','').astype(float)\n",
    "df_clean['Burglary'] = df_clean['Burglary'].str.replace(',','').astype(float)\n",
    "df_clean['LarcenyTheft'] = df_clean['Larceny-\\ntheft'].str.replace(',','').astype(float)\n",
    "df_clean['MotorVehicleTheft'] = df_clean['Motor\\nvehicle\\ntheft'].str.replace(',','').astype(float)\n",
    "df_clean = df_clean.drop(['Murder and\\nnonnegligent\\nmanslaughter','Rape\\n(legacy\\ndefinition)2','Rape\\n(revised\\ndefinition)1','Violent\\ncrime','Aggravated\\nassault','Property\\ncrime','Larceny-\\ntheft','Motor\\nvehicle\\ntheft' ], axis=1)"
   ]
  },
  {
   "cell_type": "code",
   "execution_count": 5,
   "metadata": {
    "collapsed": true
   },
   "outputs": [],
   "source": [
    "featsAll = pd.DataFrame()\n",
    "featsAll = df_clean\n",
    "featsAll['PropertyCrime'] = df['Property\\ncrime'].str.replace(',','').astype(float)\n",
    "featsAll['Population'] = df['Population'].fillna(0)\n",
    "featsAll['Population'] = featsAll['Population'].str.replace(',','').astype(float)\n",
    "featsAll['PopSq'] = np.square(featsAll['Population'])\n",
    "featsAll['MurderFull'] = df['Murder and\\nnonnegligent\\nmanslaughter'].astype(float)\n",
    "featsAll['Murder'] = [m if m == 0 else m/m for m in df['Murder and\\nnonnegligent\\nmanslaughter']  ]\n",
    "featsAll['RobberyFull'] = df['Robbery'].fillna(0)\n",
    "featsAll['RobberyFull'] = featsAll['RobberyFull'].str.replace(',','').astype(float)\n",
    "featsAll['Robbery'] = [r if r == 0 else r/r for r in featsAll['RobberyFull']]"
   ]
  },
  {
   "cell_type": "code",
   "execution_count": 6,
   "metadata": {},
   "outputs": [
    {
     "data": {
      "text/html": [
       "<div>\n",
       "<style>\n",
       "    .dataframe thead tr:only-child th {\n",
       "        text-align: right;\n",
       "    }\n",
       "\n",
       "    .dataframe thead th {\n",
       "        text-align: left;\n",
       "    }\n",
       "\n",
       "    .dataframe tbody tr th {\n",
       "        vertical-align: top;\n",
       "    }\n",
       "</style>\n",
       "<table border=\"1\" class=\"dataframe\">\n",
       "  <thead>\n",
       "    <tr style=\"text-align: right;\">\n",
       "      <th></th>\n",
       "      <th>City</th>\n",
       "      <th>Population</th>\n",
       "      <th>Robbery</th>\n",
       "      <th>Burglary</th>\n",
       "      <th>Arson3</th>\n",
       "      <th>MurderFull</th>\n",
       "      <th>Rape1</th>\n",
       "      <th>Rape2</th>\n",
       "      <th>ViolentCrime</th>\n",
       "      <th>RobberyFull</th>\n",
       "      <th>AggAssault</th>\n",
       "      <th>PropertyCrime</th>\n",
       "      <th>LarcenyTheft</th>\n",
       "      <th>MotorVehicleTheft</th>\n",
       "      <th>PopSq</th>\n",
       "      <th>Murder</th>\n",
       "    </tr>\n",
       "  </thead>\n",
       "  <tbody>\n",
       "    <tr>\n",
       "      <th>0</th>\n",
       "      <td>Adams Village</td>\n",
       "      <td>1861.0</td>\n",
       "      <td>0.0</td>\n",
       "      <td>2.0</td>\n",
       "      <td>0.0</td>\n",
       "      <td>0.0</td>\n",
       "      <td>0.0</td>\n",
       "      <td>0.0</td>\n",
       "      <td>0.0</td>\n",
       "      <td>0.0</td>\n",
       "      <td>0.0</td>\n",
       "      <td>12.0</td>\n",
       "      <td>10.0</td>\n",
       "      <td>0.0</td>\n",
       "      <td>3.463321e+06</td>\n",
       "      <td>0.0</td>\n",
       "    </tr>\n",
       "    <tr>\n",
       "      <th>1</th>\n",
       "      <td>Addison Town and Village</td>\n",
       "      <td>2577.0</td>\n",
       "      <td>0.0</td>\n",
       "      <td>3.0</td>\n",
       "      <td>0.0</td>\n",
       "      <td>0.0</td>\n",
       "      <td>0.0</td>\n",
       "      <td>0.0</td>\n",
       "      <td>3.0</td>\n",
       "      <td>0.0</td>\n",
       "      <td>3.0</td>\n",
       "      <td>24.0</td>\n",
       "      <td>20.0</td>\n",
       "      <td>1.0</td>\n",
       "      <td>6.640929e+06</td>\n",
       "      <td>0.0</td>\n",
       "    </tr>\n",
       "    <tr>\n",
       "      <th>2</th>\n",
       "      <td>Akron Village</td>\n",
       "      <td>2846.0</td>\n",
       "      <td>0.0</td>\n",
       "      <td>1.0</td>\n",
       "      <td>0.0</td>\n",
       "      <td>0.0</td>\n",
       "      <td>0.0</td>\n",
       "      <td>0.0</td>\n",
       "      <td>3.0</td>\n",
       "      <td>0.0</td>\n",
       "      <td>3.0</td>\n",
       "      <td>16.0</td>\n",
       "      <td>15.0</td>\n",
       "      <td>0.0</td>\n",
       "      <td>8.099716e+06</td>\n",
       "      <td>0.0</td>\n",
       "    </tr>\n",
       "    <tr>\n",
       "      <th>3</th>\n",
       "      <td>Albany</td>\n",
       "      <td>97956.0</td>\n",
       "      <td>1.0</td>\n",
       "      <td>705.0</td>\n",
       "      <td>0.0</td>\n",
       "      <td>8.0</td>\n",
       "      <td>0.0</td>\n",
       "      <td>30.0</td>\n",
       "      <td>791.0</td>\n",
       "      <td>227.0</td>\n",
       "      <td>526.0</td>\n",
       "      <td>4090.0</td>\n",
       "      <td>3243.0</td>\n",
       "      <td>142.0</td>\n",
       "      <td>9.595378e+09</td>\n",
       "      <td>1.0</td>\n",
       "    </tr>\n",
       "    <tr>\n",
       "      <th>4</th>\n",
       "      <td>Albion Village</td>\n",
       "      <td>6388.0</td>\n",
       "      <td>1.0</td>\n",
       "      <td>53.0</td>\n",
       "      <td>0.0</td>\n",
       "      <td>0.0</td>\n",
       "      <td>0.0</td>\n",
       "      <td>3.0</td>\n",
       "      <td>23.0</td>\n",
       "      <td>4.0</td>\n",
       "      <td>16.0</td>\n",
       "      <td>223.0</td>\n",
       "      <td>165.0</td>\n",
       "      <td>5.0</td>\n",
       "      <td>4.080654e+07</td>\n",
       "      <td>0.0</td>\n",
       "    </tr>\n",
       "  </tbody>\n",
       "</table>\n",
       "</div>"
      ],
      "text/plain": [
       "                       City  Population  Robbery  Burglary  Arson3  \\\n",
       "0             Adams Village      1861.0      0.0       2.0     0.0   \n",
       "1  Addison Town and Village      2577.0      0.0       3.0     0.0   \n",
       "2             Akron Village      2846.0      0.0       1.0     0.0   \n",
       "3                    Albany     97956.0      1.0     705.0     0.0   \n",
       "4            Albion Village      6388.0      1.0      53.0     0.0   \n",
       "\n",
       "   MurderFull  Rape1  Rape2  ViolentCrime  RobberyFull  AggAssault  \\\n",
       "0         0.0    0.0    0.0           0.0          0.0         0.0   \n",
       "1         0.0    0.0    0.0           3.0          0.0         3.0   \n",
       "2         0.0    0.0    0.0           3.0          0.0         3.0   \n",
       "3         8.0    0.0   30.0         791.0        227.0       526.0   \n",
       "4         0.0    0.0    3.0          23.0          4.0        16.0   \n",
       "\n",
       "   PropertyCrime  LarcenyTheft  MotorVehicleTheft         PopSq  Murder  \n",
       "0           12.0          10.0                0.0  3.463321e+06     0.0  \n",
       "1           24.0          20.0                1.0  6.640929e+06     0.0  \n",
       "2           16.0          15.0                0.0  8.099716e+06     0.0  \n",
       "3         4090.0        3243.0              142.0  9.595378e+09     1.0  \n",
       "4          223.0         165.0                5.0  4.080654e+07     0.0  "
      ]
     },
     "execution_count": 6,
     "metadata": {},
     "output_type": "execute_result"
    }
   ],
   "source": [
    "featsAll.head()"
   ]
  },
  {
   "cell_type": "code",
   "execution_count": 7,
   "metadata": {},
   "outputs": [
    {
     "data": {
      "text/html": [
       "<div>\n",
       "<style>\n",
       "    .dataframe thead tr:only-child th {\n",
       "        text-align: right;\n",
       "    }\n",
       "\n",
       "    .dataframe thead th {\n",
       "        text-align: left;\n",
       "    }\n",
       "\n",
       "    .dataframe tbody tr th {\n",
       "        vertical-align: top;\n",
       "    }\n",
       "</style>\n",
       "<table border=\"1\" class=\"dataframe\">\n",
       "  <thead>\n",
       "    <tr style=\"text-align: right;\">\n",
       "      <th></th>\n",
       "      <th>Population</th>\n",
       "      <th>Robbery</th>\n",
       "      <th>Burglary</th>\n",
       "      <th>Arson3</th>\n",
       "      <th>MurderFull</th>\n",
       "      <th>Rape1</th>\n",
       "      <th>Rape2</th>\n",
       "      <th>ViolentCrime</th>\n",
       "      <th>RobberyFull</th>\n",
       "      <th>AggAssault</th>\n",
       "      <th>PropertyCrime</th>\n",
       "      <th>LarcenyTheft</th>\n",
       "      <th>MotorVehicleTheft</th>\n",
       "      <th>PopSq</th>\n",
       "      <th>Murder</th>\n",
       "    </tr>\n",
       "  </thead>\n",
       "  <tbody>\n",
       "    <tr>\n",
       "      <th>count</th>\n",
       "      <td>3.480000e+02</td>\n",
       "      <td>348.000000</td>\n",
       "      <td>348.000000</td>\n",
       "      <td>348.000000</td>\n",
       "      <td>348.000000</td>\n",
       "      <td>348.0</td>\n",
       "      <td>348.000000</td>\n",
       "      <td>348.000000</td>\n",
       "      <td>348.000000</td>\n",
       "      <td>348.000000</td>\n",
       "      <td>348.000000</td>\n",
       "      <td>348.000000</td>\n",
       "      <td>348.000000</td>\n",
       "      <td>3.480000e+02</td>\n",
       "      <td>348.000000</td>\n",
       "    </tr>\n",
       "    <tr>\n",
       "      <th>mean</th>\n",
       "      <td>4.003763e+04</td>\n",
       "      <td>0.600575</td>\n",
       "      <td>119.683908</td>\n",
       "      <td>1.005747</td>\n",
       "      <td>1.566092</td>\n",
       "      <td>0.0</td>\n",
       "      <td>5.864943</td>\n",
       "      <td>201.594828</td>\n",
       "      <td>72.902299</td>\n",
       "      <td>121.261494</td>\n",
       "      <td>792.606322</td>\n",
       "      <td>637.017241</td>\n",
       "      <td>35.905172</td>\n",
       "      <td>2.035547e+11</td>\n",
       "      <td>0.140805</td>\n",
       "    </tr>\n",
       "    <tr>\n",
       "      <th>std</th>\n",
       "      <td>4.500374e+05</td>\n",
       "      <td>0.490486</td>\n",
       "      <td>924.948789</td>\n",
       "      <td>7.884612</td>\n",
       "      <td>18.303673</td>\n",
       "      <td>0.0</td>\n",
       "      <td>60.425452</td>\n",
       "      <td>2815.268504</td>\n",
       "      <td>1031.032873</td>\n",
       "      <td>1706.131730</td>\n",
       "      <td>7659.724746</td>\n",
       "      <td>6346.054451</td>\n",
       "      <td>403.423826</td>\n",
       "      <td>3.778876e+12</td>\n",
       "      <td>0.348321</td>\n",
       "    </tr>\n",
       "    <tr>\n",
       "      <th>min</th>\n",
       "      <td>5.260000e+02</td>\n",
       "      <td>0.000000</td>\n",
       "      <td>0.000000</td>\n",
       "      <td>0.000000</td>\n",
       "      <td>0.000000</td>\n",
       "      <td>0.0</td>\n",
       "      <td>0.000000</td>\n",
       "      <td>0.000000</td>\n",
       "      <td>0.000000</td>\n",
       "      <td>0.000000</td>\n",
       "      <td>0.000000</td>\n",
       "      <td>0.000000</td>\n",
       "      <td>0.000000</td>\n",
       "      <td>2.766760e+05</td>\n",
       "      <td>0.000000</td>\n",
       "    </tr>\n",
       "    <tr>\n",
       "      <th>25%</th>\n",
       "      <td>3.003000e+03</td>\n",
       "      <td>0.000000</td>\n",
       "      <td>6.000000</td>\n",
       "      <td>0.000000</td>\n",
       "      <td>0.000000</td>\n",
       "      <td>0.0</td>\n",
       "      <td>0.000000</td>\n",
       "      <td>2.000000</td>\n",
       "      <td>0.000000</td>\n",
       "      <td>1.000000</td>\n",
       "      <td>40.500000</td>\n",
       "      <td>31.000000</td>\n",
       "      <td>0.000000</td>\n",
       "      <td>9.018117e+06</td>\n",
       "      <td>0.000000</td>\n",
       "    </tr>\n",
       "    <tr>\n",
       "      <th>50%</th>\n",
       "      <td>7.233500e+03</td>\n",
       "      <td>1.000000</td>\n",
       "      <td>17.500000</td>\n",
       "      <td>0.000000</td>\n",
       "      <td>0.000000</td>\n",
       "      <td>0.0</td>\n",
       "      <td>0.000000</td>\n",
       "      <td>6.000000</td>\n",
       "      <td>1.000000</td>\n",
       "      <td>4.000000</td>\n",
       "      <td>112.500000</td>\n",
       "      <td>94.000000</td>\n",
       "      <td>2.000000</td>\n",
       "      <td>5.232568e+07</td>\n",
       "      <td>0.000000</td>\n",
       "    </tr>\n",
       "    <tr>\n",
       "      <th>75%</th>\n",
       "      <td>1.842750e+04</td>\n",
       "      <td>1.000000</td>\n",
       "      <td>51.250000</td>\n",
       "      <td>0.000000</td>\n",
       "      <td>0.000000</td>\n",
       "      <td>0.0</td>\n",
       "      <td>2.000000</td>\n",
       "      <td>22.000000</td>\n",
       "      <td>5.000000</td>\n",
       "      <td>14.000000</td>\n",
       "      <td>341.000000</td>\n",
       "      <td>287.250000</td>\n",
       "      <td>7.000000</td>\n",
       "      <td>3.397536e+08</td>\n",
       "      <td>0.000000</td>\n",
       "    </tr>\n",
       "    <tr>\n",
       "      <th>max</th>\n",
       "      <td>8.396126e+06</td>\n",
       "      <td>1.000000</td>\n",
       "      <td>16606.000000</td>\n",
       "      <td>132.000000</td>\n",
       "      <td>335.000000</td>\n",
       "      <td>0.0</td>\n",
       "      <td>1112.000000</td>\n",
       "      <td>52384.000000</td>\n",
       "      <td>19170.000000</td>\n",
       "      <td>31767.000000</td>\n",
       "      <td>141971.000000</td>\n",
       "      <td>117931.000000</td>\n",
       "      <td>7434.000000</td>\n",
       "      <td>7.049493e+13</td>\n",
       "      <td>1.000000</td>\n",
       "    </tr>\n",
       "  </tbody>\n",
       "</table>\n",
       "</div>"
      ],
      "text/plain": [
       "         Population     Robbery      Burglary      Arson3  MurderFull  Rape1  \\\n",
       "count  3.480000e+02  348.000000    348.000000  348.000000  348.000000  348.0   \n",
       "mean   4.003763e+04    0.600575    119.683908    1.005747    1.566092    0.0   \n",
       "std    4.500374e+05    0.490486    924.948789    7.884612   18.303673    0.0   \n",
       "min    5.260000e+02    0.000000      0.000000    0.000000    0.000000    0.0   \n",
       "25%    3.003000e+03    0.000000      6.000000    0.000000    0.000000    0.0   \n",
       "50%    7.233500e+03    1.000000     17.500000    0.000000    0.000000    0.0   \n",
       "75%    1.842750e+04    1.000000     51.250000    0.000000    0.000000    0.0   \n",
       "max    8.396126e+06    1.000000  16606.000000  132.000000  335.000000    0.0   \n",
       "\n",
       "             Rape2  ViolentCrime   RobberyFull    AggAssault  PropertyCrime  \\\n",
       "count   348.000000    348.000000    348.000000    348.000000     348.000000   \n",
       "mean      5.864943    201.594828     72.902299    121.261494     792.606322   \n",
       "std      60.425452   2815.268504   1031.032873   1706.131730    7659.724746   \n",
       "min       0.000000      0.000000      0.000000      0.000000       0.000000   \n",
       "25%       0.000000      2.000000      0.000000      1.000000      40.500000   \n",
       "50%       0.000000      6.000000      1.000000      4.000000     112.500000   \n",
       "75%       2.000000     22.000000      5.000000     14.000000     341.000000   \n",
       "max    1112.000000  52384.000000  19170.000000  31767.000000  141971.000000   \n",
       "\n",
       "        LarcenyTheft  MotorVehicleTheft         PopSq      Murder  \n",
       "count     348.000000         348.000000  3.480000e+02  348.000000  \n",
       "mean      637.017241          35.905172  2.035547e+11    0.140805  \n",
       "std      6346.054451         403.423826  3.778876e+12    0.348321  \n",
       "min         0.000000           0.000000  2.766760e+05    0.000000  \n",
       "25%        31.000000           0.000000  9.018117e+06    0.000000  \n",
       "50%        94.000000           2.000000  5.232568e+07    0.000000  \n",
       "75%       287.250000           7.000000  3.397536e+08    0.000000  \n",
       "max    117931.000000        7434.000000  7.049493e+13    1.000000  "
      ]
     },
     "execution_count": 7,
     "metadata": {},
     "output_type": "execute_result"
    }
   ],
   "source": [
    "featsAll.describe()"
   ]
  },
  {
   "cell_type": "code",
   "execution_count": 8,
   "metadata": {},
   "outputs": [
    {
     "name": "stderr",
     "output_type": "stream",
     "text": [
      "/Users/christophersmyth/anaconda3/lib/python3.6/site-packages/statsmodels/compat/pandas.py:56: FutureWarning: The pandas.core.datetools module is deprecated and will be removed in a future version. Please use the pandas.tseries module instead.\n",
      "  from pandas.core import datetools\n"
     ]
    }
   ],
   "source": [
    "import statsmodels.api as sm\n",
    "from sklearn import linear_model\n",
    "from sklearn.model_selection import cross_val_score\n",
    "from statsmodels.sandbox.regression.predstd import wls_prediction_std\n",
    "from sklearn.feature_selection import RFE\n",
    "\n",
    "\n",
    "class Model:\n",
    "    def __init__(self,name,xNames,yName,trainData,desc=''):\n",
    "        from sklearn.model_selection import cross_val_score\n",
    "        self.name = name\n",
    "        self.X = trainData[xNames]\n",
    "        self.Y = trainData[yName]\n",
    "        self.desc = desc\n",
    "        \n",
    "        # sklearn\n",
    "        self.regr = linear_model.LinearRegression()\n",
    "        self.regr.fit(self.X,self.Y)\n",
    "        self.rSquared = self.regr.score(self.X,self.Y)\n",
    "        self.crossVal = cross_val_score(self.regr, self.X, self.Y, cv=10)\n",
    "        \n",
    "        #statsmodel\n",
    "        self.lm = sm.OLS(self.Y, self.X).fit()\n",
    "        self.params = self.lm.params\n",
    "        self.pvalues = self.lm.pvalues\n",
    "    \n",
    "    def setDescription(self, desc):\n",
    "        self.desc = desc\n",
    "        \n",
    "    def rSqCrossVal(self):\n",
    "        msg = \">>>%s<<<\\nr-squared: %f\" % (self.name, self.rSquared)\n",
    "        print (msg)\n",
    "        print (\"Cross Validation Scores: \")\n",
    "        print (self.crossVal)\n",
    "        \n",
    "    def perf(self, boxPlot=True):\n",
    "        print (\"Model: \" + self.name)\n",
    "        print (\"Description: \" + self.desc)\n",
    "        print (\"r-squared:\" + str(self.rSquared))\n",
    "        print (\"Cross Validation Scores: \")\n",
    "        print (self.crossVal)\n",
    "        if boxPlot:\n",
    "            fig = plt.figure()\n",
    "            title = \"Performance: %s\" % (self.name)\n",
    "            fig.suptitle(title)\n",
    "            ax = fig.add_subplot(111)\n",
    "            plt.boxplot(self.crossVal)\n",
    "            ax.set_xticklabels(self.name)\n",
    "            plt.show()\n",
    "    \n",
    "    def featureRanking(self):\n",
    "        featSelector = RFE(self.regr)\n",
    "        featSelector = featSelector.fit(self.X, self.Y)\n",
    "        rankings = pd.DataFrame({'Features': self.X.columns, 'Ranking' : featSelector.ranking_})\n",
    "        print (rankings.sort_values('Ranking'))\n",
    "    \n",
    "    def compareFolds(self, modelRight):\n",
    "        fmt = '{:<2}{:<20}|{:<10}'\n",
    "        a_left = self.crossVal\n",
    "        a_right = modelRight.crossVal\n",
    "        a_left.sort()\n",
    "        a_right.sort()\n",
    "        \n",
    "        print(\"CROSS VALIDATION SCORES\")\n",
    "        print(fmt.format('',self.name,modelRight.name))\n",
    "        for i, (left, right) in enumerate(zip(a_left, a_right)):\n",
    "            print(fmt.format(i, left, right))\n",
    "            \n",
    "    def compareR(self,modelRight):\n",
    "        fmt = '{:<2}{:<20}|{:<20}'\n",
    "        \n",
    "        print(\"R-SQUARED\")\n",
    "        print(fmt.format('',self.name,modelRight.name))\n",
    "        print(fmt.format('',self.rSquared,modelRight.rSquared))\n",
    "        \n",
    "    def compareBox(self,modelList):\n",
    "        results = []\n",
    "        names = []\n",
    "        \n",
    "        results.append(self.crossVal)\n",
    "        names.append(self.name)\n",
    "        \n",
    "        for rightModel in modelList:\n",
    "                results.append(rightModel.crossVal)\n",
    "                names.append(rightModel.name)\n",
    "        \n",
    "        fig = plt.figure()\n",
    "        title = \"Performance: %s\" % (self.name)\n",
    "        fig.suptitle(title)\n",
    "        ax = fig.add_subplot(111)\n",
    "        plt.boxplot(results)\n",
    "        ax.set_xticklabels(names)\n",
    "        plt.show()\n",
    "        \n",
    "    def fullCompare(self,modelRight):\n",
    "        self.compareR(modelRight)\n",
    "        print('\\n')\n",
    "        self.compareFolds(modelRight)\n",
    "        modelList = []\n",
    "        modelList.append(modelRight)\n",
    "        self.compareBox(modelList)\n",
    "\n",
    "#    def testModel(self, name, df_test):\n",
    "#        self.testModel = TestModel(name,self,df_test)\n",
    "\n",
    "class TestModel(Model):\n",
    "    def __init__(self,name,trainModel,ds_test):\n",
    "        self.name = name\n",
    "        self.X = ds_test[trainModel.X.columns]\n",
    "        self.Y = ds_test[trainModel.Y.name]\n",
    "        self.regr = trainModel.regr\n",
    "        \n",
    "        #sklearn\n",
    "        self.rSquared = trainModel.regr.score(self.X, self.Y)\n",
    "        \n",
    "        self.rSquared = trainModel.regr.score(self.X,self.Y)\n",
    "        self.crossVal = cross_val_score(trainModel.regr, self.X, self.Y, cv=10)\n",
    "        \n",
    "        #statsmodel\n",
    "        #self.lm = trainModel.lm(self.Y, self.X)\n",
    "        #self.params = self.lm.params\n",
    "        #self.pvalues = self.lm.pvalues\n",
    "\n",
    "        "
   ]
  },
  {
   "cell_type": "code",
   "execution_count": 9,
   "metadata": {},
   "outputs": [],
   "source": [
    "xList_Init = []\n",
    "xList_Init = ['Population','PopSq','Murder','Robbery','RobberyFull','MurderFull']\n",
    "yVal = 'PropertyCrime'\n",
    "m_Init = Model('Initial',xList_Init,yVal,featsAll)\n",
    "m_Init.setDescription(\"Initial features and data\")"
   ]
  },
  {
   "cell_type": "code",
   "execution_count": 10,
   "metadata": {},
   "outputs": [
    {
     "name": "stdout",
     "output_type": "stream",
     "text": [
      "Model: Initial\n",
      "Description: Initial features and data\n",
      "r-squared:0.998780265433\n",
      "Cross Validation Scores: \n",
      "[  8.69231462e-01   9.80535182e-01   5.16399936e-01   7.95729569e-01\n",
      "   1.53463760e-01   7.51434764e-01  -1.23126444e+03   9.64058394e-01\n",
      "   9.58421927e-01   2.03436515e-01]\n"
     ]
    },
    {
     "data": {
      "image/png": "[encoded data removed]",
      "text/plain": [
       "<matplotlib.figure.Figure at 0x110538b00>"
      ]
     },
     "metadata": {},
     "output_type": "display_data"
    }
   ],
   "source": [
    "m_Init.perf()"
   ]
  },
  {
   "cell_type": "code",
   "execution_count": 11,
   "metadata": {},
   "outputs": [
    {
     "name": "stdout",
     "output_type": "stream",
     "text": [
      "Model: Rmv Pop Outliers\n",
      "Description: \n",
      "r-squared:0.670667705909\n",
      "Cross Validation Scores: \n",
      "[ 0.80837823  0.72950863  0.77914599  0.65477594  0.68432515  0.45974326\n",
      "  0.42898864  0.83170547  0.50391171  0.37990844]\n"
     ]
    },
    {
     "data": {
      "image/png": "[encoded data removed]",
      "text/plain": [
       "<matplotlib.figure.Figure at 0x1105409b0>"
      ]
     },
     "metadata": {},
     "output_type": "display_data"
    }
   ],
   "source": [
    "f_NoPopOL = featsAll[featsAll['Population'] < featsAll['Population'].quantile(0.8)]\n",
    "m_NoPopOL = Model('Rmv Pop Outliers',xList_Init,yVal,f_NoPopOL)\n",
    "m_NoPopOL.perf()"
   ]
  },
  {
   "cell_type": "code",
   "execution_count": null,
   "metadata": {},
   "outputs": [],
   "source": []
  },
  {
   "cell_type": "code",
   "execution_count": 12,
   "metadata": {},
   "outputs": [
    {
     "name": "stdout",
     "output_type": "stream",
     "text": [
      "R-SQUARED\n",
      "  Rmv Pop Outliers    |Initial             \n",
      "  0.6706677059094278  |0.9987802654331784  \n",
      "\n",
      "\n",
      "CROSS VALIDATION SCORES\n",
      "  Rmv Pop Outliers    |Initial   \n",
      "0 0.3799084387734818  |-1231.2644377749396\n",
      "1 0.4289886384245616  |0.15346376006402662\n",
      "2 0.4597432574867609  |0.2034365152544102\n",
      "3 0.5039117056344213  |0.5163999359856598\n",
      "4 0.6547759384833411  |0.7514347639372401\n",
      "5 0.6843251454173225  |0.7957295690622814\n",
      "6 0.7295086255464073  |0.8692314622027926\n",
      "7 0.7791459872625075  |0.9584219274327229\n",
      "8 0.808378231049701   |0.9640583941735129\n",
      "9 0.8317054664872829  |0.9805351821022643\n"
     ]
    },
    {
     "data": {
      "image/png": "[encoded data removed]",
      "text/plain": [
       "<matplotlib.figure.Figure at 0x116c239b0>"
      ]
     },
     "metadata": {},
     "output_type": "display_data"
    }
   ],
   "source": [
    "m_NoPopOL.fullCompare(m_Init)"
   ]
  },
  {
   "cell_type": "code",
   "execution_count": 13,
   "metadata": {},
   "outputs": [
    {
     "data": {
      "text/plain": [
       "Population     1.420394e-05\n",
       "PopSq          5.401920e-01\n",
       "Murder         6.751325e-01\n",
       "Robbery        2.411738e-03\n",
       "RobberyFull    2.090317e-18\n",
       "MurderFull     6.751325e-01\n",
       "dtype: float64"
      ]
     },
     "execution_count": 13,
     "metadata": {},
     "output_type": "execute_result"
    }
   ],
   "source": [
    "m_NoPopOL.pvalues"
   ]
  },
  {
   "cell_type": "code",
   "execution_count": 14,
   "metadata": {
    "collapsed": true
   },
   "outputs": [],
   "source": [
    "xList_RmvLowPs = []\n",
    "xList_RmvLowPs = ['Population','Robbery','RobberyFull','MurderFull']\n",
    "yVal = 'PropertyCrime'\n",
    "m_RmvLowPs = Model('Remove Low Pvals',xList_RmvLowPs,yVal,f_NoPopOL)"
   ]
  },
  {
   "cell_type": "code",
   "execution_count": 15,
   "metadata": {},
   "outputs": [
    {
     "name": "stdout",
     "output_type": "stream",
     "text": [
      "R-SQUARED\n",
      "  Remove Low Pvals    |Rmv Pop Outliers    \n",
      "  0.670186338483763   |0.6706677059094278  \n",
      "\n",
      "\n",
      "CROSS VALIDATION SCORES\n",
      "  Remove Low Pvals    |Rmv Pop Outliers\n",
      "0 0.38384736438317113 |0.3799084387734818\n",
      "1 0.4319696316754865  |0.4289886384245616\n",
      "2 0.46902233909581054 |0.4597432574867609\n",
      "3 0.49666392218421784 |0.5039117056344213\n",
      "4 0.653948860923813   |0.6547759384833411\n",
      "5 0.6961885924179562  |0.6843251454173225\n",
      "6 0.7260213877596111  |0.7295086255464073\n",
      "7 0.7810587439331347  |0.7791459872625075\n",
      "8 0.8090842199516748  |0.808378231049701\n",
      "9 0.8286985138371599  |0.8317054664872829\n"
     ]
    },
    {
     "data": {
      "image/png": "[encoded data removed]",
      "text/plain": [
       "<matplotlib.figure.Figure at 0x116dd3ef0>"
      ]
     },
     "metadata": {},
     "output_type": "display_data"
    }
   ],
   "source": [
    "m_RmvLowPs.fullCompare(m_NoPopOL)"
   ]
  },
  {
   "cell_type": "code",
   "execution_count": 16,
   "metadata": {},
   "outputs": [
    {
     "name": "stdout",
     "output_type": "stream",
     "text": [
      "      Features  Ranking\n",
      "1      Robbery        1\n",
      "2  RobberyFull        1\n",
      "3   MurderFull        2\n",
      "0   Population        3\n"
     ]
    }
   ],
   "source": [
    "m_RmvLowPs.featureRanking()"
   ]
  },
  {
   "cell_type": "code",
   "execution_count": null,
   "metadata": {},
   "outputs": [],
   "source": []
  },
  {
   "cell_type": "code",
   "execution_count": 17,
   "metadata": {},
   "outputs": [],
   "source": [
    "yVal = 'PropertyCrime'\n",
    "xList_All = featsAll.drop(['City',yVal], axis=1).columns\n",
    "m_All = Model('All',xList_All,yVal,f_NoPopOL)"
   ]
  },
  {
   "cell_type": "code",
   "execution_count": null,
   "metadata": {},
   "outputs": [],
   "source": []
  },
  {
   "cell_type": "code",
   "execution_count": 18,
   "metadata": {},
   "outputs": [
    {
     "name": "stdout",
     "output_type": "stream",
     "text": [
      "             Features  Ranking\n",
      "1             Robbery        1\n",
      "2            Burglary        1\n",
      "4          MurderFull        1\n",
      "7        ViolentCrime        1\n",
      "10       LarcenyTheft        1\n",
      "11  MotorVehicleTheft        1\n",
      "13             Murder        1\n",
      "9          AggAssault        2\n",
      "3              Arson3        3\n",
      "6               Rape2        4\n",
      "8         RobberyFull        5\n",
      "0          Population        6\n",
      "12              PopSq        7\n",
      "5               Rape1        8\n"
     ]
    }
   ],
   "source": [
    "m_All.featureRanking()"
   ]
  },
  {
   "cell_type": "code",
   "execution_count": 19,
   "metadata": {
    "collapsed": true
   },
   "outputs": [],
   "source": [
    "yVal = 'PropertyCrime'\n",
    "xList_TopRanked = ['Population','Robbery','Burglary','MurderFull','ViolentCrime','LarcenyTheft','MotorVehicleTheft','Murder']\n",
    "m_TopR = Model('Top Ranked',xList_TopRanked,yVal,f_NoPopOL)"
   ]
  },
  {
   "cell_type": "code",
   "execution_count": 20,
   "metadata": {},
   "outputs": [
    {
     "name": "stdout",
     "output_type": "stream",
     "text": [
      "R-SQUARED\n",
      "  Top Ranked          |Remove Low Pvals    \n",
      "  1.0                 |0.670186338483763   \n",
      "\n",
      "\n",
      "CROSS VALIDATION SCORES\n",
      "  Top Ranked          |Remove Low Pvals\n",
      "0 1.0                 |0.38384736438317113\n",
      "1 1.0                 |0.4319696316754865\n",
      "2 1.0                 |0.46902233909581054\n",
      "3 1.0                 |0.49666392218421784\n",
      "4 1.0                 |0.653948860923813\n",
      "5 1.0                 |0.6961885924179562\n",
      "6 1.0                 |0.7260213877596111\n",
      "7 1.0                 |0.7810587439331347\n",
      "8 1.0                 |0.8090842199516748\n",
      "9 1.0                 |0.8286985138371599\n"
     ]
    },
    {
     "data": {
      "image/png": "[encoded data removed]",
      "text/plain": [
       "<matplotlib.figure.Figure at 0x116dfbc88>"
      ]
     },
     "metadata": {},
     "output_type": "display_data"
    }
   ],
   "source": [
    "m_TopR.fullCompare(m_RmvLowPs)"
   ]
  },
  {
   "cell_type": "code",
   "execution_count": 21,
   "metadata": {},
   "outputs": [],
   "source": [
    "df2 = pd.read_csv('table_8_offenses_known_to_law_enforcement_texas_by_city_2013.csv', encoding = \"ISO-8859-1\")\n",
    "df2 = df2[:-3]"
   ]
  },
  {
   "cell_type": "code",
   "execution_count": 22,
   "metadata": {},
   "outputs": [],
   "source": [
    "df2_clean = pd.DataFrame()\n",
    "df2_clean = df2.fillna(0)\n",
    "df2_clean['MurderFull'] = df2_clean['Murder and\\nnonnegligent\\nmanslaughter']\n",
    "df2_clean['Murder'] = [m if m == 0 else m/m for m in df2_clean['MurderFull']]\n",
    "df2_clean['Rape1'] = df2_clean['Rape\\n(revised\\ndefinition)1']\n",
    "df2_clean['Rape2'] = df2_clean['Rape\\n(legacy\\ndefinition)2']\n",
    "df2_clean['Population'] = df2_clean['Population'].str.replace(',','').astype(float)\n",
    "df2_clean['PopSq'] = np.square(df2_clean['Population'])\n",
    "df2_clean['ViolentCrime'] = df2_clean['Violent\\ncrime'].str.replace(',','').astype(float)\n",
    "df2_clean['RobberyFull'] = df2_clean['Robbery'].str.replace(',','').astype(float)\n",
    "df2_clean['AggAssault'] = df2_clean['Aggravated\\nassault'].str.replace(',','').astype(float)\n",
    "df2_clean['PropertyCrime'] = df2_clean['Property\\ncrime'].str.replace(',','').astype(float)\n",
    "df2_clean['Burglary'] = df2_clean['Burglary'].str.replace(',','').astype(float)\n",
    "df2_clean['LarcenyTheft'] = df2_clean['Larceny-\\ntheft'].str.replace(',','').astype(float)\n",
    "df2_clean['MotorVehicleTheft'] = df2_clean['Motor\\nvehicle\\ntheft'].str.replace(',','').astype(float)\n",
    "df2_clean['RobberyFull'] = df2_clean['Robbery'].fillna(0)\n",
    "df2_clean['RobberyFull'] = df2_clean['RobberyFull'].str.replace(',','').astype(float)\n",
    "df2_clean['Robbery'] = [r if r == 0 else r/r for r in df2_clean['RobberyFull']]\n",
    "df2_clean = df2_clean.drop(['Murder and\\nnonnegligent\\nmanslaughter','Rape\\n(legacy\\ndefinition)2','Rape\\n(revised\\ndefinition)1','Violent\\ncrime','Aggravated\\nassault','Property\\ncrime','Larceny-\\ntheft','Motor\\nvehicle\\ntheft' ], axis=1)"
   ]
  },
  {
   "cell_type": "code",
   "execution_count": 23,
   "metadata": {},
   "outputs": [],
   "source": [
    "featsAllTx13 = pd.DataFrame()\n",
    "featsAllTx13 = df2_clean"
   ]
  },
  {
   "cell_type": "markdown",
   "metadata": {},
   "source": [
    "            "
   ]
  },
  {
   "cell_type": "code",
   "execution_count": null,
   "metadata": {},
   "outputs": [],
   "source": []
  },
  {
   "cell_type": "code",
   "execution_count": 24,
   "metadata": {},
   "outputs": [],
   "source": [
    "testM_Texas2013 = TestModel('Texas 2013',m_NoPopOL,featsAllTx13)"
   ]
  },
  {
   "cell_type": "code",
   "execution_count": 25,
   "metadata": {},
   "outputs": [
    {
     "data": {
      "text/plain": [
       "array([ 0.97124782,  0.90446826,  0.89054979,  0.97573105,  0.87031917,\n",
       "        0.75345177,  0.73410421,  0.94249485,  0.48918414,  0.85287921])"
      ]
     },
     "execution_count": 25,
     "metadata": {},
     "output_type": "execute_result"
    }
   ],
   "source": [
    "testM_Texas2013.crossVal"
   ]
  },
  {
   "cell_type": "code",
   "execution_count": 26,
   "metadata": {},
   "outputs": [
    {
     "name": "stdout",
     "output_type": "stream",
     "text": [
      "R-SQUARED\n",
      "  Texas 2013          |Rmv Pop Outliers    \n",
      "  -18.93678937586965  |0.6706677059094278  \n",
      "\n",
      "\n",
      "CROSS VALIDATION SCORES\n",
      "  Texas 2013          |Rmv Pop Outliers\n",
      "0 0.4891841437998655  |0.3799084387734818\n",
      "1 0.7341042103883315  |0.4289886384245616\n",
      "2 0.7534517700601936  |0.4597432574867609\n",
      "3 0.8528792113235739  |0.5039117056344213\n",
      "4 0.8703191698843666  |0.6547759384833411\n",
      "5 0.8905497873272703  |0.6843251454173225\n",
      "6 0.9044682593928124  |0.7295086255464073\n",
      "7 0.9424948482341972  |0.7791459872625075\n",
      "8 0.9712478204003998  |0.808378231049701\n",
      "9 0.9757310481451841  |0.8317054664872829\n"
     ]
    },
    {
     "data": {
      "image/png": "[encoded data removed]",
      "text/plain": [
       "<matplotlib.figure.Figure at 0x116fdcbe0>"
      ]
     },
     "metadata": {},
     "output_type": "display_data"
    }
   ],
   "source": [
    "testM_Texas2013.fullCompare(m_NoPopOL)"
   ]
  },
  {
   "cell_type": "code",
   "execution_count": null,
   "metadata": {},
   "outputs": [],
   "source": []
  },
  {
   "cell_type": "code",
   "execution_count": null,
   "metadata": {},
   "outputs": [],
   "source": []
  },
  {
   "cell_type": "code",
   "execution_count": 27,
   "metadata": {},
   "outputs": [
    {
     "name": "stdout",
     "output_type": "stream",
     "text": [
      "      Features  Ranking\n",
      "2       Murder        1\n",
      "3      Robbery        1\n",
      "5   MurderFull        1\n",
      "4  RobberyFull        2\n",
      "0   Population        3\n",
      "1        PopSq        4\n"
     ]
    }
   ],
   "source": [
    "testM_Texas2013.featureRanking()"
   ]
  },
  {
   "cell_type": "code",
   "execution_count": 28,
   "metadata": {},
   "outputs": [
    {
     "name": "stdout",
     "output_type": "stream",
     "text": [
      "             Features  Ranking\n",
      "1             Robbery        1\n",
      "2            Burglary        1\n",
      "4          MurderFull        1\n",
      "7        ViolentCrime        1\n",
      "10       LarcenyTheft        1\n",
      "11  MotorVehicleTheft        1\n",
      "13             Murder        1\n",
      "9          AggAssault        2\n",
      "3              Arson3        3\n",
      "6               Rape2        4\n",
      "8         RobberyFull        5\n",
      "0          Population        6\n",
      "12              PopSq        7\n",
      "5               Rape1        8\n"
     ]
    }
   ],
   "source": [
    "m_All.featureRanking()"
   ]
  },
  {
   "cell_type": "code",
   "execution_count": 29,
   "metadata": {
    "collapsed": true
   },
   "outputs": [],
   "source": [
    "yVal = 'PropertyCrime'\n",
    "xList_TopRanked = ['Population','Robbery','Burglary','MurderFull','ViolentCrime','LarcenyTheft','MotorVehicleTheft','Murder']\n",
    "m_TopR = Model('Top Ranked',xList_TopRanked,yVal,featsAllTx13)"
   ]
  },
  {
   "cell_type": "code",
   "execution_count": 30,
   "metadata": {
    "collapsed": true
   },
   "outputs": [],
   "source": [
    "yVal = 'PropertyCrime'\n",
    "txFeats = ['RobberyFull', 'MurderFull', 'Population']\n",
    "m_tx = Model('Texas Friendly',txFeats,yVal,f_NoPopOL)"
   ]
  },
  {
   "cell_type": "code",
   "execution_count": 31,
   "metadata": {
    "collapsed": true
   },
   "outputs": [],
   "source": [
    "testM_Texas2013_2 = TestModel('Texas 2013',m_tx,featsAllTx13)"
   ]
  },
  {
   "cell_type": "code",
   "execution_count": 32,
   "metadata": {},
   "outputs": [
    {
     "name": "stdout",
     "output_type": "stream",
     "text": [
      "R-SQUARED\n",
      "  Texas 2013          |Texas Friendly      \n",
      "  -0.004747681310465435|0.6595162549793729  \n",
      "\n",
      "\n",
      "CROSS VALIDATION SCORES\n",
      "  Texas 2013          |Texas Friendly\n",
      "0 0.3627628507517764  |0.3704887229145125\n",
      "1 0.45570258738451863 |0.4121808068035515\n",
      "2 0.6632032395556483  |0.41711072214278466\n",
      "3 0.7386303302814098  |0.42842757740191895\n",
      "4 0.8983304699051773  |0.6415760666793198\n",
      "5 0.9076262598031378  |0.7090563071812008\n",
      "6 0.9133355552942287  |0.7160276501846476\n",
      "7 0.9359558861705098  |0.7672924566193235\n",
      "8 0.9580332612454068  |0.8323813842850537\n",
      "9 0.9812232126381787  |0.8407139851495984\n"
     ]
    },
    {
     "data": {
      "image/png": "[encoded data removed]",
      "text/plain": [
       "<matplotlib.figure.Figure at 0x117065e48>"
      ]
     },
     "metadata": {},
     "output_type": "display_data"
    }
   ],
   "source": [
    "testM_Texas2013_2.fullCompare(m_tx)"
   ]
  },
  {
   "cell_type": "code",
   "execution_count": null,
   "metadata": {
    "collapsed": true
   },
   "outputs": [],
   "source": []
  },
  {
   "cell_type": "code",
   "execution_count": 33,
   "metadata": {
    "collapsed": true
   },
   "outputs": [],
   "source": [
    "df3 = pd.read_csv('Table_8_Offenses_Known_to_Law_Enforcement_by_New_York_by_City_2014.csv', encoding = \"ISO-8859-1\")\n",
    "df3 = df3[:-7]"
   ]
  },
  {
   "cell_type": "code",
   "execution_count": 34,
   "metadata": {
    "collapsed": true
   },
   "outputs": [],
   "source": [
    "df3_clean = pd.DataFrame()\n",
    "df3_clean = df3.fillna(0)\n",
    "df3_clean['MurderFull'] = df3_clean['Murder and\\nnonnegligent\\nmanslaughter']\n",
    "df3_clean['Murder'] = [m if m == 0 else m/m for m in df3_clean['MurderFull']]\n",
    "df3_clean['Rape1'] = df3_clean['Rape\\n(revised\\ndefinition)1'].str.replace(',','').astype(float).fillna(0)\n",
    "df3_clean['Rape2'] = df3_clean['Rape\\n(legacy\\ndefinition)2']\n",
    "df3_clean['Population'] = df3_clean['Population'].str.replace(',','').astype(float)\n",
    "df3_clean['PopSq'] = np.square(df3_clean['Population'])\n",
    "df3_clean['ViolentCrime'] = df3_clean['Violent\\ncrime'].str.replace(',','').astype(float)\n",
    "df3_clean['RobberyFull'] = df3_clean['Robbery'].str.replace(',','').astype(float)\n",
    "df3_clean['AggAssault'] = df3_clean['Aggravated\\nassault'].str.replace(',','').astype(float)\n",
    "df3_clean['PropertyCrime'] = df3_clean['Property\\ncrime'].str.replace(',','').astype(float).fillna(0)\n",
    "df3_clean['Burglary'] = df3_clean['Burglary'].str.replace(',','').astype(float)\n",
    "df3_clean['LarcenyTheft'] = df3_clean['Larceny-\\ntheft'].str.replace(',','').astype(float).fillna(0)\n",
    "df3_clean['MotorVehicleTheft'] = df3_clean['Motor\\nvehicle\\ntheft'].str.replace(',','').astype(float)\n",
    "df3_clean['RobberyFull'] = df3_clean['Robbery'].fillna(0)\n",
    "df3_clean['RobberyFull'] = df3_clean['RobberyFull'].str.replace(',','').astype(float)\n",
    "df3_clean['Robbery'] = [r if r == 0 else r/r for r in df3_clean['RobberyFull']]\n",
    "df3_clean = df3_clean.drop(['Murder and\\nnonnegligent\\nmanslaughter','Rape\\n(legacy\\ndefinition)2','Rape\\n(revised\\ndefinition)1','Violent\\ncrime','Aggravated\\nassault','Property\\ncrime','Larceny-\\ntheft','Motor\\nvehicle\\ntheft' ], axis=1)"
   ]
  },
  {
   "cell_type": "code",
   "execution_count": null,
   "metadata": {},
   "outputs": [],
   "source": []
  },
  {
   "cell_type": "code",
   "execution_count": null,
   "metadata": {},
   "outputs": [],
   "source": []
  },
  {
   "cell_type": "code",
   "execution_count": 35,
   "metadata": {
    "collapsed": true
   },
   "outputs": [],
   "source": [
    "featsAllTx13 = pd.DataFrame()\n",
    "featsAllNy14 = df3_clean"
   ]
  },
  {
   "cell_type": "code",
   "execution_count": 37,
   "metadata": {},
   "outputs": [],
   "source": [
    "testM_NY2013 = TestModel('NY 2014',m_NoPopOL,featsAllNy14)"
   ]
  },
  {
   "cell_type": "code",
   "execution_count": 38,
   "metadata": {},
   "outputs": [
    {
     "name": "stdout",
     "output_type": "stream",
     "text": [
      "R-SQUARED\n",
      "  NY 2014             |Texas 2013          \n",
      "  -3623.1982056573343 |-0.004747681310465435\n",
      "\n",
      "\n",
      "CROSS VALIDATION SCORES\n",
      "  NY 2014             |Texas 2013\n",
      "0 -471.44103410776876 |0.3627628507517764\n",
      "1 -0.2822032791485931 |0.45570258738451863\n",
      "2 0.17310467893715864 |0.6632032395556483\n",
      "3 0.533919210692487   |0.7386303302814098\n",
      "4 0.611927766216854   |0.8983304699051773\n",
      "5 0.6685382689450557  |0.9076262598031378\n",
      "6 0.8666720606268679  |0.9133355552942287\n",
      "7 0.9140971988799125  |0.9359558861705098\n",
      "8 0.9385685766017288  |0.9580332612454068\n",
      "9 0.9718263960476061  |0.9812232126381787\n"
     ]
    },
    {
     "data": {
      "image/png": "[encoded data removed]",
      "text/plain": [
       "<matplotlib.figure.Figure at 0x117198a90>"
      ]
     },
     "metadata": {},
     "output_type": "display_data"
    }
   ],
   "source": [
    "testM_NY2013.fullCompare(testM_Texas2013_2)"
   ]
  },
  {
   "cell_type": "markdown",
   "metadata": {},
   "source": []
  },
  {
   "cell_type": "code",
   "execution_count": null,
   "metadata": {
    "collapsed": true
   },
   "outputs": [],
   "source": []
  },
  {
   "cell_type": "code",
   "execution_count": null,
   "metadata": {},
   "outputs": [],
   "source": [
    "from sklearn.feature_selection import RFE\n",
    "\n",
    "#target = snt_train['score']\n",
    "#data = feats_pn_plus_n\n",
    "#y_pred,bnb = BnbClassifier (data, target)\n",
    "\n",
    "featSelector = RFE(m_RmvLowPs.regr)\n",
    "featSelector = featSelector.fit(m_RmvLowPs.X, m_RmvLowPs.Y)"
   ]
  },
  {
   "cell_type": "code",
   "execution_count": null,
   "metadata": {
    "collapsed": true
   },
   "outputs": [],
   "source": []
  },
  {
   "cell_type": "code",
   "execution_count": null,
   "metadata": {
    "collapsed": true
   },
   "outputs": [],
   "source": []
  },
  {
   "cell_type": "code",
   "execution_count": null,
   "metadata": {
    "collapsed": true
   },
   "outputs": [],
   "source": []
  },
  {
   "cell_type": "code",
   "execution_count": null,
   "metadata": {
    "collapsed": true
   },
   "outputs": [],
   "source": []
  },
  {
   "cell_type": "code",
   "execution_count": null,
   "metadata": {
    "collapsed": true
   },
   "outputs": [],
   "source": []
  },
  {
   "cell_type": "code",
   "execution_count": null,
   "metadata": {
    "collapsed": true
   },
   "outputs": [],
   "source": []
  },
  {
   "cell_type": "code",
   "execution_count": null,
   "metadata": {
    "collapsed": true
   },
   "outputs": [],
   "source": []
  },
  {
   "cell_type": "code",
   "execution_count": null,
   "metadata": {
    "collapsed": true
   },
   "outputs": [],
   "source": []
  },
  {
   "cell_type": "code",
   "execution_count": null,
   "metadata": {},
   "outputs": [],
   "source": [
    "rankings = pd.DataFrame({'Features': m_RmvLowPs.X.columns, 'Ranking' : featSelector.ranking_})\n",
    "rankings.sort_values('Ranking')"
   ]
  },
  {
   "cell_type": "code",
   "execution_count": null,
   "metadata": {
    "collapsed": true
   },
   "outputs": [],
   "source": [
    "f_init = featsAll[['Population','PopSq','Murder','Robbery','RobberyFull','MurderFull']]\n",
    "Y=featsAll['PropertyCrime']\n",
    "m_Initial = Model('Initial',f_init, Y)"
   ]
  },
  {
   "cell_type": "code",
   "execution_count": null,
   "metadata": {
    "collapsed": true
   },
   "outputs": [],
   "source": [
    "m_Initial.perf()"
   ]
  },
  {
   "cell_type": "code",
   "execution_count": null,
   "metadata": {
    "collapsed": true
   },
   "outputs": [],
   "source": [
    "# remove outliers\n",
    "f_NoPopOL = featsAll[featsAll['Population'] < featsAll['Population'].quantile(0.80)]\n",
    "Y_NoPopOL = f_NoPopOL['PropertyCrime']\n",
    "f_NoPopOL = f_NoPopOL[['Population','PopSq','Murder','Robbery','RobberyFull','MurderFull']]\n",
    "\n",
    "\n",
    "m_NoPopOL = Model('No Pop Outliers',f_NoPopOL, Y_NoPopOL)\n",
    "\n"
   ]
  },
  {
   "cell_type": "code",
   "execution_count": null,
   "metadata": {
    "collapsed": true
   },
   "outputs": [],
   "source": []
  },
  {
   "cell_type": "code",
   "execution_count": null,
   "metadata": {
    "collapsed": true
   },
   "outputs": [],
   "source": [
    "def CompareRandCross(featSetList, Y, regr, fit=True):\n",
    "    from sklearn import linear_model\n",
    "    from sklearn.model_selection import cross_val_score\n",
    "\n",
    "    Y=Y.values.reshape(-1,1)\n",
    "    results = []\n",
    "    names = []\n",
    "    for name,X in featSetList:\n",
    "        if fit:\n",
    "            regr.fit(X,Y)\n",
    "        names.append(name)\n",
    "        rSq = regr.score(X,Y)\n",
    "        crsVal = cross_val_score(regr, X, Y, cv=10)\n",
    "        results.append(crsVal)\n",
    "        msg = \">>>%s<<<\\nr-squared: %f\" % (name, rSq)\n",
    "        print (msg)\n",
    "        print (\"Cross Validation Scores: \")\n",
    "        print (crsVal)\n",
    "    fig = plt.figure()\n",
    "    fig.suptitle('Feature Comparison')\n",
    "    ax = fig.add_subplot(111)\n",
    "    plt.boxplot(results)\n",
    "    ax.set_xticklabels(names)\n",
    "    plt.show()\n",
    "    return regr"
   ]
  },
  {
   "cell_type": "code",
   "execution_count": null,
   "metadata": {
    "collapsed": true
   },
   "outputs": [],
   "source": []
  },
  {
   "cell_type": "code",
   "execution_count": null,
   "metadata": {
    "collapsed": true
   },
   "outputs": [],
   "source": []
  },
  {
   "cell_type": "code",
   "execution_count": null,
   "metadata": {
    "collapsed": true
   },
   "outputs": [],
   "source": [
    "# remove outliers\n",
    "#f_NoPopOL = featsAll[featsAll['Population'] < featsAll['Population'].quantile(0.80)]\n",
    "#f_1 = f_NoPopOL[['Population','PopSq','Murder','Robbery','RobberyFull','MurderFull']]\n"
   ]
  },
  {
   "cell_type": "code",
   "execution_count": null,
   "metadata": {
    "collapsed": true
   },
   "outputs": [],
   "source": [
    "f_init = featsAll[['Population','PopSq','Murder','Robbery','RobberyFull','MurderFull']]\n",
    "Y=featsAll['PropertyCrime']\n",
    "featSetList = []\n",
    "featSetList.append(('feats1',f_init))\n",
    "\n",
    "regr = linear_model.LinearRegression()\n",
    "CompareRandCross(featSetList, Y, regr)\n"
   ]
  },
  {
   "cell_type": "code",
   "execution_count": null,
   "metadata": {
    "collapsed": true
   },
   "outputs": [],
   "source": [
    "# remove outliers\n",
    "f_NoPopOL = featsAll[featsAll['Population'] < featsAll['Population'].quantile(0.80)]\n",
    "Y=featsAll['PropertyCrime']\n",
    "\n",
    "featSetList = []\n",
    "featSetList.append(('f_init',f_init,'f_NoPopOL'))\n",
    "\n",
    "regr = linear_model.LinearRegression()\n",
    "CompareRandCross(featSetList, Y, regr)\n"
   ]
  },
  {
   "cell_type": "code",
   "execution_count": null,
   "metadata": {
    "collapsed": true
   },
   "outputs": [],
   "source": [
    "# Instantiate and fit model\n",
    "regr = linear_model.LinearRegression()\n",
    "Y = featsAll['PropertyCrime'].values.reshape(-1, 1)\n",
    "#Population\tPopSq\tMurder\tRobbery\n",
    "X = featsAll[['Population','PopSq','Murder','Robbery','RobberyFull','MurderFull']]\n",
    "regr.fit(X,Y)\n",
    "\n",
    "# Inspect the results.\n",
    "print('\\nCoefficients: \\n', regr.coef_)\n",
    "print('\\nIntercept: \\n', regr.intercept_)\n",
    "print('\\nR-squared:')\n",
    "print(regr.score(X, Y))"
   ]
  },
  {
   "cell_type": "code",
   "execution_count": null,
   "metadata": {
    "collapsed": true
   },
   "outputs": [],
   "source": [
    "from sklearn.model_selection import cross_val_score\n",
    "\n",
    "cross_val_score(regr, X, Y, cv=10)"
   ]
  },
  {
   "cell_type": "code",
   "execution_count": null,
   "metadata": {
    "collapsed": true
   },
   "outputs": [],
   "source": [
    "# remove outlier\n",
    "#featsRmvOut1 = pd.DataFrame()\n",
    "#featsRmvOut1 = feats[feats['Population'] < np.percentile(feats['Population'], 100)].copy()"
   ]
  },
  {
   "cell_type": "code",
   "execution_count": null,
   "metadata": {
    "collapsed": true
   },
   "outputs": [],
   "source": [
    "feats = feats[feats['Population'] < feats['Population'].quantile(0.80)]"
   ]
  },
  {
   "cell_type": "code",
   "execution_count": null,
   "metadata": {
    "collapsed": true
   },
   "outputs": [],
   "source": [
    "\n",
    "Y = feats['PropertyCrime'].values.reshape(-1, 1)\n",
    "#Population\tPopSq\tMurder\tRobbery\n",
    "X = feats[['Population','PopSq','Murder','Robbery','RobberyFull','MurderFull']]\n"
   ]
  },
  {
   "cell_type": "code",
   "execution_count": null,
   "metadata": {
    "collapsed": true
   },
   "outputs": [],
   "source": [
    "cross_val_score(regr.fit(X,Y), X, Y, cv=10)"
   ]
  },
  {
   "cell_type": "code",
   "execution_count": null,
   "metadata": {
    "collapsed": true
   },
   "outputs": [],
   "source": [
    "import statsmodels.formula.api as smf\n",
    "from statsmodels.sandbox.regression.predstd import wls_prediction_std"
   ]
  },
  {
   "cell_type": "code",
   "execution_count": null,
   "metadata": {
    "collapsed": true
   },
   "outputs": [],
   "source": [
    "linear_formula = 'PropertyCrime ~ Population+PopSq+Murder+Robbery+RobberyFull+MurderFull'"
   ]
  },
  {
   "cell_type": "code",
   "execution_count": null,
   "metadata": {
    "collapsed": true
   },
   "outputs": [],
   "source": [
    "lm = smf.ols(formula=linear_formula, data=feats).fit()"
   ]
  },
  {
   "cell_type": "code",
   "execution_count": null,
   "metadata": {
    "collapsed": true
   },
   "outputs": [],
   "source": [
    "initPvals = lm.pvalues\n",
    "print(initPvals)"
   ]
  },
  {
   "cell_type": "code",
   "execution_count": null,
   "metadata": {
    "collapsed": true
   },
   "outputs": [],
   "source": [
    "Y = feats['PropertyCrime'].values.reshape(-1, 1)\n",
    "#Population\tPopSq\tMurder\tRobbery\n",
    "X = feats[['Population','Murder','Robbery','RobberyFull','MurderFull']]\n",
    "cross_val_score(regr.fit(X,Y), X, Y, cv=10)"
   ]
  },
  {
   "cell_type": "code",
   "execution_count": null,
   "metadata": {
    "collapsed": true
   },
   "outputs": [],
   "source": [
    "linear_formula = 'PropertyCrime ~ Population+Murder+Robbery+RobberyFull+MurderFull'\n",
    "lm = smf.ols(formula=linear_formula, data=feats).fit()\n",
    "initPvals = lm.pvalues\n",
    "print(initPvals)"
   ]
  },
  {
   "cell_type": "code",
   "execution_count": null,
   "metadata": {
    "collapsed": true
   },
   "outputs": [],
   "source": [
    "Y = feats['PropertyCrime'].values.reshape(-1, 1)\n",
    "#Population\tPopSq\tMurder\tRobbery\n",
    "X = feats[['Population','RobberyFull','MurderFull']]\n",
    "cross_val_score(regr.fit(X,Y), X, Y, cv=10)"
   ]
  },
  {
   "cell_type": "code",
   "execution_count": null,
   "metadata": {
    "collapsed": true
   },
   "outputs": [],
   "source": [
    "linear_formula = 'PropertyCrime ~ Population+RobberyFull+MurderFull'\n",
    "lm = smf.ols(formula=linear_formula, data=feats).fit()\n",
    "initPvals = lm.pvalues\n",
    "print(initPvals)"
   ]
  },
  {
   "cell_type": "code",
   "execution_count": null,
   "metadata": {
    "collapsed": true
   },
   "outputs": [],
   "source": [
    "feats.head()"
   ]
  },
  {
   "cell_type": "code",
   "execution_count": null,
   "metadata": {
    "collapsed": true
   },
   "outputs": [],
   "source": [
    "X.head()"
   ]
  },
  {
   "cell_type": "code",
   "execution_count": null,
   "metadata": {
    "collapsed": true
   },
   "outputs": [],
   "source": [
    "sns.boxplot(y='Population', data=feats)\n",
    "plt.show()"
   ]
  },
  {
   "cell_type": "code",
   "execution_count": null,
   "metadata": {
    "collapsed": true
   },
   "outputs": [],
   "source": []
  },
  {
   "cell_type": "code",
   "execution_count": null,
   "metadata": {
    "collapsed": true
   },
   "outputs": [],
   "source": []
  }
 ],
 "metadata": {
  "kernelspec": {
   "display_name": "Python 3",
   "language": "python",
   "name": "python3"
  },
  "language_info": {
   "codemirror_mode": {
    "name": "ipython",
    "version": 3
   },
   "file_extension": ".py",
   "mimetype": "text/x-python",
   "name": "python",
   "nbconvert_exporter": "python",
   "pygments_lexer": "ipython3",
   "version": "3.6.3"
  }
 },
 "nbformat": 4,
 "nbformat_minor": 2
}
