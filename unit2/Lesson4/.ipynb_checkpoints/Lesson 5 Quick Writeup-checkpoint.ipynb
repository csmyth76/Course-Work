{
 "cells": [
  {
   "cell_type": "code",
   "execution_count": 94,
   "metadata": {
    "collapsed": true
   },
   "outputs": [],
   "source": [
    "import math\n",
    "import numpy as np\n",
    "import pandas as pd\n",
    "import seaborn as sns\n",
    "import matplotlib.pyplot as plt\n",
    "from sklearn import linear_model"
   ]
  },
  {
   "cell_type": "code",
   "execution_count": 95,
   "metadata": {
    "collapsed": true
   },
   "outputs": [],
   "source": [
    "df = pd.read_csv('table_8_offenses_known_to_law_enforcement_new_york_by_city_2013.csv', encoding = \"ISO-8859-1\")\n",
    "df = df[:-3]\n",
    "df_clean = pd.DataFrame()\n",
    "df_clean = df.fillna(0)\n",
    "df_clean['MurderFull'] = df_clean['Murder and\\nnonnegligent\\nmanslaughter']\n",
    "df_clean['Rape1'] = df_clean['Rape\\n(revised\\ndefinition)1']\n",
    "df_clean['Rape2'] = df_clean['Rape\\n(legacy\\ndefinition)2'].str.replace(',','').astype(float)\n",
    "df_clean['Population'] = df_clean['Population'].str.replace(',','').astype(float)\n",
    "df_clean['ViolentCrime'] = df_clean['Violent\\ncrime'].str.replace(',','').astype(float)\n",
    "df_clean['RobberyFull'] = df_clean['Robbery'].str.replace(',','').astype(float)\n",
    "df_clean['AggAssault'] = df_clean['Aggravated\\nassault'].str.replace(',','').astype(float)\n",
    "df_clean['PropertyCrime'] = df_clean['Property\\ncrime'].str.replace(',','').astype(float)\n",
    "df_clean['Burglary'] = df_clean['Burglary'].str.replace(',','').astype(float)\n",
    "df_clean['LarcenyTheft'] = df_clean['Larceny-\\ntheft'].str.replace(',','').astype(float)\n",
    "df_clean['MotorVehicleTheft'] = df_clean['Motor\\nvehicle\\ntheft'].str.replace(',','').astype(float)\n",
    "df_clean = df_clean.drop(['Murder and\\nnonnegligent\\nmanslaughter','Rape\\n(legacy\\ndefinition)2','Rape\\n(revised\\ndefinition)1','Violent\\ncrime','Aggravated\\nassault','Property\\ncrime','Larceny-\\ntheft','Motor\\nvehicle\\ntheft' ], axis=1)"
   ]
  },
  {
   "cell_type": "code",
   "execution_count": 96,
   "metadata": {
    "collapsed": true
   },
   "outputs": [],
   "source": [
    "f_ny13 = pd.DataFrame()\n",
    "f_ny13 = df_clean\n",
    "f_ny13['PropertyCrime'] = df['Property\\ncrime'].str.replace(',','').astype(float)\n",
    "f_ny13['Population'] = df['Population'].fillna(0)\n",
    "f_ny13['Population'] = f_ny13['Population'].str.replace(',','').astype(float)\n",
    "f_ny13['PopSq'] = np.square(f_ny13['Population'])\n",
    "f_ny13['MurderFull'] = df['Murder and\\nnonnegligent\\nmanslaughter'].astype(float)\n",
    "f_ny13['Murder'] = [m if m == 0 else m/m for m in df['Murder and\\nnonnegligent\\nmanslaughter']  ]\n",
    "f_ny13['RobberyFull'] = df['Robbery'].fillna(0)\n",
    "f_ny13['RobberyFull'] = f_ny13['RobberyFull'].str.replace(',','').astype(float)\n",
    "f_ny13['Robbery'] = [r if r == 0 else r/r for r in f_ny13['RobberyFull']]"
   ]
  },
  {
   "cell_type": "code",
   "execution_count": 97,
   "metadata": {
    "collapsed": true
   },
   "outputs": [],
   "source": [
    "df2 = pd.read_csv('table_8_offenses_known_to_law_enforcement_texas_by_city_2013.csv', encoding = \"ISO-8859-1\")\n",
    "df2 = df2[:-3]\n",
    "df2_clean = pd.DataFrame()\n",
    "df2_clean = df2.fillna(0)\n",
    "df2_clean['MurderFull'] = df2_clean['Murder and\\nnonnegligent\\nmanslaughter']\n",
    "df2_clean['Murder'] = [m if m == 0 else m/m for m in df2_clean['MurderFull']]\n",
    "df2_clean['Rape1'] = df2_clean['Rape\\n(revised\\ndefinition)1']\n",
    "df2_clean['Rape2'] = df2_clean['Rape\\n(legacy\\ndefinition)2']\n",
    "df2_clean['Population'] = df2_clean['Population'].str.replace(',','').astype(float)\n",
    "df2_clean['PopSq'] = np.square(df2_clean['Population'])\n",
    "df2_clean['ViolentCrime'] = df2_clean['Violent\\ncrime'].str.replace(',','').astype(float)\n",
    "df2_clean['RobberyFull'] = df2_clean['Robbery'].str.replace(',','').astype(float)\n",
    "df2_clean['AggAssault'] = df2_clean['Aggravated\\nassault'].str.replace(',','').astype(float)\n",
    "df2_clean['PropertyCrime'] = df2_clean['Property\\ncrime'].str.replace(',','').astype(float)\n",
    "df2_clean['Burglary'] = df2_clean['Burglary'].str.replace(',','').astype(float)\n",
    "df2_clean['LarcenyTheft'] = df2_clean['Larceny-\\ntheft'].str.replace(',','').astype(float)\n",
    "df2_clean['MotorVehicleTheft'] = df2_clean['Motor\\nvehicle\\ntheft'].str.replace(',','').astype(float)\n",
    "df2_clean['RobberyFull'] = df2_clean['Robbery'].fillna(0)\n",
    "df2_clean['RobberyFull'] = df2_clean['RobberyFull'].str.replace(',','').astype(float)\n",
    "df2_clean['Robbery'] = [r if r == 0 else r/r for r in df2_clean['RobberyFull']]\n",
    "df2_clean = df2_clean.drop(['Murder and\\nnonnegligent\\nmanslaughter','Rape\\n(legacy\\ndefinition)2','Rape\\n(revised\\ndefinition)1','Violent\\ncrime','Aggravated\\nassault','Property\\ncrime','Larceny-\\ntheft','Motor\\nvehicle\\ntheft' ], axis=1)\n",
    "f_tx13 = pd.DataFrame()\n",
    "f_tx13 = df2_clean"
   ]
  },
  {
   "cell_type": "code",
   "execution_count": 98,
   "metadata": {
    "collapsed": true
   },
   "outputs": [],
   "source": [
    "df3 = pd.read_csv('Table_8_Offenses_Known_to_Law_Enforcement_by_New_York_by_City_2014.csv', encoding = \"ISO-8859-1\")\n",
    "df3 = df3[:-7]\n",
    "df3_clean = pd.DataFrame()\n",
    "df3_clean = df3.fillna(0)\n",
    "df3_clean['MurderFull'] = df3_clean['Murder and\\nnonnegligent\\nmanslaughter']\n",
    "df3_clean['Murder'] = [m if m == 0 else m/m for m in df3_clean['MurderFull']]\n",
    "df3_clean['Rape1'] = df3_clean['Rape\\n(revised\\ndefinition)1'].str.replace(',','').astype(float).fillna(0)\n",
    "df3_clean['Rape2'] = df3_clean['Rape\\n(legacy\\ndefinition)2']\n",
    "df3_clean['Population'] = df3_clean['Population'].str.replace(',','').astype(float)\n",
    "df3_clean['PopSq'] = np.square(df3_clean['Population'])\n",
    "df3_clean['ViolentCrime'] = df3_clean['Violent\\ncrime'].str.replace(',','').astype(float)\n",
    "df3_clean['RobberyFull'] = df3_clean['Robbery'].str.replace(',','').astype(float)\n",
    "df3_clean['AggAssault'] = df3_clean['Aggravated\\nassault'].str.replace(',','').astype(float)\n",
    "df3_clean['PropertyCrime'] = df3_clean['Property\\ncrime'].str.replace(',','').astype(float).fillna(0)\n",
    "df3_clean['Burglary'] = df3_clean['Burglary'].str.replace(',','').astype(float)\n",
    "df3_clean['LarcenyTheft'] = df3_clean['Larceny-\\ntheft'].str.replace(',','').astype(float).fillna(0)\n",
    "df3_clean['MotorVehicleTheft'] = df3_clean['Motor\\nvehicle\\ntheft'].str.replace(',','').astype(float)\n",
    "df3_clean['RobberyFull'] = df3_clean['Robbery'].fillna(0)\n",
    "df3_clean['RobberyFull'] = df3_clean['RobberyFull'].str.replace(',','').astype(float)\n",
    "df3_clean['Robbery'] = [r if r == 0 else r/r for r in df3_clean['RobberyFull']]\n",
    "df3_clean = df3_clean.drop(['Murder and\\nnonnegligent\\nmanslaughter','Rape\\n(legacy\\ndefinition)2','Rape\\n(revised\\ndefinition)1','Violent\\ncrime','Aggravated\\nassault','Property\\ncrime','Larceny-\\ntheft','Motor\\nvehicle\\ntheft' ], axis=1)\n",
    "f_ny14 = pd.DataFrame()\n",
    "f_ny14 = df3_clean"
   ]
  },
  {
   "cell_type": "code",
   "execution_count": 99,
   "metadata": {},
   "outputs": [],
   "source": [
    "import statsmodels.api as sm\n",
    "from sklearn import linear_model\n",
    "from sklearn.model_selection import cross_val_score\n",
    "from statsmodels.sandbox.regression.predstd import wls_prediction_std\n",
    "from sklearn.feature_selection import RFE\n",
    "\n",
    "\n",
    "class Model:\n",
    "    def __init__(self,name,xNames,yName,trainData,desc=''):\n",
    "        from sklearn.model_selection import cross_val_score\n",
    "        self.name = name\n",
    "        self.X = trainData[xNames]\n",
    "        self.Y = trainData[yName]\n",
    "        self.desc = desc\n",
    "        \n",
    "        # sklearn\n",
    "        self.regr = linear_model.LinearRegression()\n",
    "        self.regr.fit(self.X,self.Y)\n",
    "        self.rSquared = self.regr.score(self.X,self.Y)\n",
    "        self.crossVal = cross_val_score(self.regr, self.X, self.Y, cv=10)\n",
    "        \n",
    "        #statsmodel\n",
    "        self.lm = sm.OLS(self.Y, self.X).fit()\n",
    "        self.params = self.lm.params\n",
    "        self.pvalues = self.lm.pvalues\n",
    "    \n",
    "    def setDescription(self, desc):\n",
    "        self.desc = desc\n",
    "        \n",
    "    def rSqCrossVal(self):\n",
    "        msg = \">>>%s<<<\\nr-squared: %f\" % (self.name, self.rSquared)\n",
    "        print (msg)\n",
    "        print (\"Cross Validation Scores: \")\n",
    "        print (self.crossVal)\n",
    "        \n",
    "    def perf(self, boxPlot=True):\n",
    "        print (\"Model: \" + self.name)\n",
    "        print (\"Description: \" + self.desc)\n",
    "        print (\"r-squared:\" + str(self.rSquared))\n",
    "        print (\"Cross Validation Scores: \")\n",
    "        print (self.crossVal)\n",
    "        if boxPlot:\n",
    "            fig = plt.figure()\n",
    "            title = \"Performance: %s\" % (self.name)\n",
    "            fig.suptitle(title)\n",
    "            ax = fig.add_subplot(111)\n",
    "            plt.boxplot(self.crossVal)\n",
    "            ax.set_xticklabels(self.name)\n",
    "            plt.show()\n",
    "    \n",
    "    def featureRanking(self):\n",
    "        featSelector = RFE(self.regr)\n",
    "        featSelector = featSelector.fit(self.X, self.Y)\n",
    "        rankings = pd.DataFrame({'Features': self.X.columns, 'Ranking' : featSelector.ranking_})\n",
    "        print (rankings.sort_values('Ranking'))\n",
    "    \n",
    "    def compareFolds(self, modelRight):\n",
    "        fmt = '{:<2}{:<20}|{:<10}'\n",
    "        a_left = self.crossVal\n",
    "        a_right = modelRight.crossVal\n",
    "        a_left.sort()\n",
    "        a_right.sort()\n",
    "        \n",
    "        print(\"CROSS VALIDATION SCORES\")\n",
    "        print(fmt.format('',self.name,modelRight.name))\n",
    "        for i, (left, right) in enumerate(zip(a_left, a_right)):\n",
    "            print(fmt.format(i, left, right))\n",
    "            \n",
    "    def compareR(self,modelRight):\n",
    "        fmt = '{:<2}{:<20}|{:<20}'\n",
    "        \n",
    "        print(\"R-SQUARED\")\n",
    "        print(fmt.format('',self.name,modelRight.name))\n",
    "        print(fmt.format('',self.rSquared,modelRight.rSquared))\n",
    "        \n",
    "    def compareBox(self,modelList):\n",
    "        results = []\n",
    "        names = []\n",
    "        \n",
    "        results.append(self.crossVal)\n",
    "        names.append(self.name)\n",
    "        \n",
    "        for rightModel in modelList:\n",
    "                results.append(rightModel.crossVal)\n",
    "                names.append(rightModel.name)\n",
    "        \n",
    "        fig = plt.figure()\n",
    "        title = \"Performance: %s\" % (self.name)\n",
    "        fig.suptitle(title)\n",
    "        ax = fig.add_subplot(111)\n",
    "        plt.boxplot(results)\n",
    "        ax.set_xticklabels(names)\n",
    "        plt.show()\n",
    "        \n",
    "    def fullCompare(self,modelRight):\n",
    "        self.compareR(modelRight)\n",
    "        print('\\n')\n",
    "        self.compareFolds(modelRight)\n",
    "        modelList = []\n",
    "        modelList.append(modelRight)\n",
    "        self.compareBox(modelList)\n",
    "\n",
    "#    def testModel(self, name, df_test):\n",
    "#        self.testModel = TestModel(name,self,df_test)\n",
    "\n",
    "class TestModel(Model):\n",
    "    def __init__(self,name,trainModel,ds_test):\n",
    "        self.name = name\n",
    "        self.X = ds_test[trainModel.X.columns]\n",
    "        self.Y = ds_test[trainModel.Y.name]\n",
    "        self.regr = trainModel.regr\n",
    "        \n",
    "        #sklearn\n",
    "        self.rSquared = trainModel.regr.score(self.X, self.Y)\n",
    "        \n",
    "        self.rSquared = trainModel.regr.score(self.X,self.Y)\n",
    "        self.crossVal = cross_val_score(trainModel.regr, self.X, self.Y, cv=10)\n",
    "        \n",
    "        #statsmodel\n",
    "        #self.lm = trainModel.lm(self.Y, self.X)\n",
    "        #self.params = self.lm.params\n",
    "        #self.pvalues = self.lm.pvalues\n",
    "\n",
    "        "
   ]
  },
  {
   "cell_type": "markdown",
   "metadata": {},
   "source": [
    "# Write Up"
   ]
  },
  {
   "cell_type": "markdown",
   "metadata": {},
   "source": [
    "### Initial Model\n",
    "\n",
    "The initial model is based on the following features:\n",
    "Population\n",
    "- PopSq \n",
    "- Murder \n",
    "- Robbery\n",
    "- RobberyFull\n",
    "- MurderFull"
   ]
  },
  {
   "cell_type": "code",
   "execution_count": 100,
   "metadata": {},
   "outputs": [
    {
     "name": "stdout",
     "output_type": "stream",
     "text": [
      "Model: Initial\n",
      "Description: \n",
      "r-squared:0.998780265433\n",
      "Cross Validation Scores: \n",
      "[  8.69231462e-01   9.80535182e-01   5.16399936e-01   7.95729569e-01\n",
      "   1.53463760e-01   7.51434764e-01  -1.23126444e+03   9.64058394e-01\n",
      "   9.58421927e-01   2.03436515e-01]\n"
     ]
    },
    {
     "data": {
      "image/png": "[encoded data removed]",
      "text/plain": [
       "<matplotlib.figure.Figure at 0x116fd9fd0>"
      ]
     },
     "metadata": {},
     "output_type": "display_data"
    }
   ],
   "source": [
    "x_init = []\n",
    "x_init = ['Population','PopSq','Murder','Robbery','RobberyFull','MurderFull']\n",
    "yVal = 'PropertyCrime'\n",
    "m_init = Model('Initial',x_init,yVal,f_ny13)\n",
    "\n",
    "m_init.perf()"
   ]
  },
  {
   "cell_type": "markdown",
   "metadata": {},
   "source": [
    "The initial model had a very high r-squared but an extreme amount of variance in the Cross Validation Scores due to outliers."
   ]
  },
  {
   "cell_type": "markdown",
   "metadata": {},
   "source": [
    "### Outliers Removed\n",
    "\n",
    "Remove outliers in Population feature."
   ]
  },
  {
   "cell_type": "code",
   "execution_count": 101,
   "metadata": {
    "collapsed": true
   },
   "outputs": [],
   "source": [
    "x_init = ['Population','PopSq','Murder','Robbery','RobberyFull','MurderFull']\n",
    "yVal = 'PropertyCrime'\n",
    "f_ny13noOL = f_ny13[f_ny13['Population'] < f_ny13['Population'].quantile(0.8)]\n",
    "m_init_ny13noOL = Model('Rmv Pop Outliers',xList_Init,yVal,f_NoPopOL)"
   ]
  },
  {
   "cell_type": "code",
   "execution_count": 102,
   "metadata": {},
   "outputs": [
    {
     "name": "stdout",
     "output_type": "stream",
     "text": [
      "R-SQUARED\n",
      "  Rmv Pop Outliers    |Initial             \n",
      "  0.6706677059094278  |0.9987802654331784  \n",
      "\n",
      "\n",
      "CROSS VALIDATION SCORES\n",
      "  Rmv Pop Outliers    |Initial   \n",
      "0 0.3799084387734818  |-1231.2644377749396\n",
      "1 0.4289886384245616  |0.15346376006402662\n",
      "2 0.4597432574867609  |0.2034365152544102\n",
      "3 0.5039117056344213  |0.5163999359856598\n",
      "4 0.6547759384833411  |0.7514347639372401\n",
      "5 0.6843251454173225  |0.7957295690622814\n",
      "6 0.7295086255464073  |0.8692314622027926\n",
      "7 0.7791459872625075  |0.9584219274327229\n",
      "8 0.808378231049701   |0.9640583941735129\n",
      "9 0.8317054664872829  |0.9805351821022643\n"
     ]
    },
    {
     "data": {
      "image/png": "[encoded data removed]",
      "text/plain": [
       "<matplotlib.figure.Figure at 0x116f726d8>"
      ]
     },
     "metadata": {},
     "output_type": "display_data"
    }
   ],
   "source": [
    "m_init_ny13noOL.fullCompare(m_init)"
   ]
  },
  {
   "cell_type": "markdown",
   "metadata": {},
   "source": [
    "By removing the outliers in the “Population” feature it was possible to create a model with less variation in the Cross Validation Scores but the r-squared value was very low."
   ]
  },
  {
   "cell_type": "markdown",
   "metadata": {},
   "source": [
    "### Remove high p-values\n",
    "Check p-values and remove features with high p-values\n"
   ]
  },
  {
   "cell_type": "code",
   "execution_count": 103,
   "metadata": {},
   "outputs": [
    {
     "data": {
      "text/plain": [
       "Population     1.420394e-05\n",
       "PopSq          5.401920e-01\n",
       "Murder         6.751325e-01\n",
       "Robbery        2.411738e-03\n",
       "RobberyFull    2.090317e-18\n",
       "MurderFull     6.751325e-01\n",
       "dtype: float64"
      ]
     },
     "execution_count": 103,
     "metadata": {},
     "output_type": "execute_result"
    }
   ],
   "source": [
    "m_init_ny13noOL.pvalues"
   ]
  },
  {
   "cell_type": "code",
   "execution_count": 104,
   "metadata": {
    "collapsed": true
   },
   "outputs": [],
   "source": [
    "xList_RmvLowPs = []\n",
    "xList_RmvLowPs = ['Population','Robbery','RobberyFull']\n",
    "yVal = 'PropertyCrime'\n",
    "m_RmvLowPs = Model('Remove Low Pvals',xList_RmvLowPs,yVal,f_NoPopOL)"
   ]
  },
  {
   "cell_type": "code",
   "execution_count": 105,
   "metadata": {},
   "outputs": [
    {
     "name": "stdout",
     "output_type": "stream",
     "text": [
      "R-SQUARED\n",
      "  Remove Low Pvals    |Rmv Pop Outliers    \n",
      "  0.6700338038500605  |0.6706677059094278  \n",
      "\n",
      "\n",
      "CROSS VALIDATION SCORES\n",
      "  Remove Low Pvals    |Rmv Pop Outliers\n",
      "0 0.3998266311893619  |0.3799084387734818\n",
      "1 0.4334609132662042  |0.4289886384245616\n",
      "2 0.4776314498611265  |0.4597432574867609\n",
      "3 0.51789270178662    |0.5039117056344213\n",
      "4 0.6533060911046792  |0.6547759384833411\n",
      "5 0.6978711002878792  |0.6843251454173225\n",
      "6 0.724467056626613   |0.7295086255464073\n",
      "7 0.7881504127753594  |0.7791459872625075\n",
      "8 0.8107795886552934  |0.808378231049701\n",
      "9 0.8319911778157723  |0.8317054664872829\n"
     ]
    },
    {
     "data": {
      "image/png": "[encoded data removed]",
      "text/plain": [
       "<matplotlib.figure.Figure at 0x116397dd8>"
      ]
     },
     "metadata": {},
     "output_type": "display_data"
    }
   ],
   "source": [
    "m_RmvLowPs.fullCompare(m_init_ny13noOL)"
   ]
  },
  {
   "cell_type": "markdown",
   "metadata": {},
   "source": [
    "Removing the items with low p-values made very little difference in the r-squared and Cross Validation scores"
   ]
  },
  {
   "cell_type": "markdown",
   "metadata": {},
   "source": [
    "### Test Set: Different State\n",
    "\n",
    "Test the model against the same year, but from a different state."
   ]
  },
  {
   "cell_type": "code",
   "execution_count": 106,
   "metadata": {},
   "outputs": [],
   "source": [
    "ts_tx13 = TestModel('Texas 2013', m_init_ny13noOL, f_tx13)"
   ]
  },
  {
   "cell_type": "code",
   "execution_count": 107,
   "metadata": {},
   "outputs": [
    {
     "name": "stdout",
     "output_type": "stream",
     "text": [
      "R-SQUARED\n",
      "  Texas 2013          |Remove Low Pvals    \n",
      "  -18.93678937586965  |0.6700338038500605  \n",
      "\n",
      "\n",
      "CROSS VALIDATION SCORES\n",
      "  Texas 2013          |Remove Low Pvals\n",
      "0 0.4891841437998655  |0.3998266311893619\n",
      "1 0.7341042103883315  |0.4334609132662042\n",
      "2 0.7534517700601936  |0.4776314498611265\n",
      "3 0.8528792113235739  |0.51789270178662\n",
      "4 0.8703191698843666  |0.6533060911046792\n",
      "5 0.8905497873272703  |0.6978711002878792\n",
      "6 0.9044682593928124  |0.724467056626613\n",
      "7 0.9424948482341972  |0.7881504127753594\n",
      "8 0.9712478204003998  |0.8107795886552934\n",
      "9 0.9757310481451841  |0.8319911778157723\n"
     ]
    },
    {
     "data": {
      "image/png": "[encoded data removed]",
      "text/plain": [
       "<matplotlib.figure.Figure at 0x116f154e0>"
      ]
     },
     "metadata": {},
     "output_type": "display_data"
    }
   ],
   "source": [
    "ts_tx13.fullCompare(m_RmvLowPs)"
   ]
  },
  {
   "cell_type": "markdown",
   "metadata": {},
   "source": [
    "The test data has a negative r-squared value and a Cross Validation set with a significant outlier"
   ]
  },
  {
   "cell_type": "markdown",
   "metadata": {},
   "source": [
    "### Test Set: Same State, Different Year\n",
    "\n",
    "Test the model against the same state, but from a different year."
   ]
  },
  {
   "cell_type": "code",
   "execution_count": 110,
   "metadata": {
    "collapsed": true
   },
   "outputs": [],
   "source": [
    "ts_ny14 = TestModel('New York 2014', m_init_ny13noOL, f_ny14)"
   ]
  },
  {
   "cell_type": "code",
   "execution_count": 111,
   "metadata": {},
   "outputs": [
    {
     "name": "stdout",
     "output_type": "stream",
     "text": [
      "R-SQUARED\n",
      "  New York 2014       |Texas 2013          \n",
      "  -3623.1982056573343 |-18.93678937586965  \n",
      "\n",
      "\n",
      "CROSS VALIDATION SCORES\n",
      "  New York 2014       |Texas 2013\n",
      "0 -471.44103410776876 |0.4891841437998655\n",
      "1 -0.2822032791485931 |0.7341042103883315\n",
      "2 0.17310467893715864 |0.7534517700601936\n",
      "3 0.533919210692487   |0.8528792113235739\n",
      "4 0.611927766216854   |0.8703191698843666\n",
      "5 0.6685382689450557  |0.8905497873272703\n",
      "6 0.8666720606268679  |0.9044682593928124\n",
      "7 0.9140971988799125  |0.9424948482341972\n",
      "8 0.9385685766017288  |0.9712478204003998\n",
      "9 0.9718263960476061  |0.9757310481451841\n"
     ]
    },
    {
     "data": {
      "image/png": "[encoded data removed]",
      "text/plain": [
       "<matplotlib.figure.Figure at 0x1105382b0>"
      ]
     },
     "metadata": {},
     "output_type": "display_data"
    }
   ],
   "source": [
    "ts_ny14.fullCompare(ts_tx13)"
   ]
  },
  {
   "cell_type": "code",
   "execution_count": null,
   "metadata": {
    "collapsed": true
   },
   "outputs": [],
   "source": []
  },
  {
   "cell_type": "code",
   "execution_count": null,
   "metadata": {
    "collapsed": true
   },
   "outputs": [],
   "source": []
  },
  {
   "cell_type": "code",
   "execution_count": null,
   "metadata": {
    "collapsed": true
   },
   "outputs": [],
   "source": []
  }
 ],
 "metadata": {
  "kernelspec": {
   "display_name": "Python 3",
   "language": "python",
   "name": "python3"
  },
  "language_info": {
   "codemirror_mode": {
    "name": "ipython",
    "version": 3
   },
   "file_extension": ".py",
   "mimetype": "text/x-python",
   "name": "python",
   "nbconvert_exporter": "python",
   "pygments_lexer": "ipython3",
   "version": "3.6.3"
  }
 },
 "nbformat": 4,
 "nbformat_minor": 2
}
