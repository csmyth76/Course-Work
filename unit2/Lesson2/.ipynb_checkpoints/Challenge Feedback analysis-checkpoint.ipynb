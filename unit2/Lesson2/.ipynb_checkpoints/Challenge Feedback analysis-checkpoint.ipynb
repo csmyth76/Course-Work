{
 "cells": [
  {
   "cell_type": "code",
   "execution_count": 158,
   "metadata": {
    "collapsed": true
   },
   "outputs": [],
   "source": [
    "%matplotlib inline\n",
    "import numpy as np\n",
    "import pandas as pd\n",
    "import scipy\n",
    "import sklearn\n",
    "import matplotlib.pyplot as plt\n",
    "import seaborn as sns\n",
    "import re\n",
    "from collections import Counter"
   ]
  },
  {
   "cell_type": "code",
   "execution_count": 159,
   "metadata": {},
   "outputs": [],
   "source": [
    "# Grab and process the raw data.\n",
    "snt_raw = pd.read_csv(\"amazon_cells_labelled.txt\", delimiter='\\t', header=None)\n",
    "snt_raw.columns = ['sentance', 'score']"
   ]
  },
  {
   "cell_type": "code",
   "execution_count": null,
   "metadata": {},
   "outputs": [],
   "source": []
  },
  {
   "cell_type": "code",
   "execution_count": 182,
   "metadata": {},
   "outputs": [],
   "source": [
    "# collect the words fromr positive and negative reviews\n",
    "words_pos = re.findall('\\w+', ' '.join(snt_raw[snt_raw['score'] == 1].sentance.tolist()).lower())\n",
    "words_neg = re.findall('\\w+', ' '.join(snt_raw[snt_raw['score'] == 0].sentance.tolist()).lower())\n",
    "\n",
    "# remove words that are in both lists\n",
    "words_pos_unique = [x for x in words_positive if x not in words_negative]\n",
    "words_neg_unique = [x for x in words_negative if x not in words_positive]\n",
    "\n",
    "# after reviewing the positive words, remove the most common words that refer to the product specifically \n",
    "words_pos_prod_specific = ['sturdy','free','charm','range','cases','keyboard','order','leather','fast','comfortably']\n",
    "words_pos_unique_generic=[x for x in words_pos_unique if x not in words_pos_prod_specific]\n",
    "\n",
    "# after reviewing the negative words, remove the most common words that refer to the product specifically \n",
    "words_neg_prod_specific = ['broke','junk','unit','stay']\n",
    "words_neg_unique_generic=[x for x in words_neg_unique if x not in words_neg_prod_specific]\n",
    "\n",
    "# collect the top 10 words from the positive and negative reviews\n",
    "words_pos_unique_generic_top10 = Counter(words_pos_unique_generic).most_common(10)\n",
    "words_neg_unique_generic_top10 = Counter(words_neg_unique_generic).most_common(10)"
   ]
  },
  {
   "cell_type": "code",
   "execution_count": 273,
   "metadata": {},
   "outputs": [
    {
     "data": {
      "text/plain": [
       "[('the', 239),\n",
       " ('and', 189),\n",
       " ('i', 186),\n",
       " ('it', 145),\n",
       " ('is', 141),\n",
       " ('a', 106),\n",
       " ('this', 105),\n",
       " ('great', 94),\n",
       " ('phone', 88),\n",
       " ('to', 87),\n",
       " ('my', 72),\n",
       " ('very', 69),\n",
       " ('for', 66),\n",
       " ('with', 65),\n",
       " ('good', 64),\n",
       " ('of', 49),\n",
       " ('works', 46),\n",
       " ('on', 44),\n",
       " ('have', 38),\n",
       " ('was', 36),\n",
       " ('well', 35),\n",
       " ('in', 34),\n",
       " ('that', 33),\n",
       " ('product', 33),\n",
       " ('quality', 31),\n",
       " ('headset', 31),\n",
       " ('sound', 28),\n",
       " ('excellent', 26),\n",
       " ('so', 26),\n",
       " ('price', 25),\n",
       " ('you', 24),\n",
       " ('has', 24),\n",
       " ('one', 23),\n",
       " ('s', 23),\n",
       " ('are', 22),\n",
       " ('battery', 22),\n",
       " ('nice', 22),\n",
       " ('use', 21),\n",
       " ('best', 21),\n",
       " ('had', 21)]"
      ]
     },
     "execution_count": 273,
     "metadata": {},
     "output_type": "execute_result"
    }
   ],
   "source": [
    "Counter(words_pos).most_common(40)"
   ]
  },
  {
   "cell_type": "code",
   "execution_count": 272,
   "metadata": {},
   "outputs": [
    {
     "data": {
      "text/plain": [
       "[('nice', 22),\n",
       " ('love', 20),\n",
       " ('perfectly', 6),\n",
       " ('value', 5),\n",
       " ('definitely', 5),\n",
       " ('pleased', 5),\n",
       " ('awesome', 5),\n",
       " ('overall', 5),\n",
       " ('seems', 4),\n",
       " ('glad', 4)]"
      ]
     },
     "execution_count": 272,
     "metadata": {},
     "output_type": "execute_result"
    }
   ],
   "source": [
    "words_pos_unique_generic_top10"
   ]
  },
  {
   "cell_type": "code",
   "execution_count": 189,
   "metadata": {},
   "outputs": [],
   "source": [
    "feats_p = pd.DataFrame()\n",
    "feats_n = pd.DataFrame()\n",
    "for key in words_pos_unique_generic_top10:\n",
    "    # Note that we add spaces around the key so that we're getting the word,\n",
    "    # not just pattern matching.\n",
    "    feats_p['p_'+str(key[0])] = sms_raw.sentance.str.contains(\n",
    "        ' ' + key[0] + ' ',\n",
    "        case=False\n",
    "    )\n",
    "for key in words_neg_unique_generic_top10:\n",
    "    # Note that we add spaces around the key so that we're getting the word,\n",
    "    # not just pattern matching.\n",
    "    feats_n['n_'+str(key[0])] = sms_raw.sentance.str.contains(\n",
    "        key[0],\n",
    "        case=False\n",
    "    )   "
   ]
  },
  {
   "cell_type": "code",
   "execution_count": 190,
   "metadata": {},
   "outputs": [],
   "source": [
    "# could add another feature that includes most used words from all false entries\n",
    "# or just add \"good\" and \"great\" \n",
    "# str(feats[:1].values)"
   ]
  },
  {
   "cell_type": "code",
   "execution_count": 191,
   "metadata": {},
   "outputs": [
    {
     "data": {
      "text/plain": [
       "<matplotlib.axes._subplots.AxesSubplot at 0x1a14425f98>"
      ]
     },
     "execution_count": 191,
     "metadata": {},
     "output_type": "execute_result"
    },
    {
     "data": {
      "image/png": "[encoded data removed]",
      "text/plain": [
       "<matplotlib.figure.Figure at 0x1a1444ec18>"
      ]
     },
     "metadata": {},
     "output_type": "display_data"
    }
   ],
   "source": [
    "sns.heatmap(feats_p.corr())"
   ]
  },
  {
   "cell_type": "code",
   "execution_count": 192,
   "metadata": {},
   "outputs": [],
   "source": [
    "#value and overall very highly correlated, dropping value as it's least represented base on order of pos values\n",
    "feats_p_uncorr = feats_p.drop(['p_overall','p_value'], axis=1)"
   ]
  },
  {
   "cell_type": "code",
   "execution_count": 194,
   "metadata": {},
   "outputs": [
    {
     "data": {
      "text/plain": [
       "<matplotlib.axes._subplots.AxesSubplot at 0x1a146f4c18>"
      ]
     },
     "execution_count": 194,
     "metadata": {},
     "output_type": "execute_result"
    },
    {
     "data": {
      "image/png": "[encoded data removed]",
      "text/plain": [
       "<matplotlib.figure.Figure at 0x1a14464f60>"
      ]
     },
     "metadata": {},
     "output_type": "display_data"
    }
   ],
   "source": [
    "sns.heatmap(feats_p_uncorr.corr())"
   ]
  },
  {
   "cell_type": "code",
   "execution_count": 195,
   "metadata": {},
   "outputs": [
    {
     "data": {
      "text/plain": [
       "<matplotlib.axes._subplots.AxesSubplot at 0x1a14728550>"
      ]
     },
     "execution_count": 195,
     "metadata": {},
     "output_type": "execute_result"
    },
    {
     "data": {
      "image/png": "[encoded data removed]",
      "text/plain": [
       "<matplotlib.figure.Figure at 0x1a14420f98>"
      ]
     },
     "metadata": {},
     "output_type": "display_data"
    }
   ],
   "source": [
    "sns.heatmap(feats_n.corr())"
   ]
  },
  {
   "cell_type": "code",
   "execution_count": 196,
   "metadata": {
    "collapsed": true
   },
   "outputs": [],
   "source": [
    "feats_n_uncorr = feats_n"
   ]
  },
  {
   "cell_type": "code",
   "execution_count": null,
   "metadata": {
    "collapsed": true
   },
   "outputs": [],
   "source": [
    "# POTENTIAL FEATURE: could also add a feature that puts a True for pos if there are no negatives/ same for neg"
   ]
  },
  {
   "cell_type": "code",
   "execution_count": null,
   "metadata": {
    "collapsed": true
   },
   "outputs": [],
   "source": [
    "# sms_raw['spam'] = (sms_raw['spam'] == 'spam')"
   ]
  },
  {
   "cell_type": "code",
   "execution_count": 222,
   "metadata": {},
   "outputs": [],
   "source": [
    "target = (snt_raw['score'] == 1)\n",
    "data = feats_p_uncorr"
   ]
  },
  {
   "cell_type": "code",
   "execution_count": 231,
   "metadata": {},
   "outputs": [
    {
     "data": {
      "text/plain": [
       "BernoulliNB(alpha=1.0, binarize=0.0, class_prior=None, fit_prior=True)"
      ]
     },
     "execution_count": 231,
     "metadata": {},
     "output_type": "execute_result"
    }
   ],
   "source": [
    "# Our data is binary / boolean, so we're importing the Bernoulli classifier.\n",
    "from sklearn.naive_bayes import BernoulliNB\n",
    "\n",
    "# Instantiate our model and store it in a new variable.\n",
    "bnb = BernoulliNB()\n",
    "\n",
    "# Fit our model to the data.\n",
    "bnb.fit(data, target)\n"
   ]
  },
  {
   "cell_type": "code",
   "execution_count": 232,
   "metadata": {},
   "outputs": [
    {
     "name": "stdout",
     "output_type": "stream",
     "text": [
      "Number of mislabeled points out of a total 1000 points : 397\n"
     ]
    }
   ],
   "source": [
    "\n",
    "# Classify, storing the result in a new variable.\n",
    "y_pred = bnb.predict(data)\n",
    "\n",
    "# Display our results.\n",
    "print(\"Number of mislabeled points out of a total {} points : {}\".format(\n",
    "    data.shape[0],\n",
    "    (target != y_pred).sum()\n",
    "))"
   ]
  },
  {
   "cell_type": "code",
   "execution_count": 233,
   "metadata": {
    "collapsed": true
   },
   "outputs": [],
   "source": [
    "target = (snt_raw['score'] == 0)\n",
    "data = feats_n_uncorr"
   ]
  },
  {
   "cell_type": "code",
   "execution_count": 234,
   "metadata": {},
   "outputs": [
    {
     "data": {
      "text/plain": [
       "BernoulliNB(alpha=1.0, binarize=0.0, class_prior=None, fit_prior=True)"
      ]
     },
     "execution_count": 234,
     "metadata": {},
     "output_type": "execute_result"
    }
   ],
   "source": [
    "# Our data is binary / boolean, so we're importing the Bernoulli classifier.\n",
    "from sklearn.naive_bayes import BernoulliNB\n",
    "\n",
    "# Instantiate our model and store it in a new variable.\n",
    "bnb = BernoulliNB()\n",
    "\n",
    "# Fit our model to the data.\n",
    "bnb.fit(data, target)"
   ]
  },
  {
   "cell_type": "code",
   "execution_count": 235,
   "metadata": {},
   "outputs": [
    {
     "name": "stdout",
     "output_type": "stream",
     "text": [
      "Number of mislabeled points out of a total 1000 points : 397\n"
     ]
    }
   ],
   "source": [
    "# Classify, storing the result in a new variable.\n",
    "y_pred = bnb.predict(data)\n",
    "\n",
    "# Display our results.\n",
    "print(\"Number of mislabeled points out of a total {} points : {}\".format(\n",
    "    data.shape[0],\n",
    "    (target != y_pred).sum()\n",
    "))"
   ]
  },
  {
   "cell_type": "code",
   "execution_count": 236,
   "metadata": {
    "collapsed": true
   },
   "outputs": [],
   "source": [
    "# Grab and process the raw data.\n",
    "snt_raw = pd.read_csv(\"yelp_labelled.txt\", delimiter='\\t', header=None)\n",
    "snt_raw.columns = ['sentance', 'score']"
   ]
  },
  {
   "cell_type": "code",
   "execution_count": 237,
   "metadata": {
    "collapsed": true
   },
   "outputs": [],
   "source": [
    "target = (snt_raw['score'] == 1)\n",
    "data = feats_p_uncorr"
   ]
  },
  {
   "cell_type": "code",
   "execution_count": 238,
   "metadata": {},
   "outputs": [
    {
     "data": {
      "text/plain": [
       "BernoulliNB(alpha=1.0, binarize=0.0, class_prior=None, fit_prior=True)"
      ]
     },
     "execution_count": 238,
     "metadata": {},
     "output_type": "execute_result"
    }
   ],
   "source": [
    "# Our data is binary / boolean, so we're importing the Bernoulli classifier.\n",
    "from sklearn.naive_bayes import BernoulliNB\n",
    "\n",
    "# Instantiate our model and store it in a new variable.\n",
    "bnb = BernoulliNB()\n",
    "\n",
    "# Fit our model to the data.\n",
    "bnb.fit(data, target)"
   ]
  },
  {
   "cell_type": "code",
   "execution_count": 239,
   "metadata": {},
   "outputs": [
    {
     "name": "stdout",
     "output_type": "stream",
     "text": [
      "Number of mislabeled points out of a total 1000 points : 486\n"
     ]
    }
   ],
   "source": [
    "# Classify, storing the result in a new variable.\n",
    "y_pred = bnb.predict(data)\n",
    "\n",
    "# Display our results.\n",
    "print(\"Number of mislabeled points out of a total {} points : {}\".format(\n",
    "    data.shape[0],\n",
    "    (target != y_pred).sum()\n",
    "))"
   ]
  },
  {
   "cell_type": "code",
   "execution_count": 269,
   "metadata": {},
   "outputs": [
    {
     "name": "stdout",
     "output_type": "stream",
     "text": [
      "Predicted  False  True \n",
      "Actual                 \n",
      "False        490     10\n",
      "True         476     24\n",
      "\n",
      "when a message was pos and we predicted pos:  24\n",
      "when a message was pos and we predicted neg:  476\n",
      "when a message was neg and we predicted neg:  490\n",
      "when a message was neg and we predicted pos:  10\n",
      "\n",
      "total positives =  500\n",
      "correct positives =  24\n",
      "sensitivity =  4.8 %\n",
      "\n",
      "total negatives =  500\n",
      "correct negatives =  490\n",
      "specificity =  98.0 %\n"
     ]
    }
   ],
   "source": [
    "# confusion matrix\n",
    "df_confusion = pd.crosstab(target, y_pred, rownames=['Actual'], colnames=['Predicted'])\n",
    "print (df_confusion)\n",
    "\n",
    "print ('\\nwhen a message was pos and we predicted pos: ', df_confusion[1][1])\n",
    "print ('when a message was pos and we predicted neg: ', df_confusion[0][1])\n",
    "print ('when a message was neg and we predicted neg: ',df_confusion[0][0])\n",
    "print ('when a message was neg and we predicted pos: ',df_confusion[1][0])\n",
    "\n",
    "total_pos = df_confusion[0][1] + df_confusion[1][1]\n",
    "correct_pos = df_confusion[1][1]\n",
    "total_neg = df_confusion[0][0] + df_confusion[1][0]\n",
    "correct_neg = df_confusion[0][0]\n",
    "sensitivity = (correct_pos/total_pos)*100\n",
    "specificity = (correct_neg/total_neg)*100\n",
    "\n",
    "print('\\ntotal positives = ', total_pos)\n",
    "print('correct positives = ', correct_pos)\n",
    "print('sensitivity = ',sensitivity,'%')\n",
    "print('\\ntotal negatives = ', total_neg)\n",
    "print('correct negatives = ', correct_neg)\n",
    "print('specificity = ',specificity,'%')"
   ]
  },
  {
   "cell_type": "code",
   "execution_count": null,
   "metadata": {},
   "outputs": [],
   "source": [
    "# add some more common positive words, great, good, very"
   ]
  },
  {
   "cell_type": "code",
   "execution_count": null,
   "metadata": {},
   "outputs": [],
   "source": []
  },
  {
   "cell_type": "code",
   "execution_count": null,
   "metadata": {},
   "outputs": [],
   "source": [
    "# if no negative words, mark as positive review"
   ]
  },
  {
   "cell_type": "code",
   "execution_count": null,
   "metadata": {
    "collapsed": true
   },
   "outputs": [],
   "source": []
  },
  {
   "cell_type": "code",
   "execution_count": null,
   "metadata": {
    "collapsed": true
   },
   "outputs": [],
   "source": [
    "# check for features that did not get any true and drop"
   ]
  }
 ],
 "metadata": {
  "kernelspec": {
   "display_name": "Python 3",
   "language": "python",
   "name": "python3"
  },
  "language_info": {
   "codemirror_mode": {
    "name": "ipython",
    "version": 3
   },
   "file_extension": ".py",
   "mimetype": "text/x-python",
   "name": "python",
   "nbconvert_exporter": "python",
   "pygments_lexer": "ipython3",
   "version": "3.6.3"
  }
 },
 "nbformat": 4,
 "nbformat_minor": 2
}
