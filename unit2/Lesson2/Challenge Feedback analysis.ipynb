{
 "cells": [
  {
   "cell_type": "code",
   "execution_count": 1,
   "metadata": {
    "collapsed": true
   },
   "outputs": [],
   "source": [
    "%matplotlib inline\n",
    "import numpy as np\n",
    "import pandas as pd\n",
    "import scipy\n",
    "import sklearn\n",
    "import matplotlib.pyplot as plt\n",
    "import seaborn as sns\n",
    "import re\n",
    "from collections import Counter"
   ]
  },
  {
   "cell_type": "code",
   "execution_count": 2,
   "metadata": {
    "collapsed": true
   },
   "outputs": [],
   "source": [
    "# Grab and process the raw data.\n",
    "snt_train = pd.read_csv(\"amazon_cells_labelled.txt\", delimiter='\\t', header=None)\n",
    "snt_train.columns = ['sentance', 'score']"
   ]
  },
  {
   "cell_type": "code",
   "execution_count": 3,
   "metadata": {},
   "outputs": [],
   "source": [
    "snt_train['sentance'] = snt_train['sentance'].str.replace('\\'','')\n",
    "snt_train['sentance'] = snt_train['sentance'].str.replace('.',' ')\n",
    "snt_train['sentance'] = snt_train['sentance'].str.replace(',',' ')"
   ]
  },
  {
   "cell_type": "code",
   "execution_count": 4,
   "metadata": {
    "collapsed": true
   },
   "outputs": [],
   "source": [
    "# collect the words from positive and negative reviews\n",
    "words_pos = re.findall('\\w+', ' '.join(snt_train[snt_train['score'] == 1].sentance.tolist()).lower())\n",
    "words_neg = re.findall('\\w+', ' '.join(snt_train[snt_train['score'] == 0].sentance.tolist()).lower())\n",
    "\n",
    "# remove words that are in both lists\n",
    "words_pos_unique = [x for x in words_pos if x not in words_neg]\n",
    "words_neg_unique = [x for x in words_neg if x not in words_pos]"
   ]
  },
  {
   "cell_type": "code",
   "execution_count": 5,
   "metadata": {},
   "outputs": [
    {
     "data": {
      "text/plain": [
       "[('nice', 22),\n",
       " ('love', 20),\n",
       " ('perfectly', 6),\n",
       " ('value', 5),\n",
       " ('sturdy', 5),\n",
       " ('definitely', 5),\n",
       " ('free', 5),\n",
       " ('pleased', 5),\n",
       " ('charm', 5),\n",
       " ('awesome', 5),\n",
       " ('overall', 5),\n",
       " ('range', 5),\n",
       " ('cases', 5),\n",
       " ('seems', 4),\n",
       " ('keyboard', 4),\n",
       " ('order', 4),\n",
       " ('leather', 4),\n",
       " ('fast', 4),\n",
       " ('comfortably', 4),\n",
       " ('glad', 4)]"
      ]
     },
     "execution_count": 5,
     "metadata": {},
     "output_type": "execute_result"
    }
   ],
   "source": [
    "# some of the top 20 positive words are directly related to the product (i.e. cases\n",
    "# keyboard, leather).  This model will be used for other products so these \n",
    "# words should be removed so that we have a generic top 10\n",
    "Counter(words_pos_unique).most_common(20)"
   ]
  },
  {
   "cell_type": "code",
   "execution_count": 6,
   "metadata": {
    "collapsed": true
   },
   "outputs": [],
   "source": [
    "# after reviewing the positive words, remove the highest occurring words that refer to the product specifically \n",
    "words_pos_prod_specific = ['sturdy','free','charm','range','cases','keyboard','order','leather','fast','comfortably']\n",
    "words_pos_unique_generic=[x for x in words_pos_unique if x not in words_pos_prod_specific]"
   ]
  },
  {
   "cell_type": "code",
   "execution_count": 7,
   "metadata": {},
   "outputs": [
    {
     "data": {
      "text/plain": [
       "[('poor', 15),\n",
       " ('waste', 14),\n",
       " ('bad', 14),\n",
       " ('worst', 14),\n",
       " ('disappointed', 10),\n",
       " ('terrible', 10),\n",
       " ('broke', 8),\n",
       " ('horrible', 8),\n",
       " ('junk', 8),\n",
       " ('unit', 8),\n",
       " ('didnt', 7),\n",
       " ('useless', 7),\n",
       " ('stay', 6),\n",
       " ('crap', 6),\n",
       " ('difficult', 6),\n",
       " ('week', 5),\n",
       " ('disappointment', 5),\n",
       " ('return', 5),\n",
       " ('old', 5),\n",
       " ('anything', 5)]"
      ]
     },
     "execution_count": 7,
     "metadata": {},
     "output_type": "execute_result"
    }
   ],
   "source": [
    "# some of the top 20 negative words are directly related to the product (i.e. cases\n",
    "# keyboard, leather).  This model will be used for other products so these \n",
    "# words should be removed so that we have a generic top 10\n",
    "Counter(words_neg_unique).most_common(20)"
   ]
  },
  {
   "cell_type": "code",
   "execution_count": 8,
   "metadata": {
    "collapsed": true
   },
   "outputs": [],
   "source": [
    "# after reviewing the negative words, remove the highest occurring words that refer to the product specifically \n",
    "words_neg_prod_specific = ['broke','junk','unit','stay']\n",
    "words_neg_unique_generic=[x for x in words_neg_unique if x not in words_neg_prod_specific]"
   ]
  },
  {
   "cell_type": "code",
   "execution_count": 9,
   "metadata": {
    "collapsed": true
   },
   "outputs": [],
   "source": [
    "# collect the top 10 words from the positive and negative reviews\n",
    "words_pos_unique_generic_top10 = Counter(words_pos_unique_generic).most_common(10)\n",
    "words_neg_unique_generic_top10 = Counter(words_neg_unique_generic).most_common(10)"
   ]
  },
  {
   "cell_type": "code",
   "execution_count": 10,
   "metadata": {},
   "outputs": [],
   "source": [
    "def AddWordFeat(feats, prefix, word, snt):\n",
    "    newFeatName=str(prefix)+'_'+str(word)\n",
    "    feats[newFeatName] = snt.sentance.str.contains(\n",
    "        ' ' + str(word) + ' ',\n",
    "        case=False\n",
    "    )\n",
    "    return feats"
   ]
  },
  {
   "cell_type": "code",
   "execution_count": 11,
   "metadata": {
    "collapsed": true
   },
   "outputs": [],
   "source": [
    "def CreateSetOfFeatures(feats, prefix, wordList, snt):\n",
    "    for word in wordList:\n",
    "        feats = AddWordFeat(feats,prefix, word, snt)\n",
    "    return feats"
   ]
  },
  {
   "cell_type": "code",
   "execution_count": 12,
   "metadata": {},
   "outputs": [],
   "source": [
    "feats_p = pd.DataFrame()\n",
    "wordList = np.array(words_pos_unique_generic_top10)[:,0]\n",
    "feats_p = CreateSetOfFeatures(feats_p, 'p', wordList, snt_train)"
   ]
  },
  {
   "cell_type": "code",
   "execution_count": 13,
   "metadata": {},
   "outputs": [
    {
     "data": {
      "text/plain": [
       "<matplotlib.axes._subplots.AxesSubplot at 0x10b1992b0>"
      ]
     },
     "execution_count": 13,
     "metadata": {},
     "output_type": "execute_result"
    },
    {
     "data": {
      "image/png": "[encoded data removed]",
      "text/plain": [
       "<matplotlib.figure.Figure at 0x1a133872b0>"
      ]
     },
     "metadata": {},
     "output_type": "display_data"
    }
   ],
   "source": [
    "sns.heatmap(feats_p.corr())"
   ]
  },
  {
   "cell_type": "code",
   "execution_count": 14,
   "metadata": {
    "collapsed": true
   },
   "outputs": [],
   "source": [
    "feats_n = pd.DataFrame()\n",
    "wordList = np.array(words_neg_unique_generic_top10)[:,0]\n",
    "feats_n = CreateSetOfFeatures(feats_n, 'n', wordList, snt_train)"
   ]
  },
  {
   "cell_type": "code",
   "execution_count": 15,
   "metadata": {},
   "outputs": [
    {
     "data": {
      "text/plain": [
       "<matplotlib.axes._subplots.AxesSubplot at 0x10b257b00>"
      ]
     },
     "execution_count": 15,
     "metadata": {},
     "output_type": "execute_result"
    },
    {
     "data": {
      "image/png": "[encoded data removed]",
      "text/plain": [
       "<matplotlib.figure.Figure at 0x1a133177f0>"
      ]
     },
     "metadata": {},
     "output_type": "display_data"
    }
   ],
   "source": [
    "sns.heatmap(feats_n.corr())"
   ]
  },
  {
   "cell_type": "code",
   "execution_count": 16,
   "metadata": {},
   "outputs": [],
   "source": [
    "# Bernoulli classifier\n",
    "def BnbClassifier (data, target):\n",
    "    # Our data is binary / boolean, so we're importing the Bernoulli classifier.\n",
    "    from sklearn.naive_bayes import BernoulliNB\n",
    "\n",
    "    # Instantiate our model and store it in a new variable.\n",
    "    bnb = BernoulliNB()\n",
    "\n",
    "    # Fit our model to the data.\n",
    "    bnb.fit(data, target)\n",
    "    \n",
    "    y_pred = bnb.predict(data)\n",
    "\n",
    "    return y_pred,bnb"
   ]
  },
  {
   "cell_type": "code",
   "execution_count": 17,
   "metadata": {
    "collapsed": true
   },
   "outputs": [],
   "source": [
    "# Bernoulli classifier\n",
    "def MnbClassifier (data, target):\n",
    "    # importing the Multinomial classifier.\n",
    "    from sklearn.naive_bayes import MultinomialNB\n",
    "    \n",
    "    mnb = MultinomialNB()\n",
    "    mnb.fit(data, target)\n",
    "    y_pred = mnb.predict(data)\n",
    "\n",
    "    return y_pred,bnb"
   ]
  },
  {
   "cell_type": "code",
   "execution_count": 18,
   "metadata": {},
   "outputs": [],
   "source": [
    "# Display our results.\n",
    "def DisplayResults(data, y_pred):\n",
    "    print(\"\\nRESULTS:\\n\")\n",
    "    print(\"Number of mislabeled points out of a total {} points : {}\".format(\n",
    "        data.shape[0],\n",
    "        (target != y_pred).sum()\n",
    "    ))"
   ]
  },
  {
   "cell_type": "code",
   "execution_count": 19,
   "metadata": {
    "collapsed": true
   },
   "outputs": [],
   "source": [
    "# confusion matrix\n",
    "def ConfusionMatrix(target, y_pred):\n",
    "    df_confusion = pd.crosstab(target, y_pred, rownames=['Actual'], colnames=['Predicted'])\n",
    "    \n",
    "    print ('\\nCONFUSION MATRIX:\\n ')\n",
    "    print (df_confusion)\n",
    "\n",
    "    print ('\\nwhen a message was pos and we predicted pos: ', df_confusion[1][1])\n",
    "    print ('when a message was pos and we predicted neg: ', df_confusion[0][1])\n",
    "    print ('when a message was neg and we predicted neg: ',df_confusion[0][0])\n",
    "    print ('when a message was neg and we predicted pos: ',df_confusion[1][0])\n",
    "\n",
    "    total_pos = df_confusion[0][1] + df_confusion[1][1]\n",
    "    correct_pos = df_confusion[1][1]\n",
    "    total_neg = df_confusion[0][0] + df_confusion[1][0]\n",
    "    correct_neg = df_confusion[0][0]\n",
    "    sensitivity = (correct_pos/total_pos)*100\n",
    "    specificity = (correct_neg/total_neg)*100\n",
    "\n",
    "    print('\\ntotal positives = ', total_pos)\n",
    "    print('correct positives = ', correct_pos)\n",
    "    print('sensitivity = ',sensitivity,'%')\n",
    "    print('\\ntotal negatives = ', total_neg)\n",
    "    print('correct negatives = ', correct_neg)\n",
    "    print('specificity = ',specificity,'%')"
   ]
  },
  {
   "cell_type": "code",
   "execution_count": 20,
   "metadata": {},
   "outputs": [],
   "source": [
    "# cross validation\n",
    "def CrossValidation(bnb, data, target):\n",
    "    crossValScore = []\n",
    "    print ('\\nCROSS VALIDATION:')\n",
    "    from sklearn.model_selection import cross_val_score\n",
    "    crossValScore = cross_val_score(bnb, data, target, cv=10)\n",
    "    print (crossValScore)\n",
    "    #return cossValScore"
   ]
  },
  {
   "cell_type": "code",
   "execution_count": 21,
   "metadata": {
    "collapsed": true
   },
   "outputs": [],
   "source": [
    "def BnbComplete(data, target):\n",
    "    y_pred,bnb = BnbClassifier (data, target)\n",
    "    DisplayResults(data, y_pred)\n",
    "    ConfusionMatrix(target, y_pred)\n",
    "    CrossValidation(bnb, data, target)\n",
    "    return y_pred"
   ]
  },
  {
   "cell_type": "code",
   "execution_count": 22,
   "metadata": {
    "collapsed": true
   },
   "outputs": [],
   "source": [
    "def MnbComplete(data, target):\n",
    "    crossValScore = []\n",
    "    y_pred,mnb = MnbClassifier (data, target)\n",
    "    DisplayResults(data, y_pred)\n",
    "    ConfusionMatrix(target, y_pred)\n",
    "    crossValScore = CrossValidation(mnb, data, target)\n",
    "    return y_pred"
   ]
  },
  {
   "cell_type": "code",
   "execution_count": 23,
   "metadata": {
    "collapsed": true
   },
   "outputs": [],
   "source": [
    "def CompareFeatureSets(featSetList, Y):\n",
    "    from sklearn.naive_bayes import BernoulliNB\n",
    "    from sklearn.model_selection import cross_val_score\n",
    "    results = []\n",
    "    names = []\n",
    "    seed = 7\n",
    "    for name,feats in featSetList:\n",
    "        y_pred,bnb=BnbClassifier (feats, Y)\n",
    "        bb = BernoulliNB()\n",
    "        cvresult = cross_val_score(BernoulliNB(), feats, Y, cv=10)\n",
    "        results.append(cvresult)\n",
    "        names.append(name)\n",
    "        msg = \"%s: mean: %f standard deviation:(%f)\" % (name, cvresult.mean(), cvresult.std())\n",
    "        print(msg)\n",
    "    # boxplot algorithm comparison\n",
    "    fig = plt.figure()\n",
    "    fig.suptitle('Feature Comparison')\n",
    "    ax = fig.add_subplot(111)\n",
    "    plt.boxplot(results)\n",
    "    ax.set_xticklabels(names)\n",
    "    plt.show()"
   ]
  },
  {
   "cell_type": "code",
   "execution_count": 24,
   "metadata": {},
   "outputs": [
    {
     "data": {
      "text/html": [
       "<div>\n",
       "<style>\n",
       "    .dataframe thead tr:only-child th {\n",
       "        text-align: right;\n",
       "    }\n",
       "\n",
       "    .dataframe thead th {\n",
       "        text-align: left;\n",
       "    }\n",
       "\n",
       "    .dataframe tbody tr th {\n",
       "        vertical-align: top;\n",
       "    }\n",
       "</style>\n",
       "<table border=\"1\" class=\"dataframe\">\n",
       "  <thead>\n",
       "    <tr style=\"text-align: right;\">\n",
       "      <th></th>\n",
       "      <th>p_nice</th>\n",
       "      <th>p_love</th>\n",
       "      <th>p_perfectly</th>\n",
       "      <th>p_value</th>\n",
       "      <th>p_definitely</th>\n",
       "      <th>p_pleased</th>\n",
       "      <th>p_awesome</th>\n",
       "      <th>p_overall</th>\n",
       "      <th>p_seems</th>\n",
       "      <th>p_glad</th>\n",
       "    </tr>\n",
       "  </thead>\n",
       "  <tbody>\n",
       "    <tr>\n",
       "      <th>0</th>\n",
       "      <td>False</td>\n",
       "      <td>False</td>\n",
       "      <td>False</td>\n",
       "      <td>False</td>\n",
       "      <td>False</td>\n",
       "      <td>False</td>\n",
       "      <td>False</td>\n",
       "      <td>False</td>\n",
       "      <td>False</td>\n",
       "      <td>False</td>\n",
       "    </tr>\n",
       "    <tr>\n",
       "      <th>1</th>\n",
       "      <td>False</td>\n",
       "      <td>False</td>\n",
       "      <td>False</td>\n",
       "      <td>True</td>\n",
       "      <td>False</td>\n",
       "      <td>False</td>\n",
       "      <td>False</td>\n",
       "      <td>False</td>\n",
       "      <td>False</td>\n",
       "      <td>False</td>\n",
       "    </tr>\n",
       "    <tr>\n",
       "      <th>2</th>\n",
       "      <td>False</td>\n",
       "      <td>False</td>\n",
       "      <td>False</td>\n",
       "      <td>False</td>\n",
       "      <td>False</td>\n",
       "      <td>False</td>\n",
       "      <td>False</td>\n",
       "      <td>False</td>\n",
       "      <td>False</td>\n",
       "      <td>False</td>\n",
       "    </tr>\n",
       "    <tr>\n",
       "      <th>3</th>\n",
       "      <td>False</td>\n",
       "      <td>False</td>\n",
       "      <td>False</td>\n",
       "      <td>False</td>\n",
       "      <td>False</td>\n",
       "      <td>False</td>\n",
       "      <td>False</td>\n",
       "      <td>False</td>\n",
       "      <td>False</td>\n",
       "      <td>False</td>\n",
       "    </tr>\n",
       "    <tr>\n",
       "      <th>4</th>\n",
       "      <td>False</td>\n",
       "      <td>False</td>\n",
       "      <td>False</td>\n",
       "      <td>False</td>\n",
       "      <td>False</td>\n",
       "      <td>False</td>\n",
       "      <td>False</td>\n",
       "      <td>False</td>\n",
       "      <td>False</td>\n",
       "      <td>False</td>\n",
       "    </tr>\n",
       "  </tbody>\n",
       "</table>\n",
       "</div>"
      ],
      "text/plain": [
       "   p_nice  p_love  p_perfectly  p_value  p_definitely  p_pleased  p_awesome  \\\n",
       "0   False   False        False    False         False      False      False   \n",
       "1   False   False        False     True         False      False      False   \n",
       "2   False   False        False    False         False      False      False   \n",
       "3   False   False        False    False         False      False      False   \n",
       "4   False   False        False    False         False      False      False   \n",
       "\n",
       "   p_overall  p_seems  p_glad  \n",
       "0      False    False   False  \n",
       "1      False    False   False  \n",
       "2      False    False   False  \n",
       "3      False    False   False  \n",
       "4      False    False   False  "
      ]
     },
     "execution_count": 24,
     "metadata": {},
     "output_type": "execute_result"
    }
   ],
   "source": [
    "feats_p.head()"
   ]
  },
  {
   "cell_type": "code",
   "execution_count": 25,
   "metadata": {},
   "outputs": [
    {
     "name": "stdout",
     "output_type": "stream",
     "text": [
      "\n",
      "RESULTS:\n",
      "\n",
      "Number of mislabeled points out of a total 1000 points : 439\n",
      "\n",
      "CONFUSION MATRIX:\n",
      " \n",
      "Predicted    0   1\n",
      "Actual            \n",
      "0          500   0\n",
      "1          439  61\n",
      "\n",
      "when a message was pos and we predicted pos:  61\n",
      "when a message was pos and we predicted neg:  439\n",
      "when a message was neg and we predicted neg:  500\n",
      "when a message was neg and we predicted pos:  0\n",
      "\n",
      "total positives =  500\n",
      "correct positives =  61\n",
      "sensitivity =  12.2 %\n",
      "\n",
      "total negatives =  500\n",
      "correct negatives =  500\n",
      "specificity =  100.0 %\n",
      "\n",
      "CROSS VALIDATION:\n",
      "[ 0.56  0.61  0.56  0.54  0.58  0.58  0.56  0.54  0.54  0.54]\n"
     ]
    }
   ],
   "source": [
    "target = snt_train['score']\n",
    "data = feats_p\n",
    "y_pred = BnbComplete(data,target)"
   ]
  },
  {
   "cell_type": "code",
   "execution_count": 26,
   "metadata": {},
   "outputs": [
    {
     "data": {
      "text/html": [
       "<div>\n",
       "<style>\n",
       "    .dataframe thead tr:only-child th {\n",
       "        text-align: right;\n",
       "    }\n",
       "\n",
       "    .dataframe thead th {\n",
       "        text-align: left;\n",
       "    }\n",
       "\n",
       "    .dataframe tbody tr th {\n",
       "        vertical-align: top;\n",
       "    }\n",
       "</style>\n",
       "<table border=\"1\" class=\"dataframe\">\n",
       "  <thead>\n",
       "    <tr style=\"text-align: right;\">\n",
       "      <th></th>\n",
       "      <th>n_poor</th>\n",
       "      <th>n_waste</th>\n",
       "      <th>n_bad</th>\n",
       "      <th>n_worst</th>\n",
       "      <th>n_disappointed</th>\n",
       "      <th>n_terrible</th>\n",
       "      <th>n_horrible</th>\n",
       "      <th>n_didnt</th>\n",
       "      <th>n_useless</th>\n",
       "      <th>n_crap</th>\n",
       "    </tr>\n",
       "  </thead>\n",
       "  <tbody>\n",
       "    <tr>\n",
       "      <th>0</th>\n",
       "      <td>False</td>\n",
       "      <td>False</td>\n",
       "      <td>False</td>\n",
       "      <td>False</td>\n",
       "      <td>False</td>\n",
       "      <td>False</td>\n",
       "      <td>False</td>\n",
       "      <td>False</td>\n",
       "      <td>False</td>\n",
       "      <td>False</td>\n",
       "    </tr>\n",
       "    <tr>\n",
       "      <th>1</th>\n",
       "      <td>False</td>\n",
       "      <td>False</td>\n",
       "      <td>False</td>\n",
       "      <td>False</td>\n",
       "      <td>False</td>\n",
       "      <td>False</td>\n",
       "      <td>False</td>\n",
       "      <td>False</td>\n",
       "      <td>False</td>\n",
       "      <td>False</td>\n",
       "    </tr>\n",
       "    <tr>\n",
       "      <th>2</th>\n",
       "      <td>False</td>\n",
       "      <td>False</td>\n",
       "      <td>False</td>\n",
       "      <td>False</td>\n",
       "      <td>False</td>\n",
       "      <td>False</td>\n",
       "      <td>False</td>\n",
       "      <td>False</td>\n",
       "      <td>False</td>\n",
       "      <td>False</td>\n",
       "    </tr>\n",
       "    <tr>\n",
       "      <th>3</th>\n",
       "      <td>False</td>\n",
       "      <td>False</td>\n",
       "      <td>False</td>\n",
       "      <td>False</td>\n",
       "      <td>False</td>\n",
       "      <td>False</td>\n",
       "      <td>False</td>\n",
       "      <td>False</td>\n",
       "      <td>False</td>\n",
       "      <td>False</td>\n",
       "    </tr>\n",
       "    <tr>\n",
       "      <th>4</th>\n",
       "      <td>False</td>\n",
       "      <td>False</td>\n",
       "      <td>False</td>\n",
       "      <td>False</td>\n",
       "      <td>False</td>\n",
       "      <td>False</td>\n",
       "      <td>False</td>\n",
       "      <td>False</td>\n",
       "      <td>False</td>\n",
       "      <td>False</td>\n",
       "    </tr>\n",
       "  </tbody>\n",
       "</table>\n",
       "</div>"
      ],
      "text/plain": [
       "   n_poor  n_waste  n_bad  n_worst  n_disappointed  n_terrible  n_horrible  \\\n",
       "0   False    False  False    False           False       False       False   \n",
       "1   False    False  False    False           False       False       False   \n",
       "2   False    False  False    False           False       False       False   \n",
       "3   False    False  False    False           False       False       False   \n",
       "4   False    False  False    False           False       False       False   \n",
       "\n",
       "   n_didnt  n_useless  n_crap  \n",
       "0    False      False   False  \n",
       "1    False      False   False  \n",
       "2    False      False   False  \n",
       "3    False      False   False  \n",
       "4    False      False   False  "
      ]
     },
     "execution_count": 26,
     "metadata": {},
     "output_type": "execute_result"
    }
   ],
   "source": [
    "feats_n.head()"
   ]
  },
  {
   "cell_type": "code",
   "execution_count": 27,
   "metadata": {},
   "outputs": [
    {
     "name": "stdout",
     "output_type": "stream",
     "text": [
      "\n",
      "RESULTS:\n",
      "\n",
      "Number of mislabeled points out of a total 1000 points : 435\n",
      "\n",
      "CONFUSION MATRIX:\n",
      " \n",
      "Predicted   0    1\n",
      "Actual            \n",
      "0          65  435\n",
      "1           0  500\n",
      "\n",
      "when a message was pos and we predicted pos:  500\n",
      "when a message was pos and we predicted neg:  0\n",
      "when a message was neg and we predicted neg:  65\n",
      "when a message was neg and we predicted pos:  435\n",
      "\n",
      "total positives =  500\n",
      "correct positives =  500\n",
      "sensitivity =  100.0 %\n",
      "\n",
      "total negatives =  500\n",
      "correct negatives =  65\n",
      "specificity =  13.0 %\n",
      "\n",
      "CROSS VALIDATION:\n",
      "[ 0.57  0.57  0.6   0.58  0.54  0.54  0.58  0.52  0.58  0.57]\n"
     ]
    }
   ],
   "source": [
    "target = snt_train['score']\n",
    "data = feats_n\n",
    "y_pred = BnbComplete(data,target)"
   ]
  },
  {
   "cell_type": "code",
   "execution_count": 28,
   "metadata": {},
   "outputs": [],
   "source": [
    "featSetList = []\n",
    "featSetList.append(('feats_p', feats_p))\n",
    "featSetList.append(('feats_n', feats_n))"
   ]
  },
  {
   "cell_type": "code",
   "execution_count": 29,
   "metadata": {},
   "outputs": [
    {
     "name": "stdout",
     "output_type": "stream",
     "text": [
      "feats_p: mean: 0.561000 standard deviation:(0.022113)\n",
      "feats_n: mean: 0.565000 standard deviation:(0.022913)\n"
     ]
    },
    {
     "data": {
      "image/png": "[encoded data removed]",
      "text/plain": [
       "<matplotlib.figure.Figure at 0x1a1b8f4eb8>"
      ]
     },
     "metadata": {},
     "output_type": "display_data"
    }
   ],
   "source": [
    "CompareFeatureSets(featSetList, snt_train['score'])"
   ]
  },
  {
   "cell_type": "code",
   "execution_count": 30,
   "metadata": {},
   "outputs": [],
   "source": [
    "feats_pn = pd.concat([feats_p, feats_n], axis=1)"
   ]
  },
  {
   "cell_type": "code",
   "execution_count": 31,
   "metadata": {},
   "outputs": [
    {
     "data": {
      "text/html": [
       "<div>\n",
       "<style>\n",
       "    .dataframe thead tr:only-child th {\n",
       "        text-align: right;\n",
       "    }\n",
       "\n",
       "    .dataframe thead th {\n",
       "        text-align: left;\n",
       "    }\n",
       "\n",
       "    .dataframe tbody tr th {\n",
       "        vertical-align: top;\n",
       "    }\n",
       "</style>\n",
       "<table border=\"1\" class=\"dataframe\">\n",
       "  <thead>\n",
       "    <tr style=\"text-align: right;\">\n",
       "      <th></th>\n",
       "      <th>p_nice</th>\n",
       "      <th>p_love</th>\n",
       "      <th>p_perfectly</th>\n",
       "      <th>p_value</th>\n",
       "      <th>p_definitely</th>\n",
       "      <th>p_pleased</th>\n",
       "      <th>p_awesome</th>\n",
       "      <th>p_overall</th>\n",
       "      <th>p_seems</th>\n",
       "      <th>p_glad</th>\n",
       "      <th>n_poor</th>\n",
       "      <th>n_waste</th>\n",
       "      <th>n_bad</th>\n",
       "      <th>n_worst</th>\n",
       "      <th>n_disappointed</th>\n",
       "      <th>n_terrible</th>\n",
       "      <th>n_horrible</th>\n",
       "      <th>n_didnt</th>\n",
       "      <th>n_useless</th>\n",
       "      <th>n_crap</th>\n",
       "    </tr>\n",
       "  </thead>\n",
       "  <tbody>\n",
       "    <tr>\n",
       "      <th>0</th>\n",
       "      <td>False</td>\n",
       "      <td>False</td>\n",
       "      <td>False</td>\n",
       "      <td>False</td>\n",
       "      <td>False</td>\n",
       "      <td>False</td>\n",
       "      <td>False</td>\n",
       "      <td>False</td>\n",
       "      <td>False</td>\n",
       "      <td>False</td>\n",
       "      <td>False</td>\n",
       "      <td>False</td>\n",
       "      <td>False</td>\n",
       "      <td>False</td>\n",
       "      <td>False</td>\n",
       "      <td>False</td>\n",
       "      <td>False</td>\n",
       "      <td>False</td>\n",
       "      <td>False</td>\n",
       "      <td>False</td>\n",
       "    </tr>\n",
       "    <tr>\n",
       "      <th>1</th>\n",
       "      <td>False</td>\n",
       "      <td>False</td>\n",
       "      <td>False</td>\n",
       "      <td>True</td>\n",
       "      <td>False</td>\n",
       "      <td>False</td>\n",
       "      <td>False</td>\n",
       "      <td>False</td>\n",
       "      <td>False</td>\n",
       "      <td>False</td>\n",
       "      <td>False</td>\n",
       "      <td>False</td>\n",
       "      <td>False</td>\n",
       "      <td>False</td>\n",
       "      <td>False</td>\n",
       "      <td>False</td>\n",
       "      <td>False</td>\n",
       "      <td>False</td>\n",
       "      <td>False</td>\n",
       "      <td>False</td>\n",
       "    </tr>\n",
       "    <tr>\n",
       "      <th>2</th>\n",
       "      <td>False</td>\n",
       "      <td>False</td>\n",
       "      <td>False</td>\n",
       "      <td>False</td>\n",
       "      <td>False</td>\n",
       "      <td>False</td>\n",
       "      <td>False</td>\n",
       "      <td>False</td>\n",
       "      <td>False</td>\n",
       "      <td>False</td>\n",
       "      <td>False</td>\n",
       "      <td>False</td>\n",
       "      <td>False</td>\n",
       "      <td>False</td>\n",
       "      <td>False</td>\n",
       "      <td>False</td>\n",
       "      <td>False</td>\n",
       "      <td>False</td>\n",
       "      <td>False</td>\n",
       "      <td>False</td>\n",
       "    </tr>\n",
       "    <tr>\n",
       "      <th>3</th>\n",
       "      <td>False</td>\n",
       "      <td>False</td>\n",
       "      <td>False</td>\n",
       "      <td>False</td>\n",
       "      <td>False</td>\n",
       "      <td>False</td>\n",
       "      <td>False</td>\n",
       "      <td>False</td>\n",
       "      <td>False</td>\n",
       "      <td>False</td>\n",
       "      <td>False</td>\n",
       "      <td>False</td>\n",
       "      <td>False</td>\n",
       "      <td>False</td>\n",
       "      <td>False</td>\n",
       "      <td>False</td>\n",
       "      <td>False</td>\n",
       "      <td>False</td>\n",
       "      <td>False</td>\n",
       "      <td>False</td>\n",
       "    </tr>\n",
       "    <tr>\n",
       "      <th>4</th>\n",
       "      <td>False</td>\n",
       "      <td>False</td>\n",
       "      <td>False</td>\n",
       "      <td>False</td>\n",
       "      <td>False</td>\n",
       "      <td>False</td>\n",
       "      <td>False</td>\n",
       "      <td>False</td>\n",
       "      <td>False</td>\n",
       "      <td>False</td>\n",
       "      <td>False</td>\n",
       "      <td>False</td>\n",
       "      <td>False</td>\n",
       "      <td>False</td>\n",
       "      <td>False</td>\n",
       "      <td>False</td>\n",
       "      <td>False</td>\n",
       "      <td>False</td>\n",
       "      <td>False</td>\n",
       "      <td>False</td>\n",
       "    </tr>\n",
       "  </tbody>\n",
       "</table>\n",
       "</div>"
      ],
      "text/plain": [
       "   p_nice  p_love  p_perfectly  p_value  p_definitely  p_pleased  p_awesome  \\\n",
       "0   False   False        False    False         False      False      False   \n",
       "1   False   False        False     True         False      False      False   \n",
       "2   False   False        False    False         False      False      False   \n",
       "3   False   False        False    False         False      False      False   \n",
       "4   False   False        False    False         False      False      False   \n",
       "\n",
       "   p_overall  p_seems  p_glad  n_poor  n_waste  n_bad  n_worst  \\\n",
       "0      False    False   False   False    False  False    False   \n",
       "1      False    False   False   False    False  False    False   \n",
       "2      False    False   False   False    False  False    False   \n",
       "3      False    False   False   False    False  False    False   \n",
       "4      False    False   False   False    False  False    False   \n",
       "\n",
       "   n_disappointed  n_terrible  n_horrible  n_didnt  n_useless  n_crap  \n",
       "0           False       False       False    False      False   False  \n",
       "1           False       False       False    False      False   False  \n",
       "2           False       False       False    False      False   False  \n",
       "3           False       False       False    False      False   False  \n",
       "4           False       False       False    False      False   False  "
      ]
     },
     "execution_count": 31,
     "metadata": {},
     "output_type": "execute_result"
    }
   ],
   "source": [
    "feats_pn.head()"
   ]
  },
  {
   "cell_type": "code",
   "execution_count": 32,
   "metadata": {},
   "outputs": [
    {
     "name": "stdout",
     "output_type": "stream",
     "text": [
      "\n",
      "RESULTS:\n",
      "\n",
      "Number of mislabeled points out of a total 1000 points : 435\n",
      "\n",
      "CONFUSION MATRIX:\n",
      " \n",
      "Predicted   0    1\n",
      "Actual            \n",
      "0          65  435\n",
      "1           0  500\n",
      "\n",
      "when a message was pos and we predicted pos:  500\n",
      "when a message was pos and we predicted neg:  0\n",
      "when a message was neg and we predicted neg:  65\n",
      "when a message was neg and we predicted pos:  435\n",
      "\n",
      "total positives =  500\n",
      "correct positives =  500\n",
      "sensitivity =  100.0 %\n",
      "\n",
      "total negatives =  500\n",
      "correct negatives =  65\n",
      "specificity =  13.0 %\n",
      "\n",
      "CROSS VALIDATION:\n",
      "[ 0.57  0.57  0.6   0.58  0.54  0.54  0.58  0.52  0.58  0.57]\n"
     ]
    }
   ],
   "source": [
    "target = snt_train['score']\n",
    "data = feats_pn\n",
    "y_pred = BnbComplete(data,target)"
   ]
  },
  {
   "cell_type": "code",
   "execution_count": 33,
   "metadata": {},
   "outputs": [
    {
     "name": "stdout",
     "output_type": "stream",
     "text": [
      "feats_p: mean: 0.561000 standard deviation:(0.022113)\n",
      "feats_n: mean: 0.565000 standard deviation:(0.022913)\n",
      "feats_pn: mean: 0.565000 standard deviation:(0.022913)\n"
     ]
    },
    {
     "data": {
      "image/png": "[encoded data removed]",
      "text/plain": [
       "<matplotlib.figure.Figure at 0x1a1b96a4e0>"
      ]
     },
     "metadata": {},
     "output_type": "display_data"
    }
   ],
   "source": [
    "featSetList = []\n",
    "featSetList.append(('feats_p', feats_p))\n",
    "featSetList.append(('feats_n', feats_n))\n",
    "featSetList.append(('feats_pn', feats_pn))\n",
    "\n",
    "CompareFeatureSets(featSetList, snt_train['score'])"
   ]
  },
  {
   "cell_type": "code",
   "execution_count": 34,
   "metadata": {},
   "outputs": [],
   "source": [
    "# collect sentences, actual score, and predicted\n",
    "snt_train_pred = snt_train\n",
    "snt_train_pred['pred'] = y_pred"
   ]
  },
  {
   "cell_type": "code",
   "execution_count": 35,
   "metadata": {},
   "outputs": [],
   "source": [
    "# collect negative reviews that were predicted positive\n",
    "snt_train_pred_s0_p1 = snt_train_pred[(snt_train_pred['score']==0) & (snt_train_pred['pred']==1)]"
   ]
  },
  {
   "cell_type": "code",
   "execution_count": 36,
   "metadata": {},
   "outputs": [],
   "source": [
    "# get all of the words from these reviews\n",
    "snt_raw_pred_s0_p1_words = re.findall('\\w+', ' '.join(snt_train_pred_s0_p1.sentance.tolist()).lower())"
   ]
  },
  {
   "cell_type": "code",
   "execution_count": 37,
   "metadata": {
    "collapsed": true
   },
   "outputs": [],
   "source": [
    "# collect words that have not already been used in neg word feature\n",
    "snt_raw_pred_s0_p1_words_new = [x for x in snt_raw_pred_s0_p1_words if x not in words_neg_unique_generic_top10]"
   ]
  },
  {
   "cell_type": "code",
   "execution_count": 38,
   "metadata": {},
   "outputs": [
    {
     "data": {
      "text/plain": [
       "[('the', 248),\n",
       " ('i', 149),\n",
       " ('it', 140),\n",
       " ('and', 111),\n",
       " ('to', 100),\n",
       " ('not', 97),\n",
       " ('a', 95),\n",
       " ('this', 92),\n",
       " ('is', 83),\n",
       " ('phone', 71)]"
      ]
     },
     "execution_count": 38,
     "metadata": {},
     "output_type": "execute_result"
    }
   ],
   "source": [
    "# list the most common\n",
    "Counter(snt_raw_pred_s0_p1_words_new).most_common(10)"
   ]
  },
  {
   "cell_type": "code",
   "execution_count": 39,
   "metadata": {},
   "outputs": [
    {
     "data": {
      "text/plain": [
       "[('the', 239),\n",
       " ('and', 189),\n",
       " ('i', 156),\n",
       " ('is', 141),\n",
       " ('it', 129),\n",
       " ('a', 106),\n",
       " ('this', 105),\n",
       " ('great', 94),\n",
       " ('to', 87),\n",
       " ('phone', 87)]"
      ]
     },
     "execution_count": 39,
     "metadata": {},
     "output_type": "execute_result"
    }
   ],
   "source": [
    "# collect positive reviews that were predicted positive\n",
    "snt_train_pred_s1_p1 = snt_train_pred[(snt_train_pred['score']==1) & (snt_train_pred['pred']==1)]\n",
    "# get all of the words from these reviews\n",
    "snt_raw_pred_s1_p1_words = re.findall('\\w+', ' '.join(snt_train_pred_s1_p1.sentance.tolist()).lower())\n",
    "# collect words that have not already been used in neg word feature\n",
    "snt_raw_pred_s1_p1_words_new = [x for x in snt_raw_pred_s1_p1_words if x not in words_neg_unique_generic_top10]\n",
    "\n",
    "Counter(snt_raw_pred_s1_p1_words_new).most_common(10)"
   ]
  },
  {
   "cell_type": "code",
   "execution_count": 40,
   "metadata": {
    "collapsed": true
   },
   "outputs": [],
   "source": [
    "# \"not\" seems to be in many of the top negative reviews but not in the top positive reviews\n",
    "# so adding as a new feature\n",
    "feats_pn_plus_n = pd.DataFrame()\n",
    "feats_pn_plus_n = pd.concat([feats_pn, feats_pn_plus_n], axis=1)\n",
    "#feats_pn_plus_n = feats_pn\n",
    "feats_pn_plus_n['n_not'] = snt_train.sentance.str.contains(' not ',case=False)"
   ]
  },
  {
   "cell_type": "code",
   "execution_count": 41,
   "metadata": {},
   "outputs": [
    {
     "data": {
      "text/html": [
       "<div>\n",
       "<style>\n",
       "    .dataframe thead tr:only-child th {\n",
       "        text-align: right;\n",
       "    }\n",
       "\n",
       "    .dataframe thead th {\n",
       "        text-align: left;\n",
       "    }\n",
       "\n",
       "    .dataframe tbody tr th {\n",
       "        vertical-align: top;\n",
       "    }\n",
       "</style>\n",
       "<table border=\"1\" class=\"dataframe\">\n",
       "  <thead>\n",
       "    <tr style=\"text-align: right;\">\n",
       "      <th></th>\n",
       "      <th>p_nice</th>\n",
       "      <th>p_love</th>\n",
       "      <th>p_perfectly</th>\n",
       "      <th>p_value</th>\n",
       "      <th>p_definitely</th>\n",
       "      <th>p_pleased</th>\n",
       "      <th>p_awesome</th>\n",
       "      <th>p_overall</th>\n",
       "      <th>p_seems</th>\n",
       "      <th>p_glad</th>\n",
       "      <th>...</th>\n",
       "      <th>n_waste</th>\n",
       "      <th>n_bad</th>\n",
       "      <th>n_worst</th>\n",
       "      <th>n_disappointed</th>\n",
       "      <th>n_terrible</th>\n",
       "      <th>n_horrible</th>\n",
       "      <th>n_didnt</th>\n",
       "      <th>n_useless</th>\n",
       "      <th>n_crap</th>\n",
       "      <th>n_not</th>\n",
       "    </tr>\n",
       "  </thead>\n",
       "  <tbody>\n",
       "    <tr>\n",
       "      <th>0</th>\n",
       "      <td>False</td>\n",
       "      <td>False</td>\n",
       "      <td>False</td>\n",
       "      <td>False</td>\n",
       "      <td>False</td>\n",
       "      <td>False</td>\n",
       "      <td>False</td>\n",
       "      <td>False</td>\n",
       "      <td>False</td>\n",
       "      <td>False</td>\n",
       "      <td>...</td>\n",
       "      <td>False</td>\n",
       "      <td>False</td>\n",
       "      <td>False</td>\n",
       "      <td>False</td>\n",
       "      <td>False</td>\n",
       "      <td>False</td>\n",
       "      <td>False</td>\n",
       "      <td>False</td>\n",
       "      <td>False</td>\n",
       "      <td>False</td>\n",
       "    </tr>\n",
       "    <tr>\n",
       "      <th>1</th>\n",
       "      <td>False</td>\n",
       "      <td>False</td>\n",
       "      <td>False</td>\n",
       "      <td>True</td>\n",
       "      <td>False</td>\n",
       "      <td>False</td>\n",
       "      <td>False</td>\n",
       "      <td>False</td>\n",
       "      <td>False</td>\n",
       "      <td>False</td>\n",
       "      <td>...</td>\n",
       "      <td>False</td>\n",
       "      <td>False</td>\n",
       "      <td>False</td>\n",
       "      <td>False</td>\n",
       "      <td>False</td>\n",
       "      <td>False</td>\n",
       "      <td>False</td>\n",
       "      <td>False</td>\n",
       "      <td>False</td>\n",
       "      <td>False</td>\n",
       "    </tr>\n",
       "    <tr>\n",
       "      <th>2</th>\n",
       "      <td>False</td>\n",
       "      <td>False</td>\n",
       "      <td>False</td>\n",
       "      <td>False</td>\n",
       "      <td>False</td>\n",
       "      <td>False</td>\n",
       "      <td>False</td>\n",
       "      <td>False</td>\n",
       "      <td>False</td>\n",
       "      <td>False</td>\n",
       "      <td>...</td>\n",
       "      <td>False</td>\n",
       "      <td>False</td>\n",
       "      <td>False</td>\n",
       "      <td>False</td>\n",
       "      <td>False</td>\n",
       "      <td>False</td>\n",
       "      <td>False</td>\n",
       "      <td>False</td>\n",
       "      <td>False</td>\n",
       "      <td>False</td>\n",
       "    </tr>\n",
       "    <tr>\n",
       "      <th>3</th>\n",
       "      <td>False</td>\n",
       "      <td>False</td>\n",
       "      <td>False</td>\n",
       "      <td>False</td>\n",
       "      <td>False</td>\n",
       "      <td>False</td>\n",
       "      <td>False</td>\n",
       "      <td>False</td>\n",
       "      <td>False</td>\n",
       "      <td>False</td>\n",
       "      <td>...</td>\n",
       "      <td>False</td>\n",
       "      <td>False</td>\n",
       "      <td>False</td>\n",
       "      <td>False</td>\n",
       "      <td>False</td>\n",
       "      <td>False</td>\n",
       "      <td>False</td>\n",
       "      <td>False</td>\n",
       "      <td>False</td>\n",
       "      <td>False</td>\n",
       "    </tr>\n",
       "    <tr>\n",
       "      <th>4</th>\n",
       "      <td>False</td>\n",
       "      <td>False</td>\n",
       "      <td>False</td>\n",
       "      <td>False</td>\n",
       "      <td>False</td>\n",
       "      <td>False</td>\n",
       "      <td>False</td>\n",
       "      <td>False</td>\n",
       "      <td>False</td>\n",
       "      <td>False</td>\n",
       "      <td>...</td>\n",
       "      <td>False</td>\n",
       "      <td>False</td>\n",
       "      <td>False</td>\n",
       "      <td>False</td>\n",
       "      <td>False</td>\n",
       "      <td>False</td>\n",
       "      <td>False</td>\n",
       "      <td>False</td>\n",
       "      <td>False</td>\n",
       "      <td>False</td>\n",
       "    </tr>\n",
       "  </tbody>\n",
       "</table>\n",
       "<p>5 rows × 21 columns</p>\n",
       "</div>"
      ],
      "text/plain": [
       "   p_nice  p_love  p_perfectly  p_value  p_definitely  p_pleased  p_awesome  \\\n",
       "0   False   False        False    False         False      False      False   \n",
       "1   False   False        False     True         False      False      False   \n",
       "2   False   False        False    False         False      False      False   \n",
       "3   False   False        False    False         False      False      False   \n",
       "4   False   False        False    False         False      False      False   \n",
       "\n",
       "   p_overall  p_seems  p_glad  ...    n_waste  n_bad  n_worst  n_disappointed  \\\n",
       "0      False    False   False  ...      False  False    False           False   \n",
       "1      False    False   False  ...      False  False    False           False   \n",
       "2      False    False   False  ...      False  False    False           False   \n",
       "3      False    False   False  ...      False  False    False           False   \n",
       "4      False    False   False  ...      False  False    False           False   \n",
       "\n",
       "   n_terrible  n_horrible  n_didnt  n_useless  n_crap  n_not  \n",
       "0       False       False    False      False   False  False  \n",
       "1       False       False    False      False   False  False  \n",
       "2       False       False    False      False   False  False  \n",
       "3       False       False    False      False   False  False  \n",
       "4       False       False    False      False   False  False  \n",
       "\n",
       "[5 rows x 21 columns]"
      ]
     },
     "execution_count": 41,
     "metadata": {},
     "output_type": "execute_result"
    }
   ],
   "source": [
    "feats_pn_plus_n.head()"
   ]
  },
  {
   "cell_type": "code",
   "execution_count": 42,
   "metadata": {},
   "outputs": [
    {
     "name": "stdout",
     "output_type": "stream",
     "text": [
      "\n",
      "RESULTS:\n",
      "\n",
      "Number of mislabeled points out of a total 1000 points : 368\n",
      "\n",
      "CONFUSION MATRIX:\n",
      " \n",
      "Predicted    0    1\n",
      "Actual             \n",
      "0          145  355\n",
      "1           13  487\n",
      "\n",
      "when a message was pos and we predicted pos:  487\n",
      "when a message was pos and we predicted neg:  13\n",
      "when a message was neg and we predicted neg:  145\n",
      "when a message was neg and we predicted pos:  355\n",
      "\n",
      "total positives =  500\n",
      "correct positives =  487\n",
      "sensitivity =  97.4 %\n",
      "\n",
      "total negatives =  500\n",
      "correct negatives =  145\n",
      "specificity =  29.0 %\n",
      "\n",
      "CROSS VALIDATION:\n",
      "[ 0.62  0.68  0.67  0.63  0.62  0.56  0.68  0.58  0.66  0.62]\n"
     ]
    }
   ],
   "source": [
    "target = snt_train['score']\n",
    "data = feats_pn_plus_n\n",
    "y_pred = BnbComplete(data,target)"
   ]
  },
  {
   "cell_type": "code",
   "execution_count": 43,
   "metadata": {},
   "outputs": [
    {
     "name": "stdout",
     "output_type": "stream",
     "text": [
      "feats_p: mean: 0.561000 standard deviation:(0.022113)\n",
      "feats_n: mean: 0.565000 standard deviation:(0.022913)\n",
      "feats_pn: mean: 0.565000 standard deviation:(0.022913)\n",
      "feats_pn_plus_n: mean: 0.632000 standard deviation:(0.038936)\n"
     ]
    },
    {
     "data": {
      "image/png": "[encoded data removed]",
      "text/plain": [
       "<matplotlib.figure.Figure at 0x1a1bbda208>"
      ]
     },
     "metadata": {},
     "output_type": "display_data"
    }
   ],
   "source": [
    "featSetList = []\n",
    "featSetList.append(('feats_p', feats_p))\n",
    "featSetList.append(('feats_n', feats_n))\n",
    "featSetList.append(('feats_pn', feats_pn))\n",
    "featSetList.append(('feats_pn_plus_n', feats_pn_plus_n))\n",
    "\n",
    "CompareFeatureSets(featSetList, snt_train['score'])"
   ]
  },
  {
   "cell_type": "code",
   "execution_count": 44,
   "metadata": {},
   "outputs": [],
   "source": [
    "from sklearn.feature_selection import RFE\n",
    "\n",
    "target = snt_train['score']\n",
    "data = feats_pn_plus_n\n",
    "y_pred,bnb = BnbClassifier (data, target)\n",
    "\n",
    "featSelector = RFE(bnb)\n",
    "featSelector = featSelector.fit(data, target)"
   ]
  },
  {
   "cell_type": "code",
   "execution_count": 45,
   "metadata": {},
   "outputs": [
    {
     "name": "stdout",
     "output_type": "stream",
     "text": [
      "[10 12  7  9  6  8  5  2  4  3  1  1  1  1  1  1  1  1  1  1 11]\n"
     ]
    }
   ],
   "source": [
    "print(featSelector.ranking_)"
   ]
  },
  {
   "cell_type": "code",
   "execution_count": 46,
   "metadata": {},
   "outputs": [
    {
     "data": {
      "text/html": [
       "<div>\n",
       "<style>\n",
       "    .dataframe thead tr:only-child th {\n",
       "        text-align: right;\n",
       "    }\n",
       "\n",
       "    .dataframe thead th {\n",
       "        text-align: left;\n",
       "    }\n",
       "\n",
       "    .dataframe tbody tr th {\n",
       "        vertical-align: top;\n",
       "    }\n",
       "</style>\n",
       "<table border=\"1\" class=\"dataframe\">\n",
       "  <thead>\n",
       "    <tr style=\"text-align: right;\">\n",
       "      <th></th>\n",
       "      <th>Features</th>\n",
       "      <th>Ranking</th>\n",
       "    </tr>\n",
       "  </thead>\n",
       "  <tbody>\n",
       "    <tr>\n",
       "      <th>10</th>\n",
       "      <td>n_poor</td>\n",
       "      <td>1</td>\n",
       "    </tr>\n",
       "    <tr>\n",
       "      <th>15</th>\n",
       "      <td>n_terrible</td>\n",
       "      <td>1</td>\n",
       "    </tr>\n",
       "    <tr>\n",
       "      <th>14</th>\n",
       "      <td>n_disappointed</td>\n",
       "      <td>1</td>\n",
       "    </tr>\n",
       "    <tr>\n",
       "      <th>13</th>\n",
       "      <td>n_worst</td>\n",
       "      <td>1</td>\n",
       "    </tr>\n",
       "    <tr>\n",
       "      <th>12</th>\n",
       "      <td>n_bad</td>\n",
       "      <td>1</td>\n",
       "    </tr>\n",
       "    <tr>\n",
       "      <th>11</th>\n",
       "      <td>n_waste</td>\n",
       "      <td>1</td>\n",
       "    </tr>\n",
       "    <tr>\n",
       "      <th>19</th>\n",
       "      <td>n_crap</td>\n",
       "      <td>1</td>\n",
       "    </tr>\n",
       "    <tr>\n",
       "      <th>16</th>\n",
       "      <td>n_horrible</td>\n",
       "      <td>1</td>\n",
       "    </tr>\n",
       "    <tr>\n",
       "      <th>17</th>\n",
       "      <td>n_didnt</td>\n",
       "      <td>1</td>\n",
       "    </tr>\n",
       "    <tr>\n",
       "      <th>18</th>\n",
       "      <td>n_useless</td>\n",
       "      <td>1</td>\n",
       "    </tr>\n",
       "    <tr>\n",
       "      <th>7</th>\n",
       "      <td>p_overall</td>\n",
       "      <td>2</td>\n",
       "    </tr>\n",
       "    <tr>\n",
       "      <th>9</th>\n",
       "      <td>p_glad</td>\n",
       "      <td>3</td>\n",
       "    </tr>\n",
       "    <tr>\n",
       "      <th>8</th>\n",
       "      <td>p_seems</td>\n",
       "      <td>4</td>\n",
       "    </tr>\n",
       "    <tr>\n",
       "      <th>6</th>\n",
       "      <td>p_awesome</td>\n",
       "      <td>5</td>\n",
       "    </tr>\n",
       "    <tr>\n",
       "      <th>4</th>\n",
       "      <td>p_definitely</td>\n",
       "      <td>6</td>\n",
       "    </tr>\n",
       "    <tr>\n",
       "      <th>2</th>\n",
       "      <td>p_perfectly</td>\n",
       "      <td>7</td>\n",
       "    </tr>\n",
       "    <tr>\n",
       "      <th>5</th>\n",
       "      <td>p_pleased</td>\n",
       "      <td>8</td>\n",
       "    </tr>\n",
       "    <tr>\n",
       "      <th>3</th>\n",
       "      <td>p_value</td>\n",
       "      <td>9</td>\n",
       "    </tr>\n",
       "    <tr>\n",
       "      <th>0</th>\n",
       "      <td>p_nice</td>\n",
       "      <td>10</td>\n",
       "    </tr>\n",
       "    <tr>\n",
       "      <th>20</th>\n",
       "      <td>n_not</td>\n",
       "      <td>11</td>\n",
       "    </tr>\n",
       "    <tr>\n",
       "      <th>1</th>\n",
       "      <td>p_love</td>\n",
       "      <td>12</td>\n",
       "    </tr>\n",
       "  </tbody>\n",
       "</table>\n",
       "</div>"
      ],
      "text/plain": [
       "          Features  Ranking\n",
       "10          n_poor        1\n",
       "15      n_terrible        1\n",
       "14  n_disappointed        1\n",
       "13         n_worst        1\n",
       "12           n_bad        1\n",
       "11         n_waste        1\n",
       "19          n_crap        1\n",
       "16      n_horrible        1\n",
       "17         n_didnt        1\n",
       "18       n_useless        1\n",
       "7        p_overall        2\n",
       "9           p_glad        3\n",
       "8          p_seems        4\n",
       "6        p_awesome        5\n",
       "4     p_definitely        6\n",
       "2      p_perfectly        7\n",
       "5        p_pleased        8\n",
       "3          p_value        9\n",
       "0           p_nice       10\n",
       "20           n_not       11\n",
       "1           p_love       12"
      ]
     },
     "execution_count": 46,
     "metadata": {},
     "output_type": "execute_result"
    }
   ],
   "source": [
    "rankings = pd.DataFrame({'Features': data.columns, 'Ranking' : featSelector.ranking_})\n",
    "rankings.sort_values('Ranking')"
   ]
  },
  {
   "cell_type": "code",
   "execution_count": 47,
   "metadata": {},
   "outputs": [],
   "source": [
    "feats_selected = pd.DataFrame()\n",
    "feats_selected = pd.concat([feats_selected, feats_pn_plus_n], axis=1)\n",
    "feats_selected = feats_selected.drop(['p_love', 'n_not', 'p_nice', 'p_value', 'p_pleased', 'p_perfectly', 'p_definitely', 'p_awesome', 'p_seems', 'p_glad', 'p_overall'], axis=1)\n"
   ]
  },
  {
   "cell_type": "code",
   "execution_count": 48,
   "metadata": {},
   "outputs": [
    {
     "data": {
      "text/html": [
       "<div>\n",
       "<style>\n",
       "    .dataframe thead tr:only-child th {\n",
       "        text-align: right;\n",
       "    }\n",
       "\n",
       "    .dataframe thead th {\n",
       "        text-align: left;\n",
       "    }\n",
       "\n",
       "    .dataframe tbody tr th {\n",
       "        vertical-align: top;\n",
       "    }\n",
       "</style>\n",
       "<table border=\"1\" class=\"dataframe\">\n",
       "  <thead>\n",
       "    <tr style=\"text-align: right;\">\n",
       "      <th></th>\n",
       "      <th>n_poor</th>\n",
       "      <th>n_waste</th>\n",
       "      <th>n_bad</th>\n",
       "      <th>n_worst</th>\n",
       "      <th>n_disappointed</th>\n",
       "      <th>n_terrible</th>\n",
       "      <th>n_horrible</th>\n",
       "      <th>n_didnt</th>\n",
       "      <th>n_useless</th>\n",
       "      <th>n_crap</th>\n",
       "    </tr>\n",
       "  </thead>\n",
       "  <tbody>\n",
       "    <tr>\n",
       "      <th>0</th>\n",
       "      <td>False</td>\n",
       "      <td>False</td>\n",
       "      <td>False</td>\n",
       "      <td>False</td>\n",
       "      <td>False</td>\n",
       "      <td>False</td>\n",
       "      <td>False</td>\n",
       "      <td>False</td>\n",
       "      <td>False</td>\n",
       "      <td>False</td>\n",
       "    </tr>\n",
       "    <tr>\n",
       "      <th>1</th>\n",
       "      <td>False</td>\n",
       "      <td>False</td>\n",
       "      <td>False</td>\n",
       "      <td>False</td>\n",
       "      <td>False</td>\n",
       "      <td>False</td>\n",
       "      <td>False</td>\n",
       "      <td>False</td>\n",
       "      <td>False</td>\n",
       "      <td>False</td>\n",
       "    </tr>\n",
       "    <tr>\n",
       "      <th>2</th>\n",
       "      <td>False</td>\n",
       "      <td>False</td>\n",
       "      <td>False</td>\n",
       "      <td>False</td>\n",
       "      <td>False</td>\n",
       "      <td>False</td>\n",
       "      <td>False</td>\n",
       "      <td>False</td>\n",
       "      <td>False</td>\n",
       "      <td>False</td>\n",
       "    </tr>\n",
       "    <tr>\n",
       "      <th>3</th>\n",
       "      <td>False</td>\n",
       "      <td>False</td>\n",
       "      <td>False</td>\n",
       "      <td>False</td>\n",
       "      <td>False</td>\n",
       "      <td>False</td>\n",
       "      <td>False</td>\n",
       "      <td>False</td>\n",
       "      <td>False</td>\n",
       "      <td>False</td>\n",
       "    </tr>\n",
       "    <tr>\n",
       "      <th>4</th>\n",
       "      <td>False</td>\n",
       "      <td>False</td>\n",
       "      <td>False</td>\n",
       "      <td>False</td>\n",
       "      <td>False</td>\n",
       "      <td>False</td>\n",
       "      <td>False</td>\n",
       "      <td>False</td>\n",
       "      <td>False</td>\n",
       "      <td>False</td>\n",
       "    </tr>\n",
       "  </tbody>\n",
       "</table>\n",
       "</div>"
      ],
      "text/plain": [
       "   n_poor  n_waste  n_bad  n_worst  n_disappointed  n_terrible  n_horrible  \\\n",
       "0   False    False  False    False           False       False       False   \n",
       "1   False    False  False    False           False       False       False   \n",
       "2   False    False  False    False           False       False       False   \n",
       "3   False    False  False    False           False       False       False   \n",
       "4   False    False  False    False           False       False       False   \n",
       "\n",
       "   n_didnt  n_useless  n_crap  \n",
       "0    False      False   False  \n",
       "1    False      False   False  \n",
       "2    False      False   False  \n",
       "3    False      False   False  \n",
       "4    False      False   False  "
      ]
     },
     "execution_count": 48,
     "metadata": {},
     "output_type": "execute_result"
    }
   ],
   "source": [
    "feats_selected.head()"
   ]
  },
  {
   "cell_type": "code",
   "execution_count": 49,
   "metadata": {},
   "outputs": [
    {
     "name": "stdout",
     "output_type": "stream",
     "text": [
      "\n",
      "RESULTS:\n",
      "\n",
      "Number of mislabeled points out of a total 1000 points : 435\n",
      "\n",
      "CONFUSION MATRIX:\n",
      " \n",
      "Predicted   0    1\n",
      "Actual            \n",
      "0          65  435\n",
      "1           0  500\n",
      "\n",
      "when a message was pos and we predicted pos:  500\n",
      "when a message was pos and we predicted neg:  0\n",
      "when a message was neg and we predicted neg:  65\n",
      "when a message was neg and we predicted pos:  435\n",
      "\n",
      "total positives =  500\n",
      "correct positives =  500\n",
      "sensitivity =  100.0 %\n",
      "\n",
      "total negatives =  500\n",
      "correct negatives =  65\n",
      "specificity =  13.0 %\n",
      "\n",
      "CROSS VALIDATION:\n",
      "[ 0.57  0.57  0.6   0.58  0.54  0.54  0.58  0.52  0.58  0.57]\n"
     ]
    }
   ],
   "source": [
    "target = snt_train['score']\n",
    "data = feats_selected\n",
    "y_pred = BnbComplete(data,target)"
   ]
  },
  {
   "cell_type": "code",
   "execution_count": 50,
   "metadata": {},
   "outputs": [
    {
     "name": "stdout",
     "output_type": "stream",
     "text": [
      "feats_p: mean: 0.561000 standard deviation:(0.022113)\n",
      "feats_n: mean: 0.565000 standard deviation:(0.022913)\n",
      "feats_pn: mean: 0.565000 standard deviation:(0.022913)\n",
      "feats_pn_plus_n: mean: 0.632000 standard deviation:(0.038936)\n",
      "feats_selected: mean: 0.565000 standard deviation:(0.022913)\n"
     ]
    },
    {
     "data": {
      "image/png": "[encoded data removed]",
      "text/plain": [
       "<matplotlib.figure.Figure at 0x1a1bc9d5f8>"
      ]
     },
     "metadata": {},
     "output_type": "display_data"
    }
   ],
   "source": [
    "featSetList = []\n",
    "featSetList.append(('feats_p', feats_p))\n",
    "featSetList.append(('feats_n', feats_n))\n",
    "featSetList.append(('feats_pn', feats_pn))\n",
    "featSetList.append(('feats_pn_plus_n', feats_pn_plus_n))\n",
    "featSetList.append(('feats_selected', feats_selected))\n",
    "\n",
    "\n",
    "CompareFeatureSets(featSetList, snt_train['score'])"
   ]
  },
  {
   "cell_type": "markdown",
   "metadata": {},
   "source": [
    "# Test Set"
   ]
  },
  {
   "cell_type": "code",
   "execution_count": 51,
   "metadata": {},
   "outputs": [],
   "source": [
    "feat_words = [column[2:] for column in feats_selected.columns if column.startswith('n_')]\n",
    "#feats_pn_count['neglabels'] = feats_pn_count[neglabels].sum(axis=1)"
   ]
  },
  {
   "cell_type": "code",
   "execution_count": 52,
   "metadata": {
    "collapsed": true
   },
   "outputs": [],
   "source": [
    "# Grab and process the raw data.\n",
    "snt_test = pd.read_csv(\"yelp_labelled.txt\", delimiter='\\t', header=None)\n",
    "snt_test.columns = ['sentance', 'score']\n",
    "snt_test['sentance'] = snt_train['sentance'].str.replace('\\'','')\n",
    "snt_test['sentance'] = snt_train['sentance'].str.replace('.',' ')\n",
    "snt_test['sentance'] = snt_train['sentance'].str.replace(',',' ')"
   ]
  },
  {
   "cell_type": "code",
   "execution_count": 53,
   "metadata": {
    "collapsed": true
   },
   "outputs": [],
   "source": [
    "# collect words from training feature to create features against the test file\n",
    "feat_words = [column[2:] for column in feats_selected.columns if column.startswith('n_')]"
   ]
  },
  {
   "cell_type": "code",
   "execution_count": 54,
   "metadata": {},
   "outputs": [],
   "source": [
    "feats_test = pd.DataFrame()\n",
    "\n",
    "for key in feat_words:\n",
    "    # Note that we add spaces around the key so that we're getting the word,\n",
    "    # not just pattern matching.\n",
    "    feats_test[key] = snt_test.sentance.str.contains(\n",
    "        ' ' + key + ' ',\n",
    "        case=False\n",
    "    )"
   ]
  },
  {
   "cell_type": "code",
   "execution_count": 55,
   "metadata": {},
   "outputs": [
    {
     "data": {
      "text/html": [
       "<div>\n",
       "<style>\n",
       "    .dataframe thead tr:only-child th {\n",
       "        text-align: right;\n",
       "    }\n",
       "\n",
       "    .dataframe thead th {\n",
       "        text-align: left;\n",
       "    }\n",
       "\n",
       "    .dataframe tbody tr th {\n",
       "        vertical-align: top;\n",
       "    }\n",
       "</style>\n",
       "<table border=\"1\" class=\"dataframe\">\n",
       "  <thead>\n",
       "    <tr style=\"text-align: right;\">\n",
       "      <th></th>\n",
       "      <th>poor</th>\n",
       "      <th>waste</th>\n",
       "      <th>bad</th>\n",
       "      <th>worst</th>\n",
       "      <th>disappointed</th>\n",
       "      <th>terrible</th>\n",
       "      <th>horrible</th>\n",
       "      <th>didnt</th>\n",
       "      <th>useless</th>\n",
       "      <th>crap</th>\n",
       "    </tr>\n",
       "  </thead>\n",
       "  <tbody>\n",
       "    <tr>\n",
       "      <th>0</th>\n",
       "      <td>False</td>\n",
       "      <td>False</td>\n",
       "      <td>False</td>\n",
       "      <td>False</td>\n",
       "      <td>False</td>\n",
       "      <td>False</td>\n",
       "      <td>False</td>\n",
       "      <td>False</td>\n",
       "      <td>False</td>\n",
       "      <td>False</td>\n",
       "    </tr>\n",
       "    <tr>\n",
       "      <th>1</th>\n",
       "      <td>False</td>\n",
       "      <td>False</td>\n",
       "      <td>False</td>\n",
       "      <td>False</td>\n",
       "      <td>False</td>\n",
       "      <td>False</td>\n",
       "      <td>False</td>\n",
       "      <td>False</td>\n",
       "      <td>False</td>\n",
       "      <td>False</td>\n",
       "    </tr>\n",
       "    <tr>\n",
       "      <th>2</th>\n",
       "      <td>False</td>\n",
       "      <td>False</td>\n",
       "      <td>False</td>\n",
       "      <td>False</td>\n",
       "      <td>False</td>\n",
       "      <td>False</td>\n",
       "      <td>False</td>\n",
       "      <td>False</td>\n",
       "      <td>False</td>\n",
       "      <td>False</td>\n",
       "    </tr>\n",
       "    <tr>\n",
       "      <th>3</th>\n",
       "      <td>False</td>\n",
       "      <td>False</td>\n",
       "      <td>False</td>\n",
       "      <td>False</td>\n",
       "      <td>False</td>\n",
       "      <td>False</td>\n",
       "      <td>False</td>\n",
       "      <td>False</td>\n",
       "      <td>False</td>\n",
       "      <td>False</td>\n",
       "    </tr>\n",
       "    <tr>\n",
       "      <th>4</th>\n",
       "      <td>False</td>\n",
       "      <td>False</td>\n",
       "      <td>False</td>\n",
       "      <td>False</td>\n",
       "      <td>False</td>\n",
       "      <td>False</td>\n",
       "      <td>False</td>\n",
       "      <td>False</td>\n",
       "      <td>False</td>\n",
       "      <td>False</td>\n",
       "    </tr>\n",
       "  </tbody>\n",
       "</table>\n",
       "</div>"
      ],
      "text/plain": [
       "    poor  waste    bad  worst  disappointed  terrible  horrible  didnt  \\\n",
       "0  False  False  False  False         False     False     False  False   \n",
       "1  False  False  False  False         False     False     False  False   \n",
       "2  False  False  False  False         False     False     False  False   \n",
       "3  False  False  False  False         False     False     False  False   \n",
       "4  False  False  False  False         False     False     False  False   \n",
       "\n",
       "   useless   crap  \n",
       "0    False  False  \n",
       "1    False  False  \n",
       "2    False  False  \n",
       "3    False  False  \n",
       "4    False  False  "
      ]
     },
     "execution_count": 55,
     "metadata": {},
     "output_type": "execute_result"
    }
   ],
   "source": [
    "feats_test.head()"
   ]
  },
  {
   "cell_type": "code",
   "execution_count": 56,
   "metadata": {},
   "outputs": [
    {
     "data": {
      "text/html": [
       "<div>\n",
       "<style>\n",
       "    .dataframe thead tr:only-child th {\n",
       "        text-align: right;\n",
       "    }\n",
       "\n",
       "    .dataframe thead th {\n",
       "        text-align: left;\n",
       "    }\n",
       "\n",
       "    .dataframe tbody tr th {\n",
       "        vertical-align: top;\n",
       "    }\n",
       "</style>\n",
       "<table border=\"1\" class=\"dataframe\">\n",
       "  <thead>\n",
       "    <tr style=\"text-align: right;\">\n",
       "      <th></th>\n",
       "      <th>n_poor</th>\n",
       "      <th>n_waste</th>\n",
       "      <th>n_bad</th>\n",
       "      <th>n_worst</th>\n",
       "      <th>n_disappointed</th>\n",
       "      <th>n_terrible</th>\n",
       "      <th>n_horrible</th>\n",
       "      <th>n_didnt</th>\n",
       "      <th>n_useless</th>\n",
       "      <th>n_crap</th>\n",
       "    </tr>\n",
       "  </thead>\n",
       "  <tbody>\n",
       "    <tr>\n",
       "      <th>0</th>\n",
       "      <td>False</td>\n",
       "      <td>False</td>\n",
       "      <td>False</td>\n",
       "      <td>False</td>\n",
       "      <td>False</td>\n",
       "      <td>False</td>\n",
       "      <td>False</td>\n",
       "      <td>False</td>\n",
       "      <td>False</td>\n",
       "      <td>False</td>\n",
       "    </tr>\n",
       "    <tr>\n",
       "      <th>1</th>\n",
       "      <td>False</td>\n",
       "      <td>False</td>\n",
       "      <td>False</td>\n",
       "      <td>False</td>\n",
       "      <td>False</td>\n",
       "      <td>False</td>\n",
       "      <td>False</td>\n",
       "      <td>False</td>\n",
       "      <td>False</td>\n",
       "      <td>False</td>\n",
       "    </tr>\n",
       "    <tr>\n",
       "      <th>2</th>\n",
       "      <td>False</td>\n",
       "      <td>False</td>\n",
       "      <td>False</td>\n",
       "      <td>False</td>\n",
       "      <td>False</td>\n",
       "      <td>False</td>\n",
       "      <td>False</td>\n",
       "      <td>False</td>\n",
       "      <td>False</td>\n",
       "      <td>False</td>\n",
       "    </tr>\n",
       "    <tr>\n",
       "      <th>3</th>\n",
       "      <td>False</td>\n",
       "      <td>False</td>\n",
       "      <td>False</td>\n",
       "      <td>False</td>\n",
       "      <td>False</td>\n",
       "      <td>False</td>\n",
       "      <td>False</td>\n",
       "      <td>False</td>\n",
       "      <td>False</td>\n",
       "      <td>False</td>\n",
       "    </tr>\n",
       "    <tr>\n",
       "      <th>4</th>\n",
       "      <td>False</td>\n",
       "      <td>False</td>\n",
       "      <td>False</td>\n",
       "      <td>False</td>\n",
       "      <td>False</td>\n",
       "      <td>False</td>\n",
       "      <td>False</td>\n",
       "      <td>False</td>\n",
       "      <td>False</td>\n",
       "      <td>False</td>\n",
       "    </tr>\n",
       "  </tbody>\n",
       "</table>\n",
       "</div>"
      ],
      "text/plain": [
       "   n_poor  n_waste  n_bad  n_worst  n_disappointed  n_terrible  n_horrible  \\\n",
       "0   False    False  False    False           False       False       False   \n",
       "1   False    False  False    False           False       False       False   \n",
       "2   False    False  False    False           False       False       False   \n",
       "3   False    False  False    False           False       False       False   \n",
       "4   False    False  False    False           False       False       False   \n",
       "\n",
       "   n_didnt  n_useless  n_crap  \n",
       "0    False      False   False  \n",
       "1    False      False   False  \n",
       "2    False      False   False  \n",
       "3    False      False   False  \n",
       "4    False      False   False  "
      ]
     },
     "execution_count": 56,
     "metadata": {},
     "output_type": "execute_result"
    }
   ],
   "source": [
    "feats_selected.head()"
   ]
  },
  {
   "cell_type": "code",
   "execution_count": 57,
   "metadata": {
    "collapsed": true
   },
   "outputs": [],
   "source": [
    "# Train the classifer\n"
   ]
  },
  {
   "cell_type": "code",
   "execution_count": 58,
   "metadata": {
    "collapsed": true
   },
   "outputs": [],
   "source": [
    "# Run the classifier on the Test features"
   ]
  },
  {
   "cell_type": "code",
   "execution_count": null,
   "metadata": {
    "collapsed": true
   },
   "outputs": [],
   "source": []
  },
  {
   "cell_type": "code",
   "execution_count": null,
   "metadata": {
    "collapsed": true
   },
   "outputs": [],
   "source": []
  },
  {
   "cell_type": "code",
   "execution_count": 59,
   "metadata": {},
   "outputs": [
    {
     "ename": "NameError",
     "evalue": "name 'feats_pn_count' is not defined",
     "output_type": "error",
     "traceback": [
      "\u001b[0;31m---------------------------------------------------------------------------\u001b[0m",
      "\u001b[0;31mNameError\u001b[0m                                 Traceback (most recent call last)",
      "\u001b[0;32m<ipython-input-59-9eda3f816838>\u001b[0m in \u001b[0;36m<module>\u001b[0;34m()\u001b[0m\n\u001b[0;32m----> 1\u001b[0;31m \u001b[0mfeats_pn_count\u001b[0m\u001b[0;34m.\u001b[0m\u001b[0mhead\u001b[0m\u001b[0;34m(\u001b[0m\u001b[0;34m)\u001b[0m\u001b[0;34m\u001b[0m\u001b[0m\n\u001b[0m",
      "\u001b[0;31mNameError\u001b[0m: name 'feats_pn_count' is not defined"
     ]
    }
   ],
   "source": [
    "feats_pn_count.head()"
   ]
  },
  {
   "cell_type": "code",
   "execution_count": null,
   "metadata": {},
   "outputs": [],
   "source": [
    "target = snt_train['score']\n",
    "data = feats_pn_count\n",
    "y_pred = MnbComplete(data,target)"
   ]
  },
  {
   "cell_type": "code",
   "execution_count": null,
   "metadata": {},
   "outputs": [],
   "source": [
    "[column for column in feats_pn_uncorr]"
   ]
  },
  {
   "cell_type": "markdown",
   "metadata": {},
   "source": [
    "### Model is over predicting negative reviews\n",
    "\n",
    "Even out the number of columns for pos and neg."
   ]
  },
  {
   "cell_type": "code",
   "execution_count": null,
   "metadata": {},
   "outputs": [],
   "source": [
    "#>>> df.drop(['B', 'C'], axis=1)\n",
    "\n",
    "feats_pn_even = feats_pn_uncorr.drop(['n_crap', 'n_useless', 'n_didn','n_horrible'], axis=1)\n",
    "feats_pn_even.head()"
   ]
  },
  {
   "cell_type": "code",
   "execution_count": null,
   "metadata": {},
   "outputs": [],
   "source": [
    "target = snt_train['score']\n",
    "data = feats_pn_even\n",
    "y_pred = MnbComplete(data,target)"
   ]
  },
  {
   "cell_type": "code",
   "execution_count": null,
   "metadata": {},
   "outputs": [],
   "source": [
    "feats_pn_skew_n = feats_pn_even.drop(['n_not'], axis=1)\n",
    "feats_pn_skew_n.head()"
   ]
  },
  {
   "cell_type": "code",
   "execution_count": null,
   "metadata": {},
   "outputs": [],
   "source": [
    "target = snt_train['score']\n",
    "data = feats_pn_skew_n\n",
    "y_pred = MnbComplete(data,target)"
   ]
  },
  {
   "cell_type": "code",
   "execution_count": null,
   "metadata": {},
   "outputs": [],
   "source": [
    "feats_pn_hvy_skew_n = feats_pn_skew_n.drop(['n_terrible','n_disappointed'], axis=1)\n",
    "feats_pn_hvy_skew_n.head()"
   ]
  },
  {
   "cell_type": "code",
   "execution_count": null,
   "metadata": {},
   "outputs": [],
   "source": [
    "target = snt_train['score']\n",
    "data = feats_pn_hvy_skew_n\n",
    "y_pred = MnbComplete(data,target)"
   ]
  },
  {
   "cell_type": "markdown",
   "metadata": {},
   "source": [
    "### Test Set"
   ]
  },
  {
   "cell_type": "code",
   "execution_count": 97,
   "metadata": {
    "collapsed": true
   },
   "outputs": [],
   "source": [
    "# Grab and process the raw data.\n",
    "snt_test = pd.read_csv(\"yelp_labelled.txt\", delimiter='\\t', header=None)\n",
    "snt_test.columns = ['sentance', 'score']"
   ]
  },
  {
   "cell_type": "code",
   "execution_count": 98,
   "metadata": {
    "collapsed": true
   },
   "outputs": [],
   "source": [
    "feats_p = pd.DataFrame()\n",
    "\n",
    "for key in words_pos_unique_generic_top10:\n",
    "    # Note that we add spaces around the key so that we're getting the word,\n",
    "    # not just pattern matching.\n",
    "    feats_p['p_'+str(key[0])] = snt_test.sentance.str.contains(\n",
    "        ' ' + key[0] + ' ',\n",
    "        case=False\n",
    "    )"
   ]
  },
  {
   "cell_type": "code",
   "execution_count": 99,
   "metadata": {
    "collapsed": true
   },
   "outputs": [],
   "source": [
    "feats_n = pd.DataFrame()\n",
    "\n",
    "for key in words_neg_unique_generic_top10:\n",
    "    # Note that we add spaces around the key so that we're getting the word,\n",
    "    # not just pattern matching.\n",
    "    feats_n['n_'+str(key[0])] = snt_test.sentance.str.contains(\n",
    "        key[0],\n",
    "        case=False\n",
    "    ) "
   ]
  },
  {
   "cell_type": "code",
   "execution_count": 100,
   "metadata": {
    "collapsed": true
   },
   "outputs": [],
   "source": [
    "# importing the Multinomial classifier.\n",
    "from sklearn.naive_bayes import BernoulliNB"
   ]
  },
  {
   "cell_type": "code",
   "execution_count": 101,
   "metadata": {},
   "outputs": [
    {
     "data": {
      "text/html": [
       "<div>\n",
       "<style>\n",
       "    .dataframe thead tr:only-child th {\n",
       "        text-align: right;\n",
       "    }\n",
       "\n",
       "    .dataframe thead th {\n",
       "        text-align: left;\n",
       "    }\n",
       "\n",
       "    .dataframe tbody tr th {\n",
       "        vertical-align: top;\n",
       "    }\n",
       "</style>\n",
       "<table border=\"1\" class=\"dataframe\">\n",
       "  <thead>\n",
       "    <tr style=\"text-align: right;\">\n",
       "      <th></th>\n",
       "      <th>n_poor</th>\n",
       "      <th>n_waste</th>\n",
       "      <th>n_bad</th>\n",
       "      <th>n_worst</th>\n",
       "      <th>n_disappointed</th>\n",
       "      <th>n_terrible</th>\n",
       "      <th>n_horrible</th>\n",
       "      <th>n_didnt</th>\n",
       "      <th>n_useless</th>\n",
       "      <th>n_crap</th>\n",
       "    </tr>\n",
       "  </thead>\n",
       "  <tbody>\n",
       "    <tr>\n",
       "      <th>0</th>\n",
       "      <td>False</td>\n",
       "      <td>False</td>\n",
       "      <td>False</td>\n",
       "      <td>False</td>\n",
       "      <td>False</td>\n",
       "      <td>False</td>\n",
       "      <td>False</td>\n",
       "      <td>False</td>\n",
       "      <td>False</td>\n",
       "      <td>False</td>\n",
       "    </tr>\n",
       "    <tr>\n",
       "      <th>1</th>\n",
       "      <td>False</td>\n",
       "      <td>False</td>\n",
       "      <td>False</td>\n",
       "      <td>False</td>\n",
       "      <td>False</td>\n",
       "      <td>False</td>\n",
       "      <td>False</td>\n",
       "      <td>False</td>\n",
       "      <td>False</td>\n",
       "      <td>False</td>\n",
       "    </tr>\n",
       "    <tr>\n",
       "      <th>2</th>\n",
       "      <td>False</td>\n",
       "      <td>False</td>\n",
       "      <td>False</td>\n",
       "      <td>False</td>\n",
       "      <td>False</td>\n",
       "      <td>False</td>\n",
       "      <td>False</td>\n",
       "      <td>False</td>\n",
       "      <td>False</td>\n",
       "      <td>False</td>\n",
       "    </tr>\n",
       "    <tr>\n",
       "      <th>3</th>\n",
       "      <td>False</td>\n",
       "      <td>False</td>\n",
       "      <td>False</td>\n",
       "      <td>False</td>\n",
       "      <td>False</td>\n",
       "      <td>False</td>\n",
       "      <td>False</td>\n",
       "      <td>False</td>\n",
       "      <td>False</td>\n",
       "      <td>False</td>\n",
       "    </tr>\n",
       "    <tr>\n",
       "      <th>4</th>\n",
       "      <td>False</td>\n",
       "      <td>False</td>\n",
       "      <td>False</td>\n",
       "      <td>False</td>\n",
       "      <td>False</td>\n",
       "      <td>False</td>\n",
       "      <td>False</td>\n",
       "      <td>False</td>\n",
       "      <td>False</td>\n",
       "      <td>False</td>\n",
       "    </tr>\n",
       "  </tbody>\n",
       "</table>\n",
       "</div>"
      ],
      "text/plain": [
       "   n_poor  n_waste  n_bad  n_worst  n_disappointed  n_terrible  n_horrible  \\\n",
       "0   False    False  False    False           False       False       False   \n",
       "1   False    False  False    False           False       False       False   \n",
       "2   False    False  False    False           False       False       False   \n",
       "3   False    False  False    False           False       False       False   \n",
       "4   False    False  False    False           False       False       False   \n",
       "\n",
       "   n_didnt  n_useless  n_crap  \n",
       "0    False      False   False  \n",
       "1    False      False   False  \n",
       "2    False      False   False  \n",
       "3    False      False   False  \n",
       "4    False      False   False  "
      ]
     },
     "execution_count": 101,
     "metadata": {},
     "output_type": "execute_result"
    }
   ],
   "source": [
    "feats_selected.head()"
   ]
  },
  {
   "cell_type": "code",
   "execution_count": 102,
   "metadata": {},
   "outputs": [],
   "source": [
    "# Train classifer on training features with training file data\n",
    "# Bernoulli classifier\n",
    "Y = snt_train['score']\n",
    "X = feats_selected\n",
    "    \n",
    "bnb = BernoulliNB()\n",
    "bnb.fit(X, Y)\n",
    "\n",
    "y_pred = bnb.predict(X)"
   ]
  },
  {
   "cell_type": "code",
   "execution_count": 103,
   "metadata": {},
   "outputs": [
    {
     "name": "stdout",
     "output_type": "stream",
     "text": [
      "\n",
      "CONFUSION MATRIX:\n",
      " \n",
      "Predicted   0    1\n",
      "Actual            \n",
      "0          65  435\n",
      "1           0  500\n",
      "\n",
      "when a message was pos and we predicted pos:  500\n",
      "when a message was pos and we predicted neg:  0\n",
      "when a message was neg and we predicted neg:  65\n",
      "when a message was neg and we predicted pos:  435\n",
      "\n",
      "total positives =  500\n",
      "correct positives =  500\n",
      "sensitivity =  100.0 %\n",
      "\n",
      "total negatives =  500\n",
      "correct negatives =  65\n",
      "specificity =  13.0 %\n"
     ]
    }
   ],
   "source": [
    "ConfusionMatrix(Y, y_pred)"
   ]
  },
  {
   "cell_type": "code",
   "execution_count": 104,
   "metadata": {},
   "outputs": [
    {
     "name": "stdout",
     "output_type": "stream",
     "text": [
      "\n",
      "CROSS VALIDATION:\n",
      "[ 0.57  0.57  0.6   0.58  0.54  0.54  0.58  0.52  0.58  0.57]\n"
     ]
    }
   ],
   "source": [
    "results = []\n",
    "names = []\n",
    "crossValScoreTrain = CrossValidation(bnb, X, Y)\n",
    "results.append(crossValScoreTrain)\n",
    "names.append('Train')"
   ]
  },
  {
   "cell_type": "code",
   "execution_count": 105,
   "metadata": {},
   "outputs": [],
   "source": [
    "results[0]"
   ]
  },
  {
   "cell_type": "code",
   "execution_count": 106,
   "metadata": {
    "collapsed": true
   },
   "outputs": [],
   "source": [
    "# Run on test data"
   ]
  },
  {
   "cell_type": "code",
   "execution_count": 107,
   "metadata": {
    "collapsed": true
   },
   "outputs": [],
   "source": [
    "Y = snt_test['score']\n",
    "X = feats_test\n",
    "    \n",
    "y_pred = bnb.predict(X)\n"
   ]
  },
  {
   "cell_type": "code",
   "execution_count": 108,
   "metadata": {},
   "outputs": [
    {
     "name": "stdout",
     "output_type": "stream",
     "text": [
      "\n",
      "CONFUSION MATRIX:\n",
      " \n",
      "Predicted   0    1\n",
      "Actual            \n",
      "0          37  463\n",
      "1          28  472\n",
      "\n",
      "when a message was pos and we predicted pos:  472\n",
      "when a message was pos and we predicted neg:  28\n",
      "when a message was neg and we predicted neg:  37\n",
      "when a message was neg and we predicted pos:  463\n",
      "\n",
      "total positives =  500\n",
      "correct positives =  472\n",
      "sensitivity =  94.4 %\n",
      "\n",
      "total negatives =  500\n",
      "correct negatives =  37\n",
      "specificity =  7.4 %\n"
     ]
    }
   ],
   "source": [
    "ConfusionMatrix(Y, y_pred)"
   ]
  },
  {
   "cell_type": "code",
   "execution_count": 109,
   "metadata": {},
   "outputs": [
    {
     "name": "stdout",
     "output_type": "stream",
     "text": [
      "\n",
      "CROSS VALIDATION:\n",
      "[ 0.5   0.49  0.47  0.51  0.48  0.51  0.49  0.52  0.51  0.51]\n"
     ]
    }
   ],
   "source": [
    "crossValScoreTest = CrossValidation(bnb, X, Y)\n",
    "results.append(crossValScoreTest)\n",
    "names.append('Test')"
   ]
  },
  {
   "cell_type": "code",
   "execution_count": 110,
   "metadata": {},
   "outputs": [
    {
     "data": {
      "text/plain": [
       "['Train', 'Test']"
      ]
     },
     "execution_count": 110,
     "metadata": {},
     "output_type": "execute_result"
    }
   ],
   "source": [
    "names"
   ]
  },
  {
   "cell_type": "code",
   "execution_count": 111,
   "metadata": {},
   "outputs": [],
   "source": [
    "results[1]"
   ]
  },
  {
   "cell_type": "code",
   "execution_count": 112,
   "metadata": {},
   "outputs": [
    {
     "ename": "TypeError",
     "evalue": "unsupported operand type(s) for /: 'NoneType' and 'int'",
     "output_type": "error",
     "traceback": [
      "\u001b[0;31m---------------------------------------------------------------------------\u001b[0m",
      "\u001b[0;31mTypeError\u001b[0m                                 Traceback (most recent call last)",
      "\u001b[0;32m<ipython-input-112-eb0377663c3e>\u001b[0m in \u001b[0;36m<module>\u001b[0;34m()\u001b[0m\n\u001b[1;32m      2\u001b[0m \u001b[0mfig\u001b[0m\u001b[0;34m.\u001b[0m\u001b[0msuptitle\u001b[0m\u001b[0;34m(\u001b[0m\u001b[0;34m'Train and Test Comparison'\u001b[0m\u001b[0;34m)\u001b[0m\u001b[0;34m\u001b[0m\u001b[0m\n\u001b[1;32m      3\u001b[0m \u001b[0max\u001b[0m \u001b[0;34m=\u001b[0m \u001b[0mfig\u001b[0m\u001b[0;34m.\u001b[0m\u001b[0madd_subplot\u001b[0m\u001b[0;34m(\u001b[0m\u001b[0;36m111\u001b[0m\u001b[0;34m)\u001b[0m\u001b[0;34m\u001b[0m\u001b[0m\n\u001b[0;32m----> 4\u001b[0;31m \u001b[0mplt\u001b[0m\u001b[0;34m.\u001b[0m\u001b[0mboxplot\u001b[0m\u001b[0;34m(\u001b[0m\u001b[0mresults\u001b[0m\u001b[0;34m)\u001b[0m\u001b[0;34m\u001b[0m\u001b[0m\n\u001b[0m\u001b[1;32m      5\u001b[0m \u001b[0max\u001b[0m\u001b[0;34m.\u001b[0m\u001b[0mset_xticklabels\u001b[0m\u001b[0;34m(\u001b[0m\u001b[0mnames\u001b[0m\u001b[0;34m)\u001b[0m\u001b[0;34m\u001b[0m\u001b[0m\n\u001b[1;32m      6\u001b[0m \u001b[0mplt\u001b[0m\u001b[0;34m.\u001b[0m\u001b[0mshow\u001b[0m\u001b[0;34m(\u001b[0m\u001b[0;34m)\u001b[0m\u001b[0;34m\u001b[0m\u001b[0m\n",
      "\u001b[0;32m~/anaconda3/lib/python3.6/site-packages/matplotlib/pyplot.py\u001b[0m in \u001b[0;36mboxplot\u001b[0;34m(x, notch, sym, vert, whis, positions, widths, patch_artist, bootstrap, usermedians, conf_intervals, meanline, showmeans, showcaps, showbox, showfliers, boxprops, labels, flierprops, medianprops, meanprops, capprops, whiskerprops, manage_xticks, autorange, zorder, hold, data)\u001b[0m\n\u001b[1;32m   2706\u001b[0m                          \u001b[0mwhiskerprops\u001b[0m\u001b[0;34m=\u001b[0m\u001b[0mwhiskerprops\u001b[0m\u001b[0;34m,\u001b[0m\u001b[0;34m\u001b[0m\u001b[0m\n\u001b[1;32m   2707\u001b[0m                          \u001b[0mmanage_xticks\u001b[0m\u001b[0;34m=\u001b[0m\u001b[0mmanage_xticks\u001b[0m\u001b[0;34m,\u001b[0m \u001b[0mautorange\u001b[0m\u001b[0;34m=\u001b[0m\u001b[0mautorange\u001b[0m\u001b[0;34m,\u001b[0m\u001b[0;34m\u001b[0m\u001b[0m\n\u001b[0;32m-> 2708\u001b[0;31m                          zorder=zorder, data=data)\n\u001b[0m\u001b[1;32m   2709\u001b[0m     \u001b[0;32mfinally\u001b[0m\u001b[0;34m:\u001b[0m\u001b[0;34m\u001b[0m\u001b[0m\n\u001b[1;32m   2710\u001b[0m         \u001b[0max\u001b[0m\u001b[0;34m.\u001b[0m\u001b[0m_hold\u001b[0m \u001b[0;34m=\u001b[0m \u001b[0mwashold\u001b[0m\u001b[0;34m\u001b[0m\u001b[0m\n",
      "\u001b[0;32m~/anaconda3/lib/python3.6/site-packages/matplotlib/__init__.py\u001b[0m in \u001b[0;36minner\u001b[0;34m(ax, *args, **kwargs)\u001b[0m\n\u001b[1;32m   1708\u001b[0m                     warnings.warn(msg % (label_namer, func.__name__),\n\u001b[1;32m   1709\u001b[0m                                   RuntimeWarning, stacklevel=2)\n\u001b[0;32m-> 1710\u001b[0;31m             \u001b[0;32mreturn\u001b[0m \u001b[0mfunc\u001b[0m\u001b[0;34m(\u001b[0m\u001b[0max\u001b[0m\u001b[0;34m,\u001b[0m \u001b[0;34m*\u001b[0m\u001b[0margs\u001b[0m\u001b[0;34m,\u001b[0m \u001b[0;34m**\u001b[0m\u001b[0mkwargs\u001b[0m\u001b[0;34m)\u001b[0m\u001b[0;34m\u001b[0m\u001b[0m\n\u001b[0m\u001b[1;32m   1711\u001b[0m         \u001b[0mpre_doc\u001b[0m \u001b[0;34m=\u001b[0m \u001b[0minner\u001b[0m\u001b[0;34m.\u001b[0m\u001b[0m__doc__\u001b[0m\u001b[0;34m\u001b[0m\u001b[0m\n\u001b[1;32m   1712\u001b[0m         \u001b[0;32mif\u001b[0m \u001b[0mpre_doc\u001b[0m \u001b[0;32mis\u001b[0m \u001b[0;32mNone\u001b[0m\u001b[0;34m:\u001b[0m\u001b[0;34m\u001b[0m\u001b[0m\n",
      "\u001b[0;32m~/anaconda3/lib/python3.6/site-packages/matplotlib/axes/_axes.py\u001b[0m in \u001b[0;36mboxplot\u001b[0;34m(self, x, notch, sym, vert, whis, positions, widths, patch_artist, bootstrap, usermedians, conf_intervals, meanline, showmeans, showcaps, showbox, showfliers, boxprops, labels, flierprops, medianprops, meanprops, capprops, whiskerprops, manage_xticks, autorange, zorder)\u001b[0m\n\u001b[1;32m   3330\u001b[0m \u001b[0;34m\u001b[0m\u001b[0m\n\u001b[1;32m   3331\u001b[0m         bxpstats = cbook.boxplot_stats(x, whis=whis, bootstrap=bootstrap,\n\u001b[0;32m-> 3332\u001b[0;31m                                        labels=labels, autorange=autorange)\n\u001b[0m\u001b[1;32m   3333\u001b[0m         \u001b[0;32mif\u001b[0m \u001b[0mnotch\u001b[0m \u001b[0;32mis\u001b[0m \u001b[0;32mNone\u001b[0m\u001b[0;34m:\u001b[0m\u001b[0;34m\u001b[0m\u001b[0m\n\u001b[1;32m   3334\u001b[0m             \u001b[0mnotch\u001b[0m \u001b[0;34m=\u001b[0m \u001b[0mrcParams\u001b[0m\u001b[0;34m[\u001b[0m\u001b[0;34m'boxplot.notch'\u001b[0m\u001b[0;34m]\u001b[0m\u001b[0;34m\u001b[0m\u001b[0m\n",
      "\u001b[0;32m~/anaconda3/lib/python3.6/site-packages/matplotlib/cbook/__init__.py\u001b[0m in \u001b[0;36mboxplot_stats\u001b[0;34m(X, whis, bootstrap, labels, autorange)\u001b[0m\n\u001b[1;32m   1823\u001b[0m \u001b[0;34m\u001b[0m\u001b[0m\n\u001b[1;32m   1824\u001b[0m         \u001b[0;31m# arithmetic mean\u001b[0m\u001b[0;34m\u001b[0m\u001b[0;34m\u001b[0m\u001b[0m\n\u001b[0;32m-> 1825\u001b[0;31m         \u001b[0mstats\u001b[0m\u001b[0;34m[\u001b[0m\u001b[0;34m'mean'\u001b[0m\u001b[0;34m]\u001b[0m \u001b[0;34m=\u001b[0m \u001b[0mnp\u001b[0m\u001b[0;34m.\u001b[0m\u001b[0mmean\u001b[0m\u001b[0;34m(\u001b[0m\u001b[0mx\u001b[0m\u001b[0;34m)\u001b[0m\u001b[0;34m\u001b[0m\u001b[0m\n\u001b[0m\u001b[1;32m   1826\u001b[0m \u001b[0;34m\u001b[0m\u001b[0m\n\u001b[1;32m   1827\u001b[0m         \u001b[0;31m# medians and quartiles\u001b[0m\u001b[0;34m\u001b[0m\u001b[0;34m\u001b[0m\u001b[0m\n",
      "\u001b[0;32m~/anaconda3/lib/python3.6/site-packages/numpy/core/fromnumeric.py\u001b[0m in \u001b[0;36mmean\u001b[0;34m(a, axis, dtype, out, keepdims)\u001b[0m\n\u001b[1;32m   2907\u001b[0m \u001b[0;34m\u001b[0m\u001b[0m\n\u001b[1;32m   2908\u001b[0m     return _methods._mean(a, axis=axis, dtype=dtype,\n\u001b[0;32m-> 2909\u001b[0;31m                           out=out, **kwargs)\n\u001b[0m\u001b[1;32m   2910\u001b[0m \u001b[0;34m\u001b[0m\u001b[0m\n\u001b[1;32m   2911\u001b[0m \u001b[0;34m\u001b[0m\u001b[0m\n",
      "\u001b[0;32m~/anaconda3/lib/python3.6/site-packages/numpy/core/_methods.py\u001b[0m in \u001b[0;36m_mean\u001b[0;34m(a, axis, dtype, out, keepdims)\u001b[0m\n\u001b[1;32m     80\u001b[0m             \u001b[0mret\u001b[0m \u001b[0;34m=\u001b[0m \u001b[0mret\u001b[0m\u001b[0;34m.\u001b[0m\u001b[0mdtype\u001b[0m\u001b[0;34m.\u001b[0m\u001b[0mtype\u001b[0m\u001b[0;34m(\u001b[0m\u001b[0mret\u001b[0m \u001b[0;34m/\u001b[0m \u001b[0mrcount\u001b[0m\u001b[0;34m)\u001b[0m\u001b[0;34m\u001b[0m\u001b[0m\n\u001b[1;32m     81\u001b[0m     \u001b[0;32melse\u001b[0m\u001b[0;34m:\u001b[0m\u001b[0;34m\u001b[0m\u001b[0m\n\u001b[0;32m---> 82\u001b[0;31m         \u001b[0mret\u001b[0m \u001b[0;34m=\u001b[0m \u001b[0mret\u001b[0m \u001b[0;34m/\u001b[0m \u001b[0mrcount\u001b[0m\u001b[0;34m\u001b[0m\u001b[0m\n\u001b[0m\u001b[1;32m     83\u001b[0m \u001b[0;34m\u001b[0m\u001b[0m\n\u001b[1;32m     84\u001b[0m     \u001b[0;32mreturn\u001b[0m \u001b[0mret\u001b[0m\u001b[0;34m\u001b[0m\u001b[0m\n",
      "\u001b[0;31mTypeError\u001b[0m: unsupported operand type(s) for /: 'NoneType' and 'int'"
     ]
    },
    {
     "data": {
      "image/png": "[encoded data removed]",
      "text/plain": [
       "<matplotlib.figure.Figure at 0x1a1ca2d4e0>"
      ]
     },
     "metadata": {},
     "output_type": "display_data"
    }
   ],
   "source": [
    "fig = plt.figure()\n",
    "fig.suptitle('Train and Test Comparison')\n",
    "ax = fig.add_subplot(111)\n",
    "plt.boxplot(results)\n",
    "ax.set_xticklabels(names)\n",
    "plt.show()"
   ]
  },
  {
   "cell_type": "code",
   "execution_count": null,
   "metadata": {
    "collapsed": true
   },
   "outputs": [],
   "source": [
    "\n",
    "    from sklearn.model_selection import cross_val_score\n",
    "    results = []\n",
    "    names = []\n",
    "    seed = 7\n",
    "    for name,feats in featSetList:\n",
    "        y_pred,bnb=BnbClassifier (feats, Y)\n",
    "        bb = BernoulliNB()\n",
    "        cvresult = cross_val_score(BernoulliNB(), feats, Y, cv=10)\n",
    "        results.append(cvresult)\n",
    "        names.append(name)\n",
    "        msg = \"%s: mean: %f standard deviation:(%f)\" % (name, cvresult.mean(), cvresult.std())\n",
    "        print(msg)\n",
    "    # boxplot algorithm comparison\n",
    "    fig = plt.figure()\n",
    "    fig.suptitle('Feature Comparison')\n",
    "    ax = fig.add_subplot(111)\n",
    "    plt.boxplot(results)\n",
    "    ax.set_xticklabels(names)\n",
    "    plt.show()"
   ]
  },
  {
   "cell_type": "code",
   "execution_count": null,
   "metadata": {
    "collapsed": true
   },
   "outputs": [],
   "source": []
  },
  {
   "cell_type": "code",
   "execution_count": null,
   "metadata": {
    "collapsed": true
   },
   "outputs": [],
   "source": []
  },
  {
   "cell_type": "code",
   "execution_count": null,
   "metadata": {
    "collapsed": true
   },
   "outputs": [],
   "source": []
  },
  {
   "cell_type": "code",
   "execution_count": null,
   "metadata": {
    "collapsed": true
   },
   "outputs": [],
   "source": []
  },
  {
   "cell_type": "code",
   "execution_count": null,
   "metadata": {
    "collapsed": true
   },
   "outputs": [],
   "source": []
  },
  {
   "cell_type": "code",
   "execution_count": null,
   "metadata": {
    "collapsed": true
   },
   "outputs": [],
   "source": []
  },
  {
   "cell_type": "code",
   "execution_count": null,
   "metadata": {
    "collapsed": true
   },
   "outputs": [],
   "source": []
  },
  {
   "cell_type": "code",
   "execution_count": null,
   "metadata": {
    "collapsed": true
   },
   "outputs": [],
   "source": []
  },
  {
   "cell_type": "code",
   "execution_count": null,
   "metadata": {
    "collapsed": true
   },
   "outputs": [],
   "source": []
  },
  {
   "cell_type": "code",
   "execution_count": null,
   "metadata": {
    "collapsed": true
   },
   "outputs": [],
   "source": []
  },
  {
   "cell_type": "code",
   "execution_count": null,
   "metadata": {
    "collapsed": true
   },
   "outputs": [],
   "source": [
    "feats_n = pd.DataFrame()\n",
    "\n",
    "for key in words_neg_unique_generic_top10:\n",
    "    # Note that we add spaces around the key so that we're getting the word,\n",
    "    # not just pattern matching.\n",
    "    feats_n['n_'+str(key[0])] = snt_train.sentance.str.contains(\n",
    "        key[0],\n",
    "        case=False\n",
    "    ) "
   ]
  },
  {
   "cell_type": "code",
   "execution_count": null,
   "metadata": {
    "collapsed": true
   },
   "outputs": [],
   "source": [
    "snt_train_pred_feat = snt_train_pred.join(feats_pn_uncorr)\n",
    "snt_train_pred_s0_p1 = snt_train_pred_feat[(snt_train_pred_feat['score']==0) & (snt_train_pred_feat['pred']==1)]"
   ]
  },
  {
   "cell_type": "code",
   "execution_count": null,
   "metadata": {},
   "outputs": [],
   "source": []
  },
  {
   "cell_type": "code",
   "execution_count": null,
   "metadata": {
    "collapsed": true
   },
   "outputs": [],
   "source": []
  },
  {
   "cell_type": "code",
   "execution_count": null,
   "metadata": {
    "collapsed": true
   },
   "outputs": [],
   "source": []
  },
  {
   "cell_type": "code",
   "execution_count": null,
   "metadata": {
    "collapsed": true
   },
   "outputs": [],
   "source": []
  },
  {
   "cell_type": "code",
   "execution_count": null,
   "metadata": {
    "collapsed": true
   },
   "outputs": [],
   "source": []
  },
  {
   "cell_type": "code",
   "execution_count": null,
   "metadata": {
    "collapsed": true
   },
   "outputs": [],
   "source": []
  },
  {
   "cell_type": "code",
   "execution_count": null,
   "metadata": {},
   "outputs": [],
   "source": [
    "feats_pn_count=pd.DataFrame()\n",
    "poslabels=[column for column in feats_pn_uncorr.columns if column.startswith('p_')]\n",
    "feats_pn_count['poslabels'] = feats_pn_uncorr[poslabels].sum(axis=1)"
   ]
  },
  {
   "cell_type": "code",
   "execution_count": null,
   "metadata": {},
   "outputs": [],
   "source": [
    "neglabels=[column for column in feats_pn_uncorr.columns if column.startswith('n_')]\n",
    "feats_pn_count['neglabels'] = feats_pn_uncorr[neglabels].sum(axis=1)"
   ]
  },
  {
   "cell_type": "code",
   "execution_count": null,
   "metadata": {},
   "outputs": [],
   "source": [
    "feats_pn_count.head()"
   ]
  },
  {
   "cell_type": "code",
   "execution_count": null,
   "metadata": {},
   "outputs": [],
   "source": [
    "target = snt_raw['score']\n",
    "data = feats_pn_count\n",
    "MnbComplete(data,target)"
   ]
  },
  {
   "cell_type": "code",
   "execution_count": null,
   "metadata": {
    "collapsed": true
   },
   "outputs": [],
   "source": []
  },
  {
   "cell_type": "code",
   "execution_count": null,
   "metadata": {
    "collapsed": true
   },
   "outputs": [],
   "source": []
  },
  {
   "cell_type": "code",
   "execution_count": null,
   "metadata": {
    "collapsed": true
   },
   "outputs": [],
   "source": [
    "target = (snt_raw['score'] == 0)\n",
    "data = feats_n_uncorr"
   ]
  },
  {
   "cell_type": "code",
   "execution_count": null,
   "metadata": {
    "collapsed": true
   },
   "outputs": [],
   "source": []
  },
  {
   "cell_type": "code",
   "execution_count": null,
   "metadata": {
    "collapsed": true
   },
   "outputs": [],
   "source": []
  },
  {
   "cell_type": "code",
   "execution_count": null,
   "metadata": {
    "collapsed": true
   },
   "outputs": [],
   "source": []
  },
  {
   "cell_type": "code",
   "execution_count": null,
   "metadata": {},
   "outputs": [],
   "source": [
    "# Our data is binary / boolean, so we're importing the Bernoulli classifier.\n",
    "from sklearn.naive_bayes import BernoulliNB\n",
    "\n",
    "# Instantiate our model and store it in a new variable.\n",
    "bnb = BernoulliNB()\n",
    "\n",
    "# Fit our model to the data.\n",
    "bnb.fit(data, target)"
   ]
  },
  {
   "cell_type": "code",
   "execution_count": null,
   "metadata": {
    "collapsed": true
   },
   "outputs": [],
   "source": [
    "# Classify, storing the result in a new variable.\n",
    "y_pred = bnb.predict(data)"
   ]
  },
  {
   "cell_type": "code",
   "execution_count": null,
   "metadata": {},
   "outputs": [],
   "source": [
    "DisplayResults(data, y_pred)"
   ]
  },
  {
   "cell_type": "code",
   "execution_count": null,
   "metadata": {
    "collapsed": true
   },
   "outputs": [],
   "source": [
    "# Grab and process the raw data.\n",
    "#snt_raw = pd.read_csv(\"yelp_labelled.txt\", delimiter='\\t', header=None)\n",
    "#snt_raw.columns = ['sentance', 'score']"
   ]
  },
  {
   "cell_type": "code",
   "execution_count": null,
   "metadata": {
    "collapsed": true
   },
   "outputs": [],
   "source": [
    "target = (snt_raw['score'] == 1)\n",
    "data = feats_p_uncorr"
   ]
  },
  {
   "cell_type": "code",
   "execution_count": null,
   "metadata": {},
   "outputs": [],
   "source": [
    "# Our data is binary / boolean, so we're importing the Bernoulli classifier.\n",
    "from sklearn.naive_bayes import BernoulliNB\n",
    "\n",
    "# Instantiate our model and store it in a new variable.\n",
    "bnb = BernoulliNB()\n",
    "\n",
    "# Fit our model to the data.\n",
    "bnb.fit(data, target)"
   ]
  },
  {
   "cell_type": "code",
   "execution_count": null,
   "metadata": {
    "collapsed": true
   },
   "outputs": [],
   "source": []
  },
  {
   "cell_type": "code",
   "execution_count": null,
   "metadata": {},
   "outputs": [],
   "source": [
    "# Classify, storing the result in a new variable.\n",
    "y_pred = bnb.predict(data)"
   ]
  },
  {
   "cell_type": "code",
   "execution_count": null,
   "metadata": {},
   "outputs": [],
   "source": [
    "DisplayResults(data, y_pred)"
   ]
  },
  {
   "cell_type": "code",
   "execution_count": null,
   "metadata": {},
   "outputs": [],
   "source": [
    "ConfusionMatrix(target, y_pred)"
   ]
  },
  {
   "cell_type": "code",
   "execution_count": null,
   "metadata": {},
   "outputs": [],
   "source": [
    "y_pred = BnbClassifier(data,target)\n",
    "DisplayResults(data, y_pred)\n",
    "ConfusionMatrix(target, y_pred)"
   ]
  },
  {
   "cell_type": "code",
   "execution_count": null,
   "metadata": {},
   "outputs": [],
   "source": [
    "BnbComplete(data,target)"
   ]
  },
  {
   "cell_type": "markdown",
   "metadata": {},
   "source": [
    "### Explanation\n",
    "\n",
    "The presence of one of the negative feature words in the statement (indicated by \"TRUE\" in \"feats_n_uncorr\") independently (the words are not correlated) contribute to the probability that the statement is negative."
   ]
  },
  {
   "cell_type": "code",
   "execution_count": null,
   "metadata": {},
   "outputs": [],
   "source": [
    "feats_n_uncorr.head()"
   ]
  },
  {
   "cell_type": "code",
   "execution_count": null,
   "metadata": {},
   "outputs": [],
   "source": [
    "feats_p_uncorr.head()"
   ]
  },
  {
   "cell_type": "code",
   "execution_count": null,
   "metadata": {},
   "outputs": [],
   "source": [
    "ConfusionMatrix(target, y_pred)"
   ]
  },
  {
   "cell_type": "markdown",
   "metadata": {},
   "source": [
    "# Positive and Negative Features Combined"
   ]
  },
  {
   "cell_type": "code",
   "execution_count": null,
   "metadata": {},
   "outputs": [],
   "source": [
    "feats_pn_uncorr = pd.concat([feats_p_uncorr, feats_n_uncorr], axis=1)"
   ]
  },
  {
   "cell_type": "code",
   "execution_count": null,
   "metadata": {},
   "outputs": [],
   "source": [
    "feats_pn_uncorr.head()"
   ]
  },
  {
   "cell_type": "code",
   "execution_count": null,
   "metadata": {
    "collapsed": true
   },
   "outputs": [],
   "source": [
    "target = snt_raw['score']\n",
    "data = feats_n_uncorr"
   ]
  },
  {
   "cell_type": "code",
   "execution_count": null,
   "metadata": {},
   "outputs": [],
   "source": [
    "# Our data is binary / boolean, so we're importing the Bernoulli classifier.\n",
    "from sklearn.naive_bayes import BernoulliNB\n",
    "\n",
    "# Instantiate our model and store it in a new variable.\n",
    "bnb = BernoulliNB()\n",
    "\n",
    "# Fit our model to the data.\n",
    "bnb.fit(data, target)"
   ]
  },
  {
   "cell_type": "code",
   "execution_count": null,
   "metadata": {},
   "outputs": [],
   "source": [
    "# Classify, storing the result in a new variable.\n",
    "y_pred = bnb.predict(data)"
   ]
  },
  {
   "cell_type": "code",
   "execution_count": null,
   "metadata": {},
   "outputs": [],
   "source": [
    "DisplayResults(data, y_pred)"
   ]
  },
  {
   "cell_type": "code",
   "execution_count": null,
   "metadata": {},
   "outputs": [],
   "source": [
    "ConfusionMatrix(target,y_pred)"
   ]
  },
  {
   "cell_type": "code",
   "execution_count": null,
   "metadata": {},
   "outputs": [],
   "source": [
    "feats_pn_uncorr.head()"
   ]
  },
  {
   "cell_type": "code",
   "execution_count": null,
   "metadata": {},
   "outputs": [],
   "source": [
    "poslabels=[column for column in feats_pn_count.columns if column.startswith('p_')]\n",
    "feats_pn_count['poslabels'] = feats_pn_count[poslabels].sum(axis=1)"
   ]
  },
  {
   "cell_type": "code",
   "execution_count": null,
   "metadata": {},
   "outputs": [],
   "source": [
    "feats_pn_count.head()"
   ]
  },
  {
   "cell_type": "code",
   "execution_count": null,
   "metadata": {
    "collapsed": true
   },
   "outputs": [],
   "source": [
    "neglabels=[column for column in feats_pn_count.columns if column.startswith('n_')]\n",
    "feats_pn_count['neglabels'] = feats_pn_count[neglabels].sum(axis=1)"
   ]
  },
  {
   "cell_type": "code",
   "execution_count": null,
   "metadata": {},
   "outputs": [],
   "source": [
    "feats_pn_count.head()"
   ]
  },
  {
   "cell_type": "code",
   "execution_count": null,
   "metadata": {},
   "outputs": [],
   "source": [
    "feats_pn_count[feats_pn_count['poslabels']==1]"
   ]
  },
  {
   "cell_type": "code",
   "execution_count": null,
   "metadata": {},
   "outputs": [],
   "source": []
  },
  {
   "cell_type": "code",
   "execution_count": null,
   "metadata": {},
   "outputs": [],
   "source": []
  },
  {
   "cell_type": "code",
   "execution_count": null,
   "metadata": {},
   "outputs": [],
   "source": [
    "target = snt_raw['score']\n",
    "data = feats_pn_count"
   ]
  },
  {
   "cell_type": "code",
   "execution_count": null,
   "metadata": {},
   "outputs": [],
   "source": [
    "# Our data is binary / boolean, so we're importing the Bernoulli classifier.\n",
    "from sklearn.naive_bayes import BernoulliNB\n",
    "\n",
    "# Instantiate our model and store it in a new variable.\n",
    "bnb = BernoulliNB()\n",
    "\n",
    "# Fit our model to the data.\n",
    "bnb.fit(data, target)"
   ]
  },
  {
   "cell_type": "code",
   "execution_count": null,
   "metadata": {},
   "outputs": [],
   "source": [
    "DisplayResults(data, y_pred)"
   ]
  },
  {
   "cell_type": "code",
   "execution_count": null,
   "metadata": {},
   "outputs": [],
   "source": [
    "ConfusionMatrix(target,y_pred)"
   ]
  },
  {
   "cell_type": "code",
   "execution_count": null,
   "metadata": {},
   "outputs": [],
   "source": [
    "from sklearn.model_selection import cross_val_score\n",
    "cross_val_score(bnb, data, target, cv=10)"
   ]
  },
  {
   "cell_type": "code",
   "execution_count": null,
   "metadata": {},
   "outputs": [],
   "source": [
    "CrossValidation(bnb, data, target)"
   ]
  },
  {
   "cell_type": "code",
   "execution_count": null,
   "metadata": {
    "collapsed": true
   },
   "outputs": [],
   "source": []
  },
  {
   "cell_type": "code",
   "execution_count": null,
   "metadata": {
    "collapsed": true
   },
   "outputs": [],
   "source": []
  },
  {
   "cell_type": "code",
   "execution_count": null,
   "metadata": {},
   "outputs": [],
   "source": [
    "snt_raw_pred = snt_raw"
   ]
  },
  {
   "cell_type": "code",
   "execution_count": null,
   "metadata": {
    "collapsed": true
   },
   "outputs": [],
   "source": [
    "snt_raw_pred['pred'] = y_pred\n",
    "snt_raw_pred_feat = snt_raw_pred.join(feats_pn_count)\n",
    "snt_raw_pred_s0_p1 = snt_raw_pred_feat[(snt_raw_pred_feat['score']==0) & (snt_raw_pred_feat['pred']==1)]"
   ]
  },
  {
   "cell_type": "code",
   "execution_count": null,
   "metadata": {},
   "outputs": [],
   "source": []
  },
  {
   "cell_type": "code",
   "execution_count": null,
   "metadata": {},
   "outputs": [],
   "source": []
  },
  {
   "cell_type": "code",
   "execution_count": null,
   "metadata": {},
   "outputs": [],
   "source": [
    "snt_raw_pred_s0_p1"
   ]
  },
  {
   "cell_type": "code",
   "execution_count": null,
   "metadata": {
    "collapsed": true
   },
   "outputs": [],
   "source": [
    "snt_raw_pred_s0_p1_words = re.findall('\\w+', ' '.join(snt_raw_pred_s0_p1.sentance.tolist()).lower())\n",
    "Counter(snt_raw_pred_s0_p1_words).most_common(70)"
   ]
  },
  {
   "cell_type": "code",
   "execution_count": null,
   "metadata": {},
   "outputs": [],
   "source": []
  },
  {
   "cell_type": "code",
   "execution_count": null,
   "metadata": {},
   "outputs": [],
   "source": [
    "from nltk.corpus import stopwords\n",
    "stop_words = stopwords.words('english')\n",
    "print(stop_words)"
   ]
  },
  {
   "cell_type": "code",
   "execution_count": null,
   "metadata": {},
   "outputs": [],
   "source": [
    "from nltk.corpus import stopwords\n",
    "s=set(stopwords.words('english'))\n",
    "\n",
    "txt=\"a long string of text about him and her\"\n",
    "#print filter(lambda w: not w in s,snt_raw_pred_s0_p1_words.split())"
   ]
  },
  {
   "cell_type": "code",
   "execution_count": null,
   "metadata": {},
   "outputs": [],
   "source": [
    "Counter(snt_raw_pred_s0_p1_words).most_common(70)"
   ]
  },
  {
   "cell_type": "code",
   "execution_count": null,
   "metadata": {
    "collapsed": true
   },
   "outputs": [],
   "source": [
    "# collect the words from positive and negative reviews\n",
    "words_pos = re.findall('\\w+', ' '.join(snt_raw[snt_raw['score'] == 1].sentance.tolist()).lower())\n",
    "words_neg = re.findall('\\w+', ' '.join(snt_raw[snt_raw['score'] == 0].sentance.tolist()).lower())\n",
    "\n",
    "# remove words that are in both lists\n",
    "words_pos_unique = [x for x in words_pos if x not in words_neg]\n",
    "words_neg_unique = [x for x in words_neg if x not in words_pos]"
   ]
  },
  {
   "cell_type": "code",
   "execution_count": null,
   "metadata": {},
   "outputs": [],
   "source": [
    "\n"
   ]
  },
  {
   "cell_type": "code",
   "execution_count": null,
   "metadata": {
    "collapsed": true
   },
   "outputs": [],
   "source": []
  },
  {
   "cell_type": "code",
   "execution_count": null,
   "metadata": {
    "collapsed": true
   },
   "outputs": [],
   "source": [
    "# add some more common positive words, great, good, very"
   ]
  },
  {
   "cell_type": "code",
   "execution_count": null,
   "metadata": {
    "collapsed": true
   },
   "outputs": [],
   "source": [
    "# could take target vs y_pred to see where the misabled ones are (Neg pred as pos, )"
   ]
  },
  {
   "cell_type": "code",
   "execution_count": null,
   "metadata": {
    "collapsed": true
   },
   "outputs": [],
   "source": [
    "# if no negative words, mark as positive review"
   ]
  },
  {
   "cell_type": "code",
   "execution_count": null,
   "metadata": {
    "collapsed": true
   },
   "outputs": [],
   "source": []
  },
  {
   "cell_type": "code",
   "execution_count": null,
   "metadata": {
    "collapsed": true
   },
   "outputs": [],
   "source": [
    "# check for features that did not get any true and drop"
   ]
  }
 ],
 "metadata": {
  "kernelspec": {
   "display_name": "Python 3",
   "language": "python",
   "name": "python3"
  },
  "language_info": {
   "codemirror_mode": {
    "name": "ipython",
    "version": 3
   },
   "file_extension": ".py",
   "mimetype": "text/x-python",
   "name": "python",
   "nbconvert_exporter": "python",
   "pygments_lexer": "ipython3",
   "version": "3.6.3"
  }
 },
 "nbformat": 4,
 "nbformat_minor": 2
}
