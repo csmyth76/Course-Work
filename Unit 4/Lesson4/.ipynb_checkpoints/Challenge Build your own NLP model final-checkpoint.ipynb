{
 "cells": [
  {
   "cell_type": "code",
   "execution_count": 1,
   "metadata": {
    "collapsed": true
   },
   "outputs": [],
   "source": [
    "%matplotlib inline\n",
    "import numpy as np\n",
    "import pandas as pd\n",
    "import scipy\n",
    "import sklearn\n",
    "import matplotlib.pyplot as plt\n",
    "import seaborn as sns\n",
    "import re\n",
    "from sklearn.model_selection import cross_val_score\n",
    "from sklearn.naive_bayes import BernoulliNB\n",
    "import spacy\n",
    "from collections import Counter\n",
    "from sklearn.linear_model import LogisticRegression\n",
    "from sklearn.feature_extraction.text import CountVectorizer, TfidfVectorizer\n"
   ]
  },
  {
   "cell_type": "code",
   "execution_count": 37,
   "metadata": {
    "collapsed": true
   },
   "outputs": [],
   "source": [
    "import time\n",
    "from sklearn.model_selection import cross_val_score\n",
    "\n",
    "class Model(object):\n",
    "    \n",
    "    def __init__(self,name,X,Y,modelObj,test=False,**modelParams):\n",
    "        self.params = modelParams\n",
    "        self.modelObj = modelObj.set_params(**self.params)  \n",
    "        self.name = name\n",
    "        self.X = X\n",
    "        self.Y = Y\n",
    "        self.initValues(test)   \n",
    "    \n",
    "    def initValues(self, test):\n",
    "        start = time.time()\n",
    "        self.modObjFit = self.modelObj.fit(self.X, self.Y)\n",
    "        end = time.time()\n",
    "        self.timeToRun = end - start\n",
    "        self.cvTrain = cross_val_score(self.modelObj, self.X, self.Y, cv=5)\n",
    "        self.cvTrainMean = np.mean(self.cvTrain)\n",
    "        self.cvTrainRange = max(self.cvTrain) - min(self.cvTrain)\n",
    "    \n",
    "    def performance(self, boxPlot=True):\n",
    "        print (\"Model:\\t\\t\" + str(self.name))\n",
    "        print (\"CV Mean:\\t\" + str(self.cvTrainMean))\n",
    "        print (\"CV Range:\\t\" + str(self.cvTrainRange))\n",
    "        print (\"Train Time:\\t\" + str(self.timeToRun))\n",
    "        print (\"CV Scores: \")\n",
    "        print (self.cvTrain)\n",
    "        if boxPlot:\n",
    "            fig = plt.figure()\n",
    "            title = \"Performance: %s\" % (self.name)\n",
    "            fig.suptitle(title)\n",
    "            ax = fig.add_subplot(111)\n",
    "            plt.boxplot(self.cvTrain, showmeans=True)\n",
    "            ax.set_xticklabels(self.name)\n",
    "            plt.show()      \n",
    "    \n",
    "    def compareBox(self,modelList,filterResult=0, newTitle=''):\n",
    "        results = []\n",
    "        names = []\n",
    "        \n",
    "        results.append(self.cvTrain)\n",
    "        names.append(self.name)\n",
    "        \n",
    "        for rightModel in modelList:\n",
    "            if filterResult > 0:\n",
    "                if rightModel.cvTrain.mean() > filterResult:\n",
    "                    results.append(rightModel.cvTrain)\n",
    "                    names.append(rightModel.name)\n",
    "            else:\n",
    "                results.append(rightModel.cvTrain)\n",
    "                names.append(rightModel.name)\n",
    "        \n",
    "        fig = plt.figure()\n",
    "        if newTitle != '':\n",
    "            title = newTitle\n",
    "        else:\n",
    "            title = \"Performance: %s\" % (self.name)\n",
    "        fig.suptitle(title)\n",
    "        ax = fig.add_subplot(111)\n",
    "        \n",
    "        plt.boxplot(results, showmeans=True)\n",
    "        ax.set_xticklabels(names)\n",
    "        plt.setp(ax.get_xticklabels(), rotation=90)\n",
    "        plt.show()\n",
    "        \n",
    "    def fullCompareList(self,listOfModels,folds=False):\n",
    "        listOfModels.insert(0,self)\n",
    "        dfout = pd.DataFrame()\n",
    "        dataForFrame = []\n",
    "        cvNameList= []\n",
    "        for model in listOfModels:\n",
    "            dataRowForFrame = {}\n",
    "            dataRowForFrame = {'Name': model.name,\n",
    "                                'Time':model.timeToRun,\n",
    "                                'CV Mean':model.cvTrainMean,\n",
    "                                'CV Range': model.cvTrainRange}\n",
    "            if folds:  \n",
    "                buildCvNameList = False\n",
    "                if not cvNameList:\n",
    "                    buildCvNameList=True\n",
    "                for idx,cv in enumerate(model.cvTrain):\n",
    "                    cvName = 'CV Fold ' + str(idx+1)\n",
    "                    if buildCvNameList:\n",
    "                        cvNameList.append(cvName)\n",
    "                    dataRowForFrame[cvName] = cv\n",
    "            dataForFrame.append(dataRowForFrame)\n",
    "        colOrder = ['Name', 'CV Mean', 'CV Range', 'Time']\n",
    "        colOrder += cvNameList  \n",
    "        dfOut = pd.DataFrame(dataForFrame)\n",
    "        dfOut = dfOut[colOrder]\n",
    "        display(dfOut)\n",
    "        lgrbg = listOfModels.pop(0)\n",
    "        self.compareBox(listOfModels)"
   ]
  },
  {
   "cell_type": "code",
   "execution_count": 3,
   "metadata": {
    "collapsed": true
   },
   "outputs": [],
   "source": [
    "import nltk\n",
    "# Launch the installer to download \"gutenberg\" and \"stop words\" corpora.\n",
    "#nltk.download()"
   ]
  },
  {
   "cell_type": "code",
   "execution_count": 4,
   "metadata": {},
   "outputs": [
    {
     "name": "stdout",
     "output_type": "stream",
     "text": [
      "['austen-emma.txt', 'austen-persuasion.txt', 'austen-sense.txt', 'bible-kjv.txt', 'blake-poems.txt', 'bryant-stories.txt', 'burgess-busterbrown.txt', 'carroll-alice.txt', 'chesterton-ball.txt', 'chesterton-brown.txt', 'chesterton-thursday.txt', 'edgeworth-parents.txt', 'melville-moby_dick.txt', 'milton-paradise.txt', 'shakespeare-caesar.txt', 'shakespeare-hamlet.txt', 'shakespeare-macbeth.txt', 'whitman-leaves.txt']\n"
     ]
    }
   ],
   "source": [
    "# Import the data we just downloaded and installed.\n",
    "from nltk.corpus import gutenberg, stopwords\n",
    "\n",
    "# Grab and process the raw data.\n",
    "print(gutenberg.fileids())"
   ]
  },
  {
   "cell_type": "code",
   "execution_count": null,
   "metadata": {
    "collapsed": true
   },
   "outputs": [],
   "source": []
  },
  {
   "cell_type": "code",
   "execution_count": 40,
   "metadata": {
    "collapsed": true
   },
   "outputs": [],
   "source": [
    "def prepGutenTextRaw (title):\n",
    "    \n",
    "    book = gutenberg.raw(title)\n",
    "    \n",
    "    # Remove Title\n",
    "    pattern = \"[\\[].*?[\\]]\"\n",
    "    book_noTitle = re.sub(pattern, \"\", book[0:999999])\n",
    "    \n",
    "    # recognize: the double dash '--'\n",
    "    book_noTitle = re.sub(r'--',' ',book_noTitle)\n",
    "    book_noTitle = re.sub(\"[\\[].*?[\\]]\", \"\", book_noTitle)\n",
    "    book_noTitle = ' '.join(book_noTitle.split())\n",
    "    \n",
    "    # Now we'll match and remove chapter headings and make lower\n",
    "    book_noChaps = re.sub(r'chapter *.', '', book_noTitle.lower())\n",
    "\n",
    "    nlp = spacy.load('en')\n",
    "    book_doc = nlp(book_noChaps)\n",
    "    \n",
    "    # Let's explore the objects we've built.\n",
    "    print(\"The {} object is a {} object.\".format(title, type(book_doc)))\n",
    "    print(\"It is {} tokens long\".format(len(book_doc)))\n",
    "    print(\"The first three tokens are '{}'\".format(book_doc[:3]))\n",
    "    print(\"The type of each token is {}\".format(type(book_doc[0])))\n",
    "    \n",
    "    \n",
    "    #from nltk.stem.wordnet import WordNetLemmatizer\n",
    "    #lmtzr = WordNetLemmatizer()\n",
    "    #book_doc = [ lmtzr.lemmatize(token.text) for token in book_doc]\n",
    "    #remove stop words\n",
    "    \n",
    "    book_sents = [[sent, title.split('-', 2)[0]] for sent in book_doc.sents]\n",
    "\n",
    "    return book_doc,book_sents\n",
    "    "
   ]
  },
  {
   "cell_type": "code",
   "execution_count": 41,
   "metadata": {},
   "outputs": [
    {
     "name": "stdout",
     "output_type": "stream",
     "text": [
      "The melville-moby_dick.txt object is a <class 'spacy.tokens.doc.Doc'> object.\n",
      "It is 206753 tokens long\n",
      "The first three tokens are 'etymology. ('\n",
      "The type of each token is <class 'spacy.tokens.token.Token'>\n"
     ]
    }
   ],
   "source": [
    "moby_doc,moby_sents = prepGutenTextRaw('melville-moby_dick.txt')"
   ]
  },
  {
   "cell_type": "code",
   "execution_count": 42,
   "metadata": {},
   "outputs": [
    {
     "name": "stdout",
     "output_type": "stream",
     "text": [
      "The whitman-leaves.txt object is a <class 'spacy.tokens.doc.Doc'> object.\n",
      "It is 150253 tokens long\n",
      "The first three tokens are 'come, said'\n",
      "The type of each token is <class 'spacy.tokens.token.Token'>\n"
     ]
    }
   ],
   "source": [
    "leaves_doc, leaves_sents = prepGutenTextRaw('whitman-leaves.txt')"
   ]
  },
  {
   "cell_type": "markdown",
   "metadata": {},
   "source": [
    "# BOW"
   ]
  },
  {
   "cell_type": "code",
   "execution_count": 43,
   "metadata": {},
   "outputs": [
    {
     "data": {
      "text/html": [
       "<div>\n",
       "<style>\n",
       "    .dataframe thead tr:only-child th {\n",
       "        text-align: right;\n",
       "    }\n",
       "\n",
       "    .dataframe thead th {\n",
       "        text-align: left;\n",
       "    }\n",
       "\n",
       "    .dataframe tbody tr th {\n",
       "        vertical-align: top;\n",
       "    }\n",
       "</style>\n",
       "<table border=\"1\" class=\"dataframe\">\n",
       "  <thead>\n",
       "    <tr style=\"text-align: right;\">\n",
       "      <th></th>\n",
       "      <th>0</th>\n",
       "      <th>1</th>\n",
       "    </tr>\n",
       "  </thead>\n",
       "  <tbody>\n",
       "    <tr>\n",
       "      <th>0</th>\n",
       "      <td>(etymology, .)</td>\n",
       "      <td>melville</td>\n",
       "    </tr>\n",
       "    <tr>\n",
       "      <th>1</th>\n",
       "      <td>((, supplied, by, a, late, consumptive, usher,...</td>\n",
       "      <td>melville</td>\n",
       "    </tr>\n",
       "    <tr>\n",
       "      <th>2</th>\n",
       "      <td>(he, was, ever, dusting, his, old, lexicons, a...</td>\n",
       "      <td>melville</td>\n",
       "    </tr>\n",
       "    <tr>\n",
       "      <th>3</th>\n",
       "      <td>(he, loved, to, dust, his, old, grammars, ;, i...</td>\n",
       "      <td>melville</td>\n",
       "    </tr>\n",
       "    <tr>\n",
       "      <th>4</th>\n",
       "      <td>(while, you, take, in, hand, to, school, other...</td>\n",
       "      <td>melville</td>\n",
       "    </tr>\n",
       "  </tbody>\n",
       "</table>\n",
       "</div>"
      ],
      "text/plain": [
       "                                                   0         1\n",
       "0                                     (etymology, .)  melville\n",
       "1  ((, supplied, by, a, late, consumptive, usher,...  melville\n",
       "2  (he, was, ever, dusting, his, old, lexicons, a...  melville\n",
       "3  (he, loved, to, dust, his, old, grammars, ;, i...  melville\n",
       "4  (while, you, take, in, hand, to, school, other...  melville"
      ]
     },
     "execution_count": 43,
     "metadata": {},
     "output_type": "execute_result"
    }
   ],
   "source": [
    "sentences = pd.DataFrame(moby_sents + leaves_sents)\n",
    "sentences.head()"
   ]
  },
  {
   "cell_type": "code",
   "execution_count": 44,
   "metadata": {
    "collapsed": true
   },
   "outputs": [],
   "source": [
    "# Utility function to create a list of the 2000 most common words.\n",
    "def bag_of_words(text):\n",
    "    \n",
    "    # Filter out punctuation and stop words.\n",
    "    allwords = [token.lemma_\n",
    "                for token in text\n",
    "                if not token.is_punct\n",
    "                and not token.is_stop]\n",
    "    \n",
    "    # Return the most common words.\n",
    "    return [item[0] for item in Counter(allwords).most_common(2000)]\n",
    "    \n",
    "\n",
    "# Creates a data frame with features for each word in our common word set.\n",
    "# Each value is the count of the times the word appears in each sentence.\n",
    "def bow_features(sentences, common_words):\n",
    "    \n",
    "    # Scaffold the data frame and initialize counts to zero.\n",
    "    df = pd.DataFrame(columns=common_words)\n",
    "    df['text_sentence'] = sentences[0]\n",
    "    df['text_source'] = sentences[1]\n",
    "    df.loc[:, common_words] = 0\n",
    "    \n",
    "    # Process each row, counting the occurrence of words in each sentence.\n",
    "    for i, sentence in enumerate(df['text_sentence']):\n",
    "        \n",
    "        # Convert the sentence to lemmas, then filter out punctuation,\n",
    "        # stop words, and uncommon words.\n",
    "        words = [token.lemma_\n",
    "                 for token in sentence\n",
    "                 if (\n",
    "                     not token.is_punct\n",
    "                     and not token.is_stop\n",
    "                     and token.lemma_ in common_words\n",
    "                 )]\n",
    "        \n",
    "        # Populate the row with word counts.\n",
    "        for word in words:\n",
    "            df.loc[i, word] += 1\n",
    "        \n",
    "        # This counter is just to make sure the kernel didn't hang.\n",
    "        if i % 500 == 0:\n",
    "            print(\"Processing row {}\".format(i))\n",
    "            \n",
    "    return df\n",
    "\n",
    "# Set up the bags.\n",
    "mobywords = bag_of_words(moby_doc)\n",
    "leaveswords = bag_of_words(leaves_doc)\n",
    "\n",
    "# Combine bags to create a set of unique words.\n",
    "common_words = set(mobywords + leaveswords)"
   ]
  },
  {
   "cell_type": "code",
   "execution_count": null,
   "metadata": {
    "collapsed": true
   },
   "outputs": [],
   "source": []
  },
  {
   "cell_type": "code",
   "execution_count": 45,
   "metadata": {},
   "outputs": [
    {
     "name": "stdout",
     "output_type": "stream",
     "text": [
      "Processing row 0\n",
      "Processing row 500\n",
      "Processing row 1000\n",
      "Processing row 1500\n",
      "Processing row 2000\n",
      "Processing row 2500\n",
      "Processing row 3000\n",
      "Processing row 3500\n",
      "Processing row 4000\n",
      "Processing row 4500\n",
      "Processing row 5000\n",
      "Processing row 5500\n",
      "Processing row 6000\n",
      "Processing row 6500\n",
      "Processing row 7000\n",
      "Processing row 7500\n",
      "Processing row 8000\n",
      "Processing row 8500\n",
      "Processing row 9000\n",
      "Processing row 9500\n",
      "Processing row 10000\n",
      "Processing row 10500\n",
      "Processing row 11000\n",
      "Processing row 11500\n",
      "Processing row 12000\n"
     ]
    },
    {
     "data": {
      "text/html": [
       "<div>\n",
       "<style>\n",
       "    .dataframe thead tr:only-child th {\n",
       "        text-align: right;\n",
       "    }\n",
       "\n",
       "    .dataframe thead th {\n",
       "        text-align: left;\n",
       "    }\n",
       "\n",
       "    .dataframe tbody tr th {\n",
       "        vertical-align: top;\n",
       "    }\n",
       "</style>\n",
       "<table border=\"1\" class=\"dataframe\">\n",
       "  <thead>\n",
       "    <tr style=\"text-align: right;\">\n",
       "      <th></th>\n",
       "      <th>hardly</th>\n",
       "      <th>purse</th>\n",
       "      <th>orange</th>\n",
       "      <th>wine</th>\n",
       "      <th>canaller</th>\n",
       "      <th>sane</th>\n",
       "      <th>translate</th>\n",
       "      <th>seed</th>\n",
       "      <th>conceal'd</th>\n",
       "      <th>passionately</th>\n",
       "      <th>...</th>\n",
       "      <th>write</th>\n",
       "      <th>mountain</th>\n",
       "      <th>murk</th>\n",
       "      <th>log</th>\n",
       "      <th>rude</th>\n",
       "      <th>recitative</th>\n",
       "      <th>track</th>\n",
       "      <th>game</th>\n",
       "      <th>text_sentence</th>\n",
       "      <th>text_source</th>\n",
       "    </tr>\n",
       "  </thead>\n",
       "  <tbody>\n",
       "    <tr>\n",
       "      <th>0</th>\n",
       "      <td>0</td>\n",
       "      <td>0</td>\n",
       "      <td>0</td>\n",
       "      <td>0</td>\n",
       "      <td>0</td>\n",
       "      <td>0</td>\n",
       "      <td>0</td>\n",
       "      <td>0</td>\n",
       "      <td>0</td>\n",
       "      <td>0</td>\n",
       "      <td>...</td>\n",
       "      <td>0</td>\n",
       "      <td>0</td>\n",
       "      <td>0</td>\n",
       "      <td>0</td>\n",
       "      <td>0</td>\n",
       "      <td>0</td>\n",
       "      <td>0</td>\n",
       "      <td>0</td>\n",
       "      <td>(etymology, .)</td>\n",
       "      <td>melville</td>\n",
       "    </tr>\n",
       "    <tr>\n",
       "      <th>1</th>\n",
       "      <td>0</td>\n",
       "      <td>0</td>\n",
       "      <td>0</td>\n",
       "      <td>0</td>\n",
       "      <td>0</td>\n",
       "      <td>0</td>\n",
       "      <td>0</td>\n",
       "      <td>0</td>\n",
       "      <td>0</td>\n",
       "      <td>0</td>\n",
       "      <td>...</td>\n",
       "      <td>0</td>\n",
       "      <td>0</td>\n",
       "      <td>0</td>\n",
       "      <td>0</td>\n",
       "      <td>0</td>\n",
       "      <td>0</td>\n",
       "      <td>0</td>\n",
       "      <td>0</td>\n",
       "      <td>((, supplied, by, a, late, consumptive, usher,...</td>\n",
       "      <td>melville</td>\n",
       "    </tr>\n",
       "    <tr>\n",
       "      <th>2</th>\n",
       "      <td>0</td>\n",
       "      <td>0</td>\n",
       "      <td>0</td>\n",
       "      <td>0</td>\n",
       "      <td>0</td>\n",
       "      <td>0</td>\n",
       "      <td>0</td>\n",
       "      <td>0</td>\n",
       "      <td>0</td>\n",
       "      <td>0</td>\n",
       "      <td>...</td>\n",
       "      <td>0</td>\n",
       "      <td>0</td>\n",
       "      <td>0</td>\n",
       "      <td>0</td>\n",
       "      <td>0</td>\n",
       "      <td>0</td>\n",
       "      <td>0</td>\n",
       "      <td>0</td>\n",
       "      <td>(he, was, ever, dusting, his, old, lexicons, a...</td>\n",
       "      <td>melville</td>\n",
       "    </tr>\n",
       "    <tr>\n",
       "      <th>3</th>\n",
       "      <td>0</td>\n",
       "      <td>0</td>\n",
       "      <td>0</td>\n",
       "      <td>0</td>\n",
       "      <td>0</td>\n",
       "      <td>0</td>\n",
       "      <td>0</td>\n",
       "      <td>0</td>\n",
       "      <td>0</td>\n",
       "      <td>0</td>\n",
       "      <td>...</td>\n",
       "      <td>0</td>\n",
       "      <td>0</td>\n",
       "      <td>0</td>\n",
       "      <td>0</td>\n",
       "      <td>0</td>\n",
       "      <td>0</td>\n",
       "      <td>0</td>\n",
       "      <td>0</td>\n",
       "      <td>(he, loved, to, dust, his, old, grammars, ;, i...</td>\n",
       "      <td>melville</td>\n",
       "    </tr>\n",
       "    <tr>\n",
       "      <th>4</th>\n",
       "      <td>0</td>\n",
       "      <td>0</td>\n",
       "      <td>0</td>\n",
       "      <td>0</td>\n",
       "      <td>0</td>\n",
       "      <td>0</td>\n",
       "      <td>0</td>\n",
       "      <td>0</td>\n",
       "      <td>0</td>\n",
       "      <td>0</td>\n",
       "      <td>...</td>\n",
       "      <td>0</td>\n",
       "      <td>0</td>\n",
       "      <td>0</td>\n",
       "      <td>0</td>\n",
       "      <td>0</td>\n",
       "      <td>0</td>\n",
       "      <td>0</td>\n",
       "      <td>0</td>\n",
       "      <td>(while, you, take, in, hand, to, school, other...</td>\n",
       "      <td>melville</td>\n",
       "    </tr>\n",
       "  </tbody>\n",
       "</table>\n",
       "<p>5 rows × 2976 columns</p>\n",
       "</div>"
      ],
      "text/plain": [
       "  hardly purse orange wine canaller sane translate seed conceal'd  \\\n",
       "0      0     0      0    0        0    0         0    0         0   \n",
       "1      0     0      0    0        0    0         0    0         0   \n",
       "2      0     0      0    0        0    0         0    0         0   \n",
       "3      0     0      0    0        0    0         0    0         0   \n",
       "4      0     0      0    0        0    0         0    0         0   \n",
       "\n",
       "  passionately     ...     write mountain murk log rude recitative track game  \\\n",
       "0            0     ...         0        0    0   0    0          0     0    0   \n",
       "1            0     ...         0        0    0   0    0          0     0    0   \n",
       "2            0     ...         0        0    0   0    0          0     0    0   \n",
       "3            0     ...         0        0    0   0    0          0     0    0   \n",
       "4            0     ...         0        0    0   0    0          0     0    0   \n",
       "\n",
       "                                       text_sentence text_source  \n",
       "0                                     (etymology, .)    melville  \n",
       "1  ((, supplied, by, a, late, consumptive, usher,...    melville  \n",
       "2  (he, was, ever, dusting, his, old, lexicons, a...    melville  \n",
       "3  (he, loved, to, dust, his, old, grammars, ;, i...    melville  \n",
       "4  (while, you, take, in, hand, to, school, other...    melville  \n",
       "\n",
       "[5 rows x 2976 columns]"
      ]
     },
     "execution_count": 45,
     "metadata": {},
     "output_type": "execute_result"
    }
   ],
   "source": [
    "# Create our data frame with features. This can take a while to run.\n",
    "word_counts = bow_features(sentences, common_words)\n",
    "word_counts.head()"
   ]
  },
  {
   "cell_type": "markdown",
   "metadata": {
    "collapsed": true
   },
   "source": [
    "# Logistic Regression"
   ]
  },
  {
   "cell_type": "code",
   "execution_count": 46,
   "metadata": {
    "collapsed": true
   },
   "outputs": [],
   "source": [
    "X = word_counts.drop(['text_source', 'text_sentence'], 1)\n",
    "y = word_counts['text_source']\n"
   ]
  },
  {
   "cell_type": "code",
   "execution_count": 47,
   "metadata": {},
   "outputs": [
    {
     "data": {
      "text/html": [
       "<div>\n",
       "<style>\n",
       "    .dataframe thead tr:only-child th {\n",
       "        text-align: right;\n",
       "    }\n",
       "\n",
       "    .dataframe thead th {\n",
       "        text-align: left;\n",
       "    }\n",
       "\n",
       "    .dataframe tbody tr th {\n",
       "        vertical-align: top;\n",
       "    }\n",
       "</style>\n",
       "<table border=\"1\" class=\"dataframe\">\n",
       "  <thead>\n",
       "    <tr style=\"text-align: right;\">\n",
       "      <th></th>\n",
       "      <th>hardly</th>\n",
       "      <th>purse</th>\n",
       "      <th>orange</th>\n",
       "      <th>wine</th>\n",
       "      <th>canaller</th>\n",
       "      <th>sane</th>\n",
       "      <th>translate</th>\n",
       "      <th>seed</th>\n",
       "      <th>conceal'd</th>\n",
       "      <th>passionately</th>\n",
       "      <th>...</th>\n",
       "      <th>pike</th>\n",
       "      <th>wrinkle</th>\n",
       "      <th>write</th>\n",
       "      <th>mountain</th>\n",
       "      <th>murk</th>\n",
       "      <th>log</th>\n",
       "      <th>rude</th>\n",
       "      <th>recitative</th>\n",
       "      <th>track</th>\n",
       "      <th>game</th>\n",
       "    </tr>\n",
       "  </thead>\n",
       "  <tbody>\n",
       "    <tr>\n",
       "      <th>0</th>\n",
       "      <td>0</td>\n",
       "      <td>0</td>\n",
       "      <td>0</td>\n",
       "      <td>0</td>\n",
       "      <td>0</td>\n",
       "      <td>0</td>\n",
       "      <td>0</td>\n",
       "      <td>0</td>\n",
       "      <td>0</td>\n",
       "      <td>0</td>\n",
       "      <td>...</td>\n",
       "      <td>0</td>\n",
       "      <td>0</td>\n",
       "      <td>0</td>\n",
       "      <td>0</td>\n",
       "      <td>0</td>\n",
       "      <td>0</td>\n",
       "      <td>0</td>\n",
       "      <td>0</td>\n",
       "      <td>0</td>\n",
       "      <td>0</td>\n",
       "    </tr>\n",
       "    <tr>\n",
       "      <th>1</th>\n",
       "      <td>0</td>\n",
       "      <td>0</td>\n",
       "      <td>0</td>\n",
       "      <td>0</td>\n",
       "      <td>0</td>\n",
       "      <td>0</td>\n",
       "      <td>0</td>\n",
       "      <td>0</td>\n",
       "      <td>0</td>\n",
       "      <td>0</td>\n",
       "      <td>...</td>\n",
       "      <td>0</td>\n",
       "      <td>0</td>\n",
       "      <td>0</td>\n",
       "      <td>0</td>\n",
       "      <td>0</td>\n",
       "      <td>0</td>\n",
       "      <td>0</td>\n",
       "      <td>0</td>\n",
       "      <td>0</td>\n",
       "      <td>0</td>\n",
       "    </tr>\n",
       "    <tr>\n",
       "      <th>2</th>\n",
       "      <td>0</td>\n",
       "      <td>0</td>\n",
       "      <td>0</td>\n",
       "      <td>0</td>\n",
       "      <td>0</td>\n",
       "      <td>0</td>\n",
       "      <td>0</td>\n",
       "      <td>0</td>\n",
       "      <td>0</td>\n",
       "      <td>0</td>\n",
       "      <td>...</td>\n",
       "      <td>0</td>\n",
       "      <td>0</td>\n",
       "      <td>0</td>\n",
       "      <td>0</td>\n",
       "      <td>0</td>\n",
       "      <td>0</td>\n",
       "      <td>0</td>\n",
       "      <td>0</td>\n",
       "      <td>0</td>\n",
       "      <td>0</td>\n",
       "    </tr>\n",
       "    <tr>\n",
       "      <th>3</th>\n",
       "      <td>0</td>\n",
       "      <td>0</td>\n",
       "      <td>0</td>\n",
       "      <td>0</td>\n",
       "      <td>0</td>\n",
       "      <td>0</td>\n",
       "      <td>0</td>\n",
       "      <td>0</td>\n",
       "      <td>0</td>\n",
       "      <td>0</td>\n",
       "      <td>...</td>\n",
       "      <td>0</td>\n",
       "      <td>0</td>\n",
       "      <td>0</td>\n",
       "      <td>0</td>\n",
       "      <td>0</td>\n",
       "      <td>0</td>\n",
       "      <td>0</td>\n",
       "      <td>0</td>\n",
       "      <td>0</td>\n",
       "      <td>0</td>\n",
       "    </tr>\n",
       "    <tr>\n",
       "      <th>4</th>\n",
       "      <td>0</td>\n",
       "      <td>0</td>\n",
       "      <td>0</td>\n",
       "      <td>0</td>\n",
       "      <td>0</td>\n",
       "      <td>0</td>\n",
       "      <td>0</td>\n",
       "      <td>0</td>\n",
       "      <td>0</td>\n",
       "      <td>0</td>\n",
       "      <td>...</td>\n",
       "      <td>0</td>\n",
       "      <td>0</td>\n",
       "      <td>0</td>\n",
       "      <td>0</td>\n",
       "      <td>0</td>\n",
       "      <td>0</td>\n",
       "      <td>0</td>\n",
       "      <td>0</td>\n",
       "      <td>0</td>\n",
       "      <td>0</td>\n",
       "    </tr>\n",
       "  </tbody>\n",
       "</table>\n",
       "<p>5 rows × 2974 columns</p>\n",
       "</div>"
      ],
      "text/plain": [
       "  hardly purse orange wine canaller sane translate seed conceal'd  \\\n",
       "0      0     0      0    0        0    0         0    0         0   \n",
       "1      0     0      0    0        0    0         0    0         0   \n",
       "2      0     0      0    0        0    0         0    0         0   \n",
       "3      0     0      0    0        0    0         0    0         0   \n",
       "4      0     0      0    0        0    0         0    0         0   \n",
       "\n",
       "  passionately ...  pike wrinkle write mountain murk log rude recitative  \\\n",
       "0            0 ...     0       0     0        0    0   0    0          0   \n",
       "1            0 ...     0       0     0        0    0   0    0          0   \n",
       "2            0 ...     0       0     0        0    0   0    0          0   \n",
       "3            0 ...     0       0     0        0    0   0    0          0   \n",
       "4            0 ...     0       0     0        0    0   0    0          0   \n",
       "\n",
       "  track game  \n",
       "0     0    0  \n",
       "1     0    0  \n",
       "2     0    0  \n",
       "3     0    0  \n",
       "4     0    0  \n",
       "\n",
       "[5 rows x 2974 columns]"
      ]
     },
     "execution_count": 47,
     "metadata": {},
     "output_type": "execute_result"
    }
   ],
   "source": [
    "X.head()"
   ]
  },
  {
   "cell_type": "code",
   "execution_count": 48,
   "metadata": {},
   "outputs": [
    {
     "name": "stdout",
     "output_type": "stream",
     "text": [
      "Model:\t\tBOW Vanilla Reg\n",
      "CV Mean:\t0.793001235076\n",
      "CV Range:\t0.120625771923\n",
      "Train Time:\t4.201193809509277\n",
      "CV Scores: \n",
      "[ 0.7254014   0.80156443  0.79991766  0.84602717  0.79209551]\n"
     ]
    },
    {
     "data": {
      "image/png": "[encoded data removed]",
      "text/plain": [
       "<matplotlib.figure.Figure at 0x1a1d0fc3c8>"
      ]
     },
     "metadata": {},
     "output_type": "display_data"
    }
   ],
   "source": [
    "# Vanilla \n",
    "bowVanRegModelParams = {'C': 1e9,\n",
    "               'penalty': 'l2'}\n",
    "bowVanRegModel = Model('BOW Vanilla Reg',X,y,LogisticRegression(),**bowVanRegModelParams)\n",
    "bowVanRegModel.performance()"
   ]
  },
  {
   "cell_type": "markdown",
   "metadata": {
    "collapsed": true
   },
   "source": [
    "# tf-idf"
   ]
  },
  {
   "cell_type": "code",
   "execution_count": 153,
   "metadata": {
    "collapsed": true
   },
   "outputs": [],
   "source": [
    "#create tf-idf tool\n",
    "tfIdfV = TfidfVectorizer(ngram_range=(1, 2), \n",
    "                           max_features=5000,\n",
    "                           analyzer='word', \n",
    "                           lowercase=True)"
   ]
  },
  {
   "cell_type": "code",
   "execution_count": 154,
   "metadata": {},
   "outputs": [
    {
     "data": {
      "text/html": [
       "<div>\n",
       "<style>\n",
       "    .dataframe thead tr:only-child th {\n",
       "        text-align: right;\n",
       "    }\n",
       "\n",
       "    .dataframe thead th {\n",
       "        text-align: left;\n",
       "    }\n",
       "\n",
       "    .dataframe tbody tr th {\n",
       "        vertical-align: top;\n",
       "    }\n",
       "</style>\n",
       "<table border=\"1\" class=\"dataframe\">\n",
       "  <thead>\n",
       "    <tr style=\"text-align: right;\">\n",
       "      <th></th>\n",
       "      <th>0</th>\n",
       "      <th>1</th>\n",
       "    </tr>\n",
       "  </thead>\n",
       "  <tbody>\n",
       "    <tr>\n",
       "      <th>0</th>\n",
       "      <td>(etymology, .)</td>\n",
       "      <td>melville</td>\n",
       "    </tr>\n",
       "    <tr>\n",
       "      <th>1</th>\n",
       "      <td>((, supplied, by, a, late, consumptive, usher,...</td>\n",
       "      <td>melville</td>\n",
       "    </tr>\n",
       "    <tr>\n",
       "      <th>2</th>\n",
       "      <td>(he, was, ever, dusting, his, old, lexicons, a...</td>\n",
       "      <td>melville</td>\n",
       "    </tr>\n",
       "    <tr>\n",
       "      <th>3</th>\n",
       "      <td>(he, loved, to, dust, his, old, grammars, ;, i...</td>\n",
       "      <td>melville</td>\n",
       "    </tr>\n",
       "    <tr>\n",
       "      <th>4</th>\n",
       "      <td>(while, you, take, in, hand, to, school, other...</td>\n",
       "      <td>melville</td>\n",
       "    </tr>\n",
       "  </tbody>\n",
       "</table>\n",
       "</div>"
      ],
      "text/plain": [
       "                                                   0         1\n",
       "0                                     (etymology, .)  melville\n",
       "1  ((, supplied, by, a, late, consumptive, usher,...  melville\n",
       "2  (he, was, ever, dusting, his, old, lexicons, a...  melville\n",
       "3  (he, loved, to, dust, his, old, grammars, ;, i...  melville\n",
       "4  (while, you, take, in, hand, to, school, other...  melville"
      ]
     },
     "execution_count": 154,
     "metadata": {},
     "output_type": "execute_result"
    }
   ],
   "source": [
    "sentences.head()"
   ]
  },
  {
   "cell_type": "code",
   "execution_count": 155,
   "metadata": {},
   "outputs": [],
   "source": [
    "tfIdfFeats = tfIdfV.fit_transform(sentences[0].astype(str))"
   ]
  },
  {
   "cell_type": "code",
   "execution_count": 156,
   "metadata": {},
   "outputs": [],
   "source": [
    "y = sentences[1]"
   ]
  },
  {
   "cell_type": "markdown",
   "metadata": {},
   "source": [
    "# BOW and tf-idf Logistic Regression Comparison"
   ]
  },
  {
   "cell_type": "code",
   "execution_count": 157,
   "metadata": {},
   "outputs": [
    {
     "name": "stdout",
     "output_type": "stream",
     "text": [
      "Model:\t\ttfidf Vanilla Reg\n",
      "CV Mean:\t0.789954713874\n",
      "CV Range:\t0.0687525730753\n",
      "Train Time:\t0.7708618640899658\n",
      "CV Scores: \n",
      "[ 0.75092631  0.81762042  0.76533553  0.81967888  0.79621243]\n"
     ]
    },
    {
     "data": {
      "image/png": "[encoded data removed]",
      "text/plain": [
       "<matplotlib.figure.Figure at 0x1a1e00b470>"
      ]
     },
     "metadata": {},
     "output_type": "display_data"
    }
   ],
   "source": [
    "# Vanilla \n",
    "tfidfVanRegModelParams = {'C': 1e9,\n",
    "               'penalty': 'l2'}\n",
    "tfidfVanRegModel = Model('tfidf Vanilla Reg',tfIdfFeats,y,LogisticRegression(),**tfidfVanRegModelParams)\n",
    "tfidfVanRegModel.performance()"
   ]
  },
  {
   "cell_type": "code",
   "execution_count": 158,
   "metadata": {},
   "outputs": [
    {
     "data": {
      "text/html": [
       "<div>\n",
       "<style>\n",
       "    .dataframe thead tr:only-child th {\n",
       "        text-align: right;\n",
       "    }\n",
       "\n",
       "    .dataframe thead th {\n",
       "        text-align: left;\n",
       "    }\n",
       "\n",
       "    .dataframe tbody tr th {\n",
       "        vertical-align: top;\n",
       "    }\n",
       "</style>\n",
       "<table border=\"1\" class=\"dataframe\">\n",
       "  <thead>\n",
       "    <tr style=\"text-align: right;\">\n",
       "      <th></th>\n",
       "      <th>Name</th>\n",
       "      <th>CV Mean</th>\n",
       "      <th>CV Range</th>\n",
       "      <th>Time</th>\n",
       "      <th>CV Fold 1</th>\n",
       "      <th>CV Fold 2</th>\n",
       "      <th>CV Fold 3</th>\n",
       "      <th>CV Fold 4</th>\n",
       "      <th>CV Fold 5</th>\n",
       "    </tr>\n",
       "  </thead>\n",
       "  <tbody>\n",
       "    <tr>\n",
       "      <th>0</th>\n",
       "      <td>tfidf Vanilla Reg</td>\n",
       "      <td>0.789955</td>\n",
       "      <td>0.068753</td>\n",
       "      <td>0.770862</td>\n",
       "      <td>0.750926</td>\n",
       "      <td>0.817620</td>\n",
       "      <td>0.765336</td>\n",
       "      <td>0.819679</td>\n",
       "      <td>0.796212</td>\n",
       "    </tr>\n",
       "    <tr>\n",
       "      <th>1</th>\n",
       "      <td>BOW Vanilla Reg</td>\n",
       "      <td>0.793001</td>\n",
       "      <td>0.120626</td>\n",
       "      <td>4.201194</td>\n",
       "      <td>0.725401</td>\n",
       "      <td>0.801564</td>\n",
       "      <td>0.799918</td>\n",
       "      <td>0.846027</td>\n",
       "      <td>0.792096</td>\n",
       "    </tr>\n",
       "  </tbody>\n",
       "</table>\n",
       "</div>"
      ],
      "text/plain": [
       "                Name   CV Mean  CV Range      Time  CV Fold 1  CV Fold 2  \\\n",
       "0  tfidf Vanilla Reg  0.789955  0.068753  0.770862   0.750926   0.817620   \n",
       "1    BOW Vanilla Reg  0.793001  0.120626  4.201194   0.725401   0.801564   \n",
       "\n",
       "   CV Fold 3  CV Fold 4  CV Fold 5  \n",
       "0   0.765336   0.819679   0.796212  \n",
       "1   0.799918   0.846027   0.792096  "
      ]
     },
     "metadata": {},
     "output_type": "display_data"
    },
    {
     "data": {
      "image/png": "[encoded data removed]",
      "text/plain": [
       "<matplotlib.figure.Figure at 0x1ac16457b8>"
      ]
     },
     "metadata": {},
     "output_type": "display_data"
    }
   ],
   "source": [
    "tfidfVanRegModel.fullCompareList([bowVanRegModel], folds=True)"
   ]
  },
  {
   "cell_type": "markdown",
   "metadata": {
    "collapsed": true
   },
   "source": [
    "# Increase Percentage Points"
   ]
  },
  {
   "cell_type": "markdown",
   "metadata": {
    "collapsed": true
   },
   "source": [
    "## More Cleaning"
   ]
  },
  {
   "cell_type": "code",
   "execution_count": 159,
   "metadata": {
    "collapsed": true
   },
   "outputs": [],
   "source": [
    "from nltk.stem.wordnet import WordNetLemmatizer\n",
    "\n",
    "def prepGutenTextRawCleaner (title):\n",
    "    \n",
    "    book = gutenberg.raw(title)\n",
    "    \n",
    "    # Remove Title\n",
    "    pattern = \"[\\[].*?[\\]]\"\n",
    "    book_noTitle = re.sub(pattern, \"\", book[0:999999])\n",
    "    \n",
    "    # recognize: the double dash '--'\n",
    "    book_noTitle = re.sub(r'--',' ',book_noTitle)\n",
    "    book_noTitle = re.sub(\"[\\[].*?[\\]]\", \"\", book_noTitle)\n",
    "    book_noTitle = ' '.join(book_noTitle.split())\n",
    "    \n",
    "    # Now we'll match and remove chapter headings and make lower\n",
    "    book_noChaps = re.sub(r'chapter *.', '', book_noTitle.lower())\n",
    "\n",
    "    nlp = spacy.load('en')\n",
    "    book_doc = nlp(book_noChaps)\n",
    "    \n",
    "    # Let's explore the objects we've built.\n",
    "    print(\"The {} object is a {} object.\".format(title, type(book_doc)))\n",
    "    print(\"It is {} tokens long\".format(len(book_doc)))\n",
    "    print(\"The first three tokens are '{}'\".format(book_doc[:3]))\n",
    "    print(\"The type of each token is {}\".format(type(book_doc[0])))\n",
    "    \n",
    "    from nltk.stem.wordnet import WordNetLemmatizer\n",
    "    lmtzr = WordNetLemmatizer()\n",
    "    \n",
    "    #remove stop words\n",
    "    book_sents=[[]]\n",
    "    author=title.split('-', 2)[0]\n",
    "    \n",
    "    for sent in book_doc.sents:\n",
    "        # use lemmas\n",
    "        sent_lmtz = lmtzr.lemmatize(sent.text)\n",
    "        \n",
    "        \n",
    "        book_sents.append([sent_lmtz, author])\n",
    "    \n",
    "\n",
    "    return book_doc,book_sents\n",
    "    "
   ]
  },
  {
   "cell_type": "code",
   "execution_count": 160,
   "metadata": {},
   "outputs": [
    {
     "name": "stdout",
     "output_type": "stream",
     "text": [
      "The melville-moby_dick.txt object is a <class 'spacy.tokens.doc.Doc'> object.\n",
      "It is 206753 tokens long\n",
      "The first three tokens are 'etymology. ('\n",
      "The type of each token is <class 'spacy.tokens.token.Token'>\n"
     ]
    }
   ],
   "source": [
    "moby_doc_clnr,moby_sents_clnr = prepGutenTextRawCleaner('melville-moby_dick.txt')"
   ]
  },
  {
   "cell_type": "code",
   "execution_count": 161,
   "metadata": {},
   "outputs": [
    {
     "name": "stdout",
     "output_type": "stream",
     "text": [
      "The whitman-leaves.txt object is a <class 'spacy.tokens.doc.Doc'> object.\n",
      "It is 150253 tokens long\n",
      "The first three tokens are 'come, said'\n",
      "The type of each token is <class 'spacy.tokens.token.Token'>\n"
     ]
    }
   ],
   "source": [
    "leaves_doc_clnr,leaves_sents_clnr = prepGutenTextRawCleaner('whitman-leaves.txt')"
   ]
  },
  {
   "cell_type": "code",
   "execution_count": 162,
   "metadata": {},
   "outputs": [],
   "source": [
    "sentences_clnr = pd.DataFrame(moby_sents_clnr + leaves_sents_clnr)\n",
    "sentences_clnr = sentences_clnr.dropna()"
   ]
  },
  {
   "cell_type": "markdown",
   "metadata": {},
   "source": [
    "## Retry Vanilla Regression"
   ]
  },
  {
   "cell_type": "code",
   "execution_count": 140,
   "metadata": {
    "collapsed": true
   },
   "outputs": [],
   "source": [
    "tfIdfFeats_clnr = tfIdfV.fit_transform(sentences_clnr[0].astype(str))\n",
    "y_clnr = sentences_clnr[1]"
   ]
  },
  {
   "cell_type": "code",
   "execution_count": 166,
   "metadata": {},
   "outputs": [
    {
     "name": "stdout",
     "output_type": "stream",
     "text": [
      "Model:\t\tCleaner tfidf VReg\n",
      "CV Mean:\t0.824372169617\n",
      "CV Range:\t0.0666941128036\n",
      "Train Time:\t0.7689990997314453\n",
      "CV Scores: \n",
      "[ 0.79621243  0.84396871  0.80650473  0.86290655  0.81226842]\n"
     ]
    },
    {
     "data": {
      "image/png": "[encoded data removed]",
      "text/plain": [
       "<matplotlib.figure.Figure at 0x1a1e8bd0f0>"
      ]
     },
     "metadata": {},
     "output_type": "display_data"
    }
   ],
   "source": [
    "# Vanilla \n",
    "tfidfClnVanRegModelParams = {'C': 1e9,\n",
    "               'penalty': 'l2'}\n",
    "tfidfClnVanRegModel = Model('Cleaner tfidf VReg',tfIdfFeats_clnr,y_clnr,LogisticRegression(),**tfidfVanRegModelParams)\n",
    "tfidfClnVanRegModel.performance()"
   ]
  },
  {
   "cell_type": "markdown",
   "metadata": {},
   "source": [
    "## Change Vectorizer Params"
   ]
  },
  {
   "cell_type": "code",
   "execution_count": 163,
   "metadata": {
    "collapsed": true
   },
   "outputs": [],
   "source": [
    "tfIdfV2 = TfidfVectorizer(max_df=0.25, # drop words that occur in more than half the paragraphs\n",
    "                             min_df=4, # only use words that appear at least twice\n",
    "                             stop_words='english', \n",
    "                             lowercase=True, #convert everything to lower case (since Alice in Wonderland has the HABIT of CAPITALIZING WORDS for EMPHASIS)\n",
    "                             use_idf=True,#we definitely want to use inverse document frequencies in our weighting\n",
    "                             norm=u'l2', #Applies a correction factor so that longer paragraphs and shorter paragraphs get treated equally\n",
    "                             smooth_idf=True #Adds 1 to all document frequencies, as if an extra document existed that used every word once.  Prevents divide-by-zero errors\n",
    "                            )"
   ]
  },
  {
   "cell_type": "code",
   "execution_count": 164,
   "metadata": {
    "collapsed": true
   },
   "outputs": [],
   "source": [
    "tfIdf2Feats_clnr = tfIdfV2.fit_transform(sentences_clnr[0].astype(str))\n",
    "y_clnr = sentences_clnr[1]"
   ]
  },
  {
   "cell_type": "code",
   "execution_count": 176,
   "metadata": {},
   "outputs": [
    {
     "name": "stdout",
     "output_type": "stream",
     "text": [
      "Model:\t\tNew tfidf Params VReg\n",
      "CV Mean:\t0.794895018526\n",
      "CV Range:\t0.0794565664883\n",
      "Train Time:\t0.9672513008117676\n",
      "CV Scores: \n",
      "[ 0.75257308  0.81062166  0.77480445  0.83202964  0.80444627]\n"
     ]
    },
    {
     "data": {
      "image/png": "[encoded data removed]",
      "text/plain": [
       "<matplotlib.figure.Figure at 0x1a2b5b1cc0>"
      ]
     },
     "metadata": {},
     "output_type": "display_data"
    }
   ],
   "source": [
    "# Vanilla \n",
    "tfidf2VanRegModelParams = {'C': 1e9,\n",
    "               'penalty': 'l2'}\n",
    "tfidf2VanRegModel = Model('New tfidf Params VReg',tfIdf2Feats_clnr,y_clnr,LogisticRegression(),**tfidfVanRegModelParams)\n",
    "tfidf2VanRegModel.performance()"
   ]
  },
  {
   "cell_type": "markdown",
   "metadata": {},
   "source": [
    "# LSA"
   ]
  },
  {
   "cell_type": "code",
   "execution_count": 173,
   "metadata": {
    "collapsed": true
   },
   "outputs": [],
   "source": [
    "from sklearn.decomposition import TruncatedSVD\n",
    "from sklearn.pipeline import make_pipeline\n",
    "from sklearn.preprocessing import Normalizer\n",
    "\n",
    "#Our SVD data reducer.  We are going to reduce the feature space from 1379 to 130.\n",
    "svd= TruncatedSVD(130)\n",
    "lsa = make_pipeline(svd, Normalizer(copy=False))\n",
    "# Run SVD on the training data, then project the training data.\n",
    "Xlsa = lsa.fit_transform(tfIdfFeats_clnr)"
   ]
  },
  {
   "cell_type": "code",
   "execution_count": 175,
   "metadata": {},
   "outputs": [
    {
     "name": "stdout",
     "output_type": "stream",
     "text": [
      "Model:\t\tLSA VReg\n",
      "CV Mean:\t0.84265129683\n",
      "CV Range:\t0.053931659119\n",
      "Train Time:\t0.6873688697814941\n",
      "CV Scores: \n",
      "[ 0.81762042  0.86249485  0.81226842  0.86620008  0.8546727 ]\n"
     ]
    },
    {
     "data": {
      "image/png": "[encoded data removed]",
      "text/plain": [
       "<matplotlib.figure.Figure at 0x1a2b4b1320>"
      ]
     },
     "metadata": {},
     "output_type": "display_data"
    }
   ],
   "source": [
    "# Vanilla \n",
    "lsaVanRegModelParams = {'C': 1e9,\n",
    "               'penalty': 'l2'}\n",
    "lsaVanRegModel = Model('LSA VReg',Xlsa,y_clnr,LogisticRegression(),**tfidfVanRegModelParams)\n",
    "lsaVanRegModel.performance()"
   ]
  },
  {
   "cell_type": "markdown",
   "metadata": {},
   "source": [
    "# Final Comparison"
   ]
  },
  {
   "cell_type": "code",
   "execution_count": 178,
   "metadata": {},
   "outputs": [
    {
     "data": {
      "text/html": [
       "<div>\n",
       "<style>\n",
       "    .dataframe thead tr:only-child th {\n",
       "        text-align: right;\n",
       "    }\n",
       "\n",
       "    .dataframe thead th {\n",
       "        text-align: left;\n",
       "    }\n",
       "\n",
       "    .dataframe tbody tr th {\n",
       "        vertical-align: top;\n",
       "    }\n",
       "</style>\n",
       "<table border=\"1\" class=\"dataframe\">\n",
       "  <thead>\n",
       "    <tr style=\"text-align: right;\">\n",
       "      <th></th>\n",
       "      <th>Name</th>\n",
       "      <th>CV Mean</th>\n",
       "      <th>CV Range</th>\n",
       "      <th>Time</th>\n",
       "      <th>CV Fold 1</th>\n",
       "      <th>CV Fold 2</th>\n",
       "      <th>CV Fold 3</th>\n",
       "      <th>CV Fold 4</th>\n",
       "      <th>CV Fold 5</th>\n",
       "    </tr>\n",
       "  </thead>\n",
       "  <tbody>\n",
       "    <tr>\n",
       "      <th>0</th>\n",
       "      <td>New tfidf Params VReg</td>\n",
       "      <td>0.794895</td>\n",
       "      <td>0.079457</td>\n",
       "      <td>0.967251</td>\n",
       "      <td>0.752573</td>\n",
       "      <td>0.810622</td>\n",
       "      <td>0.774804</td>\n",
       "      <td>0.832030</td>\n",
       "      <td>0.804446</td>\n",
       "    </tr>\n",
       "    <tr>\n",
       "      <th>1</th>\n",
       "      <td>Cleaner tfidf VReg</td>\n",
       "      <td>0.824372</td>\n",
       "      <td>0.066694</td>\n",
       "      <td>0.768999</td>\n",
       "      <td>0.796212</td>\n",
       "      <td>0.843969</td>\n",
       "      <td>0.806505</td>\n",
       "      <td>0.862907</td>\n",
       "      <td>0.812268</td>\n",
       "    </tr>\n",
       "    <tr>\n",
       "      <th>2</th>\n",
       "      <td>tfidf Vanilla Reg</td>\n",
       "      <td>0.789955</td>\n",
       "      <td>0.068753</td>\n",
       "      <td>0.770862</td>\n",
       "      <td>0.750926</td>\n",
       "      <td>0.817620</td>\n",
       "      <td>0.765336</td>\n",
       "      <td>0.819679</td>\n",
       "      <td>0.796212</td>\n",
       "    </tr>\n",
       "    <tr>\n",
       "      <th>3</th>\n",
       "      <td>LSA VReg</td>\n",
       "      <td>0.842651</td>\n",
       "      <td>0.053932</td>\n",
       "      <td>0.687369</td>\n",
       "      <td>0.817620</td>\n",
       "      <td>0.862495</td>\n",
       "      <td>0.812268</td>\n",
       "      <td>0.866200</td>\n",
       "      <td>0.854673</td>\n",
       "    </tr>\n",
       "  </tbody>\n",
       "</table>\n",
       "</div>"
      ],
      "text/plain": [
       "                    Name   CV Mean  CV Range      Time  CV Fold 1  CV Fold 2  \\\n",
       "0  New tfidf Params VReg  0.794895  0.079457  0.967251   0.752573   0.810622   \n",
       "1     Cleaner tfidf VReg  0.824372  0.066694  0.768999   0.796212   0.843969   \n",
       "2      tfidf Vanilla Reg  0.789955  0.068753  0.770862   0.750926   0.817620   \n",
       "3               LSA VReg  0.842651  0.053932  0.687369   0.817620   0.862495   \n",
       "\n",
       "   CV Fold 3  CV Fold 4  CV Fold 5  \n",
       "0   0.774804   0.832030   0.804446  \n",
       "1   0.806505   0.862907   0.812268  \n",
       "2   0.765336   0.819679   0.796212  \n",
       "3   0.812268   0.866200   0.854673  "
      ]
     },
     "metadata": {},
     "output_type": "display_data"
    },
    {
     "data": {
      "image/png": "[encoded data removed]",
      "text/plain": [
       "<matplotlib.figure.Figure at 0x1a76454160>"
      ]
     },
     "metadata": {},
     "output_type": "display_data"
    }
   ],
   "source": [
    "tfidf2VanRegModel.fullCompareList([tfidfClnVanRegModel,tfidfVanRegModel,lsaVanRegModel], folds=True)"
   ]
  },
  {
   "cell_type": "markdown",
   "metadata": {},
   "source": [
    "# Conclusion\n",
    "\n",
    "Lemmatizing the input helped increase the accuracy by about 3%.  Using LSA increased the accuracy by about 5%."
   ]
  },
  {
   "cell_type": "code",
   "execution_count": null,
   "metadata": {
    "collapsed": true
   },
   "outputs": [],
   "source": []
  },
  {
   "cell_type": "code",
   "execution_count": null,
   "metadata": {
    "collapsed": true
   },
   "outputs": [],
   "source": []
  }
 ],
 "metadata": {
  "kernelspec": {
   "display_name": "Python 3",
   "language": "python",
   "name": "python3"
  },
  "language_info": {
   "codemirror_mode": {
    "name": "ipython",
    "version": 3
   },
   "file_extension": ".py",
   "mimetype": "text/x-python",
   "name": "python",
   "nbconvert_exporter": "python",
   "pygments_lexer": "ipython3",
   "version": "3.6.3"
  }
 },
 "nbformat": 4,
 "nbformat_minor": 2
}
